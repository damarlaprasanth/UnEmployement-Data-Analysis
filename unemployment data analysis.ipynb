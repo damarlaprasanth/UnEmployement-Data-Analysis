{
 "cells": [
  {
   "cell_type": "markdown",
   "id": "practical-belarus",
   "metadata": {},
   "source": [
    "### Chapter 1 Life"
   ]
  },
  {
   "cell_type": "markdown",
   "id": "fallen-gates",
   "metadata": {},
   "source": [
    "Who are the people or communities in need of help?\n",
    "\n",
    "    Unemployment among young people is an ever-increasing monster staring us in the face, and nothing is being done to combat it."
   ]
  },
  {
   "cell_type": "markdown",
   "id": "abroad-regulation",
   "metadata": {},
   "source": [
    "What problem happened to them?\n",
    "    \n",
    "    The Unemployment situation has worsened recently as a result of the economic recession, which has resulted in the loss of many employment and the drying up of fresh prospects for those who remain unemployed. In the absence of a strong hand and adequate guidance, our youngsters will face adversities, which will have a negative influence on their future."
   ]
  },
  {
   "cell_type": "markdown",
   "id": "distant-cheese",
   "metadata": {},
   "source": [
    "When did the problem take place?\n",
    "    \n",
    "    During the five years from 2010 to 2014, the Globe Bank gathered unemployment data from all across the world and compiled it into this little study."
   ]
  },
  {
   "cell_type": "markdown",
   "id": "limiting-nudist",
   "metadata": {},
   "source": [
    "Where did the problem take place?\n",
    "    \n",
    "    The data includes individual nations as well as nations grouped according to income level and supranational groups such as Arab World, EU etc. "
   ]
  },
  {
   "cell_type": "markdown",
   "id": "greek-increase",
   "metadata": {},
   "source": [
    "Why did the problem happen?\n",
    "    \n",
    "    The economy is not increasing at a fast rate because of a lack of investment and a slow expansion in the manufacturing sector, which produces the most employment."
   ]
  },
  {
   "cell_type": "markdown",
   "id": "secure-trust",
   "metadata": {},
   "source": [
    "### Chapter 2 Data"
   ]
  },
  {
   "cell_type": "code",
   "execution_count": 4,
   "id": "moral-nation",
   "metadata": {},
   "outputs": [
    {
     "data": {
      "text/html": [
       "        <script type=\"text/javascript\">\n",
       "        window.PlotlyConfig = {MathJaxConfig: 'local'};\n",
       "        if (window.MathJax) {MathJax.Hub.Config({SVG: {font: \"STIX-Web\"}});}\n",
       "        if (typeof require !== 'undefined') {\n",
       "        require.undef(\"plotly\");\n",
       "        requirejs.config({\n",
       "            paths: {\n",
       "                'plotly': ['https://cdn.plot.ly/plotly-2.11.1.min']\n",
       "            }\n",
       "        });\n",
       "        require(['plotly'], function(Plotly) {\n",
       "            window._Plotly = Plotly;\n",
       "        });\n",
       "        }\n",
       "        </script>\n",
       "        "
      ]
     },
     "metadata": {},
     "output_type": "display_data"
    }
   ],
   "source": [
    "# Import the libraries\n",
    "import numpy as np\n",
    "import pandas as pd\n",
    "import matplotlib.pyplot as plt\n",
    "import plotly.offline as py\n",
    "py.init_notebook_mode(connected=True)\n",
    "import plotly.graph_objs as go\n",
    "import plotly.tools as tls\n",
    "import seaborn as sns\n",
    "import warnings"
   ]
  },
  {
   "cell_type": "code",
   "execution_count": 5,
   "id": "funny-wilson",
   "metadata": {},
   "outputs": [],
   "source": [
    "warnings.filterwarnings('ignore')"
   ]
  },
  {
   "cell_type": "code",
   "execution_count": 6,
   "id": "isolated-independence",
   "metadata": {},
   "outputs": [],
   "source": [
    "data = pd.read_csv('/Users/prasanthdamarla/Downloads/SDV_Project/API_ILO_country_YU.csv')"
   ]
  },
  {
   "cell_type": "code",
   "execution_count": 7,
   "id": "secure-drove",
   "metadata": {},
   "outputs": [
    {
     "data": {
      "text/html": [
       "<div>\n",
       "<style scoped>\n",
       "    .dataframe tbody tr th:only-of-type {\n",
       "        vertical-align: middle;\n",
       "    }\n",
       "\n",
       "    .dataframe tbody tr th {\n",
       "        vertical-align: top;\n",
       "    }\n",
       "\n",
       "    .dataframe thead th {\n",
       "        text-align: right;\n",
       "    }\n",
       "</style>\n",
       "<table border=\"1\" class=\"dataframe\">\n",
       "  <thead>\n",
       "    <tr style=\"text-align: right;\">\n",
       "      <th></th>\n",
       "      <th>Country Name</th>\n",
       "      <th>Country Code</th>\n",
       "      <th>2010</th>\n",
       "      <th>2011</th>\n",
       "      <th>2012</th>\n",
       "      <th>2013</th>\n",
       "      <th>2014</th>\n",
       "    </tr>\n",
       "  </thead>\n",
       "  <tbody>\n",
       "    <tr>\n",
       "      <th>0</th>\n",
       "      <td>Afghanistan</td>\n",
       "      <td>AFG</td>\n",
       "      <td>20.600000</td>\n",
       "      <td>20.900000</td>\n",
       "      <td>19.700001</td>\n",
       "      <td>21.100000</td>\n",
       "      <td>20.799999</td>\n",
       "    </tr>\n",
       "    <tr>\n",
       "      <th>1</th>\n",
       "      <td>Angola</td>\n",
       "      <td>AGO</td>\n",
       "      <td>10.800000</td>\n",
       "      <td>10.700000</td>\n",
       "      <td>10.700000</td>\n",
       "      <td>10.600000</td>\n",
       "      <td>10.500000</td>\n",
       "    </tr>\n",
       "    <tr>\n",
       "      <th>2</th>\n",
       "      <td>Albania</td>\n",
       "      <td>ALB</td>\n",
       "      <td>25.799999</td>\n",
       "      <td>27.000000</td>\n",
       "      <td>28.299999</td>\n",
       "      <td>28.700001</td>\n",
       "      <td>29.200001</td>\n",
       "    </tr>\n",
       "    <tr>\n",
       "      <th>3</th>\n",
       "      <td>Arab World</td>\n",
       "      <td>ARB</td>\n",
       "      <td>25.022214</td>\n",
       "      <td>28.117516</td>\n",
       "      <td>29.113212</td>\n",
       "      <td>29.335306</td>\n",
       "      <td>29.704569</td>\n",
       "    </tr>\n",
       "    <tr>\n",
       "      <th>4</th>\n",
       "      <td>United Arab Emirates</td>\n",
       "      <td>ARE</td>\n",
       "      <td>9.800000</td>\n",
       "      <td>9.800000</td>\n",
       "      <td>9.800000</td>\n",
       "      <td>9.900000</td>\n",
       "      <td>10.000000</td>\n",
       "    </tr>\n",
       "  </tbody>\n",
       "</table>\n",
       "</div>"
      ],
      "text/plain": [
       "           Country Name Country Code       2010       2011       2012  \\\n",
       "0           Afghanistan          AFG  20.600000  20.900000  19.700001   \n",
       "1                Angola          AGO  10.800000  10.700000  10.700000   \n",
       "2               Albania          ALB  25.799999  27.000000  28.299999   \n",
       "3            Arab World          ARB  25.022214  28.117516  29.113212   \n",
       "4  United Arab Emirates          ARE   9.800000   9.800000   9.800000   \n",
       "\n",
       "        2013       2014  \n",
       "0  21.100000  20.799999  \n",
       "1  10.600000  10.500000  \n",
       "2  28.700001  29.200001  \n",
       "3  29.335306  29.704569  \n",
       "4   9.900000  10.000000  "
      ]
     },
     "execution_count": 7,
     "metadata": {},
     "output_type": "execute_result"
    }
   ],
   "source": [
    "data.head()"
   ]
  },
  {
   "cell_type": "code",
   "execution_count": 8,
   "id": "logical-japan",
   "metadata": {},
   "outputs": [
    {
     "name": "stdout",
     "output_type": "stream",
     "text": [
      "There are 219 rows and 7 columns\n"
     ]
    }
   ],
   "source": [
    "print(\"There are {} rows and {} columns\".format(data.shape[0], data.shape[1]))"
   ]
  },
  {
   "cell_type": "code",
   "execution_count": 9,
   "id": "filled-contractor",
   "metadata": {},
   "outputs": [
    {
     "name": "stdout",
     "output_type": "stream",
     "text": [
      "Columns are Index(['Country Name', 'Country Code', '2010', '2011', '2012', '2013', '2014'], dtype='object')\n"
     ]
    }
   ],
   "source": [
    "print(\"Columns are {}\".format(data.columns))"
   ]
  },
  {
   "cell_type": "code",
   "execution_count": 10,
   "id": "innocent-nickname",
   "metadata": {},
   "outputs": [],
   "source": [
    "non_country_list = [\n",
    "    'Arab World', 'Central Europe and the Baltics', 'Caribbean small states',\n",
    "    'East Asia & Pacific (excluding high income)',\n",
    "    'Early-demographic dividend', 'East Asia & Pacific',\n",
    "    'Europe & Central Asia (excluding high income)', 'Europe & Central Asia',\n",
    "    'Euro area', 'European Union', 'Fragile and conflict affected situations',\n",
    "    'High income', 'Heavily indebted poor countries (HIPC)', 'IBRD only',\n",
    "    'IDA & IBRD total', 'IDA total', 'IDA blend', 'IDA only',\n",
    "    'Latin America & Caribbean (excluding high income)',\n",
    "    'Latin America & Caribbean',\n",
    "    'Least developed countries: UN classification', 'Low income',\n",
    "    'Lower middle income', 'Low & middle income', 'Late-demographic dividend',\n",
    "    'Middle East & North Africa', 'Middle income',\n",
    "    'Middle East & North Africa (excluding high income)', 'North America',\n",
    "    'OECD members', 'Other small states', 'Pre-demographic dividend',\n",
    "    'Post-demographic dividend', 'South Asia',\n",
    "    'Sub-Saharan Africa (excluding high income)', 'Sub-Saharan Africa',\n",
    "    'Small states', 'East Asia & Pacific (IDA & IBRD countries)',\n",
    "    'Europe & Central Asia (IDA & IBRD countries)',\n",
    "    'Latin America & the Caribbean (IDA & IBRD countries)',\n",
    "    'Middle East & North Africa (IDA & IBRD countries)',\n",
    "    'South Asia (IDA & IBRD)', 'Sub-Saharan Africa (IDA & IBRD countries)',\n",
    "    'Upper middle income', 'World'\n",
    "]"
   ]
  },
  {
   "cell_type": "code",
   "execution_count": 11,
   "id": "anonymous-soviet",
   "metadata": {},
   "outputs": [],
   "source": [
    "data_non_country = data[data['Country Name'].isin(non_country_list)]"
   ]
  },
  {
   "cell_type": "code",
   "execution_count": 12,
   "id": "generous-rates",
   "metadata": {},
   "outputs": [
    {
     "data": {
      "text/html": [
       "<div>\n",
       "<style scoped>\n",
       "    .dataframe tbody tr th:only-of-type {\n",
       "        vertical-align: middle;\n",
       "    }\n",
       "\n",
       "    .dataframe tbody tr th {\n",
       "        vertical-align: top;\n",
       "    }\n",
       "\n",
       "    .dataframe thead th {\n",
       "        text-align: right;\n",
       "    }\n",
       "</style>\n",
       "<table border=\"1\" class=\"dataframe\">\n",
       "  <thead>\n",
       "    <tr style=\"text-align: right;\">\n",
       "      <th></th>\n",
       "      <th>Country Name</th>\n",
       "      <th>Country Code</th>\n",
       "      <th>2010</th>\n",
       "      <th>2011</th>\n",
       "      <th>2012</th>\n",
       "      <th>2013</th>\n",
       "      <th>2014</th>\n",
       "    </tr>\n",
       "  </thead>\n",
       "  <tbody>\n",
       "    <tr>\n",
       "      <th>3</th>\n",
       "      <td>Arab World</td>\n",
       "      <td>ARB</td>\n",
       "      <td>25.022214</td>\n",
       "      <td>28.117516</td>\n",
       "      <td>29.113212</td>\n",
       "      <td>29.335306</td>\n",
       "      <td>29.704569</td>\n",
       "    </tr>\n",
       "    <tr>\n",
       "      <th>29</th>\n",
       "      <td>Central Europe and the Baltics</td>\n",
       "      <td>CEB</td>\n",
       "      <td>24.558510</td>\n",
       "      <td>25.480771</td>\n",
       "      <td>26.322471</td>\n",
       "      <td>26.775459</td>\n",
       "      <td>24.326735</td>\n",
       "    </tr>\n",
       "    <tr>\n",
       "      <th>40</th>\n",
       "      <td>Caribbean small states</td>\n",
       "      <td>CSS</td>\n",
       "      <td>25.004050</td>\n",
       "      <td>23.858827</td>\n",
       "      <td>25.977574</td>\n",
       "      <td>26.477460</td>\n",
       "      <td>24.596775</td>\n",
       "    </tr>\n",
       "    <tr>\n",
       "      <th>48</th>\n",
       "      <td>East Asia &amp; Pacific (excluding high income)</td>\n",
       "      <td>EAP</td>\n",
       "      <td>11.001822</td>\n",
       "      <td>10.687960</td>\n",
       "      <td>10.891421</td>\n",
       "      <td>11.511484</td>\n",
       "      <td>11.790579</td>\n",
       "    </tr>\n",
       "    <tr>\n",
       "      <th>49</th>\n",
       "      <td>Early-demographic dividend</td>\n",
       "      <td>EAR</td>\n",
       "      <td>14.250746</td>\n",
       "      <td>14.180419</td>\n",
       "      <td>14.328332</td>\n",
       "      <td>14.223181</td>\n",
       "      <td>14.350504</td>\n",
       "    </tr>\n",
       "  </tbody>\n",
       "</table>\n",
       "</div>"
      ],
      "text/plain": [
       "                                   Country Name Country Code       2010  \\\n",
       "3                                    Arab World          ARB  25.022214   \n",
       "29               Central Europe and the Baltics          CEB  24.558510   \n",
       "40                       Caribbean small states          CSS  25.004050   \n",
       "48  East Asia & Pacific (excluding high income)          EAP  11.001822   \n",
       "49                   Early-demographic dividend          EAR  14.250746   \n",
       "\n",
       "         2011       2012       2013       2014  \n",
       "3   28.117516  29.113212  29.335306  29.704569  \n",
       "29  25.480771  26.322471  26.775459  24.326735  \n",
       "40  23.858827  25.977574  26.477460  24.596775  \n",
       "48  10.687960  10.891421  11.511484  11.790579  \n",
       "49  14.180419  14.328332  14.223181  14.350504  "
      ]
     },
     "execution_count": 12,
     "metadata": {},
     "output_type": "execute_result"
    }
   ],
   "source": [
    "data_non_country.head()"
   ]
  },
  {
   "cell_type": "code",
   "execution_count": 13,
   "id": "fewer-funeral",
   "metadata": {},
   "outputs": [],
   "source": [
    "index = data_non_country.index\n",
    "data_country = data.drop(index)"
   ]
  },
  {
   "cell_type": "code",
   "execution_count": 14,
   "id": "serial-exclusive",
   "metadata": {},
   "outputs": [
    {
     "data": {
      "text/html": [
       "<div>\n",
       "<style scoped>\n",
       "    .dataframe tbody tr th:only-of-type {\n",
       "        vertical-align: middle;\n",
       "    }\n",
       "\n",
       "    .dataframe tbody tr th {\n",
       "        vertical-align: top;\n",
       "    }\n",
       "\n",
       "    .dataframe thead th {\n",
       "        text-align: right;\n",
       "    }\n",
       "</style>\n",
       "<table border=\"1\" class=\"dataframe\">\n",
       "  <thead>\n",
       "    <tr style=\"text-align: right;\">\n",
       "      <th></th>\n",
       "      <th>Country Name</th>\n",
       "      <th>Country Code</th>\n",
       "      <th>2010</th>\n",
       "      <th>2011</th>\n",
       "      <th>2012</th>\n",
       "      <th>2013</th>\n",
       "      <th>2014</th>\n",
       "    </tr>\n",
       "  </thead>\n",
       "  <tbody>\n",
       "    <tr>\n",
       "      <th>0</th>\n",
       "      <td>Afghanistan</td>\n",
       "      <td>AFG</td>\n",
       "      <td>20.600000</td>\n",
       "      <td>20.900000</td>\n",
       "      <td>19.700001</td>\n",
       "      <td>21.100000</td>\n",
       "      <td>20.799999</td>\n",
       "    </tr>\n",
       "    <tr>\n",
       "      <th>1</th>\n",
       "      <td>Angola</td>\n",
       "      <td>AGO</td>\n",
       "      <td>10.800000</td>\n",
       "      <td>10.700000</td>\n",
       "      <td>10.700000</td>\n",
       "      <td>10.600000</td>\n",
       "      <td>10.500000</td>\n",
       "    </tr>\n",
       "    <tr>\n",
       "      <th>2</th>\n",
       "      <td>Albania</td>\n",
       "      <td>ALB</td>\n",
       "      <td>25.799999</td>\n",
       "      <td>27.000000</td>\n",
       "      <td>28.299999</td>\n",
       "      <td>28.700001</td>\n",
       "      <td>29.200001</td>\n",
       "    </tr>\n",
       "    <tr>\n",
       "      <th>4</th>\n",
       "      <td>United Arab Emirates</td>\n",
       "      <td>ARE</td>\n",
       "      <td>9.800000</td>\n",
       "      <td>9.800000</td>\n",
       "      <td>9.800000</td>\n",
       "      <td>9.900000</td>\n",
       "      <td>10.000000</td>\n",
       "    </tr>\n",
       "    <tr>\n",
       "      <th>5</th>\n",
       "      <td>Argentina</td>\n",
       "      <td>ARG</td>\n",
       "      <td>19.500000</td>\n",
       "      <td>18.799999</td>\n",
       "      <td>18.400000</td>\n",
       "      <td>19.700001</td>\n",
       "      <td>21.299999</td>\n",
       "    </tr>\n",
       "  </tbody>\n",
       "</table>\n",
       "</div>"
      ],
      "text/plain": [
       "           Country Name Country Code       2010       2011       2012  \\\n",
       "0           Afghanistan          AFG  20.600000  20.900000  19.700001   \n",
       "1                Angola          AGO  10.800000  10.700000  10.700000   \n",
       "2               Albania          ALB  25.799999  27.000000  28.299999   \n",
       "4  United Arab Emirates          ARE   9.800000   9.800000   9.800000   \n",
       "5             Argentina          ARG  19.500000  18.799999  18.400000   \n",
       "\n",
       "        2013       2014  \n",
       "0  21.100000  20.799999  \n",
       "1  10.600000  10.500000  \n",
       "2  28.700001  29.200001  \n",
       "4   9.900000  10.000000  \n",
       "5  19.700001  21.299999  "
      ]
     },
     "execution_count": 14,
     "metadata": {},
     "output_type": "execute_result"
    }
   ],
   "source": [
    "data_country.head()"
   ]
  },
  {
   "cell_type": "markdown",
   "id": "affected-watch",
   "metadata": {},
   "source": [
    "#### The box plot of all the individual countries for the 5 year duration "
   ]
  },
  {
   "cell_type": "code",
   "execution_count": 15,
   "id": "pediatric-newcastle",
   "metadata": {},
   "outputs": [
    {
     "data": {
      "application/vnd.plotly.v1+json": {
       "config": {
        "linkText": "Export to plot.ly",
        "plotlyServerURL": "https://plot.ly",
        "showLink": false
       },
       "data": [
        {
         "boxmean": true,
         "boxpoints": "all",
         "fillcolor": "rgba(93, 164, 214, 0.5)",
         "line": {
          "width": 1
         },
         "marker": {
          "size": 2
         },
         "name": "2010",
         "type": "box",
         "whiskerwidth": 0.2,
         "y": [
          20.6000003815,
          10.8000001907,
          25.7999992371,
          9.8000001907,
          19.5,
          38.2999992371,
          11.3999996185,
          8.8000001907,
          14.6000003815,
          10.8000001907,
          22.5,
          2,
          5.1999998093,
          8.1999998093,
          22.8999996185,
          10.1999998093,
          36,
          57.2000007629,
          13.1999998093,
          20.8999996185,
          6,
          17.2000007629,
          25.2999992371,
          10.8999996185,
          8.3999996185,
          33,
          10.8000001907,
          14.8000001907,
          7.6999998093,
          18.6000003815,
          9,
          6.1999998093,
          6.4000000954,
          10.6000003815,
          24.2999992371,
          10.6000003815,
          18.2000007629,
          17,
          6.0999999046,
          16,
          18.5,
          9.6999998093,
          14.1000003815,
          25.2999992371,
          22.2000007629,
          11.3000001907,
          26.2999992371,
          10.8000001907,
          42.5,
          33.2999992371,
          7.4000000954,
          20.3999996185,
          20.1000003815,
          22.6000003815,
          34.5,
          19.6000003815,
          36.7999992371,
          11.3999996185,
          1.8999999762,
          10.6999998093,
          10.6999998093,
          10.8000001907,
          32.4000015259,
          5.6999998093,
          23.2999992371,
          12.1000003815,
          9.1000003815,
          33.5,
          19.2999992371,
          26.6000003815,
          25,
          10.1999998093,
          28,
          28.3999996185,
          32.2999992371,
          16.1000003815,
          13.6000003815,
          27.7999992371,
          30,
          30.1000003815,
          9.1000003815,
          6,
          17.1000003815,
          16.6000003815,
          0.8999999762,
          9.6999998093,
          10.6000003815,
          3.2000000477,
          20.8999996185,
          5,
          43.7999992371,
          18.7999992371,
          35.5999984741,
          35.2000007629,
          14.5,
          34.9000015259,
          5.3000001907,
          17.7000007629,
          17.7000007629,
          6.1999998093,
          25.3999996185,
          9.3999996185,
          53.7000007629,
          10.3000001907,
          13.1999998093,
          9.3999996185,
          46,
          14.1000003815,
          40.7000007629,
          46.7000007629,
          23.1000003815,
          13.8000001907,
          11,
          44.0999984741,
          7.1999998093,
          13.8000001907,
          12.3000001907,
          8.8000001907,
          9.1999998093,
          4,
          17,
          19.2999992371,
          8.1999998093,
          14.8999996185,
          9,
          16.7999992371,
          5.4000000954,
          23.3999996185,
          30.6000003815,
          10.1999998093,
          22.2999992371,
          11.8999996185,
          1.5,
          22.2999992371,
          16.7999992371,
          0.6999999881,
          29.7999992371,
          22.7999992371,
          13,
          9.8999996185,
          9.1000003815,
          5.0999999046,
          13,
          10.5,
          45.5,
          20.7000007629,
          33.7000007629,
          14.6000003815,
          25.2000007629,
          42,
          19.2999992371,
          10.3999996185,
          10.8000001907,
          4,
          17.2999992371,
          20.6000003815,
          13.1000003815,
          14,
          29.3999996185,
          21.2000007629,
          5.5999999046,
          7.4000000954,
          17.3999996185,
          20.7999992371,
          18.7000007629,
          20.6000003815,
          17.5,
          6.0999999046,
          37.7000007629,
          30.2999992371,
          50.7999992371,
          12.3000001907,
          26.3999996185,
          9.6000003815
         ]
        },
        {
         "boxmean": true,
         "boxpoints": "all",
         "fillcolor": "rgba(255, 144, 14, 0.5)",
         "line": {
          "width": 1
         },
         "marker": {
          "size": 2
         },
         "name": "2011",
         "type": "box",
         "whiskerwidth": 0.2,
         "y": [
          20.8999996185,
          10.6999998093,
          27,
          9.8000001907,
          18.7999992371,
          38.7000007629,
          11.3999996185,
          8.1999998093,
          14.5,
          10.8000001907,
          18.6000003815,
          2,
          5.3000001907,
          8.1999998093,
          25.2000007629,
          11.3999996185,
          27.2000007629,
          57.0999984741,
          12.5,
          24.2999992371,
          5.5,
          15.1999998093,
          25.5,
          10.8999996185,
          8.3999996185,
          33.2000007629,
          10.8000001907,
          14.1000003815,
          7.5999999046,
          17.6000003815,
          9.3000001907,
          6.3000001907,
          6.4000000954,
          10.8000001907,
          23.2000007629,
          10.6000003815,
          18.1000003815,
          17,
          6.6999998093,
          21.3999996185,
          17.8999996185,
          8.3999996185,
          14.3000001907,
          30,
          22.5,
          10.6999998093,
          33.9000015259,
          10.6000003815,
          47.0999984741,
          22.6000003815,
          7.5,
          18.8999996185,
          20.1000003815,
          21.8999996185,
          34.5,
          20.1000003815,
          36.5999984741,
          9.3999996185,
          1.3999999762,
          11.1000003815,
          10.6000003815,
          10.6000003815,
          44.0999984741,
          7.4000000954,
          22.8999996185,
          9.1999998093,
          8.3000001907,
          36.5999984741,
          16.7000007629,
          26,
          21.3999996185,
          10.3000001907,
          29.1000003815,
          28.3999996185,
          32.4000015259,
          14.6000003815,
          11.6000003815,
          29.1000003815,
          29.5,
          31.6000003815,
          8,
          5.3000001907,
          17.1000003815,
          15.8999996185,
          0.6999999881,
          9.6999998093,
          21.6000003815,
          3.2000000477,
          20.7999992371,
          5,
          42.5999984741,
          16.8999996185,
          37.7999992371,
          32,
          16.7999992371,
          31,
          5.8000001907,
          17.7999992371,
          15.1000003815,
          6.1999998093,
          25.5,
          10,
          55.4000015259,
          10.3999996185,
          14,
          9.3999996185,
          37.2000007629,
          9,
          40.7000007629,
          46.7000007629,
          21.7000007629,
          13.8999996185,
          10,
          40.0999984741,
          7.3000001907,
          13.8000001907,
          11.6000003815,
          7.5,
          8.6999998093,
          4,
          17.2000007629,
          19,
          8.1000003815,
          11.8999996185,
          9.5,
          16.1000003815,
          5.3000001907,
          25.5,
          30.1000003815,
          10.3000001907,
          30,
          10.1999998093,
          1.7000000477,
          23.8999996185,
          15.3000001907,
          0.6999999881,
          30.1000003815,
          22.7000007629,
          12.3999996185,
          9.1999998093,
          8.8999996185,
          5.0999999046,
          12,
          10.5,
          50.4000015259,
          19,
          33.0999984741,
          15.8000001907,
          23.2000007629,
          42.2000007629,
          33.7000007629,
          10.8999996185,
          10.8000001907,
          2.9000000954,
          16.3999996185,
          21,
          12.6000003815,
          11.1999998093,
          42.7000007629,
          17.8999996185,
          6.5999999046,
          7.4000000954,
          19,
          17.8999996185,
          17.3999996185,
          20.6000003815,
          17.3999996185,
          5.3000001907,
          34.0999984741,
          30,
          50.0999984741,
          12.3000001907,
          26.6000003815,
          8.3000001907
         ]
        },
        {
         "boxmean": true,
         "boxpoints": "all",
         "fillcolor": "rgba(44, 160, 101, 0.5)",
         "line": {
          "width": 1
         },
         "marker": {
          "size": 2
         },
         "name": "2012",
         "type": "box",
         "whiskerwidth": 0.2,
         "y": [
          19.7000007629,
          10.6999998093,
          28.2999992371,
          9.8000001907,
          18.3999996185,
          35,
          11.6999998093,
          8.6999998093,
          14.3000001907,
          10.8000001907,
          19.7000007629,
          2,
          5.1999998093,
          8.1999998093,
          28.2000007629,
          10.5,
          30.3999996185,
          61.7000007629,
          11.8000001907,
          26,
          5.5,
          14.3999996185,
          26.5,
          11,
          6.4000000954,
          33.2999992371,
          10.6999998093,
          14.3000001907,
          8.5,
          16.2000007629,
          9.6999998093,
          6,
          6.4000000954,
          10.8000001907,
          20.6000003815,
          10.5,
          18.2999992371,
          18.7999992371,
          6.8000001907,
          26.7999992371,
          19.6000003815,
          8.1000003815,
          14.1000003815,
          30.8999996185,
          26.2999992371,
          10.8999996185,
          37.9000015259,
          10.6000003815,
          54.2999992371,
          21,
          7.9000000954,
          17.7999992371,
          20.2000007629,
          23.7999992371,
          34.5999984741,
          21.3999996185,
          33.7999992371,
          7.4000000954,
          1.3999999762,
          10.6999998093,
          11,
          10.6999998093,
          54.7000007629,
          5.5999999046,
          23.1000003815,
          9.3000001907,
          7.0999999046,
          44.0999984741,
          17.2999992371,
          27.8999996185,
          20.2999992371,
          10.6999998093,
          30.3999996185,
          28.2999992371,
          32.4000015259,
          13.3999996185,
          12.3000001907,
          35.2000007629,
          32.9000015259,
          31.2999992371,
          7.8000001907,
          4.5999999046,
          17.2999992371,
          16.6000003815,
          0.5,
          8.8999996185,
          21.1000003815,
          3.2999999523,
          20.7999992371,
          5,
          46.2000007629,
          16.6000003815,
          36,
          26.2000007629,
          18.5,
          28.2999992371,
          5,
          18.5,
          13.1000003815,
          6.1999998093,
          26.6000003815,
          9.5,
          53.7999992371,
          10.5,
          14.3000001907,
          9.3000001907,
          41.2999992371,
          9.6000003815,
          40.7000007629,
          46.5,
          23.7000007629,
          14,
          10.1999998093,
          34.2000007629,
          7.1999998093,
          13.6999998093,
          10.6000003815,
          9.5,
          8.6000003815,
          4,
          17.7000007629,
          18.7999992371,
          8.1000003815,
          10,
          8.5,
          16.3999996185,
          5.4000000954,
          26.3999996185,
          27.3999996185,
          10.6999998093,
          37.5999984741,
          10.3999996185,
          1.6000000238,
          22.7999992371,
          15,
          0.6999999881,
          28,
          22.7000007629,
          12.3000001907,
          9,
          9.3000001907,
          5,
          11.8999996185,
          10.5,
          50.5999984741,
          17.3999996185,
          33.9000015259,
          20.6000003815,
          24.2000007629,
          42,
          33.7000007629,
          10.6000003815,
          10.6999998093,
          3.0999999046,
          15.3999996185,
          20.7000007629,
          13.3999996185,
          12.3999996185,
          32.7999992371,
          17.1000003815,
          6,
          7.4000000954,
          17.2999992371,
          18.5,
          16.5,
          20.6000003815,
          17.1000003815,
          5,
          37.2999992371,
          30.2000007629,
          52.2000007629,
          12.3000001907,
          26.6000003815,
          8.3000001907
         ]
        },
        {
         "boxmean": true,
         "boxpoints": "all",
         "fillcolor": "rgba(255, 65, 54, 0.5)",
         "line": {
          "width": 1
         },
         "marker": {
          "size": 2
         },
         "name": "2013",
         "type": "box",
         "whiskerwidth": 0.2,
         "y": [
          21.1000003815,
          10.6000003815,
          28.7000007629,
          9.8999996185,
          19.7000007629,
          32.5,
          12.1999998093,
          9.1000003815,
          13.3999996185,
          10.8000001907,
          23.1000003815,
          1.7999999523,
          5.1999998093,
          8.8999996185,
          29.7000007629,
          10.6000003815,
          30.7999992371,
          57.4000015259,
          12,
          22.3999996185,
          5.0999999046,
          14.6999998093,
          26.2000007629,
          11.3000001907,
          10.3999996185,
          32.7999992371,
          12,
          13.8000001907,
          8.8000001907,
          16.1000003815,
          10.1000003815,
          6,
          6.3000001907,
          10.8000001907,
          16.8999996185,
          10.5,
          18.2999992371,
          19.8999996185,
          6.9000000954,
          36.9000015259,
          18.8999996185,
          7.8000001907,
          13,
          31.8999996185,
          20.3999996185,
          9.8000001907,
          41.7000007629,
          10.8000001907,
          57.0999984741,
          18.7000007629,
          6.5999999046,
          19.6000003815,
          19.6000003815,
          23.7000007629,
          35.7000007629,
          20.2999992371,
          35.7000007629,
          1.8999999762,
          1.5,
          10.6999998093,
          11,
          11,
          58,
          5.6999998093,
          23.3999996185,
          8.8999996185,
          6.9000000954,
          50.2999992371,
          17,
          27,
          21.7999992371,
          10.3999996185,
          26.7000007629,
          28.7999992371,
          32.0999984741,
          11.1000003815,
          10.6999998093,
          39.7000007629,
          35.7000007629,
          33.2999992371,
          6.8000001907,
          4.0999999046,
          17.2999992371,
          15.3000001907,
          0.6999999881,
          9.1999998093,
          20.5,
          3.2999999523,
          20.2000007629,
          4.5999999046,
          47,
          18.3999996185,
          30.5,
          21.8999996185,
          19.2000007629,
          23.1000003815,
          3.5,
          18.3999996185,
          13.5,
          5.5999999046,
          26,
          9.3999996185,
          51.7999992371,
          10.5,
          14.1000003815,
          9.3000001907,
          40.5,
          9.6000003815,
          40.7000007629,
          46.5999984741,
          21.8999996185,
          13.8999996185,
          10.6000003815,
          40.5999984741,
          7.1999998093,
          13.6000003815,
          7.6999998093,
          11,
          9.1000003815,
          4,
          15.8000001907,
          18.6000003815,
          8.3000001907,
          10.1000003815,
          8.6999998093,
          16.6000003815,
          5.5,
          27.2000007629,
          28.1000003815,
          10.6000003815,
          37.7999992371,
          10.5,
          1.2000000477,
          23.7999992371,
          14.1000003815,
          0.6999999881,
          28.7000007629,
          23,
          13,
          9,
          9.3999996185,
          4.9000000954,
          11.1999998093,
          10.6000003815,
          49.7000007629,
          15.5,
          33.5,
          22.7999992371,
          23.7999992371,
          42,
          32.4000015259,
          10.6999998093,
          10.6999998093,
          3.2000000477,
          15.6999998093,
          20.6000003815,
          13.3999996185,
          9.1000003815,
          31.2999992371,
          16.5,
          5.3000001907,
          7.4000000954,
          16,
          18.1000003815,
          15.8000001907,
          20.5,
          14.8000001907,
          6.3000001907,
          38.7000007629,
          30.2000007629,
          51.4000015259,
          12.1999998093,
          25.5,
          8.8999996185
         ]
        },
        {
         "boxmean": true,
         "boxpoints": "all",
         "fillcolor": "rgba(207, 114, 255, 0.5)",
         "line": {
          "width": 1
         },
         "marker": {
          "size": 2
         },
         "name": "2014",
         "type": "box",
         "whiskerwidth": 0.2,
         "y": [
          20.7999992371,
          10.5,
          29.2000007629,
          10,
          21.2999992371,
          35.0999984741,
          13.1000003815,
          9.1999998093,
          13.6000003815,
          10.6999998093,
          23.6000003815,
          1.7000000477,
          5,
          9.1000003815,
          25.8999996185,
          10.8999996185,
          30.1000003815,
          57.5,
          12,
          22,
          5.1999998093,
          15.1999998093,
          26.7999992371,
          11.1000003815,
          10,
          33.9000015259,
          11.8999996185,
          13.3999996185,
          8.6999998093,
          16.3999996185,
          10.5,
          5.8000001907,
          6.6999998093,
          10.6999998093,
          18.8999996185,
          10.6000003815,
          18.7999992371,
          19.2000007629,
          7.0999999046,
          35.7000007629,
          16.7000007629,
          7.5999999046,
          12.3999996185,
          31.3999996185,
          20,
          10.8000001907,
          42,
          10.8999996185,
          57.9000015259,
          17,
          7.0999999046,
          19.2000007629,
          18.6000003815,
          23.8999996185,
          35.5,
          16.7000007629,
          34.0999984741,
          3.2999999523,
          1.7000000477,
          10.6000003815,
          11.1000003815,
          12.6000003815,
          53.9000015259,
          5.4000000954,
          23.7999992371,
          8.5,
          6.9000000954,
          45.9000015259,
          17.1000003815,
          21,
          21.7999992371,
          10.3999996185,
          25.7999992371,
          29.3999996185,
          34.5999984741,
          10.8999996185,
          11,
          44.0999984741,
          30.5,
          28.7999992371,
          6.5,
          3.5,
          17.3999996185,
          14.6999998093,
          0.8999999762,
          10.3999996185,
          19.3999996185,
          3.4000000954,
          20.7000007629,
          4.5999999046,
          48.9000015259,
          19.1000003815,
          33,
          21.5,
          16,
          19.2999992371,
          2.9000000954,
          20.2000007629,
          8.5,
          5.1999998093,
          26.8999996185,
          9.8999996185,
          50.7999992371,
          10.5,
          13.6000003815,
          9.5,
          39.5,
          9.3000001907,
          40.7000007629,
          46.5999984741,
          21.2000007629,
          13.8000001907,
          6.6999998093,
          38.7000007629,
          7.0999999046,
          13.6000003815,
          7.5999999046,
          11.1000003815,
          8.3999996185,
          4,
          14.6000003815,
          18.7999992371,
          8.6000003815,
          11,
          9.1999998093,
          16.3999996185,
          5.4000000954,
          24,
          27.7999992371,
          10.6000003815,
          36.7999992371,
          9.3000001907,
          1.2999999523,
          25.1000003815,
          12.8999996185,
          0.6999999881,
          29.5,
          23.2999992371,
          13,
          9.6000003815,
          9.5,
          4.9000000954,
          11.6999998093,
          10.6000003815,
          49.5,
          17.8999996185,
          31.1000003815,
          20.7999992371,
          22.7999992371,
          42.5999984741,
          30.1000003815,
          10.5,
          10.6999998093,
          3.9000000954,
          15.5,
          20.2000007629,
          14,
          10.6000003815,
          31.7999992371,
          17.7000007629,
          5.5,
          6.8000001907,
          16.8999996185,
          19.1000003815,
          14,
          20.2999992371,
          17.1000003815,
          6.3000001907,
          42.7000007629,
          29.8999996185,
          52.5999984741,
          11.8999996185,
          25.1000003815,
          9.3999996185
         ]
        }
       ],
       "layout": {
        "margin": {
         "b": 80,
         "l": 40,
         "r": 30,
         "t": 100
        },
        "paper_bgcolor": "rgb(243, 243, 243)",
        "plot_bgcolor": "rgb(243, 243, 243)",
        "showlegend": false,
        "template": {
         "data": {
          "bar": [
           {
            "error_x": {
             "color": "#2a3f5f"
            },
            "error_y": {
             "color": "#2a3f5f"
            },
            "marker": {
             "line": {
              "color": "#E5ECF6",
              "width": 0.5
             },
             "pattern": {
              "fillmode": "overlay",
              "size": 10,
              "solidity": 0.2
             }
            },
            "type": "bar"
           }
          ],
          "barpolar": [
           {
            "marker": {
             "line": {
              "color": "#E5ECF6",
              "width": 0.5
             },
             "pattern": {
              "fillmode": "overlay",
              "size": 10,
              "solidity": 0.2
             }
            },
            "type": "barpolar"
           }
          ],
          "carpet": [
           {
            "aaxis": {
             "endlinecolor": "#2a3f5f",
             "gridcolor": "white",
             "linecolor": "white",
             "minorgridcolor": "white",
             "startlinecolor": "#2a3f5f"
            },
            "baxis": {
             "endlinecolor": "#2a3f5f",
             "gridcolor": "white",
             "linecolor": "white",
             "minorgridcolor": "white",
             "startlinecolor": "#2a3f5f"
            },
            "type": "carpet"
           }
          ],
          "choropleth": [
           {
            "colorbar": {
             "outlinewidth": 0,
             "ticks": ""
            },
            "type": "choropleth"
           }
          ],
          "contour": [
           {
            "colorbar": {
             "outlinewidth": 0,
             "ticks": ""
            },
            "colorscale": [
             [
              0,
              "#0d0887"
             ],
             [
              0.1111111111111111,
              "#46039f"
             ],
             [
              0.2222222222222222,
              "#7201a8"
             ],
             [
              0.3333333333333333,
              "#9c179e"
             ],
             [
              0.4444444444444444,
              "#bd3786"
             ],
             [
              0.5555555555555556,
              "#d8576b"
             ],
             [
              0.6666666666666666,
              "#ed7953"
             ],
             [
              0.7777777777777778,
              "#fb9f3a"
             ],
             [
              0.8888888888888888,
              "#fdca26"
             ],
             [
              1,
              "#f0f921"
             ]
            ],
            "type": "contour"
           }
          ],
          "contourcarpet": [
           {
            "colorbar": {
             "outlinewidth": 0,
             "ticks": ""
            },
            "type": "contourcarpet"
           }
          ],
          "heatmap": [
           {
            "colorbar": {
             "outlinewidth": 0,
             "ticks": ""
            },
            "colorscale": [
             [
              0,
              "#0d0887"
             ],
             [
              0.1111111111111111,
              "#46039f"
             ],
             [
              0.2222222222222222,
              "#7201a8"
             ],
             [
              0.3333333333333333,
              "#9c179e"
             ],
             [
              0.4444444444444444,
              "#bd3786"
             ],
             [
              0.5555555555555556,
              "#d8576b"
             ],
             [
              0.6666666666666666,
              "#ed7953"
             ],
             [
              0.7777777777777778,
              "#fb9f3a"
             ],
             [
              0.8888888888888888,
              "#fdca26"
             ],
             [
              1,
              "#f0f921"
             ]
            ],
            "type": "heatmap"
           }
          ],
          "heatmapgl": [
           {
            "colorbar": {
             "outlinewidth": 0,
             "ticks": ""
            },
            "colorscale": [
             [
              0,
              "#0d0887"
             ],
             [
              0.1111111111111111,
              "#46039f"
             ],
             [
              0.2222222222222222,
              "#7201a8"
             ],
             [
              0.3333333333333333,
              "#9c179e"
             ],
             [
              0.4444444444444444,
              "#bd3786"
             ],
             [
              0.5555555555555556,
              "#d8576b"
             ],
             [
              0.6666666666666666,
              "#ed7953"
             ],
             [
              0.7777777777777778,
              "#fb9f3a"
             ],
             [
              0.8888888888888888,
              "#fdca26"
             ],
             [
              1,
              "#f0f921"
             ]
            ],
            "type": "heatmapgl"
           }
          ],
          "histogram": [
           {
            "marker": {
             "pattern": {
              "fillmode": "overlay",
              "size": 10,
              "solidity": 0.2
             }
            },
            "type": "histogram"
           }
          ],
          "histogram2d": [
           {
            "colorbar": {
             "outlinewidth": 0,
             "ticks": ""
            },
            "colorscale": [
             [
              0,
              "#0d0887"
             ],
             [
              0.1111111111111111,
              "#46039f"
             ],
             [
              0.2222222222222222,
              "#7201a8"
             ],
             [
              0.3333333333333333,
              "#9c179e"
             ],
             [
              0.4444444444444444,
              "#bd3786"
             ],
             [
              0.5555555555555556,
              "#d8576b"
             ],
             [
              0.6666666666666666,
              "#ed7953"
             ],
             [
              0.7777777777777778,
              "#fb9f3a"
             ],
             [
              0.8888888888888888,
              "#fdca26"
             ],
             [
              1,
              "#f0f921"
             ]
            ],
            "type": "histogram2d"
           }
          ],
          "histogram2dcontour": [
           {
            "colorbar": {
             "outlinewidth": 0,
             "ticks": ""
            },
            "colorscale": [
             [
              0,
              "#0d0887"
             ],
             [
              0.1111111111111111,
              "#46039f"
             ],
             [
              0.2222222222222222,
              "#7201a8"
             ],
             [
              0.3333333333333333,
              "#9c179e"
             ],
             [
              0.4444444444444444,
              "#bd3786"
             ],
             [
              0.5555555555555556,
              "#d8576b"
             ],
             [
              0.6666666666666666,
              "#ed7953"
             ],
             [
              0.7777777777777778,
              "#fb9f3a"
             ],
             [
              0.8888888888888888,
              "#fdca26"
             ],
             [
              1,
              "#f0f921"
             ]
            ],
            "type": "histogram2dcontour"
           }
          ],
          "mesh3d": [
           {
            "colorbar": {
             "outlinewidth": 0,
             "ticks": ""
            },
            "type": "mesh3d"
           }
          ],
          "parcoords": [
           {
            "line": {
             "colorbar": {
              "outlinewidth": 0,
              "ticks": ""
             }
            },
            "type": "parcoords"
           }
          ],
          "pie": [
           {
            "automargin": true,
            "type": "pie"
           }
          ],
          "scatter": [
           {
            "fillpattern": {
             "fillmode": "overlay",
             "size": 10,
             "solidity": 0.2
            },
            "type": "scatter"
           }
          ],
          "scatter3d": [
           {
            "line": {
             "colorbar": {
              "outlinewidth": 0,
              "ticks": ""
             }
            },
            "marker": {
             "colorbar": {
              "outlinewidth": 0,
              "ticks": ""
             }
            },
            "type": "scatter3d"
           }
          ],
          "scattercarpet": [
           {
            "marker": {
             "colorbar": {
              "outlinewidth": 0,
              "ticks": ""
             }
            },
            "type": "scattercarpet"
           }
          ],
          "scattergeo": [
           {
            "marker": {
             "colorbar": {
              "outlinewidth": 0,
              "ticks": ""
             }
            },
            "type": "scattergeo"
           }
          ],
          "scattergl": [
           {
            "marker": {
             "colorbar": {
              "outlinewidth": 0,
              "ticks": ""
             }
            },
            "type": "scattergl"
           }
          ],
          "scattermapbox": [
           {
            "marker": {
             "colorbar": {
              "outlinewidth": 0,
              "ticks": ""
             }
            },
            "type": "scattermapbox"
           }
          ],
          "scatterpolar": [
           {
            "marker": {
             "colorbar": {
              "outlinewidth": 0,
              "ticks": ""
             }
            },
            "type": "scatterpolar"
           }
          ],
          "scatterpolargl": [
           {
            "marker": {
             "colorbar": {
              "outlinewidth": 0,
              "ticks": ""
             }
            },
            "type": "scatterpolargl"
           }
          ],
          "scatterternary": [
           {
            "marker": {
             "colorbar": {
              "outlinewidth": 0,
              "ticks": ""
             }
            },
            "type": "scatterternary"
           }
          ],
          "surface": [
           {
            "colorbar": {
             "outlinewidth": 0,
             "ticks": ""
            },
            "colorscale": [
             [
              0,
              "#0d0887"
             ],
             [
              0.1111111111111111,
              "#46039f"
             ],
             [
              0.2222222222222222,
              "#7201a8"
             ],
             [
              0.3333333333333333,
              "#9c179e"
             ],
             [
              0.4444444444444444,
              "#bd3786"
             ],
             [
              0.5555555555555556,
              "#d8576b"
             ],
             [
              0.6666666666666666,
              "#ed7953"
             ],
             [
              0.7777777777777778,
              "#fb9f3a"
             ],
             [
              0.8888888888888888,
              "#fdca26"
             ],
             [
              1,
              "#f0f921"
             ]
            ],
            "type": "surface"
           }
          ],
          "table": [
           {
            "cells": {
             "fill": {
              "color": "#EBF0F8"
             },
             "line": {
              "color": "white"
             }
            },
            "header": {
             "fill": {
              "color": "#C8D4E3"
             },
             "line": {
              "color": "white"
             }
            },
            "type": "table"
           }
          ]
         },
         "layout": {
          "annotationdefaults": {
           "arrowcolor": "#2a3f5f",
           "arrowhead": 0,
           "arrowwidth": 1
          },
          "autotypenumbers": "strict",
          "coloraxis": {
           "colorbar": {
            "outlinewidth": 0,
            "ticks": ""
           }
          },
          "colorscale": {
           "diverging": [
            [
             0,
             "#8e0152"
            ],
            [
             0.1,
             "#c51b7d"
            ],
            [
             0.2,
             "#de77ae"
            ],
            [
             0.3,
             "#f1b6da"
            ],
            [
             0.4,
             "#fde0ef"
            ],
            [
             0.5,
             "#f7f7f7"
            ],
            [
             0.6,
             "#e6f5d0"
            ],
            [
             0.7,
             "#b8e186"
            ],
            [
             0.8,
             "#7fbc41"
            ],
            [
             0.9,
             "#4d9221"
            ],
            [
             1,
             "#276419"
            ]
           ],
           "sequential": [
            [
             0,
             "#0d0887"
            ],
            [
             0.1111111111111111,
             "#46039f"
            ],
            [
             0.2222222222222222,
             "#7201a8"
            ],
            [
             0.3333333333333333,
             "#9c179e"
            ],
            [
             0.4444444444444444,
             "#bd3786"
            ],
            [
             0.5555555555555556,
             "#d8576b"
            ],
            [
             0.6666666666666666,
             "#ed7953"
            ],
            [
             0.7777777777777778,
             "#fb9f3a"
            ],
            [
             0.8888888888888888,
             "#fdca26"
            ],
            [
             1,
             "#f0f921"
            ]
           ],
           "sequentialminus": [
            [
             0,
             "#0d0887"
            ],
            [
             0.1111111111111111,
             "#46039f"
            ],
            [
             0.2222222222222222,
             "#7201a8"
            ],
            [
             0.3333333333333333,
             "#9c179e"
            ],
            [
             0.4444444444444444,
             "#bd3786"
            ],
            [
             0.5555555555555556,
             "#d8576b"
            ],
            [
             0.6666666666666666,
             "#ed7953"
            ],
            [
             0.7777777777777778,
             "#fb9f3a"
            ],
            [
             0.8888888888888888,
             "#fdca26"
            ],
            [
             1,
             "#f0f921"
            ]
           ]
          },
          "colorway": [
           "#636efa",
           "#EF553B",
           "#00cc96",
           "#ab63fa",
           "#FFA15A",
           "#19d3f3",
           "#FF6692",
           "#B6E880",
           "#FF97FF",
           "#FECB52"
          ],
          "font": {
           "color": "#2a3f5f"
          },
          "geo": {
           "bgcolor": "white",
           "lakecolor": "white",
           "landcolor": "#E5ECF6",
           "showlakes": true,
           "showland": true,
           "subunitcolor": "white"
          },
          "hoverlabel": {
           "align": "left"
          },
          "hovermode": "closest",
          "mapbox": {
           "style": "light"
          },
          "paper_bgcolor": "white",
          "plot_bgcolor": "#E5ECF6",
          "polar": {
           "angularaxis": {
            "gridcolor": "white",
            "linecolor": "white",
            "ticks": ""
           },
           "bgcolor": "#E5ECF6",
           "radialaxis": {
            "gridcolor": "white",
            "linecolor": "white",
            "ticks": ""
           }
          },
          "scene": {
           "xaxis": {
            "backgroundcolor": "#E5ECF6",
            "gridcolor": "white",
            "gridwidth": 2,
            "linecolor": "white",
            "showbackground": true,
            "ticks": "",
            "zerolinecolor": "white"
           },
           "yaxis": {
            "backgroundcolor": "#E5ECF6",
            "gridcolor": "white",
            "gridwidth": 2,
            "linecolor": "white",
            "showbackground": true,
            "ticks": "",
            "zerolinecolor": "white"
           },
           "zaxis": {
            "backgroundcolor": "#E5ECF6",
            "gridcolor": "white",
            "gridwidth": 2,
            "linecolor": "white",
            "showbackground": true,
            "ticks": "",
            "zerolinecolor": "white"
           }
          },
          "shapedefaults": {
           "line": {
            "color": "#2a3f5f"
           }
          },
          "ternary": {
           "aaxis": {
            "gridcolor": "white",
            "linecolor": "white",
            "ticks": ""
           },
           "baxis": {
            "gridcolor": "white",
            "linecolor": "white",
            "ticks": ""
           },
           "bgcolor": "#E5ECF6",
           "caxis": {
            "gridcolor": "white",
            "linecolor": "white",
            "ticks": ""
           }
          },
          "title": {
           "x": 0.05
          },
          "xaxis": {
           "automargin": true,
           "gridcolor": "white",
           "linecolor": "white",
           "ticks": "",
           "title": {
            "standoff": 15
           },
           "zerolinecolor": "white",
           "zerolinewidth": 2
          },
          "yaxis": {
           "automargin": true,
           "gridcolor": "white",
           "linecolor": "white",
           "ticks": "",
           "title": {
            "standoff": 15
           },
           "zerolinecolor": "white",
           "zerolinewidth": 2
          }
         }
        },
        "title": {
         "text": "Distribution of Unemployment Data"
        },
        "xaxis": {
         "title": {
          "text": "Year"
         }
        },
        "yaxis": {
         "autorange": true,
         "dtick": 5,
         "gridcolor": "rgb(255, 255, 255)",
         "gridwidth": 1,
         "showgrid": true,
         "title": {
          "text": "Unemployment Rate (%)"
         },
         "zeroline": false
        }
       }
      },
      "text/html": [
       "<div>                            <div id=\"df185e4c-1224-42cb-9f54-e1f08ef90370\" class=\"plotly-graph-div\" style=\"height:525px; width:100%;\"></div>            <script type=\"text/javascript\">                require([\"plotly\"], function(Plotly) {                    window.PLOTLYENV=window.PLOTLYENV || {};                                    if (document.getElementById(\"df185e4c-1224-42cb-9f54-e1f08ef90370\")) {                    Plotly.newPlot(                        \"df185e4c-1224-42cb-9f54-e1f08ef90370\",                        [{\"boxmean\":true,\"boxpoints\":\"all\",\"fillcolor\":\"rgba(93, 164, 214, 0.5)\",\"line\":{\"width\":1},\"marker\":{\"size\":2},\"name\":\"2010\",\"whiskerwidth\":0.2,\"y\":[20.6000003815,10.8000001907,25.7999992371,9.8000001907,19.5,38.2999992371,11.3999996185,8.8000001907,14.6000003815,10.8000001907,22.5,2.0,5.1999998093,8.1999998093,22.8999996185,10.1999998093,36.0,57.2000007629,13.1999998093,20.8999996185,6.0,17.2000007629,25.2999992371,10.8999996185,8.3999996185,33.0,10.8000001907,14.8000001907,7.6999998093,18.6000003815,9.0,6.1999998093,6.4000000954,10.6000003815,24.2999992371,10.6000003815,18.2000007629,17.0,6.0999999046,16.0,18.5,9.6999998093,14.1000003815,25.2999992371,22.2000007629,11.3000001907,26.2999992371,10.8000001907,42.5,33.2999992371,7.4000000954,20.3999996185,20.1000003815,22.6000003815,34.5,19.6000003815,36.7999992371,11.3999996185,1.8999999762,10.6999998093,10.6999998093,10.8000001907,32.4000015259,5.6999998093,23.2999992371,12.1000003815,9.1000003815,33.5,19.2999992371,26.6000003815,25.0,10.1999998093,28.0,28.3999996185,32.2999992371,16.1000003815,13.6000003815,27.7999992371,30.0,30.1000003815,9.1000003815,6.0,17.1000003815,16.6000003815,0.8999999762,9.6999998093,10.6000003815,3.2000000477,20.8999996185,5.0,43.7999992371,18.7999992371,35.5999984741,35.2000007629,14.5,34.9000015259,5.3000001907,17.7000007629,17.7000007629,6.1999998093,25.3999996185,9.3999996185,53.7000007629,10.3000001907,13.1999998093,9.3999996185,46.0,14.1000003815,40.7000007629,46.7000007629,23.1000003815,13.8000001907,11.0,44.0999984741,7.1999998093,13.8000001907,12.3000001907,8.8000001907,9.1999998093,4.0,17.0,19.2999992371,8.1999998093,14.8999996185,9.0,16.7999992371,5.4000000954,23.3999996185,30.6000003815,10.1999998093,22.2999992371,11.8999996185,1.5,22.2999992371,16.7999992371,0.6999999881,29.7999992371,22.7999992371,13.0,9.8999996185,9.1000003815,5.0999999046,13.0,10.5,45.5,20.7000007629,33.7000007629,14.6000003815,25.2000007629,42.0,19.2999992371,10.3999996185,10.8000001907,4.0,17.2999992371,20.6000003815,13.1000003815,14.0,29.3999996185,21.2000007629,5.5999999046,7.4000000954,17.3999996185,20.7999992371,18.7000007629,20.6000003815,17.5,6.0999999046,37.7000007629,30.2999992371,50.7999992371,12.3000001907,26.3999996185,9.6000003815],\"type\":\"box\"},{\"boxmean\":true,\"boxpoints\":\"all\",\"fillcolor\":\"rgba(255, 144, 14, 0.5)\",\"line\":{\"width\":1},\"marker\":{\"size\":2},\"name\":\"2011\",\"whiskerwidth\":0.2,\"y\":[20.8999996185,10.6999998093,27.0,9.8000001907,18.7999992371,38.7000007629,11.3999996185,8.1999998093,14.5,10.8000001907,18.6000003815,2.0,5.3000001907,8.1999998093,25.2000007629,11.3999996185,27.2000007629,57.0999984741,12.5,24.2999992371,5.5,15.1999998093,25.5,10.8999996185,8.3999996185,33.2000007629,10.8000001907,14.1000003815,7.5999999046,17.6000003815,9.3000001907,6.3000001907,6.4000000954,10.8000001907,23.2000007629,10.6000003815,18.1000003815,17.0,6.6999998093,21.3999996185,17.8999996185,8.3999996185,14.3000001907,30.0,22.5,10.6999998093,33.9000015259,10.6000003815,47.0999984741,22.6000003815,7.5,18.8999996185,20.1000003815,21.8999996185,34.5,20.1000003815,36.5999984741,9.3999996185,1.3999999762,11.1000003815,10.6000003815,10.6000003815,44.0999984741,7.4000000954,22.8999996185,9.1999998093,8.3000001907,36.5999984741,16.7000007629,26.0,21.3999996185,10.3000001907,29.1000003815,28.3999996185,32.4000015259,14.6000003815,11.6000003815,29.1000003815,29.5,31.6000003815,8.0,5.3000001907,17.1000003815,15.8999996185,0.6999999881,9.6999998093,21.6000003815,3.2000000477,20.7999992371,5.0,42.5999984741,16.8999996185,37.7999992371,32.0,16.7999992371,31.0,5.8000001907,17.7999992371,15.1000003815,6.1999998093,25.5,10.0,55.4000015259,10.3999996185,14.0,9.3999996185,37.2000007629,9.0,40.7000007629,46.7000007629,21.7000007629,13.8999996185,10.0,40.0999984741,7.3000001907,13.8000001907,11.6000003815,7.5,8.6999998093,4.0,17.2000007629,19.0,8.1000003815,11.8999996185,9.5,16.1000003815,5.3000001907,25.5,30.1000003815,10.3000001907,30.0,10.1999998093,1.7000000477,23.8999996185,15.3000001907,0.6999999881,30.1000003815,22.7000007629,12.3999996185,9.1999998093,8.8999996185,5.0999999046,12.0,10.5,50.4000015259,19.0,33.0999984741,15.8000001907,23.2000007629,42.2000007629,33.7000007629,10.8999996185,10.8000001907,2.9000000954,16.3999996185,21.0,12.6000003815,11.1999998093,42.7000007629,17.8999996185,6.5999999046,7.4000000954,19.0,17.8999996185,17.3999996185,20.6000003815,17.3999996185,5.3000001907,34.0999984741,30.0,50.0999984741,12.3000001907,26.6000003815,8.3000001907],\"type\":\"box\"},{\"boxmean\":true,\"boxpoints\":\"all\",\"fillcolor\":\"rgba(44, 160, 101, 0.5)\",\"line\":{\"width\":1},\"marker\":{\"size\":2},\"name\":\"2012\",\"whiskerwidth\":0.2,\"y\":[19.7000007629,10.6999998093,28.2999992371,9.8000001907,18.3999996185,35.0,11.6999998093,8.6999998093,14.3000001907,10.8000001907,19.7000007629,2.0,5.1999998093,8.1999998093,28.2000007629,10.5,30.3999996185,61.7000007629,11.8000001907,26.0,5.5,14.3999996185,26.5,11.0,6.4000000954,33.2999992371,10.6999998093,14.3000001907,8.5,16.2000007629,9.6999998093,6.0,6.4000000954,10.8000001907,20.6000003815,10.5,18.2999992371,18.7999992371,6.8000001907,26.7999992371,19.6000003815,8.1000003815,14.1000003815,30.8999996185,26.2999992371,10.8999996185,37.9000015259,10.6000003815,54.2999992371,21.0,7.9000000954,17.7999992371,20.2000007629,23.7999992371,34.5999984741,21.3999996185,33.7999992371,7.4000000954,1.3999999762,10.6999998093,11.0,10.6999998093,54.7000007629,5.5999999046,23.1000003815,9.3000001907,7.0999999046,44.0999984741,17.2999992371,27.8999996185,20.2999992371,10.6999998093,30.3999996185,28.2999992371,32.4000015259,13.3999996185,12.3000001907,35.2000007629,32.9000015259,31.2999992371,7.8000001907,4.5999999046,17.2999992371,16.6000003815,0.5,8.8999996185,21.1000003815,3.2999999523,20.7999992371,5.0,46.2000007629,16.6000003815,36.0,26.2000007629,18.5,28.2999992371,5.0,18.5,13.1000003815,6.1999998093,26.6000003815,9.5,53.7999992371,10.5,14.3000001907,9.3000001907,41.2999992371,9.6000003815,40.7000007629,46.5,23.7000007629,14.0,10.1999998093,34.2000007629,7.1999998093,13.6999998093,10.6000003815,9.5,8.6000003815,4.0,17.7000007629,18.7999992371,8.1000003815,10.0,8.5,16.3999996185,5.4000000954,26.3999996185,27.3999996185,10.6999998093,37.5999984741,10.3999996185,1.6000000238,22.7999992371,15.0,0.6999999881,28.0,22.7000007629,12.3000001907,9.0,9.3000001907,5.0,11.8999996185,10.5,50.5999984741,17.3999996185,33.9000015259,20.6000003815,24.2000007629,42.0,33.7000007629,10.6000003815,10.6999998093,3.0999999046,15.3999996185,20.7000007629,13.3999996185,12.3999996185,32.7999992371,17.1000003815,6.0,7.4000000954,17.2999992371,18.5,16.5,20.6000003815,17.1000003815,5.0,37.2999992371,30.2000007629,52.2000007629,12.3000001907,26.6000003815,8.3000001907],\"type\":\"box\"},{\"boxmean\":true,\"boxpoints\":\"all\",\"fillcolor\":\"rgba(255, 65, 54, 0.5)\",\"line\":{\"width\":1},\"marker\":{\"size\":2},\"name\":\"2013\",\"whiskerwidth\":0.2,\"y\":[21.1000003815,10.6000003815,28.7000007629,9.8999996185,19.7000007629,32.5,12.1999998093,9.1000003815,13.3999996185,10.8000001907,23.1000003815,1.7999999523,5.1999998093,8.8999996185,29.7000007629,10.6000003815,30.7999992371,57.4000015259,12.0,22.3999996185,5.0999999046,14.6999998093,26.2000007629,11.3000001907,10.3999996185,32.7999992371,12.0,13.8000001907,8.8000001907,16.1000003815,10.1000003815,6.0,6.3000001907,10.8000001907,16.8999996185,10.5,18.2999992371,19.8999996185,6.9000000954,36.9000015259,18.8999996185,7.8000001907,13.0,31.8999996185,20.3999996185,9.8000001907,41.7000007629,10.8000001907,57.0999984741,18.7000007629,6.5999999046,19.6000003815,19.6000003815,23.7000007629,35.7000007629,20.2999992371,35.7000007629,1.8999999762,1.5,10.6999998093,11.0,11.0,58.0,5.6999998093,23.3999996185,8.8999996185,6.9000000954,50.2999992371,17.0,27.0,21.7999992371,10.3999996185,26.7000007629,28.7999992371,32.0999984741,11.1000003815,10.6999998093,39.7000007629,35.7000007629,33.2999992371,6.8000001907,4.0999999046,17.2999992371,15.3000001907,0.6999999881,9.1999998093,20.5,3.2999999523,20.2000007629,4.5999999046,47.0,18.3999996185,30.5,21.8999996185,19.2000007629,23.1000003815,3.5,18.3999996185,13.5,5.5999999046,26.0,9.3999996185,51.7999992371,10.5,14.1000003815,9.3000001907,40.5,9.6000003815,40.7000007629,46.5999984741,21.8999996185,13.8999996185,10.6000003815,40.5999984741,7.1999998093,13.6000003815,7.6999998093,11.0,9.1000003815,4.0,15.8000001907,18.6000003815,8.3000001907,10.1000003815,8.6999998093,16.6000003815,5.5,27.2000007629,28.1000003815,10.6000003815,37.7999992371,10.5,1.2000000477,23.7999992371,14.1000003815,0.6999999881,28.7000007629,23.0,13.0,9.0,9.3999996185,4.9000000954,11.1999998093,10.6000003815,49.7000007629,15.5,33.5,22.7999992371,23.7999992371,42.0,32.4000015259,10.6999998093,10.6999998093,3.2000000477,15.6999998093,20.6000003815,13.3999996185,9.1000003815,31.2999992371,16.5,5.3000001907,7.4000000954,16.0,18.1000003815,15.8000001907,20.5,14.8000001907,6.3000001907,38.7000007629,30.2000007629,51.4000015259,12.1999998093,25.5,8.8999996185],\"type\":\"box\"},{\"boxmean\":true,\"boxpoints\":\"all\",\"fillcolor\":\"rgba(207, 114, 255, 0.5)\",\"line\":{\"width\":1},\"marker\":{\"size\":2},\"name\":\"2014\",\"whiskerwidth\":0.2,\"y\":[20.7999992371,10.5,29.2000007629,10.0,21.2999992371,35.0999984741,13.1000003815,9.1999998093,13.6000003815,10.6999998093,23.6000003815,1.7000000477,5.0,9.1000003815,25.8999996185,10.8999996185,30.1000003815,57.5,12.0,22.0,5.1999998093,15.1999998093,26.7999992371,11.1000003815,10.0,33.9000015259,11.8999996185,13.3999996185,8.6999998093,16.3999996185,10.5,5.8000001907,6.6999998093,10.6999998093,18.8999996185,10.6000003815,18.7999992371,19.2000007629,7.0999999046,35.7000007629,16.7000007629,7.5999999046,12.3999996185,31.3999996185,20.0,10.8000001907,42.0,10.8999996185,57.9000015259,17.0,7.0999999046,19.2000007629,18.6000003815,23.8999996185,35.5,16.7000007629,34.0999984741,3.2999999523,1.7000000477,10.6000003815,11.1000003815,12.6000003815,53.9000015259,5.4000000954,23.7999992371,8.5,6.9000000954,45.9000015259,17.1000003815,21.0,21.7999992371,10.3999996185,25.7999992371,29.3999996185,34.5999984741,10.8999996185,11.0,44.0999984741,30.5,28.7999992371,6.5,3.5,17.3999996185,14.6999998093,0.8999999762,10.3999996185,19.3999996185,3.4000000954,20.7000007629,4.5999999046,48.9000015259,19.1000003815,33.0,21.5,16.0,19.2999992371,2.9000000954,20.2000007629,8.5,5.1999998093,26.8999996185,9.8999996185,50.7999992371,10.5,13.6000003815,9.5,39.5,9.3000001907,40.7000007629,46.5999984741,21.2000007629,13.8000001907,6.6999998093,38.7000007629,7.0999999046,13.6000003815,7.5999999046,11.1000003815,8.3999996185,4.0,14.6000003815,18.7999992371,8.6000003815,11.0,9.1999998093,16.3999996185,5.4000000954,24.0,27.7999992371,10.6000003815,36.7999992371,9.3000001907,1.2999999523,25.1000003815,12.8999996185,0.6999999881,29.5,23.2999992371,13.0,9.6000003815,9.5,4.9000000954,11.6999998093,10.6000003815,49.5,17.8999996185,31.1000003815,20.7999992371,22.7999992371,42.5999984741,30.1000003815,10.5,10.6999998093,3.9000000954,15.5,20.2000007629,14.0,10.6000003815,31.7999992371,17.7000007629,5.5,6.8000001907,16.8999996185,19.1000003815,14.0,20.2999992371,17.1000003815,6.3000001907,42.7000007629,29.8999996185,52.5999984741,11.8999996185,25.1000003815,9.3999996185],\"type\":\"box\"}],                        {\"margin\":{\"b\":80,\"l\":40,\"r\":30,\"t\":100},\"paper_bgcolor\":\"rgb(243, 243, 243)\",\"plot_bgcolor\":\"rgb(243, 243, 243)\",\"showlegend\":false,\"template\":{\"data\":{\"barpolar\":[{\"marker\":{\"line\":{\"color\":\"#E5ECF6\",\"width\":0.5},\"pattern\":{\"fillmode\":\"overlay\",\"size\":10,\"solidity\":0.2}},\"type\":\"barpolar\"}],\"bar\":[{\"error_x\":{\"color\":\"#2a3f5f\"},\"error_y\":{\"color\":\"#2a3f5f\"},\"marker\":{\"line\":{\"color\":\"#E5ECF6\",\"width\":0.5},\"pattern\":{\"fillmode\":\"overlay\",\"size\":10,\"solidity\":0.2}},\"type\":\"bar\"}],\"carpet\":[{\"aaxis\":{\"endlinecolor\":\"#2a3f5f\",\"gridcolor\":\"white\",\"linecolor\":\"white\",\"minorgridcolor\":\"white\",\"startlinecolor\":\"#2a3f5f\"},\"baxis\":{\"endlinecolor\":\"#2a3f5f\",\"gridcolor\":\"white\",\"linecolor\":\"white\",\"minorgridcolor\":\"white\",\"startlinecolor\":\"#2a3f5f\"},\"type\":\"carpet\"}],\"choropleth\":[{\"colorbar\":{\"outlinewidth\":0,\"ticks\":\"\"},\"type\":\"choropleth\"}],\"contourcarpet\":[{\"colorbar\":{\"outlinewidth\":0,\"ticks\":\"\"},\"type\":\"contourcarpet\"}],\"contour\":[{\"colorbar\":{\"outlinewidth\":0,\"ticks\":\"\"},\"colorscale\":[[0.0,\"#0d0887\"],[0.1111111111111111,\"#46039f\"],[0.2222222222222222,\"#7201a8\"],[0.3333333333333333,\"#9c179e\"],[0.4444444444444444,\"#bd3786\"],[0.5555555555555556,\"#d8576b\"],[0.6666666666666666,\"#ed7953\"],[0.7777777777777778,\"#fb9f3a\"],[0.8888888888888888,\"#fdca26\"],[1.0,\"#f0f921\"]],\"type\":\"contour\"}],\"heatmapgl\":[{\"colorbar\":{\"outlinewidth\":0,\"ticks\":\"\"},\"colorscale\":[[0.0,\"#0d0887\"],[0.1111111111111111,\"#46039f\"],[0.2222222222222222,\"#7201a8\"],[0.3333333333333333,\"#9c179e\"],[0.4444444444444444,\"#bd3786\"],[0.5555555555555556,\"#d8576b\"],[0.6666666666666666,\"#ed7953\"],[0.7777777777777778,\"#fb9f3a\"],[0.8888888888888888,\"#fdca26\"],[1.0,\"#f0f921\"]],\"type\":\"heatmapgl\"}],\"heatmap\":[{\"colorbar\":{\"outlinewidth\":0,\"ticks\":\"\"},\"colorscale\":[[0.0,\"#0d0887\"],[0.1111111111111111,\"#46039f\"],[0.2222222222222222,\"#7201a8\"],[0.3333333333333333,\"#9c179e\"],[0.4444444444444444,\"#bd3786\"],[0.5555555555555556,\"#d8576b\"],[0.6666666666666666,\"#ed7953\"],[0.7777777777777778,\"#fb9f3a\"],[0.8888888888888888,\"#fdca26\"],[1.0,\"#f0f921\"]],\"type\":\"heatmap\"}],\"histogram2dcontour\":[{\"colorbar\":{\"outlinewidth\":0,\"ticks\":\"\"},\"colorscale\":[[0.0,\"#0d0887\"],[0.1111111111111111,\"#46039f\"],[0.2222222222222222,\"#7201a8\"],[0.3333333333333333,\"#9c179e\"],[0.4444444444444444,\"#bd3786\"],[0.5555555555555556,\"#d8576b\"],[0.6666666666666666,\"#ed7953\"],[0.7777777777777778,\"#fb9f3a\"],[0.8888888888888888,\"#fdca26\"],[1.0,\"#f0f921\"]],\"type\":\"histogram2dcontour\"}],\"histogram2d\":[{\"colorbar\":{\"outlinewidth\":0,\"ticks\":\"\"},\"colorscale\":[[0.0,\"#0d0887\"],[0.1111111111111111,\"#46039f\"],[0.2222222222222222,\"#7201a8\"],[0.3333333333333333,\"#9c179e\"],[0.4444444444444444,\"#bd3786\"],[0.5555555555555556,\"#d8576b\"],[0.6666666666666666,\"#ed7953\"],[0.7777777777777778,\"#fb9f3a\"],[0.8888888888888888,\"#fdca26\"],[1.0,\"#f0f921\"]],\"type\":\"histogram2d\"}],\"histogram\":[{\"marker\":{\"pattern\":{\"fillmode\":\"overlay\",\"size\":10,\"solidity\":0.2}},\"type\":\"histogram\"}],\"mesh3d\":[{\"colorbar\":{\"outlinewidth\":0,\"ticks\":\"\"},\"type\":\"mesh3d\"}],\"parcoords\":[{\"line\":{\"colorbar\":{\"outlinewidth\":0,\"ticks\":\"\"}},\"type\":\"parcoords\"}],\"pie\":[{\"automargin\":true,\"type\":\"pie\"}],\"scatter3d\":[{\"line\":{\"colorbar\":{\"outlinewidth\":0,\"ticks\":\"\"}},\"marker\":{\"colorbar\":{\"outlinewidth\":0,\"ticks\":\"\"}},\"type\":\"scatter3d\"}],\"scattercarpet\":[{\"marker\":{\"colorbar\":{\"outlinewidth\":0,\"ticks\":\"\"}},\"type\":\"scattercarpet\"}],\"scattergeo\":[{\"marker\":{\"colorbar\":{\"outlinewidth\":0,\"ticks\":\"\"}},\"type\":\"scattergeo\"}],\"scattergl\":[{\"marker\":{\"colorbar\":{\"outlinewidth\":0,\"ticks\":\"\"}},\"type\":\"scattergl\"}],\"scattermapbox\":[{\"marker\":{\"colorbar\":{\"outlinewidth\":0,\"ticks\":\"\"}},\"type\":\"scattermapbox\"}],\"scatterpolargl\":[{\"marker\":{\"colorbar\":{\"outlinewidth\":0,\"ticks\":\"\"}},\"type\":\"scatterpolargl\"}],\"scatterpolar\":[{\"marker\":{\"colorbar\":{\"outlinewidth\":0,\"ticks\":\"\"}},\"type\":\"scatterpolar\"}],\"scatter\":[{\"fillpattern\":{\"fillmode\":\"overlay\",\"size\":10,\"solidity\":0.2},\"type\":\"scatter\"}],\"scatterternary\":[{\"marker\":{\"colorbar\":{\"outlinewidth\":0,\"ticks\":\"\"}},\"type\":\"scatterternary\"}],\"surface\":[{\"colorbar\":{\"outlinewidth\":0,\"ticks\":\"\"},\"colorscale\":[[0.0,\"#0d0887\"],[0.1111111111111111,\"#46039f\"],[0.2222222222222222,\"#7201a8\"],[0.3333333333333333,\"#9c179e\"],[0.4444444444444444,\"#bd3786\"],[0.5555555555555556,\"#d8576b\"],[0.6666666666666666,\"#ed7953\"],[0.7777777777777778,\"#fb9f3a\"],[0.8888888888888888,\"#fdca26\"],[1.0,\"#f0f921\"]],\"type\":\"surface\"}],\"table\":[{\"cells\":{\"fill\":{\"color\":\"#EBF0F8\"},\"line\":{\"color\":\"white\"}},\"header\":{\"fill\":{\"color\":\"#C8D4E3\"},\"line\":{\"color\":\"white\"}},\"type\":\"table\"}]},\"layout\":{\"annotationdefaults\":{\"arrowcolor\":\"#2a3f5f\",\"arrowhead\":0,\"arrowwidth\":1},\"autotypenumbers\":\"strict\",\"coloraxis\":{\"colorbar\":{\"outlinewidth\":0,\"ticks\":\"\"}},\"colorscale\":{\"diverging\":[[0,\"#8e0152\"],[0.1,\"#c51b7d\"],[0.2,\"#de77ae\"],[0.3,\"#f1b6da\"],[0.4,\"#fde0ef\"],[0.5,\"#f7f7f7\"],[0.6,\"#e6f5d0\"],[0.7,\"#b8e186\"],[0.8,\"#7fbc41\"],[0.9,\"#4d9221\"],[1,\"#276419\"]],\"sequential\":[[0.0,\"#0d0887\"],[0.1111111111111111,\"#46039f\"],[0.2222222222222222,\"#7201a8\"],[0.3333333333333333,\"#9c179e\"],[0.4444444444444444,\"#bd3786\"],[0.5555555555555556,\"#d8576b\"],[0.6666666666666666,\"#ed7953\"],[0.7777777777777778,\"#fb9f3a\"],[0.8888888888888888,\"#fdca26\"],[1.0,\"#f0f921\"]],\"sequentialminus\":[[0.0,\"#0d0887\"],[0.1111111111111111,\"#46039f\"],[0.2222222222222222,\"#7201a8\"],[0.3333333333333333,\"#9c179e\"],[0.4444444444444444,\"#bd3786\"],[0.5555555555555556,\"#d8576b\"],[0.6666666666666666,\"#ed7953\"],[0.7777777777777778,\"#fb9f3a\"],[0.8888888888888888,\"#fdca26\"],[1.0,\"#f0f921\"]]},\"colorway\":[\"#636efa\",\"#EF553B\",\"#00cc96\",\"#ab63fa\",\"#FFA15A\",\"#19d3f3\",\"#FF6692\",\"#B6E880\",\"#FF97FF\",\"#FECB52\"],\"font\":{\"color\":\"#2a3f5f\"},\"geo\":{\"bgcolor\":\"white\",\"lakecolor\":\"white\",\"landcolor\":\"#E5ECF6\",\"showlakes\":true,\"showland\":true,\"subunitcolor\":\"white\"},\"hoverlabel\":{\"align\":\"left\"},\"hovermode\":\"closest\",\"mapbox\":{\"style\":\"light\"},\"paper_bgcolor\":\"white\",\"plot_bgcolor\":\"#E5ECF6\",\"polar\":{\"angularaxis\":{\"gridcolor\":\"white\",\"linecolor\":\"white\",\"ticks\":\"\"},\"bgcolor\":\"#E5ECF6\",\"radialaxis\":{\"gridcolor\":\"white\",\"linecolor\":\"white\",\"ticks\":\"\"}},\"scene\":{\"xaxis\":{\"backgroundcolor\":\"#E5ECF6\",\"gridcolor\":\"white\",\"gridwidth\":2,\"linecolor\":\"white\",\"showbackground\":true,\"ticks\":\"\",\"zerolinecolor\":\"white\"},\"yaxis\":{\"backgroundcolor\":\"#E5ECF6\",\"gridcolor\":\"white\",\"gridwidth\":2,\"linecolor\":\"white\",\"showbackground\":true,\"ticks\":\"\",\"zerolinecolor\":\"white\"},\"zaxis\":{\"backgroundcolor\":\"#E5ECF6\",\"gridcolor\":\"white\",\"gridwidth\":2,\"linecolor\":\"white\",\"showbackground\":true,\"ticks\":\"\",\"zerolinecolor\":\"white\"}},\"shapedefaults\":{\"line\":{\"color\":\"#2a3f5f\"}},\"ternary\":{\"aaxis\":{\"gridcolor\":\"white\",\"linecolor\":\"white\",\"ticks\":\"\"},\"baxis\":{\"gridcolor\":\"white\",\"linecolor\":\"white\",\"ticks\":\"\"},\"bgcolor\":\"#E5ECF6\",\"caxis\":{\"gridcolor\":\"white\",\"linecolor\":\"white\",\"ticks\":\"\"}},\"title\":{\"x\":0.05},\"xaxis\":{\"automargin\":true,\"gridcolor\":\"white\",\"linecolor\":\"white\",\"ticks\":\"\",\"title\":{\"standoff\":15},\"zerolinecolor\":\"white\",\"zerolinewidth\":2},\"yaxis\":{\"automargin\":true,\"gridcolor\":\"white\",\"linecolor\":\"white\",\"ticks\":\"\",\"title\":{\"standoff\":15},\"zerolinecolor\":\"white\",\"zerolinewidth\":2}}},\"title\":{\"text\":\"Distribution of Unemployment Data\"},\"xaxis\":{\"title\":{\"text\":\"Year\"}},\"yaxis\":{\"autorange\":true,\"dtick\":5,\"gridcolor\":\"rgb(255, 255, 255)\",\"gridwidth\":1,\"showgrid\":true,\"title\":{\"text\":\"Unemployment Rate (%)\"},\"zeroline\":false}},                        {\"responsive\": true}                    ).then(function(){\n",
       "                            \n",
       "var gd = document.getElementById('df185e4c-1224-42cb-9f54-e1f08ef90370');\n",
       "var x = new MutationObserver(function (mutations, observer) {{\n",
       "        var display = window.getComputedStyle(gd).display;\n",
       "        if (!display || display === 'none') {{\n",
       "            console.log([gd, 'removed!']);\n",
       "            Plotly.purge(gd);\n",
       "            observer.disconnect();\n",
       "        }}\n",
       "}});\n",
       "\n",
       "// Listen for the removal of the full notebook cells\n",
       "var notebookContainer = gd.closest('#notebook-container');\n",
       "if (notebookContainer) {{\n",
       "    x.observe(notebookContainer, {childList: true});\n",
       "}}\n",
       "\n",
       "// Listen for the clearing of the current output cell\n",
       "var outputEl = gd.closest('.output');\n",
       "if (outputEl) {{\n",
       "    x.observe(outputEl, {childList: true});\n",
       "}}\n",
       "\n",
       "                        })                };                });            </script>        </div>"
      ]
     },
     "metadata": {},
     "output_type": "display_data"
    }
   ],
   "source": [
    "x_data = ['2010', '2011', '2012', '2013', '2014']\n",
    "y_data = [data_country['2010'], data_country['2011'], data_country['2012'], data_country['2013'], data_country['2014']]\n",
    "\n",
    "colors = ['rgba(93, 164, 214, 0.5)', 'rgba(255, 144, 14, 0.5)', 'rgba(44, 160, 101, 0.5)', 'rgba(255, 65, 54, 0.5)', 'rgba(207, 114, 255, 0.5)']\n",
    "\n",
    "traces = []\n",
    "\n",
    "for xd, yd, color in zip(x_data, y_data, colors):\n",
    "    traces.append(go.Box(y=yd, name=xd, boxpoints='all', whiskerwidth=0.2, fillcolor=color, marker=dict(size=2, ), boxmean=True, line=dict(width=1),))\n",
    "\n",
    "layout = go.Layout(\n",
    "    title='Distribution of Unemployment Data',\n",
    "    xaxis=dict(title='Year'),yaxis=dict(title='Unemployment Rate (%)', autorange=True, showgrid=True, zeroline=False, dtick=5, gridcolor='rgb(255, 255, 255)', gridwidth=1),\n",
    "    margin=dict(l=40, r=30, b=80, t=100,),\n",
    "    paper_bgcolor='rgb(243, 243, 243)',\n",
    "    plot_bgcolor='rgb(243, 243, 243)',\n",
    "    showlegend=False)\n",
    "\n",
    "fig = go.Figure(data=traces, layout=layout)\n",
    "py.iplot(fig)"
   ]
  },
  {
   "cell_type": "markdown",
   "id": "cloudy-drunk",
   "metadata": {},
   "source": [
    "We can better understand the data if we use a box plot and scatter plot together. There is a clear trend in the data over time, with a mean of 18.285 percent from 2010 to 2014 and a range of 18.2546 percent. statistical plots such as box plots, scatter plots, etc. of data from certain countries and getting a fast look at how different countries compare against one another in terms of statistical analysis."
   ]
  },
  {
   "cell_type": "markdown",
   "id": "ancient-stations",
   "metadata": {},
   "source": [
    "#### Comparison of the countries having unemployment rate"
   ]
  },
  {
   "cell_type": "code",
   "execution_count": 16,
   "id": "trying-store",
   "metadata": {},
   "outputs": [
    {
     "data": {
      "application/vnd.plotly.v1+json": {
       "config": {
        "linkText": "Export to plot.ly",
        "plotlyServerURL": "https://plot.ly",
        "showLink": false
       },
       "data": [
        {
         "marker": {
          "color": [
           20.6000003815,
           10.8000001907,
           25.7999992371,
           9.8000001907,
           19.5,
           38.2999992371,
           11.3999996185,
           8.8000001907,
           14.6000003815,
           10.8000001907,
           22.5,
           2,
           5.1999998093,
           8.1999998093,
           22.8999996185,
           10.1999998093,
           36,
           57.2000007629,
           13.1999998093,
           20.8999996185,
           6,
           17.2000007629,
           25.2999992371,
           10.8999996185,
           8.3999996185,
           33,
           10.8000001907,
           14.8000001907,
           7.6999998093,
           18.6000003815,
           9,
           6.1999998093,
           6.4000000954,
           10.6000003815,
           24.2999992371,
           10.6000003815,
           18.2000007629,
           17,
           6.0999999046,
           16,
           18.5,
           9.6999998093,
           14.1000003815,
           25.2999992371,
           22.2000007629,
           11.3000001907,
           26.2999992371,
           10.8000001907,
           42.5,
           33.2999992371,
           7.4000000954,
           20.3999996185,
           20.1000003815,
           22.6000003815,
           34.5,
           19.6000003815,
           36.7999992371,
           11.3999996185,
           1.8999999762,
           10.6999998093,
           10.6999998093,
           10.8000001907,
           32.4000015259,
           5.6999998093,
           23.2999992371,
           12.1000003815,
           9.1000003815,
           33.5,
           19.2999992371,
           26.6000003815,
           25,
           10.1999998093,
           28,
           28.3999996185,
           32.2999992371,
           16.1000003815,
           13.6000003815,
           27.7999992371,
           30,
           30.1000003815,
           9.1000003815,
           6,
           17.1000003815,
           16.6000003815,
           0.8999999762,
           9.6999998093,
           10.6000003815,
           3.2000000477,
           20.8999996185,
           5,
           43.7999992371,
           18.7999992371,
           35.5999984741,
           35.2000007629,
           14.5,
           34.9000015259,
           5.3000001907,
           17.7000007629,
           17.7000007629,
           6.1999998093,
           25.3999996185,
           9.3999996185,
           53.7000007629,
           10.3000001907,
           13.1999998093,
           9.3999996185,
           46,
           14.1000003815,
           40.7000007629,
           46.7000007629,
           23.1000003815,
           13.8000001907,
           11,
           44.0999984741,
           7.1999998093,
           13.8000001907,
           12.3000001907,
           8.8000001907,
           9.1999998093,
           4,
           17,
           19.2999992371,
           8.1999998093,
           14.8999996185,
           9,
           16.7999992371,
           5.4000000954,
           23.3999996185,
           30.6000003815,
           10.1999998093,
           22.2999992371,
           11.8999996185,
           1.5,
           22.2999992371,
           16.7999992371,
           0.6999999881,
           29.7999992371,
           22.7999992371,
           13,
           9.8999996185,
           9.1000003815,
           5.0999999046,
           13,
           10.5,
           45.5,
           20.7000007629,
           33.7000007629,
           14.6000003815,
           25.2000007629,
           42,
           19.2999992371,
           10.3999996185,
           10.8000001907,
           4,
           17.2999992371,
           20.6000003815,
           13.1000003815,
           14,
           29.3999996185,
           21.2000007629,
           5.5999999046,
           7.4000000954,
           17.3999996185,
           20.7999992371,
           18.7000007629,
           20.6000003815,
           17.5,
           6.0999999046,
           37.7000007629,
           30.2999992371,
           50.7999992371,
           12.3000001907,
           26.3999996185,
           9.6000003815
          ],
          "colorscale": [
           [
            0,
            "rgb(12,51,131)"
           ],
           [
            0.25,
            "rgb(10,136,186)"
           ],
           [
            0.5,
            "rgb(242,211,56)"
           ],
           [
            0.75,
            "rgb(242,143,56)"
           ],
           [
            1,
            "rgb(217,30,30)"
           ]
          ],
          "line": {
           "width": 1
          },
          "opacity": 0.7,
          "showscale": true,
          "size": [
           20.6000003815,
           10.8000001907,
           25.7999992371,
           9.8000001907,
           19.5,
           38.2999992371,
           11.3999996185,
           8.8000001907,
           14.6000003815,
           10.8000001907,
           22.5,
           2,
           5.1999998093,
           8.1999998093,
           22.8999996185,
           10.1999998093,
           36,
           57.2000007629,
           13.1999998093,
           20.8999996185,
           6,
           17.2000007629,
           25.2999992371,
           10.8999996185,
           8.3999996185,
           33,
           10.8000001907,
           14.8000001907,
           7.6999998093,
           18.6000003815,
           9,
           6.1999998093,
           6.4000000954,
           10.6000003815,
           24.2999992371,
           10.6000003815,
           18.2000007629,
           17,
           6.0999999046,
           16,
           18.5,
           9.6999998093,
           14.1000003815,
           25.2999992371,
           22.2000007629,
           11.3000001907,
           26.2999992371,
           10.8000001907,
           42.5,
           33.2999992371,
           7.4000000954,
           20.3999996185,
           20.1000003815,
           22.6000003815,
           34.5,
           19.6000003815,
           36.7999992371,
           11.3999996185,
           1.8999999762,
           10.6999998093,
           10.6999998093,
           10.8000001907,
           32.4000015259,
           5.6999998093,
           23.2999992371,
           12.1000003815,
           9.1000003815,
           33.5,
           19.2999992371,
           26.6000003815,
           25,
           10.1999998093,
           28,
           28.3999996185,
           32.2999992371,
           16.1000003815,
           13.6000003815,
           27.7999992371,
           30,
           30.1000003815,
           9.1000003815,
           6,
           17.1000003815,
           16.6000003815,
           0.8999999762,
           9.6999998093,
           10.6000003815,
           3.2000000477,
           20.8999996185,
           5,
           43.7999992371,
           18.7999992371,
           35.5999984741,
           35.2000007629,
           14.5,
           34.9000015259,
           5.3000001907,
           17.7000007629,
           17.7000007629,
           6.1999998093,
           25.3999996185,
           9.3999996185,
           53.7000007629,
           10.3000001907,
           13.1999998093,
           9.3999996185,
           46,
           14.1000003815,
           40.7000007629,
           46.7000007629,
           23.1000003815,
           13.8000001907,
           11,
           44.0999984741,
           7.1999998093,
           13.8000001907,
           12.3000001907,
           8.8000001907,
           9.1999998093,
           4,
           17,
           19.2999992371,
           8.1999998093,
           14.8999996185,
           9,
           16.7999992371,
           5.4000000954,
           23.3999996185,
           30.6000003815,
           10.1999998093,
           22.2999992371,
           11.8999996185,
           1.5,
           22.2999992371,
           16.7999992371,
           0.6999999881,
           29.7999992371,
           22.7999992371,
           13,
           9.8999996185,
           9.1000003815,
           5.0999999046,
           13,
           10.5,
           45.5,
           20.7000007629,
           33.7000007629,
           14.6000003815,
           25.2000007629,
           42,
           19.2999992371,
           10.3999996185,
           10.8000001907,
           4,
           17.2999992371,
           20.6000003815,
           13.1000003815,
           14,
           29.3999996185,
           21.2000007629,
           5.5999999046,
           7.4000000954,
           17.3999996185,
           20.7999992371,
           18.7000007629,
           20.6000003815,
           17.5,
           6.0999999046,
           37.7000007629,
           30.2999992371,
           50.7999992371,
           12.3000001907,
           26.3999996185,
           9.6000003815
          ]
         },
         "mode": "markers",
         "name": "Unemployment (%)",
         "text": [
          "Afghanistan",
          "Angola",
          "Albania",
          "United Arab Emirates",
          "Argentina",
          "Armenia",
          "Australia",
          "Austria",
          "Azerbaijan",
          "Burundi",
          "Belgium",
          "Benin",
          "Burkina Faso",
          "Bangladesh",
          "Bulgaria",
          "Bahrain",
          "Bahamas, The",
          "Bosnia and Herzegovina",
          "Belarus",
          "Belize",
          "Bolivia",
          "Brazil",
          "Barbados",
          "Brunei Darussalam",
          "Bhutan",
          "Botswana",
          "Central African Republic",
          "Canada",
          "Switzerland",
          "Chile",
          "China",
          "Cote d'Ivoire",
          "Cameroon",
          "Congo, Rep.",
          "Colombia",
          "Comoros",
          "Cabo Verde",
          "Costa Rica",
          "Cuba",
          "Cyprus",
          "Czech Republic",
          "Germany",
          "Denmark",
          "Dominican Republic",
          "Algeria",
          "Ecuador",
          "Egypt, Arab Rep.",
          "Eritrea",
          "Spain",
          "Estonia",
          "Ethiopia",
          "Finland",
          "Fiji",
          "France",
          "Gabon",
          "United Kingdom",
          "Georgia",
          "Ghana",
          "Guinea",
          "Gambia, The",
          "Guinea-Bissau",
          "Equatorial Guinea",
          "Greece",
          "Guatemala",
          "Guyana",
          "Hong Kong SAR, China",
          "Honduras",
          "Croatia",
          "Haiti",
          "Hungary",
          "Indonesia",
          "India",
          "Ireland",
          "Iran, Islamic Rep.",
          "Iraq",
          "Iceland",
          "Israel",
          "Italy",
          "Jamaica",
          "Jordan",
          "Japan",
          "Kazakhstan",
          "Kenya",
          "Kyrgyz Republic",
          "Cambodia",
          "Korea, Rep.",
          "Kuwait",
          "Lao PDR",
          "Lebanon",
          "Liberia",
          "Libya",
          "Sri Lanka",
          "Lesotho",
          "Lithuania",
          "Luxembourg",
          "Latvia",
          "Macao SAR, China",
          "Morocco",
          "Moldova",
          "Madagascar",
          "Maldives",
          "Mexico",
          "Macedonia, FYR",
          "Mali",
          "Malta",
          "Myanmar",
          "Montenegro",
          "Mongolia",
          "Mozambique",
          "Mauritania",
          "Mauritius",
          "Malawi",
          "Malaysia",
          "Namibia",
          "Niger",
          "Nigeria",
          "Nicaragua",
          "Netherlands",
          "Norway",
          "Nepal",
          "New Zealand",
          "Oman",
          "Pakistan",
          "Panama",
          "Peru",
          "Philippines",
          "Papua New Guinea",
          "Poland",
          "Puerto Rico",
          "Korea, Dem. People’s Rep.",
          "Portugal",
          "Paraguay",
          "Qatar",
          "Romania",
          "Russian Federation",
          "Rwanda",
          "Saudi Arabia",
          "Sudan",
          "Senegal",
          "Singapore",
          "Solomon Islands",
          "Sierra Leone",
          "El Salvador",
          "Somalia",
          "Serbia",
          "Suriname",
          "Slovak Republic",
          "Slovenia",
          "Sweden",
          "Swaziland",
          "Syrian Arab Republic",
          "Chad",
          "Togo",
          "Thailand",
          "Tajikistan",
          "Turkmenistan",
          "Timor-Leste",
          "Trinidad and Tobago",
          "Tunisia",
          "Turkey",
          "Tanzania",
          "Uganda",
          "Ukraine",
          "Uruguay",
          "United States",
          "Uzbekistan",
          "Venezuela, RB",
          "Vietnam",
          "West Bank and Gaza",
          "Yemen, Rep.",
          "South Africa",
          "Congo, Dem. Rep.",
          "Zambia",
          "Zimbabwe"
         ],
         "type": "scatter",
         "y": [
          20.6000003815,
          10.8000001907,
          25.7999992371,
          9.8000001907,
          19.5,
          38.2999992371,
          11.3999996185,
          8.8000001907,
          14.6000003815,
          10.8000001907,
          22.5,
          2,
          5.1999998093,
          8.1999998093,
          22.8999996185,
          10.1999998093,
          36,
          57.2000007629,
          13.1999998093,
          20.8999996185,
          6,
          17.2000007629,
          25.2999992371,
          10.8999996185,
          8.3999996185,
          33,
          10.8000001907,
          14.8000001907,
          7.6999998093,
          18.6000003815,
          9,
          6.1999998093,
          6.4000000954,
          10.6000003815,
          24.2999992371,
          10.6000003815,
          18.2000007629,
          17,
          6.0999999046,
          16,
          18.5,
          9.6999998093,
          14.1000003815,
          25.2999992371,
          22.2000007629,
          11.3000001907,
          26.2999992371,
          10.8000001907,
          42.5,
          33.2999992371,
          7.4000000954,
          20.3999996185,
          20.1000003815,
          22.6000003815,
          34.5,
          19.6000003815,
          36.7999992371,
          11.3999996185,
          1.8999999762,
          10.6999998093,
          10.6999998093,
          10.8000001907,
          32.4000015259,
          5.6999998093,
          23.2999992371,
          12.1000003815,
          9.1000003815,
          33.5,
          19.2999992371,
          26.6000003815,
          25,
          10.1999998093,
          28,
          28.3999996185,
          32.2999992371,
          16.1000003815,
          13.6000003815,
          27.7999992371,
          30,
          30.1000003815,
          9.1000003815,
          6,
          17.1000003815,
          16.6000003815,
          0.8999999762,
          9.6999998093,
          10.6000003815,
          3.2000000477,
          20.8999996185,
          5,
          43.7999992371,
          18.7999992371,
          35.5999984741,
          35.2000007629,
          14.5,
          34.9000015259,
          5.3000001907,
          17.7000007629,
          17.7000007629,
          6.1999998093,
          25.3999996185,
          9.3999996185,
          53.7000007629,
          10.3000001907,
          13.1999998093,
          9.3999996185,
          46,
          14.1000003815,
          40.7000007629,
          46.7000007629,
          23.1000003815,
          13.8000001907,
          11,
          44.0999984741,
          7.1999998093,
          13.8000001907,
          12.3000001907,
          8.8000001907,
          9.1999998093,
          4,
          17,
          19.2999992371,
          8.1999998093,
          14.8999996185,
          9,
          16.7999992371,
          5.4000000954,
          23.3999996185,
          30.6000003815,
          10.1999998093,
          22.2999992371,
          11.8999996185,
          1.5,
          22.2999992371,
          16.7999992371,
          0.6999999881,
          29.7999992371,
          22.7999992371,
          13,
          9.8999996185,
          9.1000003815,
          5.0999999046,
          13,
          10.5,
          45.5,
          20.7000007629,
          33.7000007629,
          14.6000003815,
          25.2000007629,
          42,
          19.2999992371,
          10.3999996185,
          10.8000001907,
          4,
          17.2999992371,
          20.6000003815,
          13.1000003815,
          14,
          29.3999996185,
          21.2000007629,
          5.5999999046,
          7.4000000954,
          17.3999996185,
          20.7999992371,
          18.7000007629,
          20.6000003815,
          17.5,
          6.0999999046,
          37.7000007629,
          30.2999992371,
          50.7999992371,
          12.3000001907,
          26.3999996185,
          9.6000003815
         ]
        }
       ],
       "layout": {
        "hovermode": "closest",
        "showlegend": false,
        "template": {
         "data": {
          "bar": [
           {
            "error_x": {
             "color": "#2a3f5f"
            },
            "error_y": {
             "color": "#2a3f5f"
            },
            "marker": {
             "line": {
              "color": "#E5ECF6",
              "width": 0.5
             },
             "pattern": {
              "fillmode": "overlay",
              "size": 10,
              "solidity": 0.2
             }
            },
            "type": "bar"
           }
          ],
          "barpolar": [
           {
            "marker": {
             "line": {
              "color": "#E5ECF6",
              "width": 0.5
             },
             "pattern": {
              "fillmode": "overlay",
              "size": 10,
              "solidity": 0.2
             }
            },
            "type": "barpolar"
           }
          ],
          "carpet": [
           {
            "aaxis": {
             "endlinecolor": "#2a3f5f",
             "gridcolor": "white",
             "linecolor": "white",
             "minorgridcolor": "white",
             "startlinecolor": "#2a3f5f"
            },
            "baxis": {
             "endlinecolor": "#2a3f5f",
             "gridcolor": "white",
             "linecolor": "white",
             "minorgridcolor": "white",
             "startlinecolor": "#2a3f5f"
            },
            "type": "carpet"
           }
          ],
          "choropleth": [
           {
            "colorbar": {
             "outlinewidth": 0,
             "ticks": ""
            },
            "type": "choropleth"
           }
          ],
          "contour": [
           {
            "colorbar": {
             "outlinewidth": 0,
             "ticks": ""
            },
            "colorscale": [
             [
              0,
              "#0d0887"
             ],
             [
              0.1111111111111111,
              "#46039f"
             ],
             [
              0.2222222222222222,
              "#7201a8"
             ],
             [
              0.3333333333333333,
              "#9c179e"
             ],
             [
              0.4444444444444444,
              "#bd3786"
             ],
             [
              0.5555555555555556,
              "#d8576b"
             ],
             [
              0.6666666666666666,
              "#ed7953"
             ],
             [
              0.7777777777777778,
              "#fb9f3a"
             ],
             [
              0.8888888888888888,
              "#fdca26"
             ],
             [
              1,
              "#f0f921"
             ]
            ],
            "type": "contour"
           }
          ],
          "contourcarpet": [
           {
            "colorbar": {
             "outlinewidth": 0,
             "ticks": ""
            },
            "type": "contourcarpet"
           }
          ],
          "heatmap": [
           {
            "colorbar": {
             "outlinewidth": 0,
             "ticks": ""
            },
            "colorscale": [
             [
              0,
              "#0d0887"
             ],
             [
              0.1111111111111111,
              "#46039f"
             ],
             [
              0.2222222222222222,
              "#7201a8"
             ],
             [
              0.3333333333333333,
              "#9c179e"
             ],
             [
              0.4444444444444444,
              "#bd3786"
             ],
             [
              0.5555555555555556,
              "#d8576b"
             ],
             [
              0.6666666666666666,
              "#ed7953"
             ],
             [
              0.7777777777777778,
              "#fb9f3a"
             ],
             [
              0.8888888888888888,
              "#fdca26"
             ],
             [
              1,
              "#f0f921"
             ]
            ],
            "type": "heatmap"
           }
          ],
          "heatmapgl": [
           {
            "colorbar": {
             "outlinewidth": 0,
             "ticks": ""
            },
            "colorscale": [
             [
              0,
              "#0d0887"
             ],
             [
              0.1111111111111111,
              "#46039f"
             ],
             [
              0.2222222222222222,
              "#7201a8"
             ],
             [
              0.3333333333333333,
              "#9c179e"
             ],
             [
              0.4444444444444444,
              "#bd3786"
             ],
             [
              0.5555555555555556,
              "#d8576b"
             ],
             [
              0.6666666666666666,
              "#ed7953"
             ],
             [
              0.7777777777777778,
              "#fb9f3a"
             ],
             [
              0.8888888888888888,
              "#fdca26"
             ],
             [
              1,
              "#f0f921"
             ]
            ],
            "type": "heatmapgl"
           }
          ],
          "histogram": [
           {
            "marker": {
             "pattern": {
              "fillmode": "overlay",
              "size": 10,
              "solidity": 0.2
             }
            },
            "type": "histogram"
           }
          ],
          "histogram2d": [
           {
            "colorbar": {
             "outlinewidth": 0,
             "ticks": ""
            },
            "colorscale": [
             [
              0,
              "#0d0887"
             ],
             [
              0.1111111111111111,
              "#46039f"
             ],
             [
              0.2222222222222222,
              "#7201a8"
             ],
             [
              0.3333333333333333,
              "#9c179e"
             ],
             [
              0.4444444444444444,
              "#bd3786"
             ],
             [
              0.5555555555555556,
              "#d8576b"
             ],
             [
              0.6666666666666666,
              "#ed7953"
             ],
             [
              0.7777777777777778,
              "#fb9f3a"
             ],
             [
              0.8888888888888888,
              "#fdca26"
             ],
             [
              1,
              "#f0f921"
             ]
            ],
            "type": "histogram2d"
           }
          ],
          "histogram2dcontour": [
           {
            "colorbar": {
             "outlinewidth": 0,
             "ticks": ""
            },
            "colorscale": [
             [
              0,
              "#0d0887"
             ],
             [
              0.1111111111111111,
              "#46039f"
             ],
             [
              0.2222222222222222,
              "#7201a8"
             ],
             [
              0.3333333333333333,
              "#9c179e"
             ],
             [
              0.4444444444444444,
              "#bd3786"
             ],
             [
              0.5555555555555556,
              "#d8576b"
             ],
             [
              0.6666666666666666,
              "#ed7953"
             ],
             [
              0.7777777777777778,
              "#fb9f3a"
             ],
             [
              0.8888888888888888,
              "#fdca26"
             ],
             [
              1,
              "#f0f921"
             ]
            ],
            "type": "histogram2dcontour"
           }
          ],
          "mesh3d": [
           {
            "colorbar": {
             "outlinewidth": 0,
             "ticks": ""
            },
            "type": "mesh3d"
           }
          ],
          "parcoords": [
           {
            "line": {
             "colorbar": {
              "outlinewidth": 0,
              "ticks": ""
             }
            },
            "type": "parcoords"
           }
          ],
          "pie": [
           {
            "automargin": true,
            "type": "pie"
           }
          ],
          "scatter": [
           {
            "fillpattern": {
             "fillmode": "overlay",
             "size": 10,
             "solidity": 0.2
            },
            "type": "scatter"
           }
          ],
          "scatter3d": [
           {
            "line": {
             "colorbar": {
              "outlinewidth": 0,
              "ticks": ""
             }
            },
            "marker": {
             "colorbar": {
              "outlinewidth": 0,
              "ticks": ""
             }
            },
            "type": "scatter3d"
           }
          ],
          "scattercarpet": [
           {
            "marker": {
             "colorbar": {
              "outlinewidth": 0,
              "ticks": ""
             }
            },
            "type": "scattercarpet"
           }
          ],
          "scattergeo": [
           {
            "marker": {
             "colorbar": {
              "outlinewidth": 0,
              "ticks": ""
             }
            },
            "type": "scattergeo"
           }
          ],
          "scattergl": [
           {
            "marker": {
             "colorbar": {
              "outlinewidth": 0,
              "ticks": ""
             }
            },
            "type": "scattergl"
           }
          ],
          "scattermapbox": [
           {
            "marker": {
             "colorbar": {
              "outlinewidth": 0,
              "ticks": ""
             }
            },
            "type": "scattermapbox"
           }
          ],
          "scatterpolar": [
           {
            "marker": {
             "colorbar": {
              "outlinewidth": 0,
              "ticks": ""
             }
            },
            "type": "scatterpolar"
           }
          ],
          "scatterpolargl": [
           {
            "marker": {
             "colorbar": {
              "outlinewidth": 0,
              "ticks": ""
             }
            },
            "type": "scatterpolargl"
           }
          ],
          "scatterternary": [
           {
            "marker": {
             "colorbar": {
              "outlinewidth": 0,
              "ticks": ""
             }
            },
            "type": "scatterternary"
           }
          ],
          "surface": [
           {
            "colorbar": {
             "outlinewidth": 0,
             "ticks": ""
            },
            "colorscale": [
             [
              0,
              "#0d0887"
             ],
             [
              0.1111111111111111,
              "#46039f"
             ],
             [
              0.2222222222222222,
              "#7201a8"
             ],
             [
              0.3333333333333333,
              "#9c179e"
             ],
             [
              0.4444444444444444,
              "#bd3786"
             ],
             [
              0.5555555555555556,
              "#d8576b"
             ],
             [
              0.6666666666666666,
              "#ed7953"
             ],
             [
              0.7777777777777778,
              "#fb9f3a"
             ],
             [
              0.8888888888888888,
              "#fdca26"
             ],
             [
              1,
              "#f0f921"
             ]
            ],
            "type": "surface"
           }
          ],
          "table": [
           {
            "cells": {
             "fill": {
              "color": "#EBF0F8"
             },
             "line": {
              "color": "white"
             }
            },
            "header": {
             "fill": {
              "color": "#C8D4E3"
             },
             "line": {
              "color": "white"
             }
            },
            "type": "table"
           }
          ]
         },
         "layout": {
          "annotationdefaults": {
           "arrowcolor": "#2a3f5f",
           "arrowhead": 0,
           "arrowwidth": 1
          },
          "autotypenumbers": "strict",
          "coloraxis": {
           "colorbar": {
            "outlinewidth": 0,
            "ticks": ""
           }
          },
          "colorscale": {
           "diverging": [
            [
             0,
             "#8e0152"
            ],
            [
             0.1,
             "#c51b7d"
            ],
            [
             0.2,
             "#de77ae"
            ],
            [
             0.3,
             "#f1b6da"
            ],
            [
             0.4,
             "#fde0ef"
            ],
            [
             0.5,
             "#f7f7f7"
            ],
            [
             0.6,
             "#e6f5d0"
            ],
            [
             0.7,
             "#b8e186"
            ],
            [
             0.8,
             "#7fbc41"
            ],
            [
             0.9,
             "#4d9221"
            ],
            [
             1,
             "#276419"
            ]
           ],
           "sequential": [
            [
             0,
             "#0d0887"
            ],
            [
             0.1111111111111111,
             "#46039f"
            ],
            [
             0.2222222222222222,
             "#7201a8"
            ],
            [
             0.3333333333333333,
             "#9c179e"
            ],
            [
             0.4444444444444444,
             "#bd3786"
            ],
            [
             0.5555555555555556,
             "#d8576b"
            ],
            [
             0.6666666666666666,
             "#ed7953"
            ],
            [
             0.7777777777777778,
             "#fb9f3a"
            ],
            [
             0.8888888888888888,
             "#fdca26"
            ],
            [
             1,
             "#f0f921"
            ]
           ],
           "sequentialminus": [
            [
             0,
             "#0d0887"
            ],
            [
             0.1111111111111111,
             "#46039f"
            ],
            [
             0.2222222222222222,
             "#7201a8"
            ],
            [
             0.3333333333333333,
             "#9c179e"
            ],
            [
             0.4444444444444444,
             "#bd3786"
            ],
            [
             0.5555555555555556,
             "#d8576b"
            ],
            [
             0.6666666666666666,
             "#ed7953"
            ],
            [
             0.7777777777777778,
             "#fb9f3a"
            ],
            [
             0.8888888888888888,
             "#fdca26"
            ],
            [
             1,
             "#f0f921"
            ]
           ]
          },
          "colorway": [
           "#636efa",
           "#EF553B",
           "#00cc96",
           "#ab63fa",
           "#FFA15A",
           "#19d3f3",
           "#FF6692",
           "#B6E880",
           "#FF97FF",
           "#FECB52"
          ],
          "font": {
           "color": "#2a3f5f"
          },
          "geo": {
           "bgcolor": "white",
           "lakecolor": "white",
           "landcolor": "#E5ECF6",
           "showlakes": true,
           "showland": true,
           "subunitcolor": "white"
          },
          "hoverlabel": {
           "align": "left"
          },
          "hovermode": "closest",
          "mapbox": {
           "style": "light"
          },
          "paper_bgcolor": "white",
          "plot_bgcolor": "#E5ECF6",
          "polar": {
           "angularaxis": {
            "gridcolor": "white",
            "linecolor": "white",
            "ticks": ""
           },
           "bgcolor": "#E5ECF6",
           "radialaxis": {
            "gridcolor": "white",
            "linecolor": "white",
            "ticks": ""
           }
          },
          "scene": {
           "xaxis": {
            "backgroundcolor": "#E5ECF6",
            "gridcolor": "white",
            "gridwidth": 2,
            "linecolor": "white",
            "showbackground": true,
            "ticks": "",
            "zerolinecolor": "white"
           },
           "yaxis": {
            "backgroundcolor": "#E5ECF6",
            "gridcolor": "white",
            "gridwidth": 2,
            "linecolor": "white",
            "showbackground": true,
            "ticks": "",
            "zerolinecolor": "white"
           },
           "zaxis": {
            "backgroundcolor": "#E5ECF6",
            "gridcolor": "white",
            "gridwidth": 2,
            "linecolor": "white",
            "showbackground": true,
            "ticks": "",
            "zerolinecolor": "white"
           }
          },
          "shapedefaults": {
           "line": {
            "color": "#2a3f5f"
           }
          },
          "ternary": {
           "aaxis": {
            "gridcolor": "white",
            "linecolor": "white",
            "ticks": ""
           },
           "baxis": {
            "gridcolor": "white",
            "linecolor": "white",
            "ticks": ""
           },
           "bgcolor": "#E5ECF6",
           "caxis": {
            "gridcolor": "white",
            "linecolor": "white",
            "ticks": ""
           }
          },
          "title": {
           "x": 0.05
          },
          "xaxis": {
           "automargin": true,
           "gridcolor": "white",
           "linecolor": "white",
           "ticks": "",
           "title": {
            "standoff": 15
           },
           "zerolinecolor": "white",
           "zerolinewidth": 2
          },
          "yaxis": {
           "automargin": true,
           "gridcolor": "white",
           "linecolor": "white",
           "ticks": "",
           "title": {
            "standoff": 15
           },
           "zerolinecolor": "white",
           "zerolinewidth": 2
          }
         }
        },
        "title": {
         "text": "Scatter plot of unemployment rates in 2010"
        },
        "xaxis": {
         "gridwidth": 2,
         "ticklen": 5,
         "zeroline": false
        },
        "yaxis": {
         "gridwidth": 2,
         "ticklen": 5,
         "title": {
          "text": "Unemployment Rate (%)"
         }
        }
       }
      },
      "text/html": [
       "<div>                            <div id=\"a032eab3-6f84-42d0-bc7a-ea55a1837c88\" class=\"plotly-graph-div\" style=\"height:525px; width:100%;\"></div>            <script type=\"text/javascript\">                require([\"plotly\"], function(Plotly) {                    window.PLOTLYENV=window.PLOTLYENV || {};                                    if (document.getElementById(\"a032eab3-6f84-42d0-bc7a-ea55a1837c88\")) {                    Plotly.newPlot(                        \"a032eab3-6f84-42d0-bc7a-ea55a1837c88\",                        [{\"marker\":{\"color\":[20.6000003815,10.8000001907,25.7999992371,9.8000001907,19.5,38.2999992371,11.3999996185,8.8000001907,14.6000003815,10.8000001907,22.5,2.0,5.1999998093,8.1999998093,22.8999996185,10.1999998093,36.0,57.2000007629,13.1999998093,20.8999996185,6.0,17.2000007629,25.2999992371,10.8999996185,8.3999996185,33.0,10.8000001907,14.8000001907,7.6999998093,18.6000003815,9.0,6.1999998093,6.4000000954,10.6000003815,24.2999992371,10.6000003815,18.2000007629,17.0,6.0999999046,16.0,18.5,9.6999998093,14.1000003815,25.2999992371,22.2000007629,11.3000001907,26.2999992371,10.8000001907,42.5,33.2999992371,7.4000000954,20.3999996185,20.1000003815,22.6000003815,34.5,19.6000003815,36.7999992371,11.3999996185,1.8999999762,10.6999998093,10.6999998093,10.8000001907,32.4000015259,5.6999998093,23.2999992371,12.1000003815,9.1000003815,33.5,19.2999992371,26.6000003815,25.0,10.1999998093,28.0,28.3999996185,32.2999992371,16.1000003815,13.6000003815,27.7999992371,30.0,30.1000003815,9.1000003815,6.0,17.1000003815,16.6000003815,0.8999999762,9.6999998093,10.6000003815,3.2000000477,20.8999996185,5.0,43.7999992371,18.7999992371,35.5999984741,35.2000007629,14.5,34.9000015259,5.3000001907,17.7000007629,17.7000007629,6.1999998093,25.3999996185,9.3999996185,53.7000007629,10.3000001907,13.1999998093,9.3999996185,46.0,14.1000003815,40.7000007629,46.7000007629,23.1000003815,13.8000001907,11.0,44.0999984741,7.1999998093,13.8000001907,12.3000001907,8.8000001907,9.1999998093,4.0,17.0,19.2999992371,8.1999998093,14.8999996185,9.0,16.7999992371,5.4000000954,23.3999996185,30.6000003815,10.1999998093,22.2999992371,11.8999996185,1.5,22.2999992371,16.7999992371,0.6999999881,29.7999992371,22.7999992371,13.0,9.8999996185,9.1000003815,5.0999999046,13.0,10.5,45.5,20.7000007629,33.7000007629,14.6000003815,25.2000007629,42.0,19.2999992371,10.3999996185,10.8000001907,4.0,17.2999992371,20.6000003815,13.1000003815,14.0,29.3999996185,21.2000007629,5.5999999046,7.4000000954,17.3999996185,20.7999992371,18.7000007629,20.6000003815,17.5,6.0999999046,37.7000007629,30.2999992371,50.7999992371,12.3000001907,26.3999996185,9.6000003815],\"colorscale\":[[0.0,\"rgb(12,51,131)\"],[0.25,\"rgb(10,136,186)\"],[0.5,\"rgb(242,211,56)\"],[0.75,\"rgb(242,143,56)\"],[1.0,\"rgb(217,30,30)\"]],\"line\":{\"width\":1},\"opacity\":0.7,\"showscale\":true,\"size\":[20.6000003815,10.8000001907,25.7999992371,9.8000001907,19.5,38.2999992371,11.3999996185,8.8000001907,14.6000003815,10.8000001907,22.5,2.0,5.1999998093,8.1999998093,22.8999996185,10.1999998093,36.0,57.2000007629,13.1999998093,20.8999996185,6.0,17.2000007629,25.2999992371,10.8999996185,8.3999996185,33.0,10.8000001907,14.8000001907,7.6999998093,18.6000003815,9.0,6.1999998093,6.4000000954,10.6000003815,24.2999992371,10.6000003815,18.2000007629,17.0,6.0999999046,16.0,18.5,9.6999998093,14.1000003815,25.2999992371,22.2000007629,11.3000001907,26.2999992371,10.8000001907,42.5,33.2999992371,7.4000000954,20.3999996185,20.1000003815,22.6000003815,34.5,19.6000003815,36.7999992371,11.3999996185,1.8999999762,10.6999998093,10.6999998093,10.8000001907,32.4000015259,5.6999998093,23.2999992371,12.1000003815,9.1000003815,33.5,19.2999992371,26.6000003815,25.0,10.1999998093,28.0,28.3999996185,32.2999992371,16.1000003815,13.6000003815,27.7999992371,30.0,30.1000003815,9.1000003815,6.0,17.1000003815,16.6000003815,0.8999999762,9.6999998093,10.6000003815,3.2000000477,20.8999996185,5.0,43.7999992371,18.7999992371,35.5999984741,35.2000007629,14.5,34.9000015259,5.3000001907,17.7000007629,17.7000007629,6.1999998093,25.3999996185,9.3999996185,53.7000007629,10.3000001907,13.1999998093,9.3999996185,46.0,14.1000003815,40.7000007629,46.7000007629,23.1000003815,13.8000001907,11.0,44.0999984741,7.1999998093,13.8000001907,12.3000001907,8.8000001907,9.1999998093,4.0,17.0,19.2999992371,8.1999998093,14.8999996185,9.0,16.7999992371,5.4000000954,23.3999996185,30.6000003815,10.1999998093,22.2999992371,11.8999996185,1.5,22.2999992371,16.7999992371,0.6999999881,29.7999992371,22.7999992371,13.0,9.8999996185,9.1000003815,5.0999999046,13.0,10.5,45.5,20.7000007629,33.7000007629,14.6000003815,25.2000007629,42.0,19.2999992371,10.3999996185,10.8000001907,4.0,17.2999992371,20.6000003815,13.1000003815,14.0,29.3999996185,21.2000007629,5.5999999046,7.4000000954,17.3999996185,20.7999992371,18.7000007629,20.6000003815,17.5,6.0999999046,37.7000007629,30.2999992371,50.7999992371,12.3000001907,26.3999996185,9.6000003815]},\"mode\":\"markers\",\"name\":\"Unemployment (%)\",\"text\":[\"Afghanistan\",\"Angola\",\"Albania\",\"United Arab Emirates\",\"Argentina\",\"Armenia\",\"Australia\",\"Austria\",\"Azerbaijan\",\"Burundi\",\"Belgium\",\"Benin\",\"Burkina Faso\",\"Bangladesh\",\"Bulgaria\",\"Bahrain\",\"Bahamas, The\",\"Bosnia and Herzegovina\",\"Belarus\",\"Belize\",\"Bolivia\",\"Brazil\",\"Barbados\",\"Brunei Darussalam\",\"Bhutan\",\"Botswana\",\"Central African Republic\",\"Canada\",\"Switzerland\",\"Chile\",\"China\",\"Cote d'Ivoire\",\"Cameroon\",\"Congo, Rep.\",\"Colombia\",\"Comoros\",\"Cabo Verde\",\"Costa Rica\",\"Cuba\",\"Cyprus\",\"Czech Republic\",\"Germany\",\"Denmark\",\"Dominican Republic\",\"Algeria\",\"Ecuador\",\"Egypt, Arab Rep.\",\"Eritrea\",\"Spain\",\"Estonia\",\"Ethiopia\",\"Finland\",\"Fiji\",\"France\",\"Gabon\",\"United Kingdom\",\"Georgia\",\"Ghana\",\"Guinea\",\"Gambia, The\",\"Guinea-Bissau\",\"Equatorial Guinea\",\"Greece\",\"Guatemala\",\"Guyana\",\"Hong Kong SAR, China\",\"Honduras\",\"Croatia\",\"Haiti\",\"Hungary\",\"Indonesia\",\"India\",\"Ireland\",\"Iran, Islamic Rep.\",\"Iraq\",\"Iceland\",\"Israel\",\"Italy\",\"Jamaica\",\"Jordan\",\"Japan\",\"Kazakhstan\",\"Kenya\",\"Kyrgyz Republic\",\"Cambodia\",\"Korea, Rep.\",\"Kuwait\",\"Lao PDR\",\"Lebanon\",\"Liberia\",\"Libya\",\"Sri Lanka\",\"Lesotho\",\"Lithuania\",\"Luxembourg\",\"Latvia\",\"Macao SAR, China\",\"Morocco\",\"Moldova\",\"Madagascar\",\"Maldives\",\"Mexico\",\"Macedonia, FYR\",\"Mali\",\"Malta\",\"Myanmar\",\"Montenegro\",\"Mongolia\",\"Mozambique\",\"Mauritania\",\"Mauritius\",\"Malawi\",\"Malaysia\",\"Namibia\",\"Niger\",\"Nigeria\",\"Nicaragua\",\"Netherlands\",\"Norway\",\"Nepal\",\"New Zealand\",\"Oman\",\"Pakistan\",\"Panama\",\"Peru\",\"Philippines\",\"Papua New Guinea\",\"Poland\",\"Puerto Rico\",\"Korea, Dem. People\\u2019s Rep.\",\"Portugal\",\"Paraguay\",\"Qatar\",\"Romania\",\"Russian Federation\",\"Rwanda\",\"Saudi Arabia\",\"Sudan\",\"Senegal\",\"Singapore\",\"Solomon Islands\",\"Sierra Leone\",\"El Salvador\",\"Somalia\",\"Serbia\",\"Suriname\",\"Slovak Republic\",\"Slovenia\",\"Sweden\",\"Swaziland\",\"Syrian Arab Republic\",\"Chad\",\"Togo\",\"Thailand\",\"Tajikistan\",\"Turkmenistan\",\"Timor-Leste\",\"Trinidad and Tobago\",\"Tunisia\",\"Turkey\",\"Tanzania\",\"Uganda\",\"Ukraine\",\"Uruguay\",\"United States\",\"Uzbekistan\",\"Venezuela, RB\",\"Vietnam\",\"West Bank and Gaza\",\"Yemen, Rep.\",\"South Africa\",\"Congo, Dem. Rep.\",\"Zambia\",\"Zimbabwe\"],\"y\":[20.6000003815,10.8000001907,25.7999992371,9.8000001907,19.5,38.2999992371,11.3999996185,8.8000001907,14.6000003815,10.8000001907,22.5,2.0,5.1999998093,8.1999998093,22.8999996185,10.1999998093,36.0,57.2000007629,13.1999998093,20.8999996185,6.0,17.2000007629,25.2999992371,10.8999996185,8.3999996185,33.0,10.8000001907,14.8000001907,7.6999998093,18.6000003815,9.0,6.1999998093,6.4000000954,10.6000003815,24.2999992371,10.6000003815,18.2000007629,17.0,6.0999999046,16.0,18.5,9.6999998093,14.1000003815,25.2999992371,22.2000007629,11.3000001907,26.2999992371,10.8000001907,42.5,33.2999992371,7.4000000954,20.3999996185,20.1000003815,22.6000003815,34.5,19.6000003815,36.7999992371,11.3999996185,1.8999999762,10.6999998093,10.6999998093,10.8000001907,32.4000015259,5.6999998093,23.2999992371,12.1000003815,9.1000003815,33.5,19.2999992371,26.6000003815,25.0,10.1999998093,28.0,28.3999996185,32.2999992371,16.1000003815,13.6000003815,27.7999992371,30.0,30.1000003815,9.1000003815,6.0,17.1000003815,16.6000003815,0.8999999762,9.6999998093,10.6000003815,3.2000000477,20.8999996185,5.0,43.7999992371,18.7999992371,35.5999984741,35.2000007629,14.5,34.9000015259,5.3000001907,17.7000007629,17.7000007629,6.1999998093,25.3999996185,9.3999996185,53.7000007629,10.3000001907,13.1999998093,9.3999996185,46.0,14.1000003815,40.7000007629,46.7000007629,23.1000003815,13.8000001907,11.0,44.0999984741,7.1999998093,13.8000001907,12.3000001907,8.8000001907,9.1999998093,4.0,17.0,19.2999992371,8.1999998093,14.8999996185,9.0,16.7999992371,5.4000000954,23.3999996185,30.6000003815,10.1999998093,22.2999992371,11.8999996185,1.5,22.2999992371,16.7999992371,0.6999999881,29.7999992371,22.7999992371,13.0,9.8999996185,9.1000003815,5.0999999046,13.0,10.5,45.5,20.7000007629,33.7000007629,14.6000003815,25.2000007629,42.0,19.2999992371,10.3999996185,10.8000001907,4.0,17.2999992371,20.6000003815,13.1000003815,14.0,29.3999996185,21.2000007629,5.5999999046,7.4000000954,17.3999996185,20.7999992371,18.7000007629,20.6000003815,17.5,6.0999999046,37.7000007629,30.2999992371,50.7999992371,12.3000001907,26.3999996185,9.6000003815],\"type\":\"scatter\"}],                        {\"hovermode\":\"closest\",\"showlegend\":false,\"template\":{\"data\":{\"barpolar\":[{\"marker\":{\"line\":{\"color\":\"#E5ECF6\",\"width\":0.5},\"pattern\":{\"fillmode\":\"overlay\",\"size\":10,\"solidity\":0.2}},\"type\":\"barpolar\"}],\"bar\":[{\"error_x\":{\"color\":\"#2a3f5f\"},\"error_y\":{\"color\":\"#2a3f5f\"},\"marker\":{\"line\":{\"color\":\"#E5ECF6\",\"width\":0.5},\"pattern\":{\"fillmode\":\"overlay\",\"size\":10,\"solidity\":0.2}},\"type\":\"bar\"}],\"carpet\":[{\"aaxis\":{\"endlinecolor\":\"#2a3f5f\",\"gridcolor\":\"white\",\"linecolor\":\"white\",\"minorgridcolor\":\"white\",\"startlinecolor\":\"#2a3f5f\"},\"baxis\":{\"endlinecolor\":\"#2a3f5f\",\"gridcolor\":\"white\",\"linecolor\":\"white\",\"minorgridcolor\":\"white\",\"startlinecolor\":\"#2a3f5f\"},\"type\":\"carpet\"}],\"choropleth\":[{\"colorbar\":{\"outlinewidth\":0,\"ticks\":\"\"},\"type\":\"choropleth\"}],\"contourcarpet\":[{\"colorbar\":{\"outlinewidth\":0,\"ticks\":\"\"},\"type\":\"contourcarpet\"}],\"contour\":[{\"colorbar\":{\"outlinewidth\":0,\"ticks\":\"\"},\"colorscale\":[[0.0,\"#0d0887\"],[0.1111111111111111,\"#46039f\"],[0.2222222222222222,\"#7201a8\"],[0.3333333333333333,\"#9c179e\"],[0.4444444444444444,\"#bd3786\"],[0.5555555555555556,\"#d8576b\"],[0.6666666666666666,\"#ed7953\"],[0.7777777777777778,\"#fb9f3a\"],[0.8888888888888888,\"#fdca26\"],[1.0,\"#f0f921\"]],\"type\":\"contour\"}],\"heatmapgl\":[{\"colorbar\":{\"outlinewidth\":0,\"ticks\":\"\"},\"colorscale\":[[0.0,\"#0d0887\"],[0.1111111111111111,\"#46039f\"],[0.2222222222222222,\"#7201a8\"],[0.3333333333333333,\"#9c179e\"],[0.4444444444444444,\"#bd3786\"],[0.5555555555555556,\"#d8576b\"],[0.6666666666666666,\"#ed7953\"],[0.7777777777777778,\"#fb9f3a\"],[0.8888888888888888,\"#fdca26\"],[1.0,\"#f0f921\"]],\"type\":\"heatmapgl\"}],\"heatmap\":[{\"colorbar\":{\"outlinewidth\":0,\"ticks\":\"\"},\"colorscale\":[[0.0,\"#0d0887\"],[0.1111111111111111,\"#46039f\"],[0.2222222222222222,\"#7201a8\"],[0.3333333333333333,\"#9c179e\"],[0.4444444444444444,\"#bd3786\"],[0.5555555555555556,\"#d8576b\"],[0.6666666666666666,\"#ed7953\"],[0.7777777777777778,\"#fb9f3a\"],[0.8888888888888888,\"#fdca26\"],[1.0,\"#f0f921\"]],\"type\":\"heatmap\"}],\"histogram2dcontour\":[{\"colorbar\":{\"outlinewidth\":0,\"ticks\":\"\"},\"colorscale\":[[0.0,\"#0d0887\"],[0.1111111111111111,\"#46039f\"],[0.2222222222222222,\"#7201a8\"],[0.3333333333333333,\"#9c179e\"],[0.4444444444444444,\"#bd3786\"],[0.5555555555555556,\"#d8576b\"],[0.6666666666666666,\"#ed7953\"],[0.7777777777777778,\"#fb9f3a\"],[0.8888888888888888,\"#fdca26\"],[1.0,\"#f0f921\"]],\"type\":\"histogram2dcontour\"}],\"histogram2d\":[{\"colorbar\":{\"outlinewidth\":0,\"ticks\":\"\"},\"colorscale\":[[0.0,\"#0d0887\"],[0.1111111111111111,\"#46039f\"],[0.2222222222222222,\"#7201a8\"],[0.3333333333333333,\"#9c179e\"],[0.4444444444444444,\"#bd3786\"],[0.5555555555555556,\"#d8576b\"],[0.6666666666666666,\"#ed7953\"],[0.7777777777777778,\"#fb9f3a\"],[0.8888888888888888,\"#fdca26\"],[1.0,\"#f0f921\"]],\"type\":\"histogram2d\"}],\"histogram\":[{\"marker\":{\"pattern\":{\"fillmode\":\"overlay\",\"size\":10,\"solidity\":0.2}},\"type\":\"histogram\"}],\"mesh3d\":[{\"colorbar\":{\"outlinewidth\":0,\"ticks\":\"\"},\"type\":\"mesh3d\"}],\"parcoords\":[{\"line\":{\"colorbar\":{\"outlinewidth\":0,\"ticks\":\"\"}},\"type\":\"parcoords\"}],\"pie\":[{\"automargin\":true,\"type\":\"pie\"}],\"scatter3d\":[{\"line\":{\"colorbar\":{\"outlinewidth\":0,\"ticks\":\"\"}},\"marker\":{\"colorbar\":{\"outlinewidth\":0,\"ticks\":\"\"}},\"type\":\"scatter3d\"}],\"scattercarpet\":[{\"marker\":{\"colorbar\":{\"outlinewidth\":0,\"ticks\":\"\"}},\"type\":\"scattercarpet\"}],\"scattergeo\":[{\"marker\":{\"colorbar\":{\"outlinewidth\":0,\"ticks\":\"\"}},\"type\":\"scattergeo\"}],\"scattergl\":[{\"marker\":{\"colorbar\":{\"outlinewidth\":0,\"ticks\":\"\"}},\"type\":\"scattergl\"}],\"scattermapbox\":[{\"marker\":{\"colorbar\":{\"outlinewidth\":0,\"ticks\":\"\"}},\"type\":\"scattermapbox\"}],\"scatterpolargl\":[{\"marker\":{\"colorbar\":{\"outlinewidth\":0,\"ticks\":\"\"}},\"type\":\"scatterpolargl\"}],\"scatterpolar\":[{\"marker\":{\"colorbar\":{\"outlinewidth\":0,\"ticks\":\"\"}},\"type\":\"scatterpolar\"}],\"scatter\":[{\"fillpattern\":{\"fillmode\":\"overlay\",\"size\":10,\"solidity\":0.2},\"type\":\"scatter\"}],\"scatterternary\":[{\"marker\":{\"colorbar\":{\"outlinewidth\":0,\"ticks\":\"\"}},\"type\":\"scatterternary\"}],\"surface\":[{\"colorbar\":{\"outlinewidth\":0,\"ticks\":\"\"},\"colorscale\":[[0.0,\"#0d0887\"],[0.1111111111111111,\"#46039f\"],[0.2222222222222222,\"#7201a8\"],[0.3333333333333333,\"#9c179e\"],[0.4444444444444444,\"#bd3786\"],[0.5555555555555556,\"#d8576b\"],[0.6666666666666666,\"#ed7953\"],[0.7777777777777778,\"#fb9f3a\"],[0.8888888888888888,\"#fdca26\"],[1.0,\"#f0f921\"]],\"type\":\"surface\"}],\"table\":[{\"cells\":{\"fill\":{\"color\":\"#EBF0F8\"},\"line\":{\"color\":\"white\"}},\"header\":{\"fill\":{\"color\":\"#C8D4E3\"},\"line\":{\"color\":\"white\"}},\"type\":\"table\"}]},\"layout\":{\"annotationdefaults\":{\"arrowcolor\":\"#2a3f5f\",\"arrowhead\":0,\"arrowwidth\":1},\"autotypenumbers\":\"strict\",\"coloraxis\":{\"colorbar\":{\"outlinewidth\":0,\"ticks\":\"\"}},\"colorscale\":{\"diverging\":[[0,\"#8e0152\"],[0.1,\"#c51b7d\"],[0.2,\"#de77ae\"],[0.3,\"#f1b6da\"],[0.4,\"#fde0ef\"],[0.5,\"#f7f7f7\"],[0.6,\"#e6f5d0\"],[0.7,\"#b8e186\"],[0.8,\"#7fbc41\"],[0.9,\"#4d9221\"],[1,\"#276419\"]],\"sequential\":[[0.0,\"#0d0887\"],[0.1111111111111111,\"#46039f\"],[0.2222222222222222,\"#7201a8\"],[0.3333333333333333,\"#9c179e\"],[0.4444444444444444,\"#bd3786\"],[0.5555555555555556,\"#d8576b\"],[0.6666666666666666,\"#ed7953\"],[0.7777777777777778,\"#fb9f3a\"],[0.8888888888888888,\"#fdca26\"],[1.0,\"#f0f921\"]],\"sequentialminus\":[[0.0,\"#0d0887\"],[0.1111111111111111,\"#46039f\"],[0.2222222222222222,\"#7201a8\"],[0.3333333333333333,\"#9c179e\"],[0.4444444444444444,\"#bd3786\"],[0.5555555555555556,\"#d8576b\"],[0.6666666666666666,\"#ed7953\"],[0.7777777777777778,\"#fb9f3a\"],[0.8888888888888888,\"#fdca26\"],[1.0,\"#f0f921\"]]},\"colorway\":[\"#636efa\",\"#EF553B\",\"#00cc96\",\"#ab63fa\",\"#FFA15A\",\"#19d3f3\",\"#FF6692\",\"#B6E880\",\"#FF97FF\",\"#FECB52\"],\"font\":{\"color\":\"#2a3f5f\"},\"geo\":{\"bgcolor\":\"white\",\"lakecolor\":\"white\",\"landcolor\":\"#E5ECF6\",\"showlakes\":true,\"showland\":true,\"subunitcolor\":\"white\"},\"hoverlabel\":{\"align\":\"left\"},\"hovermode\":\"closest\",\"mapbox\":{\"style\":\"light\"},\"paper_bgcolor\":\"white\",\"plot_bgcolor\":\"#E5ECF6\",\"polar\":{\"angularaxis\":{\"gridcolor\":\"white\",\"linecolor\":\"white\",\"ticks\":\"\"},\"bgcolor\":\"#E5ECF6\",\"radialaxis\":{\"gridcolor\":\"white\",\"linecolor\":\"white\",\"ticks\":\"\"}},\"scene\":{\"xaxis\":{\"backgroundcolor\":\"#E5ECF6\",\"gridcolor\":\"white\",\"gridwidth\":2,\"linecolor\":\"white\",\"showbackground\":true,\"ticks\":\"\",\"zerolinecolor\":\"white\"},\"yaxis\":{\"backgroundcolor\":\"#E5ECF6\",\"gridcolor\":\"white\",\"gridwidth\":2,\"linecolor\":\"white\",\"showbackground\":true,\"ticks\":\"\",\"zerolinecolor\":\"white\"},\"zaxis\":{\"backgroundcolor\":\"#E5ECF6\",\"gridcolor\":\"white\",\"gridwidth\":2,\"linecolor\":\"white\",\"showbackground\":true,\"ticks\":\"\",\"zerolinecolor\":\"white\"}},\"shapedefaults\":{\"line\":{\"color\":\"#2a3f5f\"}},\"ternary\":{\"aaxis\":{\"gridcolor\":\"white\",\"linecolor\":\"white\",\"ticks\":\"\"},\"baxis\":{\"gridcolor\":\"white\",\"linecolor\":\"white\",\"ticks\":\"\"},\"bgcolor\":\"#E5ECF6\",\"caxis\":{\"gridcolor\":\"white\",\"linecolor\":\"white\",\"ticks\":\"\"}},\"title\":{\"x\":0.05},\"xaxis\":{\"automargin\":true,\"gridcolor\":\"white\",\"linecolor\":\"white\",\"ticks\":\"\",\"title\":{\"standoff\":15},\"zerolinecolor\":\"white\",\"zerolinewidth\":2},\"yaxis\":{\"automargin\":true,\"gridcolor\":\"white\",\"linecolor\":\"white\",\"ticks\":\"\",\"title\":{\"standoff\":15},\"zerolinecolor\":\"white\",\"zerolinewidth\":2}}},\"title\":{\"text\":\"Scatter plot of unemployment rates in 2010\"},\"xaxis\":{\"gridwidth\":2,\"ticklen\":5,\"zeroline\":false},\"yaxis\":{\"gridwidth\":2,\"ticklen\":5,\"title\":{\"text\":\"Unemployment Rate (%)\"}}},                        {\"responsive\": true}                    ).then(function(){\n",
       "                            \n",
       "var gd = document.getElementById('a032eab3-6f84-42d0-bc7a-ea55a1837c88');\n",
       "var x = new MutationObserver(function (mutations, observer) {{\n",
       "        var display = window.getComputedStyle(gd).display;\n",
       "        if (!display || display === 'none') {{\n",
       "            console.log([gd, 'removed!']);\n",
       "            Plotly.purge(gd);\n",
       "            observer.disconnect();\n",
       "        }}\n",
       "}});\n",
       "\n",
       "// Listen for the removal of the full notebook cells\n",
       "var notebookContainer = gd.closest('#notebook-container');\n",
       "if (notebookContainer) {{\n",
       "    x.observe(notebookContainer, {childList: true});\n",
       "}}\n",
       "\n",
       "// Listen for the clearing of the current output cell\n",
       "var outputEl = gd.closest('.output');\n",
       "if (outputEl) {{\n",
       "    x.observe(outputEl, {childList: true});\n",
       "}}\n",
       "\n",
       "                        })                };                });            </script>        </div>"
      ]
     },
     "metadata": {},
     "output_type": "display_data"
    },
    {
     "data": {
      "application/vnd.plotly.v1+json": {
       "config": {
        "linkText": "Export to plot.ly",
        "plotlyServerURL": "https://plot.ly",
        "showLink": false
       },
       "data": [
        {
         "marker": {
          "color": [
           20.8999996185,
           10.6999998093,
           27,
           9.8000001907,
           18.7999992371,
           38.7000007629,
           11.3999996185,
           8.1999998093,
           14.5,
           10.8000001907,
           18.6000003815,
           2,
           5.3000001907,
           8.1999998093,
           25.2000007629,
           11.3999996185,
           27.2000007629,
           57.0999984741,
           12.5,
           24.2999992371,
           5.5,
           15.1999998093,
           25.5,
           10.8999996185,
           8.3999996185,
           33.2000007629,
           10.8000001907,
           14.1000003815,
           7.5999999046,
           17.6000003815,
           9.3000001907,
           6.3000001907,
           6.4000000954,
           10.8000001907,
           23.2000007629,
           10.6000003815,
           18.1000003815,
           17,
           6.6999998093,
           21.3999996185,
           17.8999996185,
           8.3999996185,
           14.3000001907,
           30,
           22.5,
           10.6999998093,
           33.9000015259,
           10.6000003815,
           47.0999984741,
           22.6000003815,
           7.5,
           18.8999996185,
           20.1000003815,
           21.8999996185,
           34.5,
           20.1000003815,
           36.5999984741,
           9.3999996185,
           1.3999999762,
           11.1000003815,
           10.6000003815,
           10.6000003815,
           44.0999984741,
           7.4000000954,
           22.8999996185,
           9.1999998093,
           8.3000001907,
           36.5999984741,
           16.7000007629,
           26,
           21.3999996185,
           10.3000001907,
           29.1000003815,
           28.3999996185,
           32.4000015259,
           14.6000003815,
           11.6000003815,
           29.1000003815,
           29.5,
           31.6000003815,
           8,
           5.3000001907,
           17.1000003815,
           15.8999996185,
           0.6999999881,
           9.6999998093,
           21.6000003815,
           3.2000000477,
           20.7999992371,
           5,
           42.5999984741,
           16.8999996185,
           37.7999992371,
           32,
           16.7999992371,
           31,
           5.8000001907,
           17.7999992371,
           15.1000003815,
           6.1999998093,
           25.5,
           10,
           55.4000015259,
           10.3999996185,
           14,
           9.3999996185,
           37.2000007629,
           9,
           40.7000007629,
           46.7000007629,
           21.7000007629,
           13.8999996185,
           10,
           40.0999984741,
           7.3000001907,
           13.8000001907,
           11.6000003815,
           7.5,
           8.6999998093,
           4,
           17.2000007629,
           19,
           8.1000003815,
           11.8999996185,
           9.5,
           16.1000003815,
           5.3000001907,
           25.5,
           30.1000003815,
           10.3000001907,
           30,
           10.1999998093,
           1.7000000477,
           23.8999996185,
           15.3000001907,
           0.6999999881,
           30.1000003815,
           22.7000007629,
           12.3999996185,
           9.1999998093,
           8.8999996185,
           5.0999999046,
           12,
           10.5,
           50.4000015259,
           19,
           33.0999984741,
           15.8000001907,
           23.2000007629,
           42.2000007629,
           33.7000007629,
           10.8999996185,
           10.8000001907,
           2.9000000954,
           16.3999996185,
           21,
           12.6000003815,
           11.1999998093,
           42.7000007629,
           17.8999996185,
           6.5999999046,
           7.4000000954,
           19,
           17.8999996185,
           17.3999996185,
           20.6000003815,
           17.3999996185,
           5.3000001907,
           34.0999984741,
           30,
           50.0999984741,
           12.3000001907,
           26.6000003815,
           8.3000001907
          ],
          "colorscale": [
           [
            0,
            "rgb(12,51,131)"
           ],
           [
            0.25,
            "rgb(10,136,186)"
           ],
           [
            0.5,
            "rgb(242,211,56)"
           ],
           [
            0.75,
            "rgb(242,143,56)"
           ],
           [
            1,
            "rgb(217,30,30)"
           ]
          ],
          "line": {
           "width": 1
          },
          "opacity": 0.7,
          "showscale": true,
          "size": [
           20.8999996185,
           10.6999998093,
           27,
           9.8000001907,
           18.7999992371,
           38.7000007629,
           11.3999996185,
           8.1999998093,
           14.5,
           10.8000001907,
           18.6000003815,
           2,
           5.3000001907,
           8.1999998093,
           25.2000007629,
           11.3999996185,
           27.2000007629,
           57.0999984741,
           12.5,
           24.2999992371,
           5.5,
           15.1999998093,
           25.5,
           10.8999996185,
           8.3999996185,
           33.2000007629,
           10.8000001907,
           14.1000003815,
           7.5999999046,
           17.6000003815,
           9.3000001907,
           6.3000001907,
           6.4000000954,
           10.8000001907,
           23.2000007629,
           10.6000003815,
           18.1000003815,
           17,
           6.6999998093,
           21.3999996185,
           17.8999996185,
           8.3999996185,
           14.3000001907,
           30,
           22.5,
           10.6999998093,
           33.9000015259,
           10.6000003815,
           47.0999984741,
           22.6000003815,
           7.5,
           18.8999996185,
           20.1000003815,
           21.8999996185,
           34.5,
           20.1000003815,
           36.5999984741,
           9.3999996185,
           1.3999999762,
           11.1000003815,
           10.6000003815,
           10.6000003815,
           44.0999984741,
           7.4000000954,
           22.8999996185,
           9.1999998093,
           8.3000001907,
           36.5999984741,
           16.7000007629,
           26,
           21.3999996185,
           10.3000001907,
           29.1000003815,
           28.3999996185,
           32.4000015259,
           14.6000003815,
           11.6000003815,
           29.1000003815,
           29.5,
           31.6000003815,
           8,
           5.3000001907,
           17.1000003815,
           15.8999996185,
           0.6999999881,
           9.6999998093,
           21.6000003815,
           3.2000000477,
           20.7999992371,
           5,
           42.5999984741,
           16.8999996185,
           37.7999992371,
           32,
           16.7999992371,
           31,
           5.8000001907,
           17.7999992371,
           15.1000003815,
           6.1999998093,
           25.5,
           10,
           55.4000015259,
           10.3999996185,
           14,
           9.3999996185,
           37.2000007629,
           9,
           40.7000007629,
           46.7000007629,
           21.7000007629,
           13.8999996185,
           10,
           40.0999984741,
           7.3000001907,
           13.8000001907,
           11.6000003815,
           7.5,
           8.6999998093,
           4,
           17.2000007629,
           19,
           8.1000003815,
           11.8999996185,
           9.5,
           16.1000003815,
           5.3000001907,
           25.5,
           30.1000003815,
           10.3000001907,
           30,
           10.1999998093,
           1.7000000477,
           23.8999996185,
           15.3000001907,
           0.6999999881,
           30.1000003815,
           22.7000007629,
           12.3999996185,
           9.1999998093,
           8.8999996185,
           5.0999999046,
           12,
           10.5,
           50.4000015259,
           19,
           33.0999984741,
           15.8000001907,
           23.2000007629,
           42.2000007629,
           33.7000007629,
           10.8999996185,
           10.8000001907,
           2.9000000954,
           16.3999996185,
           21,
           12.6000003815,
           11.1999998093,
           42.7000007629,
           17.8999996185,
           6.5999999046,
           7.4000000954,
           19,
           17.8999996185,
           17.3999996185,
           20.6000003815,
           17.3999996185,
           5.3000001907,
           34.0999984741,
           30,
           50.0999984741,
           12.3000001907,
           26.6000003815,
           8.3000001907
          ]
         },
         "mode": "markers",
         "name": "Unemployment (%)",
         "text": [
          "Afghanistan",
          "Angola",
          "Albania",
          "United Arab Emirates",
          "Argentina",
          "Armenia",
          "Australia",
          "Austria",
          "Azerbaijan",
          "Burundi",
          "Belgium",
          "Benin",
          "Burkina Faso",
          "Bangladesh",
          "Bulgaria",
          "Bahrain",
          "Bahamas, The",
          "Bosnia and Herzegovina",
          "Belarus",
          "Belize",
          "Bolivia",
          "Brazil",
          "Barbados",
          "Brunei Darussalam",
          "Bhutan",
          "Botswana",
          "Central African Republic",
          "Canada",
          "Switzerland",
          "Chile",
          "China",
          "Cote d'Ivoire",
          "Cameroon",
          "Congo, Rep.",
          "Colombia",
          "Comoros",
          "Cabo Verde",
          "Costa Rica",
          "Cuba",
          "Cyprus",
          "Czech Republic",
          "Germany",
          "Denmark",
          "Dominican Republic",
          "Algeria",
          "Ecuador",
          "Egypt, Arab Rep.",
          "Eritrea",
          "Spain",
          "Estonia",
          "Ethiopia",
          "Finland",
          "Fiji",
          "France",
          "Gabon",
          "United Kingdom",
          "Georgia",
          "Ghana",
          "Guinea",
          "Gambia, The",
          "Guinea-Bissau",
          "Equatorial Guinea",
          "Greece",
          "Guatemala",
          "Guyana",
          "Hong Kong SAR, China",
          "Honduras",
          "Croatia",
          "Haiti",
          "Hungary",
          "Indonesia",
          "India",
          "Ireland",
          "Iran, Islamic Rep.",
          "Iraq",
          "Iceland",
          "Israel",
          "Italy",
          "Jamaica",
          "Jordan",
          "Japan",
          "Kazakhstan",
          "Kenya",
          "Kyrgyz Republic",
          "Cambodia",
          "Korea, Rep.",
          "Kuwait",
          "Lao PDR",
          "Lebanon",
          "Liberia",
          "Libya",
          "Sri Lanka",
          "Lesotho",
          "Lithuania",
          "Luxembourg",
          "Latvia",
          "Macao SAR, China",
          "Morocco",
          "Moldova",
          "Madagascar",
          "Maldives",
          "Mexico",
          "Macedonia, FYR",
          "Mali",
          "Malta",
          "Myanmar",
          "Montenegro",
          "Mongolia",
          "Mozambique",
          "Mauritania",
          "Mauritius",
          "Malawi",
          "Malaysia",
          "Namibia",
          "Niger",
          "Nigeria",
          "Nicaragua",
          "Netherlands",
          "Norway",
          "Nepal",
          "New Zealand",
          "Oman",
          "Pakistan",
          "Panama",
          "Peru",
          "Philippines",
          "Papua New Guinea",
          "Poland",
          "Puerto Rico",
          "Korea, Dem. People’s Rep.",
          "Portugal",
          "Paraguay",
          "Qatar",
          "Romania",
          "Russian Federation",
          "Rwanda",
          "Saudi Arabia",
          "Sudan",
          "Senegal",
          "Singapore",
          "Solomon Islands",
          "Sierra Leone",
          "El Salvador",
          "Somalia",
          "Serbia",
          "Suriname",
          "Slovak Republic",
          "Slovenia",
          "Sweden",
          "Swaziland",
          "Syrian Arab Republic",
          "Chad",
          "Togo",
          "Thailand",
          "Tajikistan",
          "Turkmenistan",
          "Timor-Leste",
          "Trinidad and Tobago",
          "Tunisia",
          "Turkey",
          "Tanzania",
          "Uganda",
          "Ukraine",
          "Uruguay",
          "United States",
          "Uzbekistan",
          "Venezuela, RB",
          "Vietnam",
          "West Bank and Gaza",
          "Yemen, Rep.",
          "South Africa",
          "Congo, Dem. Rep.",
          "Zambia",
          "Zimbabwe"
         ],
         "type": "scatter",
         "y": [
          20.8999996185,
          10.6999998093,
          27,
          9.8000001907,
          18.7999992371,
          38.7000007629,
          11.3999996185,
          8.1999998093,
          14.5,
          10.8000001907,
          18.6000003815,
          2,
          5.3000001907,
          8.1999998093,
          25.2000007629,
          11.3999996185,
          27.2000007629,
          57.0999984741,
          12.5,
          24.2999992371,
          5.5,
          15.1999998093,
          25.5,
          10.8999996185,
          8.3999996185,
          33.2000007629,
          10.8000001907,
          14.1000003815,
          7.5999999046,
          17.6000003815,
          9.3000001907,
          6.3000001907,
          6.4000000954,
          10.8000001907,
          23.2000007629,
          10.6000003815,
          18.1000003815,
          17,
          6.6999998093,
          21.3999996185,
          17.8999996185,
          8.3999996185,
          14.3000001907,
          30,
          22.5,
          10.6999998093,
          33.9000015259,
          10.6000003815,
          47.0999984741,
          22.6000003815,
          7.5,
          18.8999996185,
          20.1000003815,
          21.8999996185,
          34.5,
          20.1000003815,
          36.5999984741,
          9.3999996185,
          1.3999999762,
          11.1000003815,
          10.6000003815,
          10.6000003815,
          44.0999984741,
          7.4000000954,
          22.8999996185,
          9.1999998093,
          8.3000001907,
          36.5999984741,
          16.7000007629,
          26,
          21.3999996185,
          10.3000001907,
          29.1000003815,
          28.3999996185,
          32.4000015259,
          14.6000003815,
          11.6000003815,
          29.1000003815,
          29.5,
          31.6000003815,
          8,
          5.3000001907,
          17.1000003815,
          15.8999996185,
          0.6999999881,
          9.6999998093,
          21.6000003815,
          3.2000000477,
          20.7999992371,
          5,
          42.5999984741,
          16.8999996185,
          37.7999992371,
          32,
          16.7999992371,
          31,
          5.8000001907,
          17.7999992371,
          15.1000003815,
          6.1999998093,
          25.5,
          10,
          55.4000015259,
          10.3999996185,
          14,
          9.3999996185,
          37.2000007629,
          9,
          40.7000007629,
          46.7000007629,
          21.7000007629,
          13.8999996185,
          10,
          40.0999984741,
          7.3000001907,
          13.8000001907,
          11.6000003815,
          7.5,
          8.6999998093,
          4,
          17.2000007629,
          19,
          8.1000003815,
          11.8999996185,
          9.5,
          16.1000003815,
          5.3000001907,
          25.5,
          30.1000003815,
          10.3000001907,
          30,
          10.1999998093,
          1.7000000477,
          23.8999996185,
          15.3000001907,
          0.6999999881,
          30.1000003815,
          22.7000007629,
          12.3999996185,
          9.1999998093,
          8.8999996185,
          5.0999999046,
          12,
          10.5,
          50.4000015259,
          19,
          33.0999984741,
          15.8000001907,
          23.2000007629,
          42.2000007629,
          33.7000007629,
          10.8999996185,
          10.8000001907,
          2.9000000954,
          16.3999996185,
          21,
          12.6000003815,
          11.1999998093,
          42.7000007629,
          17.8999996185,
          6.5999999046,
          7.4000000954,
          19,
          17.8999996185,
          17.3999996185,
          20.6000003815,
          17.3999996185,
          5.3000001907,
          34.0999984741,
          30,
          50.0999984741,
          12.3000001907,
          26.6000003815,
          8.3000001907
         ]
        }
       ],
       "layout": {
        "hovermode": "closest",
        "showlegend": false,
        "template": {
         "data": {
          "bar": [
           {
            "error_x": {
             "color": "#2a3f5f"
            },
            "error_y": {
             "color": "#2a3f5f"
            },
            "marker": {
             "line": {
              "color": "#E5ECF6",
              "width": 0.5
             },
             "pattern": {
              "fillmode": "overlay",
              "size": 10,
              "solidity": 0.2
             }
            },
            "type": "bar"
           }
          ],
          "barpolar": [
           {
            "marker": {
             "line": {
              "color": "#E5ECF6",
              "width": 0.5
             },
             "pattern": {
              "fillmode": "overlay",
              "size": 10,
              "solidity": 0.2
             }
            },
            "type": "barpolar"
           }
          ],
          "carpet": [
           {
            "aaxis": {
             "endlinecolor": "#2a3f5f",
             "gridcolor": "white",
             "linecolor": "white",
             "minorgridcolor": "white",
             "startlinecolor": "#2a3f5f"
            },
            "baxis": {
             "endlinecolor": "#2a3f5f",
             "gridcolor": "white",
             "linecolor": "white",
             "minorgridcolor": "white",
             "startlinecolor": "#2a3f5f"
            },
            "type": "carpet"
           }
          ],
          "choropleth": [
           {
            "colorbar": {
             "outlinewidth": 0,
             "ticks": ""
            },
            "type": "choropleth"
           }
          ],
          "contour": [
           {
            "colorbar": {
             "outlinewidth": 0,
             "ticks": ""
            },
            "colorscale": [
             [
              0,
              "#0d0887"
             ],
             [
              0.1111111111111111,
              "#46039f"
             ],
             [
              0.2222222222222222,
              "#7201a8"
             ],
             [
              0.3333333333333333,
              "#9c179e"
             ],
             [
              0.4444444444444444,
              "#bd3786"
             ],
             [
              0.5555555555555556,
              "#d8576b"
             ],
             [
              0.6666666666666666,
              "#ed7953"
             ],
             [
              0.7777777777777778,
              "#fb9f3a"
             ],
             [
              0.8888888888888888,
              "#fdca26"
             ],
             [
              1,
              "#f0f921"
             ]
            ],
            "type": "contour"
           }
          ],
          "contourcarpet": [
           {
            "colorbar": {
             "outlinewidth": 0,
             "ticks": ""
            },
            "type": "contourcarpet"
           }
          ],
          "heatmap": [
           {
            "colorbar": {
             "outlinewidth": 0,
             "ticks": ""
            },
            "colorscale": [
             [
              0,
              "#0d0887"
             ],
             [
              0.1111111111111111,
              "#46039f"
             ],
             [
              0.2222222222222222,
              "#7201a8"
             ],
             [
              0.3333333333333333,
              "#9c179e"
             ],
             [
              0.4444444444444444,
              "#bd3786"
             ],
             [
              0.5555555555555556,
              "#d8576b"
             ],
             [
              0.6666666666666666,
              "#ed7953"
             ],
             [
              0.7777777777777778,
              "#fb9f3a"
             ],
             [
              0.8888888888888888,
              "#fdca26"
             ],
             [
              1,
              "#f0f921"
             ]
            ],
            "type": "heatmap"
           }
          ],
          "heatmapgl": [
           {
            "colorbar": {
             "outlinewidth": 0,
             "ticks": ""
            },
            "colorscale": [
             [
              0,
              "#0d0887"
             ],
             [
              0.1111111111111111,
              "#46039f"
             ],
             [
              0.2222222222222222,
              "#7201a8"
             ],
             [
              0.3333333333333333,
              "#9c179e"
             ],
             [
              0.4444444444444444,
              "#bd3786"
             ],
             [
              0.5555555555555556,
              "#d8576b"
             ],
             [
              0.6666666666666666,
              "#ed7953"
             ],
             [
              0.7777777777777778,
              "#fb9f3a"
             ],
             [
              0.8888888888888888,
              "#fdca26"
             ],
             [
              1,
              "#f0f921"
             ]
            ],
            "type": "heatmapgl"
           }
          ],
          "histogram": [
           {
            "marker": {
             "pattern": {
              "fillmode": "overlay",
              "size": 10,
              "solidity": 0.2
             }
            },
            "type": "histogram"
           }
          ],
          "histogram2d": [
           {
            "colorbar": {
             "outlinewidth": 0,
             "ticks": ""
            },
            "colorscale": [
             [
              0,
              "#0d0887"
             ],
             [
              0.1111111111111111,
              "#46039f"
             ],
             [
              0.2222222222222222,
              "#7201a8"
             ],
             [
              0.3333333333333333,
              "#9c179e"
             ],
             [
              0.4444444444444444,
              "#bd3786"
             ],
             [
              0.5555555555555556,
              "#d8576b"
             ],
             [
              0.6666666666666666,
              "#ed7953"
             ],
             [
              0.7777777777777778,
              "#fb9f3a"
             ],
             [
              0.8888888888888888,
              "#fdca26"
             ],
             [
              1,
              "#f0f921"
             ]
            ],
            "type": "histogram2d"
           }
          ],
          "histogram2dcontour": [
           {
            "colorbar": {
             "outlinewidth": 0,
             "ticks": ""
            },
            "colorscale": [
             [
              0,
              "#0d0887"
             ],
             [
              0.1111111111111111,
              "#46039f"
             ],
             [
              0.2222222222222222,
              "#7201a8"
             ],
             [
              0.3333333333333333,
              "#9c179e"
             ],
             [
              0.4444444444444444,
              "#bd3786"
             ],
             [
              0.5555555555555556,
              "#d8576b"
             ],
             [
              0.6666666666666666,
              "#ed7953"
             ],
             [
              0.7777777777777778,
              "#fb9f3a"
             ],
             [
              0.8888888888888888,
              "#fdca26"
             ],
             [
              1,
              "#f0f921"
             ]
            ],
            "type": "histogram2dcontour"
           }
          ],
          "mesh3d": [
           {
            "colorbar": {
             "outlinewidth": 0,
             "ticks": ""
            },
            "type": "mesh3d"
           }
          ],
          "parcoords": [
           {
            "line": {
             "colorbar": {
              "outlinewidth": 0,
              "ticks": ""
             }
            },
            "type": "parcoords"
           }
          ],
          "pie": [
           {
            "automargin": true,
            "type": "pie"
           }
          ],
          "scatter": [
           {
            "fillpattern": {
             "fillmode": "overlay",
             "size": 10,
             "solidity": 0.2
            },
            "type": "scatter"
           }
          ],
          "scatter3d": [
           {
            "line": {
             "colorbar": {
              "outlinewidth": 0,
              "ticks": ""
             }
            },
            "marker": {
             "colorbar": {
              "outlinewidth": 0,
              "ticks": ""
             }
            },
            "type": "scatter3d"
           }
          ],
          "scattercarpet": [
           {
            "marker": {
             "colorbar": {
              "outlinewidth": 0,
              "ticks": ""
             }
            },
            "type": "scattercarpet"
           }
          ],
          "scattergeo": [
           {
            "marker": {
             "colorbar": {
              "outlinewidth": 0,
              "ticks": ""
             }
            },
            "type": "scattergeo"
           }
          ],
          "scattergl": [
           {
            "marker": {
             "colorbar": {
              "outlinewidth": 0,
              "ticks": ""
             }
            },
            "type": "scattergl"
           }
          ],
          "scattermapbox": [
           {
            "marker": {
             "colorbar": {
              "outlinewidth": 0,
              "ticks": ""
             }
            },
            "type": "scattermapbox"
           }
          ],
          "scatterpolar": [
           {
            "marker": {
             "colorbar": {
              "outlinewidth": 0,
              "ticks": ""
             }
            },
            "type": "scatterpolar"
           }
          ],
          "scatterpolargl": [
           {
            "marker": {
             "colorbar": {
              "outlinewidth": 0,
              "ticks": ""
             }
            },
            "type": "scatterpolargl"
           }
          ],
          "scatterternary": [
           {
            "marker": {
             "colorbar": {
              "outlinewidth": 0,
              "ticks": ""
             }
            },
            "type": "scatterternary"
           }
          ],
          "surface": [
           {
            "colorbar": {
             "outlinewidth": 0,
             "ticks": ""
            },
            "colorscale": [
             [
              0,
              "#0d0887"
             ],
             [
              0.1111111111111111,
              "#46039f"
             ],
             [
              0.2222222222222222,
              "#7201a8"
             ],
             [
              0.3333333333333333,
              "#9c179e"
             ],
             [
              0.4444444444444444,
              "#bd3786"
             ],
             [
              0.5555555555555556,
              "#d8576b"
             ],
             [
              0.6666666666666666,
              "#ed7953"
             ],
             [
              0.7777777777777778,
              "#fb9f3a"
             ],
             [
              0.8888888888888888,
              "#fdca26"
             ],
             [
              1,
              "#f0f921"
             ]
            ],
            "type": "surface"
           }
          ],
          "table": [
           {
            "cells": {
             "fill": {
              "color": "#EBF0F8"
             },
             "line": {
              "color": "white"
             }
            },
            "header": {
             "fill": {
              "color": "#C8D4E3"
             },
             "line": {
              "color": "white"
             }
            },
            "type": "table"
           }
          ]
         },
         "layout": {
          "annotationdefaults": {
           "arrowcolor": "#2a3f5f",
           "arrowhead": 0,
           "arrowwidth": 1
          },
          "autotypenumbers": "strict",
          "coloraxis": {
           "colorbar": {
            "outlinewidth": 0,
            "ticks": ""
           }
          },
          "colorscale": {
           "diverging": [
            [
             0,
             "#8e0152"
            ],
            [
             0.1,
             "#c51b7d"
            ],
            [
             0.2,
             "#de77ae"
            ],
            [
             0.3,
             "#f1b6da"
            ],
            [
             0.4,
             "#fde0ef"
            ],
            [
             0.5,
             "#f7f7f7"
            ],
            [
             0.6,
             "#e6f5d0"
            ],
            [
             0.7,
             "#b8e186"
            ],
            [
             0.8,
             "#7fbc41"
            ],
            [
             0.9,
             "#4d9221"
            ],
            [
             1,
             "#276419"
            ]
           ],
           "sequential": [
            [
             0,
             "#0d0887"
            ],
            [
             0.1111111111111111,
             "#46039f"
            ],
            [
             0.2222222222222222,
             "#7201a8"
            ],
            [
             0.3333333333333333,
             "#9c179e"
            ],
            [
             0.4444444444444444,
             "#bd3786"
            ],
            [
             0.5555555555555556,
             "#d8576b"
            ],
            [
             0.6666666666666666,
             "#ed7953"
            ],
            [
             0.7777777777777778,
             "#fb9f3a"
            ],
            [
             0.8888888888888888,
             "#fdca26"
            ],
            [
             1,
             "#f0f921"
            ]
           ],
           "sequentialminus": [
            [
             0,
             "#0d0887"
            ],
            [
             0.1111111111111111,
             "#46039f"
            ],
            [
             0.2222222222222222,
             "#7201a8"
            ],
            [
             0.3333333333333333,
             "#9c179e"
            ],
            [
             0.4444444444444444,
             "#bd3786"
            ],
            [
             0.5555555555555556,
             "#d8576b"
            ],
            [
             0.6666666666666666,
             "#ed7953"
            ],
            [
             0.7777777777777778,
             "#fb9f3a"
            ],
            [
             0.8888888888888888,
             "#fdca26"
            ],
            [
             1,
             "#f0f921"
            ]
           ]
          },
          "colorway": [
           "#636efa",
           "#EF553B",
           "#00cc96",
           "#ab63fa",
           "#FFA15A",
           "#19d3f3",
           "#FF6692",
           "#B6E880",
           "#FF97FF",
           "#FECB52"
          ],
          "font": {
           "color": "#2a3f5f"
          },
          "geo": {
           "bgcolor": "white",
           "lakecolor": "white",
           "landcolor": "#E5ECF6",
           "showlakes": true,
           "showland": true,
           "subunitcolor": "white"
          },
          "hoverlabel": {
           "align": "left"
          },
          "hovermode": "closest",
          "mapbox": {
           "style": "light"
          },
          "paper_bgcolor": "white",
          "plot_bgcolor": "#E5ECF6",
          "polar": {
           "angularaxis": {
            "gridcolor": "white",
            "linecolor": "white",
            "ticks": ""
           },
           "bgcolor": "#E5ECF6",
           "radialaxis": {
            "gridcolor": "white",
            "linecolor": "white",
            "ticks": ""
           }
          },
          "scene": {
           "xaxis": {
            "backgroundcolor": "#E5ECF6",
            "gridcolor": "white",
            "gridwidth": 2,
            "linecolor": "white",
            "showbackground": true,
            "ticks": "",
            "zerolinecolor": "white"
           },
           "yaxis": {
            "backgroundcolor": "#E5ECF6",
            "gridcolor": "white",
            "gridwidth": 2,
            "linecolor": "white",
            "showbackground": true,
            "ticks": "",
            "zerolinecolor": "white"
           },
           "zaxis": {
            "backgroundcolor": "#E5ECF6",
            "gridcolor": "white",
            "gridwidth": 2,
            "linecolor": "white",
            "showbackground": true,
            "ticks": "",
            "zerolinecolor": "white"
           }
          },
          "shapedefaults": {
           "line": {
            "color": "#2a3f5f"
           }
          },
          "ternary": {
           "aaxis": {
            "gridcolor": "white",
            "linecolor": "white",
            "ticks": ""
           },
           "baxis": {
            "gridcolor": "white",
            "linecolor": "white",
            "ticks": ""
           },
           "bgcolor": "#E5ECF6",
           "caxis": {
            "gridcolor": "white",
            "linecolor": "white",
            "ticks": ""
           }
          },
          "title": {
           "x": 0.05
          },
          "xaxis": {
           "automargin": true,
           "gridcolor": "white",
           "linecolor": "white",
           "ticks": "",
           "title": {
            "standoff": 15
           },
           "zerolinecolor": "white",
           "zerolinewidth": 2
          },
          "yaxis": {
           "automargin": true,
           "gridcolor": "white",
           "linecolor": "white",
           "ticks": "",
           "title": {
            "standoff": 15
           },
           "zerolinecolor": "white",
           "zerolinewidth": 2
          }
         }
        },
        "title": {
         "text": "Scatter plot of unemployment rates in 2011"
        },
        "xaxis": {
         "gridwidth": 2,
         "ticklen": 5,
         "zeroline": false
        },
        "yaxis": {
         "gridwidth": 2,
         "ticklen": 5,
         "title": {
          "text": "Unemployment Rate (%)"
         }
        }
       }
      },
      "text/html": [
       "<div>                            <div id=\"e7a21516-11e7-4838-8f21-2ec7df9f2223\" class=\"plotly-graph-div\" style=\"height:525px; width:100%;\"></div>            <script type=\"text/javascript\">                require([\"plotly\"], function(Plotly) {                    window.PLOTLYENV=window.PLOTLYENV || {};                                    if (document.getElementById(\"e7a21516-11e7-4838-8f21-2ec7df9f2223\")) {                    Plotly.newPlot(                        \"e7a21516-11e7-4838-8f21-2ec7df9f2223\",                        [{\"marker\":{\"color\":[20.8999996185,10.6999998093,27.0,9.8000001907,18.7999992371,38.7000007629,11.3999996185,8.1999998093,14.5,10.8000001907,18.6000003815,2.0,5.3000001907,8.1999998093,25.2000007629,11.3999996185,27.2000007629,57.0999984741,12.5,24.2999992371,5.5,15.1999998093,25.5,10.8999996185,8.3999996185,33.2000007629,10.8000001907,14.1000003815,7.5999999046,17.6000003815,9.3000001907,6.3000001907,6.4000000954,10.8000001907,23.2000007629,10.6000003815,18.1000003815,17.0,6.6999998093,21.3999996185,17.8999996185,8.3999996185,14.3000001907,30.0,22.5,10.6999998093,33.9000015259,10.6000003815,47.0999984741,22.6000003815,7.5,18.8999996185,20.1000003815,21.8999996185,34.5,20.1000003815,36.5999984741,9.3999996185,1.3999999762,11.1000003815,10.6000003815,10.6000003815,44.0999984741,7.4000000954,22.8999996185,9.1999998093,8.3000001907,36.5999984741,16.7000007629,26.0,21.3999996185,10.3000001907,29.1000003815,28.3999996185,32.4000015259,14.6000003815,11.6000003815,29.1000003815,29.5,31.6000003815,8.0,5.3000001907,17.1000003815,15.8999996185,0.6999999881,9.6999998093,21.6000003815,3.2000000477,20.7999992371,5.0,42.5999984741,16.8999996185,37.7999992371,32.0,16.7999992371,31.0,5.8000001907,17.7999992371,15.1000003815,6.1999998093,25.5,10.0,55.4000015259,10.3999996185,14.0,9.3999996185,37.2000007629,9.0,40.7000007629,46.7000007629,21.7000007629,13.8999996185,10.0,40.0999984741,7.3000001907,13.8000001907,11.6000003815,7.5,8.6999998093,4.0,17.2000007629,19.0,8.1000003815,11.8999996185,9.5,16.1000003815,5.3000001907,25.5,30.1000003815,10.3000001907,30.0,10.1999998093,1.7000000477,23.8999996185,15.3000001907,0.6999999881,30.1000003815,22.7000007629,12.3999996185,9.1999998093,8.8999996185,5.0999999046,12.0,10.5,50.4000015259,19.0,33.0999984741,15.8000001907,23.2000007629,42.2000007629,33.7000007629,10.8999996185,10.8000001907,2.9000000954,16.3999996185,21.0,12.6000003815,11.1999998093,42.7000007629,17.8999996185,6.5999999046,7.4000000954,19.0,17.8999996185,17.3999996185,20.6000003815,17.3999996185,5.3000001907,34.0999984741,30.0,50.0999984741,12.3000001907,26.6000003815,8.3000001907],\"colorscale\":[[0.0,\"rgb(12,51,131)\"],[0.25,\"rgb(10,136,186)\"],[0.5,\"rgb(242,211,56)\"],[0.75,\"rgb(242,143,56)\"],[1.0,\"rgb(217,30,30)\"]],\"line\":{\"width\":1},\"opacity\":0.7,\"showscale\":true,\"size\":[20.8999996185,10.6999998093,27.0,9.8000001907,18.7999992371,38.7000007629,11.3999996185,8.1999998093,14.5,10.8000001907,18.6000003815,2.0,5.3000001907,8.1999998093,25.2000007629,11.3999996185,27.2000007629,57.0999984741,12.5,24.2999992371,5.5,15.1999998093,25.5,10.8999996185,8.3999996185,33.2000007629,10.8000001907,14.1000003815,7.5999999046,17.6000003815,9.3000001907,6.3000001907,6.4000000954,10.8000001907,23.2000007629,10.6000003815,18.1000003815,17.0,6.6999998093,21.3999996185,17.8999996185,8.3999996185,14.3000001907,30.0,22.5,10.6999998093,33.9000015259,10.6000003815,47.0999984741,22.6000003815,7.5,18.8999996185,20.1000003815,21.8999996185,34.5,20.1000003815,36.5999984741,9.3999996185,1.3999999762,11.1000003815,10.6000003815,10.6000003815,44.0999984741,7.4000000954,22.8999996185,9.1999998093,8.3000001907,36.5999984741,16.7000007629,26.0,21.3999996185,10.3000001907,29.1000003815,28.3999996185,32.4000015259,14.6000003815,11.6000003815,29.1000003815,29.5,31.6000003815,8.0,5.3000001907,17.1000003815,15.8999996185,0.6999999881,9.6999998093,21.6000003815,3.2000000477,20.7999992371,5.0,42.5999984741,16.8999996185,37.7999992371,32.0,16.7999992371,31.0,5.8000001907,17.7999992371,15.1000003815,6.1999998093,25.5,10.0,55.4000015259,10.3999996185,14.0,9.3999996185,37.2000007629,9.0,40.7000007629,46.7000007629,21.7000007629,13.8999996185,10.0,40.0999984741,7.3000001907,13.8000001907,11.6000003815,7.5,8.6999998093,4.0,17.2000007629,19.0,8.1000003815,11.8999996185,9.5,16.1000003815,5.3000001907,25.5,30.1000003815,10.3000001907,30.0,10.1999998093,1.7000000477,23.8999996185,15.3000001907,0.6999999881,30.1000003815,22.7000007629,12.3999996185,9.1999998093,8.8999996185,5.0999999046,12.0,10.5,50.4000015259,19.0,33.0999984741,15.8000001907,23.2000007629,42.2000007629,33.7000007629,10.8999996185,10.8000001907,2.9000000954,16.3999996185,21.0,12.6000003815,11.1999998093,42.7000007629,17.8999996185,6.5999999046,7.4000000954,19.0,17.8999996185,17.3999996185,20.6000003815,17.3999996185,5.3000001907,34.0999984741,30.0,50.0999984741,12.3000001907,26.6000003815,8.3000001907]},\"mode\":\"markers\",\"name\":\"Unemployment (%)\",\"text\":[\"Afghanistan\",\"Angola\",\"Albania\",\"United Arab Emirates\",\"Argentina\",\"Armenia\",\"Australia\",\"Austria\",\"Azerbaijan\",\"Burundi\",\"Belgium\",\"Benin\",\"Burkina Faso\",\"Bangladesh\",\"Bulgaria\",\"Bahrain\",\"Bahamas, The\",\"Bosnia and Herzegovina\",\"Belarus\",\"Belize\",\"Bolivia\",\"Brazil\",\"Barbados\",\"Brunei Darussalam\",\"Bhutan\",\"Botswana\",\"Central African Republic\",\"Canada\",\"Switzerland\",\"Chile\",\"China\",\"Cote d'Ivoire\",\"Cameroon\",\"Congo, Rep.\",\"Colombia\",\"Comoros\",\"Cabo Verde\",\"Costa Rica\",\"Cuba\",\"Cyprus\",\"Czech Republic\",\"Germany\",\"Denmark\",\"Dominican Republic\",\"Algeria\",\"Ecuador\",\"Egypt, Arab Rep.\",\"Eritrea\",\"Spain\",\"Estonia\",\"Ethiopia\",\"Finland\",\"Fiji\",\"France\",\"Gabon\",\"United Kingdom\",\"Georgia\",\"Ghana\",\"Guinea\",\"Gambia, The\",\"Guinea-Bissau\",\"Equatorial Guinea\",\"Greece\",\"Guatemala\",\"Guyana\",\"Hong Kong SAR, China\",\"Honduras\",\"Croatia\",\"Haiti\",\"Hungary\",\"Indonesia\",\"India\",\"Ireland\",\"Iran, Islamic Rep.\",\"Iraq\",\"Iceland\",\"Israel\",\"Italy\",\"Jamaica\",\"Jordan\",\"Japan\",\"Kazakhstan\",\"Kenya\",\"Kyrgyz Republic\",\"Cambodia\",\"Korea, Rep.\",\"Kuwait\",\"Lao PDR\",\"Lebanon\",\"Liberia\",\"Libya\",\"Sri Lanka\",\"Lesotho\",\"Lithuania\",\"Luxembourg\",\"Latvia\",\"Macao SAR, China\",\"Morocco\",\"Moldova\",\"Madagascar\",\"Maldives\",\"Mexico\",\"Macedonia, FYR\",\"Mali\",\"Malta\",\"Myanmar\",\"Montenegro\",\"Mongolia\",\"Mozambique\",\"Mauritania\",\"Mauritius\",\"Malawi\",\"Malaysia\",\"Namibia\",\"Niger\",\"Nigeria\",\"Nicaragua\",\"Netherlands\",\"Norway\",\"Nepal\",\"New Zealand\",\"Oman\",\"Pakistan\",\"Panama\",\"Peru\",\"Philippines\",\"Papua New Guinea\",\"Poland\",\"Puerto Rico\",\"Korea, Dem. People\\u2019s Rep.\",\"Portugal\",\"Paraguay\",\"Qatar\",\"Romania\",\"Russian Federation\",\"Rwanda\",\"Saudi Arabia\",\"Sudan\",\"Senegal\",\"Singapore\",\"Solomon Islands\",\"Sierra Leone\",\"El Salvador\",\"Somalia\",\"Serbia\",\"Suriname\",\"Slovak Republic\",\"Slovenia\",\"Sweden\",\"Swaziland\",\"Syrian Arab Republic\",\"Chad\",\"Togo\",\"Thailand\",\"Tajikistan\",\"Turkmenistan\",\"Timor-Leste\",\"Trinidad and Tobago\",\"Tunisia\",\"Turkey\",\"Tanzania\",\"Uganda\",\"Ukraine\",\"Uruguay\",\"United States\",\"Uzbekistan\",\"Venezuela, RB\",\"Vietnam\",\"West Bank and Gaza\",\"Yemen, Rep.\",\"South Africa\",\"Congo, Dem. Rep.\",\"Zambia\",\"Zimbabwe\"],\"y\":[20.8999996185,10.6999998093,27.0,9.8000001907,18.7999992371,38.7000007629,11.3999996185,8.1999998093,14.5,10.8000001907,18.6000003815,2.0,5.3000001907,8.1999998093,25.2000007629,11.3999996185,27.2000007629,57.0999984741,12.5,24.2999992371,5.5,15.1999998093,25.5,10.8999996185,8.3999996185,33.2000007629,10.8000001907,14.1000003815,7.5999999046,17.6000003815,9.3000001907,6.3000001907,6.4000000954,10.8000001907,23.2000007629,10.6000003815,18.1000003815,17.0,6.6999998093,21.3999996185,17.8999996185,8.3999996185,14.3000001907,30.0,22.5,10.6999998093,33.9000015259,10.6000003815,47.0999984741,22.6000003815,7.5,18.8999996185,20.1000003815,21.8999996185,34.5,20.1000003815,36.5999984741,9.3999996185,1.3999999762,11.1000003815,10.6000003815,10.6000003815,44.0999984741,7.4000000954,22.8999996185,9.1999998093,8.3000001907,36.5999984741,16.7000007629,26.0,21.3999996185,10.3000001907,29.1000003815,28.3999996185,32.4000015259,14.6000003815,11.6000003815,29.1000003815,29.5,31.6000003815,8.0,5.3000001907,17.1000003815,15.8999996185,0.6999999881,9.6999998093,21.6000003815,3.2000000477,20.7999992371,5.0,42.5999984741,16.8999996185,37.7999992371,32.0,16.7999992371,31.0,5.8000001907,17.7999992371,15.1000003815,6.1999998093,25.5,10.0,55.4000015259,10.3999996185,14.0,9.3999996185,37.2000007629,9.0,40.7000007629,46.7000007629,21.7000007629,13.8999996185,10.0,40.0999984741,7.3000001907,13.8000001907,11.6000003815,7.5,8.6999998093,4.0,17.2000007629,19.0,8.1000003815,11.8999996185,9.5,16.1000003815,5.3000001907,25.5,30.1000003815,10.3000001907,30.0,10.1999998093,1.7000000477,23.8999996185,15.3000001907,0.6999999881,30.1000003815,22.7000007629,12.3999996185,9.1999998093,8.8999996185,5.0999999046,12.0,10.5,50.4000015259,19.0,33.0999984741,15.8000001907,23.2000007629,42.2000007629,33.7000007629,10.8999996185,10.8000001907,2.9000000954,16.3999996185,21.0,12.6000003815,11.1999998093,42.7000007629,17.8999996185,6.5999999046,7.4000000954,19.0,17.8999996185,17.3999996185,20.6000003815,17.3999996185,5.3000001907,34.0999984741,30.0,50.0999984741,12.3000001907,26.6000003815,8.3000001907],\"type\":\"scatter\"}],                        {\"hovermode\":\"closest\",\"showlegend\":false,\"template\":{\"data\":{\"barpolar\":[{\"marker\":{\"line\":{\"color\":\"#E5ECF6\",\"width\":0.5},\"pattern\":{\"fillmode\":\"overlay\",\"size\":10,\"solidity\":0.2}},\"type\":\"barpolar\"}],\"bar\":[{\"error_x\":{\"color\":\"#2a3f5f\"},\"error_y\":{\"color\":\"#2a3f5f\"},\"marker\":{\"line\":{\"color\":\"#E5ECF6\",\"width\":0.5},\"pattern\":{\"fillmode\":\"overlay\",\"size\":10,\"solidity\":0.2}},\"type\":\"bar\"}],\"carpet\":[{\"aaxis\":{\"endlinecolor\":\"#2a3f5f\",\"gridcolor\":\"white\",\"linecolor\":\"white\",\"minorgridcolor\":\"white\",\"startlinecolor\":\"#2a3f5f\"},\"baxis\":{\"endlinecolor\":\"#2a3f5f\",\"gridcolor\":\"white\",\"linecolor\":\"white\",\"minorgridcolor\":\"white\",\"startlinecolor\":\"#2a3f5f\"},\"type\":\"carpet\"}],\"choropleth\":[{\"colorbar\":{\"outlinewidth\":0,\"ticks\":\"\"},\"type\":\"choropleth\"}],\"contourcarpet\":[{\"colorbar\":{\"outlinewidth\":0,\"ticks\":\"\"},\"type\":\"contourcarpet\"}],\"contour\":[{\"colorbar\":{\"outlinewidth\":0,\"ticks\":\"\"},\"colorscale\":[[0.0,\"#0d0887\"],[0.1111111111111111,\"#46039f\"],[0.2222222222222222,\"#7201a8\"],[0.3333333333333333,\"#9c179e\"],[0.4444444444444444,\"#bd3786\"],[0.5555555555555556,\"#d8576b\"],[0.6666666666666666,\"#ed7953\"],[0.7777777777777778,\"#fb9f3a\"],[0.8888888888888888,\"#fdca26\"],[1.0,\"#f0f921\"]],\"type\":\"contour\"}],\"heatmapgl\":[{\"colorbar\":{\"outlinewidth\":0,\"ticks\":\"\"},\"colorscale\":[[0.0,\"#0d0887\"],[0.1111111111111111,\"#46039f\"],[0.2222222222222222,\"#7201a8\"],[0.3333333333333333,\"#9c179e\"],[0.4444444444444444,\"#bd3786\"],[0.5555555555555556,\"#d8576b\"],[0.6666666666666666,\"#ed7953\"],[0.7777777777777778,\"#fb9f3a\"],[0.8888888888888888,\"#fdca26\"],[1.0,\"#f0f921\"]],\"type\":\"heatmapgl\"}],\"heatmap\":[{\"colorbar\":{\"outlinewidth\":0,\"ticks\":\"\"},\"colorscale\":[[0.0,\"#0d0887\"],[0.1111111111111111,\"#46039f\"],[0.2222222222222222,\"#7201a8\"],[0.3333333333333333,\"#9c179e\"],[0.4444444444444444,\"#bd3786\"],[0.5555555555555556,\"#d8576b\"],[0.6666666666666666,\"#ed7953\"],[0.7777777777777778,\"#fb9f3a\"],[0.8888888888888888,\"#fdca26\"],[1.0,\"#f0f921\"]],\"type\":\"heatmap\"}],\"histogram2dcontour\":[{\"colorbar\":{\"outlinewidth\":0,\"ticks\":\"\"},\"colorscale\":[[0.0,\"#0d0887\"],[0.1111111111111111,\"#46039f\"],[0.2222222222222222,\"#7201a8\"],[0.3333333333333333,\"#9c179e\"],[0.4444444444444444,\"#bd3786\"],[0.5555555555555556,\"#d8576b\"],[0.6666666666666666,\"#ed7953\"],[0.7777777777777778,\"#fb9f3a\"],[0.8888888888888888,\"#fdca26\"],[1.0,\"#f0f921\"]],\"type\":\"histogram2dcontour\"}],\"histogram2d\":[{\"colorbar\":{\"outlinewidth\":0,\"ticks\":\"\"},\"colorscale\":[[0.0,\"#0d0887\"],[0.1111111111111111,\"#46039f\"],[0.2222222222222222,\"#7201a8\"],[0.3333333333333333,\"#9c179e\"],[0.4444444444444444,\"#bd3786\"],[0.5555555555555556,\"#d8576b\"],[0.6666666666666666,\"#ed7953\"],[0.7777777777777778,\"#fb9f3a\"],[0.8888888888888888,\"#fdca26\"],[1.0,\"#f0f921\"]],\"type\":\"histogram2d\"}],\"histogram\":[{\"marker\":{\"pattern\":{\"fillmode\":\"overlay\",\"size\":10,\"solidity\":0.2}},\"type\":\"histogram\"}],\"mesh3d\":[{\"colorbar\":{\"outlinewidth\":0,\"ticks\":\"\"},\"type\":\"mesh3d\"}],\"parcoords\":[{\"line\":{\"colorbar\":{\"outlinewidth\":0,\"ticks\":\"\"}},\"type\":\"parcoords\"}],\"pie\":[{\"automargin\":true,\"type\":\"pie\"}],\"scatter3d\":[{\"line\":{\"colorbar\":{\"outlinewidth\":0,\"ticks\":\"\"}},\"marker\":{\"colorbar\":{\"outlinewidth\":0,\"ticks\":\"\"}},\"type\":\"scatter3d\"}],\"scattercarpet\":[{\"marker\":{\"colorbar\":{\"outlinewidth\":0,\"ticks\":\"\"}},\"type\":\"scattercarpet\"}],\"scattergeo\":[{\"marker\":{\"colorbar\":{\"outlinewidth\":0,\"ticks\":\"\"}},\"type\":\"scattergeo\"}],\"scattergl\":[{\"marker\":{\"colorbar\":{\"outlinewidth\":0,\"ticks\":\"\"}},\"type\":\"scattergl\"}],\"scattermapbox\":[{\"marker\":{\"colorbar\":{\"outlinewidth\":0,\"ticks\":\"\"}},\"type\":\"scattermapbox\"}],\"scatterpolargl\":[{\"marker\":{\"colorbar\":{\"outlinewidth\":0,\"ticks\":\"\"}},\"type\":\"scatterpolargl\"}],\"scatterpolar\":[{\"marker\":{\"colorbar\":{\"outlinewidth\":0,\"ticks\":\"\"}},\"type\":\"scatterpolar\"}],\"scatter\":[{\"fillpattern\":{\"fillmode\":\"overlay\",\"size\":10,\"solidity\":0.2},\"type\":\"scatter\"}],\"scatterternary\":[{\"marker\":{\"colorbar\":{\"outlinewidth\":0,\"ticks\":\"\"}},\"type\":\"scatterternary\"}],\"surface\":[{\"colorbar\":{\"outlinewidth\":0,\"ticks\":\"\"},\"colorscale\":[[0.0,\"#0d0887\"],[0.1111111111111111,\"#46039f\"],[0.2222222222222222,\"#7201a8\"],[0.3333333333333333,\"#9c179e\"],[0.4444444444444444,\"#bd3786\"],[0.5555555555555556,\"#d8576b\"],[0.6666666666666666,\"#ed7953\"],[0.7777777777777778,\"#fb9f3a\"],[0.8888888888888888,\"#fdca26\"],[1.0,\"#f0f921\"]],\"type\":\"surface\"}],\"table\":[{\"cells\":{\"fill\":{\"color\":\"#EBF0F8\"},\"line\":{\"color\":\"white\"}},\"header\":{\"fill\":{\"color\":\"#C8D4E3\"},\"line\":{\"color\":\"white\"}},\"type\":\"table\"}]},\"layout\":{\"annotationdefaults\":{\"arrowcolor\":\"#2a3f5f\",\"arrowhead\":0,\"arrowwidth\":1},\"autotypenumbers\":\"strict\",\"coloraxis\":{\"colorbar\":{\"outlinewidth\":0,\"ticks\":\"\"}},\"colorscale\":{\"diverging\":[[0,\"#8e0152\"],[0.1,\"#c51b7d\"],[0.2,\"#de77ae\"],[0.3,\"#f1b6da\"],[0.4,\"#fde0ef\"],[0.5,\"#f7f7f7\"],[0.6,\"#e6f5d0\"],[0.7,\"#b8e186\"],[0.8,\"#7fbc41\"],[0.9,\"#4d9221\"],[1,\"#276419\"]],\"sequential\":[[0.0,\"#0d0887\"],[0.1111111111111111,\"#46039f\"],[0.2222222222222222,\"#7201a8\"],[0.3333333333333333,\"#9c179e\"],[0.4444444444444444,\"#bd3786\"],[0.5555555555555556,\"#d8576b\"],[0.6666666666666666,\"#ed7953\"],[0.7777777777777778,\"#fb9f3a\"],[0.8888888888888888,\"#fdca26\"],[1.0,\"#f0f921\"]],\"sequentialminus\":[[0.0,\"#0d0887\"],[0.1111111111111111,\"#46039f\"],[0.2222222222222222,\"#7201a8\"],[0.3333333333333333,\"#9c179e\"],[0.4444444444444444,\"#bd3786\"],[0.5555555555555556,\"#d8576b\"],[0.6666666666666666,\"#ed7953\"],[0.7777777777777778,\"#fb9f3a\"],[0.8888888888888888,\"#fdca26\"],[1.0,\"#f0f921\"]]},\"colorway\":[\"#636efa\",\"#EF553B\",\"#00cc96\",\"#ab63fa\",\"#FFA15A\",\"#19d3f3\",\"#FF6692\",\"#B6E880\",\"#FF97FF\",\"#FECB52\"],\"font\":{\"color\":\"#2a3f5f\"},\"geo\":{\"bgcolor\":\"white\",\"lakecolor\":\"white\",\"landcolor\":\"#E5ECF6\",\"showlakes\":true,\"showland\":true,\"subunitcolor\":\"white\"},\"hoverlabel\":{\"align\":\"left\"},\"hovermode\":\"closest\",\"mapbox\":{\"style\":\"light\"},\"paper_bgcolor\":\"white\",\"plot_bgcolor\":\"#E5ECF6\",\"polar\":{\"angularaxis\":{\"gridcolor\":\"white\",\"linecolor\":\"white\",\"ticks\":\"\"},\"bgcolor\":\"#E5ECF6\",\"radialaxis\":{\"gridcolor\":\"white\",\"linecolor\":\"white\",\"ticks\":\"\"}},\"scene\":{\"xaxis\":{\"backgroundcolor\":\"#E5ECF6\",\"gridcolor\":\"white\",\"gridwidth\":2,\"linecolor\":\"white\",\"showbackground\":true,\"ticks\":\"\",\"zerolinecolor\":\"white\"},\"yaxis\":{\"backgroundcolor\":\"#E5ECF6\",\"gridcolor\":\"white\",\"gridwidth\":2,\"linecolor\":\"white\",\"showbackground\":true,\"ticks\":\"\",\"zerolinecolor\":\"white\"},\"zaxis\":{\"backgroundcolor\":\"#E5ECF6\",\"gridcolor\":\"white\",\"gridwidth\":2,\"linecolor\":\"white\",\"showbackground\":true,\"ticks\":\"\",\"zerolinecolor\":\"white\"}},\"shapedefaults\":{\"line\":{\"color\":\"#2a3f5f\"}},\"ternary\":{\"aaxis\":{\"gridcolor\":\"white\",\"linecolor\":\"white\",\"ticks\":\"\"},\"baxis\":{\"gridcolor\":\"white\",\"linecolor\":\"white\",\"ticks\":\"\"},\"bgcolor\":\"#E5ECF6\",\"caxis\":{\"gridcolor\":\"white\",\"linecolor\":\"white\",\"ticks\":\"\"}},\"title\":{\"x\":0.05},\"xaxis\":{\"automargin\":true,\"gridcolor\":\"white\",\"linecolor\":\"white\",\"ticks\":\"\",\"title\":{\"standoff\":15},\"zerolinecolor\":\"white\",\"zerolinewidth\":2},\"yaxis\":{\"automargin\":true,\"gridcolor\":\"white\",\"linecolor\":\"white\",\"ticks\":\"\",\"title\":{\"standoff\":15},\"zerolinecolor\":\"white\",\"zerolinewidth\":2}}},\"title\":{\"text\":\"Scatter plot of unemployment rates in 2011\"},\"xaxis\":{\"gridwidth\":2,\"ticklen\":5,\"zeroline\":false},\"yaxis\":{\"gridwidth\":2,\"ticklen\":5,\"title\":{\"text\":\"Unemployment Rate (%)\"}}},                        {\"responsive\": true}                    ).then(function(){\n",
       "                            \n",
       "var gd = document.getElementById('e7a21516-11e7-4838-8f21-2ec7df9f2223');\n",
       "var x = new MutationObserver(function (mutations, observer) {{\n",
       "        var display = window.getComputedStyle(gd).display;\n",
       "        if (!display || display === 'none') {{\n",
       "            console.log([gd, 'removed!']);\n",
       "            Plotly.purge(gd);\n",
       "            observer.disconnect();\n",
       "        }}\n",
       "}});\n",
       "\n",
       "// Listen for the removal of the full notebook cells\n",
       "var notebookContainer = gd.closest('#notebook-container');\n",
       "if (notebookContainer) {{\n",
       "    x.observe(notebookContainer, {childList: true});\n",
       "}}\n",
       "\n",
       "// Listen for the clearing of the current output cell\n",
       "var outputEl = gd.closest('.output');\n",
       "if (outputEl) {{\n",
       "    x.observe(outputEl, {childList: true});\n",
       "}}\n",
       "\n",
       "                        })                };                });            </script>        </div>"
      ]
     },
     "metadata": {},
     "output_type": "display_data"
    },
    {
     "data": {
      "application/vnd.plotly.v1+json": {
       "config": {
        "linkText": "Export to plot.ly",
        "plotlyServerURL": "https://plot.ly",
        "showLink": false
       },
       "data": [
        {
         "marker": {
          "color": [
           19.7000007629,
           10.6999998093,
           28.2999992371,
           9.8000001907,
           18.3999996185,
           35,
           11.6999998093,
           8.6999998093,
           14.3000001907,
           10.8000001907,
           19.7000007629,
           2,
           5.1999998093,
           8.1999998093,
           28.2000007629,
           10.5,
           30.3999996185,
           61.7000007629,
           11.8000001907,
           26,
           5.5,
           14.3999996185,
           26.5,
           11,
           6.4000000954,
           33.2999992371,
           10.6999998093,
           14.3000001907,
           8.5,
           16.2000007629,
           9.6999998093,
           6,
           6.4000000954,
           10.8000001907,
           20.6000003815,
           10.5,
           18.2999992371,
           18.7999992371,
           6.8000001907,
           26.7999992371,
           19.6000003815,
           8.1000003815,
           14.1000003815,
           30.8999996185,
           26.2999992371,
           10.8999996185,
           37.9000015259,
           10.6000003815,
           54.2999992371,
           21,
           7.9000000954,
           17.7999992371,
           20.2000007629,
           23.7999992371,
           34.5999984741,
           21.3999996185,
           33.7999992371,
           7.4000000954,
           1.3999999762,
           10.6999998093,
           11,
           10.6999998093,
           54.7000007629,
           5.5999999046,
           23.1000003815,
           9.3000001907,
           7.0999999046,
           44.0999984741,
           17.2999992371,
           27.8999996185,
           20.2999992371,
           10.6999998093,
           30.3999996185,
           28.2999992371,
           32.4000015259,
           13.3999996185,
           12.3000001907,
           35.2000007629,
           32.9000015259,
           31.2999992371,
           7.8000001907,
           4.5999999046,
           17.2999992371,
           16.6000003815,
           0.5,
           8.8999996185,
           21.1000003815,
           3.2999999523,
           20.7999992371,
           5,
           46.2000007629,
           16.6000003815,
           36,
           26.2000007629,
           18.5,
           28.2999992371,
           5,
           18.5,
           13.1000003815,
           6.1999998093,
           26.6000003815,
           9.5,
           53.7999992371,
           10.5,
           14.3000001907,
           9.3000001907,
           41.2999992371,
           9.6000003815,
           40.7000007629,
           46.5,
           23.7000007629,
           14,
           10.1999998093,
           34.2000007629,
           7.1999998093,
           13.6999998093,
           10.6000003815,
           9.5,
           8.6000003815,
           4,
           17.7000007629,
           18.7999992371,
           8.1000003815,
           10,
           8.5,
           16.3999996185,
           5.4000000954,
           26.3999996185,
           27.3999996185,
           10.6999998093,
           37.5999984741,
           10.3999996185,
           1.6000000238,
           22.7999992371,
           15,
           0.6999999881,
           28,
           22.7000007629,
           12.3000001907,
           9,
           9.3000001907,
           5,
           11.8999996185,
           10.5,
           50.5999984741,
           17.3999996185,
           33.9000015259,
           20.6000003815,
           24.2000007629,
           42,
           33.7000007629,
           10.6000003815,
           10.6999998093,
           3.0999999046,
           15.3999996185,
           20.7000007629,
           13.3999996185,
           12.3999996185,
           32.7999992371,
           17.1000003815,
           6,
           7.4000000954,
           17.2999992371,
           18.5,
           16.5,
           20.6000003815,
           17.1000003815,
           5,
           37.2999992371,
           30.2000007629,
           52.2000007629,
           12.3000001907,
           26.6000003815,
           8.3000001907
          ],
          "colorscale": [
           [
            0,
            "rgb(12,51,131)"
           ],
           [
            0.25,
            "rgb(10,136,186)"
           ],
           [
            0.5,
            "rgb(242,211,56)"
           ],
           [
            0.75,
            "rgb(242,143,56)"
           ],
           [
            1,
            "rgb(217,30,30)"
           ]
          ],
          "line": {
           "width": 1
          },
          "opacity": 0.7,
          "showscale": true,
          "size": [
           19.7000007629,
           10.6999998093,
           28.2999992371,
           9.8000001907,
           18.3999996185,
           35,
           11.6999998093,
           8.6999998093,
           14.3000001907,
           10.8000001907,
           19.7000007629,
           2,
           5.1999998093,
           8.1999998093,
           28.2000007629,
           10.5,
           30.3999996185,
           61.7000007629,
           11.8000001907,
           26,
           5.5,
           14.3999996185,
           26.5,
           11,
           6.4000000954,
           33.2999992371,
           10.6999998093,
           14.3000001907,
           8.5,
           16.2000007629,
           9.6999998093,
           6,
           6.4000000954,
           10.8000001907,
           20.6000003815,
           10.5,
           18.2999992371,
           18.7999992371,
           6.8000001907,
           26.7999992371,
           19.6000003815,
           8.1000003815,
           14.1000003815,
           30.8999996185,
           26.2999992371,
           10.8999996185,
           37.9000015259,
           10.6000003815,
           54.2999992371,
           21,
           7.9000000954,
           17.7999992371,
           20.2000007629,
           23.7999992371,
           34.5999984741,
           21.3999996185,
           33.7999992371,
           7.4000000954,
           1.3999999762,
           10.6999998093,
           11,
           10.6999998093,
           54.7000007629,
           5.5999999046,
           23.1000003815,
           9.3000001907,
           7.0999999046,
           44.0999984741,
           17.2999992371,
           27.8999996185,
           20.2999992371,
           10.6999998093,
           30.3999996185,
           28.2999992371,
           32.4000015259,
           13.3999996185,
           12.3000001907,
           35.2000007629,
           32.9000015259,
           31.2999992371,
           7.8000001907,
           4.5999999046,
           17.2999992371,
           16.6000003815,
           0.5,
           8.8999996185,
           21.1000003815,
           3.2999999523,
           20.7999992371,
           5,
           46.2000007629,
           16.6000003815,
           36,
           26.2000007629,
           18.5,
           28.2999992371,
           5,
           18.5,
           13.1000003815,
           6.1999998093,
           26.6000003815,
           9.5,
           53.7999992371,
           10.5,
           14.3000001907,
           9.3000001907,
           41.2999992371,
           9.6000003815,
           40.7000007629,
           46.5,
           23.7000007629,
           14,
           10.1999998093,
           34.2000007629,
           7.1999998093,
           13.6999998093,
           10.6000003815,
           9.5,
           8.6000003815,
           4,
           17.7000007629,
           18.7999992371,
           8.1000003815,
           10,
           8.5,
           16.3999996185,
           5.4000000954,
           26.3999996185,
           27.3999996185,
           10.6999998093,
           37.5999984741,
           10.3999996185,
           1.6000000238,
           22.7999992371,
           15,
           0.6999999881,
           28,
           22.7000007629,
           12.3000001907,
           9,
           9.3000001907,
           5,
           11.8999996185,
           10.5,
           50.5999984741,
           17.3999996185,
           33.9000015259,
           20.6000003815,
           24.2000007629,
           42,
           33.7000007629,
           10.6000003815,
           10.6999998093,
           3.0999999046,
           15.3999996185,
           20.7000007629,
           13.3999996185,
           12.3999996185,
           32.7999992371,
           17.1000003815,
           6,
           7.4000000954,
           17.2999992371,
           18.5,
           16.5,
           20.6000003815,
           17.1000003815,
           5,
           37.2999992371,
           30.2000007629,
           52.2000007629,
           12.3000001907,
           26.6000003815,
           8.3000001907
          ]
         },
         "mode": "markers",
         "name": "Unemployment (%)",
         "text": [
          "Afghanistan",
          "Angola",
          "Albania",
          "United Arab Emirates",
          "Argentina",
          "Armenia",
          "Australia",
          "Austria",
          "Azerbaijan",
          "Burundi",
          "Belgium",
          "Benin",
          "Burkina Faso",
          "Bangladesh",
          "Bulgaria",
          "Bahrain",
          "Bahamas, The",
          "Bosnia and Herzegovina",
          "Belarus",
          "Belize",
          "Bolivia",
          "Brazil",
          "Barbados",
          "Brunei Darussalam",
          "Bhutan",
          "Botswana",
          "Central African Republic",
          "Canada",
          "Switzerland",
          "Chile",
          "China",
          "Cote d'Ivoire",
          "Cameroon",
          "Congo, Rep.",
          "Colombia",
          "Comoros",
          "Cabo Verde",
          "Costa Rica",
          "Cuba",
          "Cyprus",
          "Czech Republic",
          "Germany",
          "Denmark",
          "Dominican Republic",
          "Algeria",
          "Ecuador",
          "Egypt, Arab Rep.",
          "Eritrea",
          "Spain",
          "Estonia",
          "Ethiopia",
          "Finland",
          "Fiji",
          "France",
          "Gabon",
          "United Kingdom",
          "Georgia",
          "Ghana",
          "Guinea",
          "Gambia, The",
          "Guinea-Bissau",
          "Equatorial Guinea",
          "Greece",
          "Guatemala",
          "Guyana",
          "Hong Kong SAR, China",
          "Honduras",
          "Croatia",
          "Haiti",
          "Hungary",
          "Indonesia",
          "India",
          "Ireland",
          "Iran, Islamic Rep.",
          "Iraq",
          "Iceland",
          "Israel",
          "Italy",
          "Jamaica",
          "Jordan",
          "Japan",
          "Kazakhstan",
          "Kenya",
          "Kyrgyz Republic",
          "Cambodia",
          "Korea, Rep.",
          "Kuwait",
          "Lao PDR",
          "Lebanon",
          "Liberia",
          "Libya",
          "Sri Lanka",
          "Lesotho",
          "Lithuania",
          "Luxembourg",
          "Latvia",
          "Macao SAR, China",
          "Morocco",
          "Moldova",
          "Madagascar",
          "Maldives",
          "Mexico",
          "Macedonia, FYR",
          "Mali",
          "Malta",
          "Myanmar",
          "Montenegro",
          "Mongolia",
          "Mozambique",
          "Mauritania",
          "Mauritius",
          "Malawi",
          "Malaysia",
          "Namibia",
          "Niger",
          "Nigeria",
          "Nicaragua",
          "Netherlands",
          "Norway",
          "Nepal",
          "New Zealand",
          "Oman",
          "Pakistan",
          "Panama",
          "Peru",
          "Philippines",
          "Papua New Guinea",
          "Poland",
          "Puerto Rico",
          "Korea, Dem. People’s Rep.",
          "Portugal",
          "Paraguay",
          "Qatar",
          "Romania",
          "Russian Federation",
          "Rwanda",
          "Saudi Arabia",
          "Sudan",
          "Senegal",
          "Singapore",
          "Solomon Islands",
          "Sierra Leone",
          "El Salvador",
          "Somalia",
          "Serbia",
          "Suriname",
          "Slovak Republic",
          "Slovenia",
          "Sweden",
          "Swaziland",
          "Syrian Arab Republic",
          "Chad",
          "Togo",
          "Thailand",
          "Tajikistan",
          "Turkmenistan",
          "Timor-Leste",
          "Trinidad and Tobago",
          "Tunisia",
          "Turkey",
          "Tanzania",
          "Uganda",
          "Ukraine",
          "Uruguay",
          "United States",
          "Uzbekistan",
          "Venezuela, RB",
          "Vietnam",
          "West Bank and Gaza",
          "Yemen, Rep.",
          "South Africa",
          "Congo, Dem. Rep.",
          "Zambia",
          "Zimbabwe"
         ],
         "type": "scatter",
         "y": [
          19.7000007629,
          10.6999998093,
          28.2999992371,
          9.8000001907,
          18.3999996185,
          35,
          11.6999998093,
          8.6999998093,
          14.3000001907,
          10.8000001907,
          19.7000007629,
          2,
          5.1999998093,
          8.1999998093,
          28.2000007629,
          10.5,
          30.3999996185,
          61.7000007629,
          11.8000001907,
          26,
          5.5,
          14.3999996185,
          26.5,
          11,
          6.4000000954,
          33.2999992371,
          10.6999998093,
          14.3000001907,
          8.5,
          16.2000007629,
          9.6999998093,
          6,
          6.4000000954,
          10.8000001907,
          20.6000003815,
          10.5,
          18.2999992371,
          18.7999992371,
          6.8000001907,
          26.7999992371,
          19.6000003815,
          8.1000003815,
          14.1000003815,
          30.8999996185,
          26.2999992371,
          10.8999996185,
          37.9000015259,
          10.6000003815,
          54.2999992371,
          21,
          7.9000000954,
          17.7999992371,
          20.2000007629,
          23.7999992371,
          34.5999984741,
          21.3999996185,
          33.7999992371,
          7.4000000954,
          1.3999999762,
          10.6999998093,
          11,
          10.6999998093,
          54.7000007629,
          5.5999999046,
          23.1000003815,
          9.3000001907,
          7.0999999046,
          44.0999984741,
          17.2999992371,
          27.8999996185,
          20.2999992371,
          10.6999998093,
          30.3999996185,
          28.2999992371,
          32.4000015259,
          13.3999996185,
          12.3000001907,
          35.2000007629,
          32.9000015259,
          31.2999992371,
          7.8000001907,
          4.5999999046,
          17.2999992371,
          16.6000003815,
          0.5,
          8.8999996185,
          21.1000003815,
          3.2999999523,
          20.7999992371,
          5,
          46.2000007629,
          16.6000003815,
          36,
          26.2000007629,
          18.5,
          28.2999992371,
          5,
          18.5,
          13.1000003815,
          6.1999998093,
          26.6000003815,
          9.5,
          53.7999992371,
          10.5,
          14.3000001907,
          9.3000001907,
          41.2999992371,
          9.6000003815,
          40.7000007629,
          46.5,
          23.7000007629,
          14,
          10.1999998093,
          34.2000007629,
          7.1999998093,
          13.6999998093,
          10.6000003815,
          9.5,
          8.6000003815,
          4,
          17.7000007629,
          18.7999992371,
          8.1000003815,
          10,
          8.5,
          16.3999996185,
          5.4000000954,
          26.3999996185,
          27.3999996185,
          10.6999998093,
          37.5999984741,
          10.3999996185,
          1.6000000238,
          22.7999992371,
          15,
          0.6999999881,
          28,
          22.7000007629,
          12.3000001907,
          9,
          9.3000001907,
          5,
          11.8999996185,
          10.5,
          50.5999984741,
          17.3999996185,
          33.9000015259,
          20.6000003815,
          24.2000007629,
          42,
          33.7000007629,
          10.6000003815,
          10.6999998093,
          3.0999999046,
          15.3999996185,
          20.7000007629,
          13.3999996185,
          12.3999996185,
          32.7999992371,
          17.1000003815,
          6,
          7.4000000954,
          17.2999992371,
          18.5,
          16.5,
          20.6000003815,
          17.1000003815,
          5,
          37.2999992371,
          30.2000007629,
          52.2000007629,
          12.3000001907,
          26.6000003815,
          8.3000001907
         ]
        }
       ],
       "layout": {
        "hovermode": "closest",
        "showlegend": false,
        "template": {
         "data": {
          "bar": [
           {
            "error_x": {
             "color": "#2a3f5f"
            },
            "error_y": {
             "color": "#2a3f5f"
            },
            "marker": {
             "line": {
              "color": "#E5ECF6",
              "width": 0.5
             },
             "pattern": {
              "fillmode": "overlay",
              "size": 10,
              "solidity": 0.2
             }
            },
            "type": "bar"
           }
          ],
          "barpolar": [
           {
            "marker": {
             "line": {
              "color": "#E5ECF6",
              "width": 0.5
             },
             "pattern": {
              "fillmode": "overlay",
              "size": 10,
              "solidity": 0.2
             }
            },
            "type": "barpolar"
           }
          ],
          "carpet": [
           {
            "aaxis": {
             "endlinecolor": "#2a3f5f",
             "gridcolor": "white",
             "linecolor": "white",
             "minorgridcolor": "white",
             "startlinecolor": "#2a3f5f"
            },
            "baxis": {
             "endlinecolor": "#2a3f5f",
             "gridcolor": "white",
             "linecolor": "white",
             "minorgridcolor": "white",
             "startlinecolor": "#2a3f5f"
            },
            "type": "carpet"
           }
          ],
          "choropleth": [
           {
            "colorbar": {
             "outlinewidth": 0,
             "ticks": ""
            },
            "type": "choropleth"
           }
          ],
          "contour": [
           {
            "colorbar": {
             "outlinewidth": 0,
             "ticks": ""
            },
            "colorscale": [
             [
              0,
              "#0d0887"
             ],
             [
              0.1111111111111111,
              "#46039f"
             ],
             [
              0.2222222222222222,
              "#7201a8"
             ],
             [
              0.3333333333333333,
              "#9c179e"
             ],
             [
              0.4444444444444444,
              "#bd3786"
             ],
             [
              0.5555555555555556,
              "#d8576b"
             ],
             [
              0.6666666666666666,
              "#ed7953"
             ],
             [
              0.7777777777777778,
              "#fb9f3a"
             ],
             [
              0.8888888888888888,
              "#fdca26"
             ],
             [
              1,
              "#f0f921"
             ]
            ],
            "type": "contour"
           }
          ],
          "contourcarpet": [
           {
            "colorbar": {
             "outlinewidth": 0,
             "ticks": ""
            },
            "type": "contourcarpet"
           }
          ],
          "heatmap": [
           {
            "colorbar": {
             "outlinewidth": 0,
             "ticks": ""
            },
            "colorscale": [
             [
              0,
              "#0d0887"
             ],
             [
              0.1111111111111111,
              "#46039f"
             ],
             [
              0.2222222222222222,
              "#7201a8"
             ],
             [
              0.3333333333333333,
              "#9c179e"
             ],
             [
              0.4444444444444444,
              "#bd3786"
             ],
             [
              0.5555555555555556,
              "#d8576b"
             ],
             [
              0.6666666666666666,
              "#ed7953"
             ],
             [
              0.7777777777777778,
              "#fb9f3a"
             ],
             [
              0.8888888888888888,
              "#fdca26"
             ],
             [
              1,
              "#f0f921"
             ]
            ],
            "type": "heatmap"
           }
          ],
          "heatmapgl": [
           {
            "colorbar": {
             "outlinewidth": 0,
             "ticks": ""
            },
            "colorscale": [
             [
              0,
              "#0d0887"
             ],
             [
              0.1111111111111111,
              "#46039f"
             ],
             [
              0.2222222222222222,
              "#7201a8"
             ],
             [
              0.3333333333333333,
              "#9c179e"
             ],
             [
              0.4444444444444444,
              "#bd3786"
             ],
             [
              0.5555555555555556,
              "#d8576b"
             ],
             [
              0.6666666666666666,
              "#ed7953"
             ],
             [
              0.7777777777777778,
              "#fb9f3a"
             ],
             [
              0.8888888888888888,
              "#fdca26"
             ],
             [
              1,
              "#f0f921"
             ]
            ],
            "type": "heatmapgl"
           }
          ],
          "histogram": [
           {
            "marker": {
             "pattern": {
              "fillmode": "overlay",
              "size": 10,
              "solidity": 0.2
             }
            },
            "type": "histogram"
           }
          ],
          "histogram2d": [
           {
            "colorbar": {
             "outlinewidth": 0,
             "ticks": ""
            },
            "colorscale": [
             [
              0,
              "#0d0887"
             ],
             [
              0.1111111111111111,
              "#46039f"
             ],
             [
              0.2222222222222222,
              "#7201a8"
             ],
             [
              0.3333333333333333,
              "#9c179e"
             ],
             [
              0.4444444444444444,
              "#bd3786"
             ],
             [
              0.5555555555555556,
              "#d8576b"
             ],
             [
              0.6666666666666666,
              "#ed7953"
             ],
             [
              0.7777777777777778,
              "#fb9f3a"
             ],
             [
              0.8888888888888888,
              "#fdca26"
             ],
             [
              1,
              "#f0f921"
             ]
            ],
            "type": "histogram2d"
           }
          ],
          "histogram2dcontour": [
           {
            "colorbar": {
             "outlinewidth": 0,
             "ticks": ""
            },
            "colorscale": [
             [
              0,
              "#0d0887"
             ],
             [
              0.1111111111111111,
              "#46039f"
             ],
             [
              0.2222222222222222,
              "#7201a8"
             ],
             [
              0.3333333333333333,
              "#9c179e"
             ],
             [
              0.4444444444444444,
              "#bd3786"
             ],
             [
              0.5555555555555556,
              "#d8576b"
             ],
             [
              0.6666666666666666,
              "#ed7953"
             ],
             [
              0.7777777777777778,
              "#fb9f3a"
             ],
             [
              0.8888888888888888,
              "#fdca26"
             ],
             [
              1,
              "#f0f921"
             ]
            ],
            "type": "histogram2dcontour"
           }
          ],
          "mesh3d": [
           {
            "colorbar": {
             "outlinewidth": 0,
             "ticks": ""
            },
            "type": "mesh3d"
           }
          ],
          "parcoords": [
           {
            "line": {
             "colorbar": {
              "outlinewidth": 0,
              "ticks": ""
             }
            },
            "type": "parcoords"
           }
          ],
          "pie": [
           {
            "automargin": true,
            "type": "pie"
           }
          ],
          "scatter": [
           {
            "fillpattern": {
             "fillmode": "overlay",
             "size": 10,
             "solidity": 0.2
            },
            "type": "scatter"
           }
          ],
          "scatter3d": [
           {
            "line": {
             "colorbar": {
              "outlinewidth": 0,
              "ticks": ""
             }
            },
            "marker": {
             "colorbar": {
              "outlinewidth": 0,
              "ticks": ""
             }
            },
            "type": "scatter3d"
           }
          ],
          "scattercarpet": [
           {
            "marker": {
             "colorbar": {
              "outlinewidth": 0,
              "ticks": ""
             }
            },
            "type": "scattercarpet"
           }
          ],
          "scattergeo": [
           {
            "marker": {
             "colorbar": {
              "outlinewidth": 0,
              "ticks": ""
             }
            },
            "type": "scattergeo"
           }
          ],
          "scattergl": [
           {
            "marker": {
             "colorbar": {
              "outlinewidth": 0,
              "ticks": ""
             }
            },
            "type": "scattergl"
           }
          ],
          "scattermapbox": [
           {
            "marker": {
             "colorbar": {
              "outlinewidth": 0,
              "ticks": ""
             }
            },
            "type": "scattermapbox"
           }
          ],
          "scatterpolar": [
           {
            "marker": {
             "colorbar": {
              "outlinewidth": 0,
              "ticks": ""
             }
            },
            "type": "scatterpolar"
           }
          ],
          "scatterpolargl": [
           {
            "marker": {
             "colorbar": {
              "outlinewidth": 0,
              "ticks": ""
             }
            },
            "type": "scatterpolargl"
           }
          ],
          "scatterternary": [
           {
            "marker": {
             "colorbar": {
              "outlinewidth": 0,
              "ticks": ""
             }
            },
            "type": "scatterternary"
           }
          ],
          "surface": [
           {
            "colorbar": {
             "outlinewidth": 0,
             "ticks": ""
            },
            "colorscale": [
             [
              0,
              "#0d0887"
             ],
             [
              0.1111111111111111,
              "#46039f"
             ],
             [
              0.2222222222222222,
              "#7201a8"
             ],
             [
              0.3333333333333333,
              "#9c179e"
             ],
             [
              0.4444444444444444,
              "#bd3786"
             ],
             [
              0.5555555555555556,
              "#d8576b"
             ],
             [
              0.6666666666666666,
              "#ed7953"
             ],
             [
              0.7777777777777778,
              "#fb9f3a"
             ],
             [
              0.8888888888888888,
              "#fdca26"
             ],
             [
              1,
              "#f0f921"
             ]
            ],
            "type": "surface"
           }
          ],
          "table": [
           {
            "cells": {
             "fill": {
              "color": "#EBF0F8"
             },
             "line": {
              "color": "white"
             }
            },
            "header": {
             "fill": {
              "color": "#C8D4E3"
             },
             "line": {
              "color": "white"
             }
            },
            "type": "table"
           }
          ]
         },
         "layout": {
          "annotationdefaults": {
           "arrowcolor": "#2a3f5f",
           "arrowhead": 0,
           "arrowwidth": 1
          },
          "autotypenumbers": "strict",
          "coloraxis": {
           "colorbar": {
            "outlinewidth": 0,
            "ticks": ""
           }
          },
          "colorscale": {
           "diverging": [
            [
             0,
             "#8e0152"
            ],
            [
             0.1,
             "#c51b7d"
            ],
            [
             0.2,
             "#de77ae"
            ],
            [
             0.3,
             "#f1b6da"
            ],
            [
             0.4,
             "#fde0ef"
            ],
            [
             0.5,
             "#f7f7f7"
            ],
            [
             0.6,
             "#e6f5d0"
            ],
            [
             0.7,
             "#b8e186"
            ],
            [
             0.8,
             "#7fbc41"
            ],
            [
             0.9,
             "#4d9221"
            ],
            [
             1,
             "#276419"
            ]
           ],
           "sequential": [
            [
             0,
             "#0d0887"
            ],
            [
             0.1111111111111111,
             "#46039f"
            ],
            [
             0.2222222222222222,
             "#7201a8"
            ],
            [
             0.3333333333333333,
             "#9c179e"
            ],
            [
             0.4444444444444444,
             "#bd3786"
            ],
            [
             0.5555555555555556,
             "#d8576b"
            ],
            [
             0.6666666666666666,
             "#ed7953"
            ],
            [
             0.7777777777777778,
             "#fb9f3a"
            ],
            [
             0.8888888888888888,
             "#fdca26"
            ],
            [
             1,
             "#f0f921"
            ]
           ],
           "sequentialminus": [
            [
             0,
             "#0d0887"
            ],
            [
             0.1111111111111111,
             "#46039f"
            ],
            [
             0.2222222222222222,
             "#7201a8"
            ],
            [
             0.3333333333333333,
             "#9c179e"
            ],
            [
             0.4444444444444444,
             "#bd3786"
            ],
            [
             0.5555555555555556,
             "#d8576b"
            ],
            [
             0.6666666666666666,
             "#ed7953"
            ],
            [
             0.7777777777777778,
             "#fb9f3a"
            ],
            [
             0.8888888888888888,
             "#fdca26"
            ],
            [
             1,
             "#f0f921"
            ]
           ]
          },
          "colorway": [
           "#636efa",
           "#EF553B",
           "#00cc96",
           "#ab63fa",
           "#FFA15A",
           "#19d3f3",
           "#FF6692",
           "#B6E880",
           "#FF97FF",
           "#FECB52"
          ],
          "font": {
           "color": "#2a3f5f"
          },
          "geo": {
           "bgcolor": "white",
           "lakecolor": "white",
           "landcolor": "#E5ECF6",
           "showlakes": true,
           "showland": true,
           "subunitcolor": "white"
          },
          "hoverlabel": {
           "align": "left"
          },
          "hovermode": "closest",
          "mapbox": {
           "style": "light"
          },
          "paper_bgcolor": "white",
          "plot_bgcolor": "#E5ECF6",
          "polar": {
           "angularaxis": {
            "gridcolor": "white",
            "linecolor": "white",
            "ticks": ""
           },
           "bgcolor": "#E5ECF6",
           "radialaxis": {
            "gridcolor": "white",
            "linecolor": "white",
            "ticks": ""
           }
          },
          "scene": {
           "xaxis": {
            "backgroundcolor": "#E5ECF6",
            "gridcolor": "white",
            "gridwidth": 2,
            "linecolor": "white",
            "showbackground": true,
            "ticks": "",
            "zerolinecolor": "white"
           },
           "yaxis": {
            "backgroundcolor": "#E5ECF6",
            "gridcolor": "white",
            "gridwidth": 2,
            "linecolor": "white",
            "showbackground": true,
            "ticks": "",
            "zerolinecolor": "white"
           },
           "zaxis": {
            "backgroundcolor": "#E5ECF6",
            "gridcolor": "white",
            "gridwidth": 2,
            "linecolor": "white",
            "showbackground": true,
            "ticks": "",
            "zerolinecolor": "white"
           }
          },
          "shapedefaults": {
           "line": {
            "color": "#2a3f5f"
           }
          },
          "ternary": {
           "aaxis": {
            "gridcolor": "white",
            "linecolor": "white",
            "ticks": ""
           },
           "baxis": {
            "gridcolor": "white",
            "linecolor": "white",
            "ticks": ""
           },
           "bgcolor": "#E5ECF6",
           "caxis": {
            "gridcolor": "white",
            "linecolor": "white",
            "ticks": ""
           }
          },
          "title": {
           "x": 0.05
          },
          "xaxis": {
           "automargin": true,
           "gridcolor": "white",
           "linecolor": "white",
           "ticks": "",
           "title": {
            "standoff": 15
           },
           "zerolinecolor": "white",
           "zerolinewidth": 2
          },
          "yaxis": {
           "automargin": true,
           "gridcolor": "white",
           "linecolor": "white",
           "ticks": "",
           "title": {
            "standoff": 15
           },
           "zerolinecolor": "white",
           "zerolinewidth": 2
          }
         }
        },
        "title": {
         "text": "Scatter plot of unemployment rates in 2012"
        },
        "xaxis": {
         "gridwidth": 2,
         "ticklen": 5,
         "zeroline": false
        },
        "yaxis": {
         "gridwidth": 2,
         "ticklen": 5,
         "title": {
          "text": "Unemployment Rate (%)"
         }
        }
       }
      },
      "text/html": [
       "<div>                            <div id=\"6eea2462-67a8-4ae1-8769-8f6ac68ba143\" class=\"plotly-graph-div\" style=\"height:525px; width:100%;\"></div>            <script type=\"text/javascript\">                require([\"plotly\"], function(Plotly) {                    window.PLOTLYENV=window.PLOTLYENV || {};                                    if (document.getElementById(\"6eea2462-67a8-4ae1-8769-8f6ac68ba143\")) {                    Plotly.newPlot(                        \"6eea2462-67a8-4ae1-8769-8f6ac68ba143\",                        [{\"marker\":{\"color\":[19.7000007629,10.6999998093,28.2999992371,9.8000001907,18.3999996185,35.0,11.6999998093,8.6999998093,14.3000001907,10.8000001907,19.7000007629,2.0,5.1999998093,8.1999998093,28.2000007629,10.5,30.3999996185,61.7000007629,11.8000001907,26.0,5.5,14.3999996185,26.5,11.0,6.4000000954,33.2999992371,10.6999998093,14.3000001907,8.5,16.2000007629,9.6999998093,6.0,6.4000000954,10.8000001907,20.6000003815,10.5,18.2999992371,18.7999992371,6.8000001907,26.7999992371,19.6000003815,8.1000003815,14.1000003815,30.8999996185,26.2999992371,10.8999996185,37.9000015259,10.6000003815,54.2999992371,21.0,7.9000000954,17.7999992371,20.2000007629,23.7999992371,34.5999984741,21.3999996185,33.7999992371,7.4000000954,1.3999999762,10.6999998093,11.0,10.6999998093,54.7000007629,5.5999999046,23.1000003815,9.3000001907,7.0999999046,44.0999984741,17.2999992371,27.8999996185,20.2999992371,10.6999998093,30.3999996185,28.2999992371,32.4000015259,13.3999996185,12.3000001907,35.2000007629,32.9000015259,31.2999992371,7.8000001907,4.5999999046,17.2999992371,16.6000003815,0.5,8.8999996185,21.1000003815,3.2999999523,20.7999992371,5.0,46.2000007629,16.6000003815,36.0,26.2000007629,18.5,28.2999992371,5.0,18.5,13.1000003815,6.1999998093,26.6000003815,9.5,53.7999992371,10.5,14.3000001907,9.3000001907,41.2999992371,9.6000003815,40.7000007629,46.5,23.7000007629,14.0,10.1999998093,34.2000007629,7.1999998093,13.6999998093,10.6000003815,9.5,8.6000003815,4.0,17.7000007629,18.7999992371,8.1000003815,10.0,8.5,16.3999996185,5.4000000954,26.3999996185,27.3999996185,10.6999998093,37.5999984741,10.3999996185,1.6000000238,22.7999992371,15.0,0.6999999881,28.0,22.7000007629,12.3000001907,9.0,9.3000001907,5.0,11.8999996185,10.5,50.5999984741,17.3999996185,33.9000015259,20.6000003815,24.2000007629,42.0,33.7000007629,10.6000003815,10.6999998093,3.0999999046,15.3999996185,20.7000007629,13.3999996185,12.3999996185,32.7999992371,17.1000003815,6.0,7.4000000954,17.2999992371,18.5,16.5,20.6000003815,17.1000003815,5.0,37.2999992371,30.2000007629,52.2000007629,12.3000001907,26.6000003815,8.3000001907],\"colorscale\":[[0.0,\"rgb(12,51,131)\"],[0.25,\"rgb(10,136,186)\"],[0.5,\"rgb(242,211,56)\"],[0.75,\"rgb(242,143,56)\"],[1.0,\"rgb(217,30,30)\"]],\"line\":{\"width\":1},\"opacity\":0.7,\"showscale\":true,\"size\":[19.7000007629,10.6999998093,28.2999992371,9.8000001907,18.3999996185,35.0,11.6999998093,8.6999998093,14.3000001907,10.8000001907,19.7000007629,2.0,5.1999998093,8.1999998093,28.2000007629,10.5,30.3999996185,61.7000007629,11.8000001907,26.0,5.5,14.3999996185,26.5,11.0,6.4000000954,33.2999992371,10.6999998093,14.3000001907,8.5,16.2000007629,9.6999998093,6.0,6.4000000954,10.8000001907,20.6000003815,10.5,18.2999992371,18.7999992371,6.8000001907,26.7999992371,19.6000003815,8.1000003815,14.1000003815,30.8999996185,26.2999992371,10.8999996185,37.9000015259,10.6000003815,54.2999992371,21.0,7.9000000954,17.7999992371,20.2000007629,23.7999992371,34.5999984741,21.3999996185,33.7999992371,7.4000000954,1.3999999762,10.6999998093,11.0,10.6999998093,54.7000007629,5.5999999046,23.1000003815,9.3000001907,7.0999999046,44.0999984741,17.2999992371,27.8999996185,20.2999992371,10.6999998093,30.3999996185,28.2999992371,32.4000015259,13.3999996185,12.3000001907,35.2000007629,32.9000015259,31.2999992371,7.8000001907,4.5999999046,17.2999992371,16.6000003815,0.5,8.8999996185,21.1000003815,3.2999999523,20.7999992371,5.0,46.2000007629,16.6000003815,36.0,26.2000007629,18.5,28.2999992371,5.0,18.5,13.1000003815,6.1999998093,26.6000003815,9.5,53.7999992371,10.5,14.3000001907,9.3000001907,41.2999992371,9.6000003815,40.7000007629,46.5,23.7000007629,14.0,10.1999998093,34.2000007629,7.1999998093,13.6999998093,10.6000003815,9.5,8.6000003815,4.0,17.7000007629,18.7999992371,8.1000003815,10.0,8.5,16.3999996185,5.4000000954,26.3999996185,27.3999996185,10.6999998093,37.5999984741,10.3999996185,1.6000000238,22.7999992371,15.0,0.6999999881,28.0,22.7000007629,12.3000001907,9.0,9.3000001907,5.0,11.8999996185,10.5,50.5999984741,17.3999996185,33.9000015259,20.6000003815,24.2000007629,42.0,33.7000007629,10.6000003815,10.6999998093,3.0999999046,15.3999996185,20.7000007629,13.3999996185,12.3999996185,32.7999992371,17.1000003815,6.0,7.4000000954,17.2999992371,18.5,16.5,20.6000003815,17.1000003815,5.0,37.2999992371,30.2000007629,52.2000007629,12.3000001907,26.6000003815,8.3000001907]},\"mode\":\"markers\",\"name\":\"Unemployment (%)\",\"text\":[\"Afghanistan\",\"Angola\",\"Albania\",\"United Arab Emirates\",\"Argentina\",\"Armenia\",\"Australia\",\"Austria\",\"Azerbaijan\",\"Burundi\",\"Belgium\",\"Benin\",\"Burkina Faso\",\"Bangladesh\",\"Bulgaria\",\"Bahrain\",\"Bahamas, The\",\"Bosnia and Herzegovina\",\"Belarus\",\"Belize\",\"Bolivia\",\"Brazil\",\"Barbados\",\"Brunei Darussalam\",\"Bhutan\",\"Botswana\",\"Central African Republic\",\"Canada\",\"Switzerland\",\"Chile\",\"China\",\"Cote d'Ivoire\",\"Cameroon\",\"Congo, Rep.\",\"Colombia\",\"Comoros\",\"Cabo Verde\",\"Costa Rica\",\"Cuba\",\"Cyprus\",\"Czech Republic\",\"Germany\",\"Denmark\",\"Dominican Republic\",\"Algeria\",\"Ecuador\",\"Egypt, Arab Rep.\",\"Eritrea\",\"Spain\",\"Estonia\",\"Ethiopia\",\"Finland\",\"Fiji\",\"France\",\"Gabon\",\"United Kingdom\",\"Georgia\",\"Ghana\",\"Guinea\",\"Gambia, The\",\"Guinea-Bissau\",\"Equatorial Guinea\",\"Greece\",\"Guatemala\",\"Guyana\",\"Hong Kong SAR, China\",\"Honduras\",\"Croatia\",\"Haiti\",\"Hungary\",\"Indonesia\",\"India\",\"Ireland\",\"Iran, Islamic Rep.\",\"Iraq\",\"Iceland\",\"Israel\",\"Italy\",\"Jamaica\",\"Jordan\",\"Japan\",\"Kazakhstan\",\"Kenya\",\"Kyrgyz Republic\",\"Cambodia\",\"Korea, Rep.\",\"Kuwait\",\"Lao PDR\",\"Lebanon\",\"Liberia\",\"Libya\",\"Sri Lanka\",\"Lesotho\",\"Lithuania\",\"Luxembourg\",\"Latvia\",\"Macao SAR, China\",\"Morocco\",\"Moldova\",\"Madagascar\",\"Maldives\",\"Mexico\",\"Macedonia, FYR\",\"Mali\",\"Malta\",\"Myanmar\",\"Montenegro\",\"Mongolia\",\"Mozambique\",\"Mauritania\",\"Mauritius\",\"Malawi\",\"Malaysia\",\"Namibia\",\"Niger\",\"Nigeria\",\"Nicaragua\",\"Netherlands\",\"Norway\",\"Nepal\",\"New Zealand\",\"Oman\",\"Pakistan\",\"Panama\",\"Peru\",\"Philippines\",\"Papua New Guinea\",\"Poland\",\"Puerto Rico\",\"Korea, Dem. People\\u2019s Rep.\",\"Portugal\",\"Paraguay\",\"Qatar\",\"Romania\",\"Russian Federation\",\"Rwanda\",\"Saudi Arabia\",\"Sudan\",\"Senegal\",\"Singapore\",\"Solomon Islands\",\"Sierra Leone\",\"El Salvador\",\"Somalia\",\"Serbia\",\"Suriname\",\"Slovak Republic\",\"Slovenia\",\"Sweden\",\"Swaziland\",\"Syrian Arab Republic\",\"Chad\",\"Togo\",\"Thailand\",\"Tajikistan\",\"Turkmenistan\",\"Timor-Leste\",\"Trinidad and Tobago\",\"Tunisia\",\"Turkey\",\"Tanzania\",\"Uganda\",\"Ukraine\",\"Uruguay\",\"United States\",\"Uzbekistan\",\"Venezuela, RB\",\"Vietnam\",\"West Bank and Gaza\",\"Yemen, Rep.\",\"South Africa\",\"Congo, Dem. Rep.\",\"Zambia\",\"Zimbabwe\"],\"y\":[19.7000007629,10.6999998093,28.2999992371,9.8000001907,18.3999996185,35.0,11.6999998093,8.6999998093,14.3000001907,10.8000001907,19.7000007629,2.0,5.1999998093,8.1999998093,28.2000007629,10.5,30.3999996185,61.7000007629,11.8000001907,26.0,5.5,14.3999996185,26.5,11.0,6.4000000954,33.2999992371,10.6999998093,14.3000001907,8.5,16.2000007629,9.6999998093,6.0,6.4000000954,10.8000001907,20.6000003815,10.5,18.2999992371,18.7999992371,6.8000001907,26.7999992371,19.6000003815,8.1000003815,14.1000003815,30.8999996185,26.2999992371,10.8999996185,37.9000015259,10.6000003815,54.2999992371,21.0,7.9000000954,17.7999992371,20.2000007629,23.7999992371,34.5999984741,21.3999996185,33.7999992371,7.4000000954,1.3999999762,10.6999998093,11.0,10.6999998093,54.7000007629,5.5999999046,23.1000003815,9.3000001907,7.0999999046,44.0999984741,17.2999992371,27.8999996185,20.2999992371,10.6999998093,30.3999996185,28.2999992371,32.4000015259,13.3999996185,12.3000001907,35.2000007629,32.9000015259,31.2999992371,7.8000001907,4.5999999046,17.2999992371,16.6000003815,0.5,8.8999996185,21.1000003815,3.2999999523,20.7999992371,5.0,46.2000007629,16.6000003815,36.0,26.2000007629,18.5,28.2999992371,5.0,18.5,13.1000003815,6.1999998093,26.6000003815,9.5,53.7999992371,10.5,14.3000001907,9.3000001907,41.2999992371,9.6000003815,40.7000007629,46.5,23.7000007629,14.0,10.1999998093,34.2000007629,7.1999998093,13.6999998093,10.6000003815,9.5,8.6000003815,4.0,17.7000007629,18.7999992371,8.1000003815,10.0,8.5,16.3999996185,5.4000000954,26.3999996185,27.3999996185,10.6999998093,37.5999984741,10.3999996185,1.6000000238,22.7999992371,15.0,0.6999999881,28.0,22.7000007629,12.3000001907,9.0,9.3000001907,5.0,11.8999996185,10.5,50.5999984741,17.3999996185,33.9000015259,20.6000003815,24.2000007629,42.0,33.7000007629,10.6000003815,10.6999998093,3.0999999046,15.3999996185,20.7000007629,13.3999996185,12.3999996185,32.7999992371,17.1000003815,6.0,7.4000000954,17.2999992371,18.5,16.5,20.6000003815,17.1000003815,5.0,37.2999992371,30.2000007629,52.2000007629,12.3000001907,26.6000003815,8.3000001907],\"type\":\"scatter\"}],                        {\"hovermode\":\"closest\",\"showlegend\":false,\"template\":{\"data\":{\"barpolar\":[{\"marker\":{\"line\":{\"color\":\"#E5ECF6\",\"width\":0.5},\"pattern\":{\"fillmode\":\"overlay\",\"size\":10,\"solidity\":0.2}},\"type\":\"barpolar\"}],\"bar\":[{\"error_x\":{\"color\":\"#2a3f5f\"},\"error_y\":{\"color\":\"#2a3f5f\"},\"marker\":{\"line\":{\"color\":\"#E5ECF6\",\"width\":0.5},\"pattern\":{\"fillmode\":\"overlay\",\"size\":10,\"solidity\":0.2}},\"type\":\"bar\"}],\"carpet\":[{\"aaxis\":{\"endlinecolor\":\"#2a3f5f\",\"gridcolor\":\"white\",\"linecolor\":\"white\",\"minorgridcolor\":\"white\",\"startlinecolor\":\"#2a3f5f\"},\"baxis\":{\"endlinecolor\":\"#2a3f5f\",\"gridcolor\":\"white\",\"linecolor\":\"white\",\"minorgridcolor\":\"white\",\"startlinecolor\":\"#2a3f5f\"},\"type\":\"carpet\"}],\"choropleth\":[{\"colorbar\":{\"outlinewidth\":0,\"ticks\":\"\"},\"type\":\"choropleth\"}],\"contourcarpet\":[{\"colorbar\":{\"outlinewidth\":0,\"ticks\":\"\"},\"type\":\"contourcarpet\"}],\"contour\":[{\"colorbar\":{\"outlinewidth\":0,\"ticks\":\"\"},\"colorscale\":[[0.0,\"#0d0887\"],[0.1111111111111111,\"#46039f\"],[0.2222222222222222,\"#7201a8\"],[0.3333333333333333,\"#9c179e\"],[0.4444444444444444,\"#bd3786\"],[0.5555555555555556,\"#d8576b\"],[0.6666666666666666,\"#ed7953\"],[0.7777777777777778,\"#fb9f3a\"],[0.8888888888888888,\"#fdca26\"],[1.0,\"#f0f921\"]],\"type\":\"contour\"}],\"heatmapgl\":[{\"colorbar\":{\"outlinewidth\":0,\"ticks\":\"\"},\"colorscale\":[[0.0,\"#0d0887\"],[0.1111111111111111,\"#46039f\"],[0.2222222222222222,\"#7201a8\"],[0.3333333333333333,\"#9c179e\"],[0.4444444444444444,\"#bd3786\"],[0.5555555555555556,\"#d8576b\"],[0.6666666666666666,\"#ed7953\"],[0.7777777777777778,\"#fb9f3a\"],[0.8888888888888888,\"#fdca26\"],[1.0,\"#f0f921\"]],\"type\":\"heatmapgl\"}],\"heatmap\":[{\"colorbar\":{\"outlinewidth\":0,\"ticks\":\"\"},\"colorscale\":[[0.0,\"#0d0887\"],[0.1111111111111111,\"#46039f\"],[0.2222222222222222,\"#7201a8\"],[0.3333333333333333,\"#9c179e\"],[0.4444444444444444,\"#bd3786\"],[0.5555555555555556,\"#d8576b\"],[0.6666666666666666,\"#ed7953\"],[0.7777777777777778,\"#fb9f3a\"],[0.8888888888888888,\"#fdca26\"],[1.0,\"#f0f921\"]],\"type\":\"heatmap\"}],\"histogram2dcontour\":[{\"colorbar\":{\"outlinewidth\":0,\"ticks\":\"\"},\"colorscale\":[[0.0,\"#0d0887\"],[0.1111111111111111,\"#46039f\"],[0.2222222222222222,\"#7201a8\"],[0.3333333333333333,\"#9c179e\"],[0.4444444444444444,\"#bd3786\"],[0.5555555555555556,\"#d8576b\"],[0.6666666666666666,\"#ed7953\"],[0.7777777777777778,\"#fb9f3a\"],[0.8888888888888888,\"#fdca26\"],[1.0,\"#f0f921\"]],\"type\":\"histogram2dcontour\"}],\"histogram2d\":[{\"colorbar\":{\"outlinewidth\":0,\"ticks\":\"\"},\"colorscale\":[[0.0,\"#0d0887\"],[0.1111111111111111,\"#46039f\"],[0.2222222222222222,\"#7201a8\"],[0.3333333333333333,\"#9c179e\"],[0.4444444444444444,\"#bd3786\"],[0.5555555555555556,\"#d8576b\"],[0.6666666666666666,\"#ed7953\"],[0.7777777777777778,\"#fb9f3a\"],[0.8888888888888888,\"#fdca26\"],[1.0,\"#f0f921\"]],\"type\":\"histogram2d\"}],\"histogram\":[{\"marker\":{\"pattern\":{\"fillmode\":\"overlay\",\"size\":10,\"solidity\":0.2}},\"type\":\"histogram\"}],\"mesh3d\":[{\"colorbar\":{\"outlinewidth\":0,\"ticks\":\"\"},\"type\":\"mesh3d\"}],\"parcoords\":[{\"line\":{\"colorbar\":{\"outlinewidth\":0,\"ticks\":\"\"}},\"type\":\"parcoords\"}],\"pie\":[{\"automargin\":true,\"type\":\"pie\"}],\"scatter3d\":[{\"line\":{\"colorbar\":{\"outlinewidth\":0,\"ticks\":\"\"}},\"marker\":{\"colorbar\":{\"outlinewidth\":0,\"ticks\":\"\"}},\"type\":\"scatter3d\"}],\"scattercarpet\":[{\"marker\":{\"colorbar\":{\"outlinewidth\":0,\"ticks\":\"\"}},\"type\":\"scattercarpet\"}],\"scattergeo\":[{\"marker\":{\"colorbar\":{\"outlinewidth\":0,\"ticks\":\"\"}},\"type\":\"scattergeo\"}],\"scattergl\":[{\"marker\":{\"colorbar\":{\"outlinewidth\":0,\"ticks\":\"\"}},\"type\":\"scattergl\"}],\"scattermapbox\":[{\"marker\":{\"colorbar\":{\"outlinewidth\":0,\"ticks\":\"\"}},\"type\":\"scattermapbox\"}],\"scatterpolargl\":[{\"marker\":{\"colorbar\":{\"outlinewidth\":0,\"ticks\":\"\"}},\"type\":\"scatterpolargl\"}],\"scatterpolar\":[{\"marker\":{\"colorbar\":{\"outlinewidth\":0,\"ticks\":\"\"}},\"type\":\"scatterpolar\"}],\"scatter\":[{\"fillpattern\":{\"fillmode\":\"overlay\",\"size\":10,\"solidity\":0.2},\"type\":\"scatter\"}],\"scatterternary\":[{\"marker\":{\"colorbar\":{\"outlinewidth\":0,\"ticks\":\"\"}},\"type\":\"scatterternary\"}],\"surface\":[{\"colorbar\":{\"outlinewidth\":0,\"ticks\":\"\"},\"colorscale\":[[0.0,\"#0d0887\"],[0.1111111111111111,\"#46039f\"],[0.2222222222222222,\"#7201a8\"],[0.3333333333333333,\"#9c179e\"],[0.4444444444444444,\"#bd3786\"],[0.5555555555555556,\"#d8576b\"],[0.6666666666666666,\"#ed7953\"],[0.7777777777777778,\"#fb9f3a\"],[0.8888888888888888,\"#fdca26\"],[1.0,\"#f0f921\"]],\"type\":\"surface\"}],\"table\":[{\"cells\":{\"fill\":{\"color\":\"#EBF0F8\"},\"line\":{\"color\":\"white\"}},\"header\":{\"fill\":{\"color\":\"#C8D4E3\"},\"line\":{\"color\":\"white\"}},\"type\":\"table\"}]},\"layout\":{\"annotationdefaults\":{\"arrowcolor\":\"#2a3f5f\",\"arrowhead\":0,\"arrowwidth\":1},\"autotypenumbers\":\"strict\",\"coloraxis\":{\"colorbar\":{\"outlinewidth\":0,\"ticks\":\"\"}},\"colorscale\":{\"diverging\":[[0,\"#8e0152\"],[0.1,\"#c51b7d\"],[0.2,\"#de77ae\"],[0.3,\"#f1b6da\"],[0.4,\"#fde0ef\"],[0.5,\"#f7f7f7\"],[0.6,\"#e6f5d0\"],[0.7,\"#b8e186\"],[0.8,\"#7fbc41\"],[0.9,\"#4d9221\"],[1,\"#276419\"]],\"sequential\":[[0.0,\"#0d0887\"],[0.1111111111111111,\"#46039f\"],[0.2222222222222222,\"#7201a8\"],[0.3333333333333333,\"#9c179e\"],[0.4444444444444444,\"#bd3786\"],[0.5555555555555556,\"#d8576b\"],[0.6666666666666666,\"#ed7953\"],[0.7777777777777778,\"#fb9f3a\"],[0.8888888888888888,\"#fdca26\"],[1.0,\"#f0f921\"]],\"sequentialminus\":[[0.0,\"#0d0887\"],[0.1111111111111111,\"#46039f\"],[0.2222222222222222,\"#7201a8\"],[0.3333333333333333,\"#9c179e\"],[0.4444444444444444,\"#bd3786\"],[0.5555555555555556,\"#d8576b\"],[0.6666666666666666,\"#ed7953\"],[0.7777777777777778,\"#fb9f3a\"],[0.8888888888888888,\"#fdca26\"],[1.0,\"#f0f921\"]]},\"colorway\":[\"#636efa\",\"#EF553B\",\"#00cc96\",\"#ab63fa\",\"#FFA15A\",\"#19d3f3\",\"#FF6692\",\"#B6E880\",\"#FF97FF\",\"#FECB52\"],\"font\":{\"color\":\"#2a3f5f\"},\"geo\":{\"bgcolor\":\"white\",\"lakecolor\":\"white\",\"landcolor\":\"#E5ECF6\",\"showlakes\":true,\"showland\":true,\"subunitcolor\":\"white\"},\"hoverlabel\":{\"align\":\"left\"},\"hovermode\":\"closest\",\"mapbox\":{\"style\":\"light\"},\"paper_bgcolor\":\"white\",\"plot_bgcolor\":\"#E5ECF6\",\"polar\":{\"angularaxis\":{\"gridcolor\":\"white\",\"linecolor\":\"white\",\"ticks\":\"\"},\"bgcolor\":\"#E5ECF6\",\"radialaxis\":{\"gridcolor\":\"white\",\"linecolor\":\"white\",\"ticks\":\"\"}},\"scene\":{\"xaxis\":{\"backgroundcolor\":\"#E5ECF6\",\"gridcolor\":\"white\",\"gridwidth\":2,\"linecolor\":\"white\",\"showbackground\":true,\"ticks\":\"\",\"zerolinecolor\":\"white\"},\"yaxis\":{\"backgroundcolor\":\"#E5ECF6\",\"gridcolor\":\"white\",\"gridwidth\":2,\"linecolor\":\"white\",\"showbackground\":true,\"ticks\":\"\",\"zerolinecolor\":\"white\"},\"zaxis\":{\"backgroundcolor\":\"#E5ECF6\",\"gridcolor\":\"white\",\"gridwidth\":2,\"linecolor\":\"white\",\"showbackground\":true,\"ticks\":\"\",\"zerolinecolor\":\"white\"}},\"shapedefaults\":{\"line\":{\"color\":\"#2a3f5f\"}},\"ternary\":{\"aaxis\":{\"gridcolor\":\"white\",\"linecolor\":\"white\",\"ticks\":\"\"},\"baxis\":{\"gridcolor\":\"white\",\"linecolor\":\"white\",\"ticks\":\"\"},\"bgcolor\":\"#E5ECF6\",\"caxis\":{\"gridcolor\":\"white\",\"linecolor\":\"white\",\"ticks\":\"\"}},\"title\":{\"x\":0.05},\"xaxis\":{\"automargin\":true,\"gridcolor\":\"white\",\"linecolor\":\"white\",\"ticks\":\"\",\"title\":{\"standoff\":15},\"zerolinecolor\":\"white\",\"zerolinewidth\":2},\"yaxis\":{\"automargin\":true,\"gridcolor\":\"white\",\"linecolor\":\"white\",\"ticks\":\"\",\"title\":{\"standoff\":15},\"zerolinecolor\":\"white\",\"zerolinewidth\":2}}},\"title\":{\"text\":\"Scatter plot of unemployment rates in 2012\"},\"xaxis\":{\"gridwidth\":2,\"ticklen\":5,\"zeroline\":false},\"yaxis\":{\"gridwidth\":2,\"ticklen\":5,\"title\":{\"text\":\"Unemployment Rate (%)\"}}},                        {\"responsive\": true}                    ).then(function(){\n",
       "                            \n",
       "var gd = document.getElementById('6eea2462-67a8-4ae1-8769-8f6ac68ba143');\n",
       "var x = new MutationObserver(function (mutations, observer) {{\n",
       "        var display = window.getComputedStyle(gd).display;\n",
       "        if (!display || display === 'none') {{\n",
       "            console.log([gd, 'removed!']);\n",
       "            Plotly.purge(gd);\n",
       "            observer.disconnect();\n",
       "        }}\n",
       "}});\n",
       "\n",
       "// Listen for the removal of the full notebook cells\n",
       "var notebookContainer = gd.closest('#notebook-container');\n",
       "if (notebookContainer) {{\n",
       "    x.observe(notebookContainer, {childList: true});\n",
       "}}\n",
       "\n",
       "// Listen for the clearing of the current output cell\n",
       "var outputEl = gd.closest('.output');\n",
       "if (outputEl) {{\n",
       "    x.observe(outputEl, {childList: true});\n",
       "}}\n",
       "\n",
       "                        })                };                });            </script>        </div>"
      ]
     },
     "metadata": {},
     "output_type": "display_data"
    },
    {
     "data": {
      "application/vnd.plotly.v1+json": {
       "config": {
        "linkText": "Export to plot.ly",
        "plotlyServerURL": "https://plot.ly",
        "showLink": false
       },
       "data": [
        {
         "marker": {
          "color": [
           21.1000003815,
           10.6000003815,
           28.7000007629,
           9.8999996185,
           19.7000007629,
           32.5,
           12.1999998093,
           9.1000003815,
           13.3999996185,
           10.8000001907,
           23.1000003815,
           1.7999999523,
           5.1999998093,
           8.8999996185,
           29.7000007629,
           10.6000003815,
           30.7999992371,
           57.4000015259,
           12,
           22.3999996185,
           5.0999999046,
           14.6999998093,
           26.2000007629,
           11.3000001907,
           10.3999996185,
           32.7999992371,
           12,
           13.8000001907,
           8.8000001907,
           16.1000003815,
           10.1000003815,
           6,
           6.3000001907,
           10.8000001907,
           16.8999996185,
           10.5,
           18.2999992371,
           19.8999996185,
           6.9000000954,
           36.9000015259,
           18.8999996185,
           7.8000001907,
           13,
           31.8999996185,
           20.3999996185,
           9.8000001907,
           41.7000007629,
           10.8000001907,
           57.0999984741,
           18.7000007629,
           6.5999999046,
           19.6000003815,
           19.6000003815,
           23.7000007629,
           35.7000007629,
           20.2999992371,
           35.7000007629,
           1.8999999762,
           1.5,
           10.6999998093,
           11,
           11,
           58,
           5.6999998093,
           23.3999996185,
           8.8999996185,
           6.9000000954,
           50.2999992371,
           17,
           27,
           21.7999992371,
           10.3999996185,
           26.7000007629,
           28.7999992371,
           32.0999984741,
           11.1000003815,
           10.6999998093,
           39.7000007629,
           35.7000007629,
           33.2999992371,
           6.8000001907,
           4.0999999046,
           17.2999992371,
           15.3000001907,
           0.6999999881,
           9.1999998093,
           20.5,
           3.2999999523,
           20.2000007629,
           4.5999999046,
           47,
           18.3999996185,
           30.5,
           21.8999996185,
           19.2000007629,
           23.1000003815,
           3.5,
           18.3999996185,
           13.5,
           5.5999999046,
           26,
           9.3999996185,
           51.7999992371,
           10.5,
           14.1000003815,
           9.3000001907,
           40.5,
           9.6000003815,
           40.7000007629,
           46.5999984741,
           21.8999996185,
           13.8999996185,
           10.6000003815,
           40.5999984741,
           7.1999998093,
           13.6000003815,
           7.6999998093,
           11,
           9.1000003815,
           4,
           15.8000001907,
           18.6000003815,
           8.3000001907,
           10.1000003815,
           8.6999998093,
           16.6000003815,
           5.5,
           27.2000007629,
           28.1000003815,
           10.6000003815,
           37.7999992371,
           10.5,
           1.2000000477,
           23.7999992371,
           14.1000003815,
           0.6999999881,
           28.7000007629,
           23,
           13,
           9,
           9.3999996185,
           4.9000000954,
           11.1999998093,
           10.6000003815,
           49.7000007629,
           15.5,
           33.5,
           22.7999992371,
           23.7999992371,
           42,
           32.4000015259,
           10.6999998093,
           10.6999998093,
           3.2000000477,
           15.6999998093,
           20.6000003815,
           13.3999996185,
           9.1000003815,
           31.2999992371,
           16.5,
           5.3000001907,
           7.4000000954,
           16,
           18.1000003815,
           15.8000001907,
           20.5,
           14.8000001907,
           6.3000001907,
           38.7000007629,
           30.2000007629,
           51.4000015259,
           12.1999998093,
           25.5,
           8.8999996185
          ],
          "colorscale": [
           [
            0,
            "rgb(12,51,131)"
           ],
           [
            0.25,
            "rgb(10,136,186)"
           ],
           [
            0.5,
            "rgb(242,211,56)"
           ],
           [
            0.75,
            "rgb(242,143,56)"
           ],
           [
            1,
            "rgb(217,30,30)"
           ]
          ],
          "line": {
           "width": 1
          },
          "opacity": 0.7,
          "showscale": true,
          "size": [
           21.1000003815,
           10.6000003815,
           28.7000007629,
           9.8999996185,
           19.7000007629,
           32.5,
           12.1999998093,
           9.1000003815,
           13.3999996185,
           10.8000001907,
           23.1000003815,
           1.7999999523,
           5.1999998093,
           8.8999996185,
           29.7000007629,
           10.6000003815,
           30.7999992371,
           57.4000015259,
           12,
           22.3999996185,
           5.0999999046,
           14.6999998093,
           26.2000007629,
           11.3000001907,
           10.3999996185,
           32.7999992371,
           12,
           13.8000001907,
           8.8000001907,
           16.1000003815,
           10.1000003815,
           6,
           6.3000001907,
           10.8000001907,
           16.8999996185,
           10.5,
           18.2999992371,
           19.8999996185,
           6.9000000954,
           36.9000015259,
           18.8999996185,
           7.8000001907,
           13,
           31.8999996185,
           20.3999996185,
           9.8000001907,
           41.7000007629,
           10.8000001907,
           57.0999984741,
           18.7000007629,
           6.5999999046,
           19.6000003815,
           19.6000003815,
           23.7000007629,
           35.7000007629,
           20.2999992371,
           35.7000007629,
           1.8999999762,
           1.5,
           10.6999998093,
           11,
           11,
           58,
           5.6999998093,
           23.3999996185,
           8.8999996185,
           6.9000000954,
           50.2999992371,
           17,
           27,
           21.7999992371,
           10.3999996185,
           26.7000007629,
           28.7999992371,
           32.0999984741,
           11.1000003815,
           10.6999998093,
           39.7000007629,
           35.7000007629,
           33.2999992371,
           6.8000001907,
           4.0999999046,
           17.2999992371,
           15.3000001907,
           0.6999999881,
           9.1999998093,
           20.5,
           3.2999999523,
           20.2000007629,
           4.5999999046,
           47,
           18.3999996185,
           30.5,
           21.8999996185,
           19.2000007629,
           23.1000003815,
           3.5,
           18.3999996185,
           13.5,
           5.5999999046,
           26,
           9.3999996185,
           51.7999992371,
           10.5,
           14.1000003815,
           9.3000001907,
           40.5,
           9.6000003815,
           40.7000007629,
           46.5999984741,
           21.8999996185,
           13.8999996185,
           10.6000003815,
           40.5999984741,
           7.1999998093,
           13.6000003815,
           7.6999998093,
           11,
           9.1000003815,
           4,
           15.8000001907,
           18.6000003815,
           8.3000001907,
           10.1000003815,
           8.6999998093,
           16.6000003815,
           5.5,
           27.2000007629,
           28.1000003815,
           10.6000003815,
           37.7999992371,
           10.5,
           1.2000000477,
           23.7999992371,
           14.1000003815,
           0.6999999881,
           28.7000007629,
           23,
           13,
           9,
           9.3999996185,
           4.9000000954,
           11.1999998093,
           10.6000003815,
           49.7000007629,
           15.5,
           33.5,
           22.7999992371,
           23.7999992371,
           42,
           32.4000015259,
           10.6999998093,
           10.6999998093,
           3.2000000477,
           15.6999998093,
           20.6000003815,
           13.3999996185,
           9.1000003815,
           31.2999992371,
           16.5,
           5.3000001907,
           7.4000000954,
           16,
           18.1000003815,
           15.8000001907,
           20.5,
           14.8000001907,
           6.3000001907,
           38.7000007629,
           30.2000007629,
           51.4000015259,
           12.1999998093,
           25.5,
           8.8999996185
          ]
         },
         "mode": "markers",
         "name": "Unemployment (%)",
         "text": [
          "Afghanistan",
          "Angola",
          "Albania",
          "United Arab Emirates",
          "Argentina",
          "Armenia",
          "Australia",
          "Austria",
          "Azerbaijan",
          "Burundi",
          "Belgium",
          "Benin",
          "Burkina Faso",
          "Bangladesh",
          "Bulgaria",
          "Bahrain",
          "Bahamas, The",
          "Bosnia and Herzegovina",
          "Belarus",
          "Belize",
          "Bolivia",
          "Brazil",
          "Barbados",
          "Brunei Darussalam",
          "Bhutan",
          "Botswana",
          "Central African Republic",
          "Canada",
          "Switzerland",
          "Chile",
          "China",
          "Cote d'Ivoire",
          "Cameroon",
          "Congo, Rep.",
          "Colombia",
          "Comoros",
          "Cabo Verde",
          "Costa Rica",
          "Cuba",
          "Cyprus",
          "Czech Republic",
          "Germany",
          "Denmark",
          "Dominican Republic",
          "Algeria",
          "Ecuador",
          "Egypt, Arab Rep.",
          "Eritrea",
          "Spain",
          "Estonia",
          "Ethiopia",
          "Finland",
          "Fiji",
          "France",
          "Gabon",
          "United Kingdom",
          "Georgia",
          "Ghana",
          "Guinea",
          "Gambia, The",
          "Guinea-Bissau",
          "Equatorial Guinea",
          "Greece",
          "Guatemala",
          "Guyana",
          "Hong Kong SAR, China",
          "Honduras",
          "Croatia",
          "Haiti",
          "Hungary",
          "Indonesia",
          "India",
          "Ireland",
          "Iran, Islamic Rep.",
          "Iraq",
          "Iceland",
          "Israel",
          "Italy",
          "Jamaica",
          "Jordan",
          "Japan",
          "Kazakhstan",
          "Kenya",
          "Kyrgyz Republic",
          "Cambodia",
          "Korea, Rep.",
          "Kuwait",
          "Lao PDR",
          "Lebanon",
          "Liberia",
          "Libya",
          "Sri Lanka",
          "Lesotho",
          "Lithuania",
          "Luxembourg",
          "Latvia",
          "Macao SAR, China",
          "Morocco",
          "Moldova",
          "Madagascar",
          "Maldives",
          "Mexico",
          "Macedonia, FYR",
          "Mali",
          "Malta",
          "Myanmar",
          "Montenegro",
          "Mongolia",
          "Mozambique",
          "Mauritania",
          "Mauritius",
          "Malawi",
          "Malaysia",
          "Namibia",
          "Niger",
          "Nigeria",
          "Nicaragua",
          "Netherlands",
          "Norway",
          "Nepal",
          "New Zealand",
          "Oman",
          "Pakistan",
          "Panama",
          "Peru",
          "Philippines",
          "Papua New Guinea",
          "Poland",
          "Puerto Rico",
          "Korea, Dem. People’s Rep.",
          "Portugal",
          "Paraguay",
          "Qatar",
          "Romania",
          "Russian Federation",
          "Rwanda",
          "Saudi Arabia",
          "Sudan",
          "Senegal",
          "Singapore",
          "Solomon Islands",
          "Sierra Leone",
          "El Salvador",
          "Somalia",
          "Serbia",
          "Suriname",
          "Slovak Republic",
          "Slovenia",
          "Sweden",
          "Swaziland",
          "Syrian Arab Republic",
          "Chad",
          "Togo",
          "Thailand",
          "Tajikistan",
          "Turkmenistan",
          "Timor-Leste",
          "Trinidad and Tobago",
          "Tunisia",
          "Turkey",
          "Tanzania",
          "Uganda",
          "Ukraine",
          "Uruguay",
          "United States",
          "Uzbekistan",
          "Venezuela, RB",
          "Vietnam",
          "West Bank and Gaza",
          "Yemen, Rep.",
          "South Africa",
          "Congo, Dem. Rep.",
          "Zambia",
          "Zimbabwe"
         ],
         "type": "scatter",
         "y": [
          21.1000003815,
          10.6000003815,
          28.7000007629,
          9.8999996185,
          19.7000007629,
          32.5,
          12.1999998093,
          9.1000003815,
          13.3999996185,
          10.8000001907,
          23.1000003815,
          1.7999999523,
          5.1999998093,
          8.8999996185,
          29.7000007629,
          10.6000003815,
          30.7999992371,
          57.4000015259,
          12,
          22.3999996185,
          5.0999999046,
          14.6999998093,
          26.2000007629,
          11.3000001907,
          10.3999996185,
          32.7999992371,
          12,
          13.8000001907,
          8.8000001907,
          16.1000003815,
          10.1000003815,
          6,
          6.3000001907,
          10.8000001907,
          16.8999996185,
          10.5,
          18.2999992371,
          19.8999996185,
          6.9000000954,
          36.9000015259,
          18.8999996185,
          7.8000001907,
          13,
          31.8999996185,
          20.3999996185,
          9.8000001907,
          41.7000007629,
          10.8000001907,
          57.0999984741,
          18.7000007629,
          6.5999999046,
          19.6000003815,
          19.6000003815,
          23.7000007629,
          35.7000007629,
          20.2999992371,
          35.7000007629,
          1.8999999762,
          1.5,
          10.6999998093,
          11,
          11,
          58,
          5.6999998093,
          23.3999996185,
          8.8999996185,
          6.9000000954,
          50.2999992371,
          17,
          27,
          21.7999992371,
          10.3999996185,
          26.7000007629,
          28.7999992371,
          32.0999984741,
          11.1000003815,
          10.6999998093,
          39.7000007629,
          35.7000007629,
          33.2999992371,
          6.8000001907,
          4.0999999046,
          17.2999992371,
          15.3000001907,
          0.6999999881,
          9.1999998093,
          20.5,
          3.2999999523,
          20.2000007629,
          4.5999999046,
          47,
          18.3999996185,
          30.5,
          21.8999996185,
          19.2000007629,
          23.1000003815,
          3.5,
          18.3999996185,
          13.5,
          5.5999999046,
          26,
          9.3999996185,
          51.7999992371,
          10.5,
          14.1000003815,
          9.3000001907,
          40.5,
          9.6000003815,
          40.7000007629,
          46.5999984741,
          21.8999996185,
          13.8999996185,
          10.6000003815,
          40.5999984741,
          7.1999998093,
          13.6000003815,
          7.6999998093,
          11,
          9.1000003815,
          4,
          15.8000001907,
          18.6000003815,
          8.3000001907,
          10.1000003815,
          8.6999998093,
          16.6000003815,
          5.5,
          27.2000007629,
          28.1000003815,
          10.6000003815,
          37.7999992371,
          10.5,
          1.2000000477,
          23.7999992371,
          14.1000003815,
          0.6999999881,
          28.7000007629,
          23,
          13,
          9,
          9.3999996185,
          4.9000000954,
          11.1999998093,
          10.6000003815,
          49.7000007629,
          15.5,
          33.5,
          22.7999992371,
          23.7999992371,
          42,
          32.4000015259,
          10.6999998093,
          10.6999998093,
          3.2000000477,
          15.6999998093,
          20.6000003815,
          13.3999996185,
          9.1000003815,
          31.2999992371,
          16.5,
          5.3000001907,
          7.4000000954,
          16,
          18.1000003815,
          15.8000001907,
          20.5,
          14.8000001907,
          6.3000001907,
          38.7000007629,
          30.2000007629,
          51.4000015259,
          12.1999998093,
          25.5,
          8.8999996185
         ]
        }
       ],
       "layout": {
        "hovermode": "closest",
        "showlegend": false,
        "template": {
         "data": {
          "bar": [
           {
            "error_x": {
             "color": "#2a3f5f"
            },
            "error_y": {
             "color": "#2a3f5f"
            },
            "marker": {
             "line": {
              "color": "#E5ECF6",
              "width": 0.5
             },
             "pattern": {
              "fillmode": "overlay",
              "size": 10,
              "solidity": 0.2
             }
            },
            "type": "bar"
           }
          ],
          "barpolar": [
           {
            "marker": {
             "line": {
              "color": "#E5ECF6",
              "width": 0.5
             },
             "pattern": {
              "fillmode": "overlay",
              "size": 10,
              "solidity": 0.2
             }
            },
            "type": "barpolar"
           }
          ],
          "carpet": [
           {
            "aaxis": {
             "endlinecolor": "#2a3f5f",
             "gridcolor": "white",
             "linecolor": "white",
             "minorgridcolor": "white",
             "startlinecolor": "#2a3f5f"
            },
            "baxis": {
             "endlinecolor": "#2a3f5f",
             "gridcolor": "white",
             "linecolor": "white",
             "minorgridcolor": "white",
             "startlinecolor": "#2a3f5f"
            },
            "type": "carpet"
           }
          ],
          "choropleth": [
           {
            "colorbar": {
             "outlinewidth": 0,
             "ticks": ""
            },
            "type": "choropleth"
           }
          ],
          "contour": [
           {
            "colorbar": {
             "outlinewidth": 0,
             "ticks": ""
            },
            "colorscale": [
             [
              0,
              "#0d0887"
             ],
             [
              0.1111111111111111,
              "#46039f"
             ],
             [
              0.2222222222222222,
              "#7201a8"
             ],
             [
              0.3333333333333333,
              "#9c179e"
             ],
             [
              0.4444444444444444,
              "#bd3786"
             ],
             [
              0.5555555555555556,
              "#d8576b"
             ],
             [
              0.6666666666666666,
              "#ed7953"
             ],
             [
              0.7777777777777778,
              "#fb9f3a"
             ],
             [
              0.8888888888888888,
              "#fdca26"
             ],
             [
              1,
              "#f0f921"
             ]
            ],
            "type": "contour"
           }
          ],
          "contourcarpet": [
           {
            "colorbar": {
             "outlinewidth": 0,
             "ticks": ""
            },
            "type": "contourcarpet"
           }
          ],
          "heatmap": [
           {
            "colorbar": {
             "outlinewidth": 0,
             "ticks": ""
            },
            "colorscale": [
             [
              0,
              "#0d0887"
             ],
             [
              0.1111111111111111,
              "#46039f"
             ],
             [
              0.2222222222222222,
              "#7201a8"
             ],
             [
              0.3333333333333333,
              "#9c179e"
             ],
             [
              0.4444444444444444,
              "#bd3786"
             ],
             [
              0.5555555555555556,
              "#d8576b"
             ],
             [
              0.6666666666666666,
              "#ed7953"
             ],
             [
              0.7777777777777778,
              "#fb9f3a"
             ],
             [
              0.8888888888888888,
              "#fdca26"
             ],
             [
              1,
              "#f0f921"
             ]
            ],
            "type": "heatmap"
           }
          ],
          "heatmapgl": [
           {
            "colorbar": {
             "outlinewidth": 0,
             "ticks": ""
            },
            "colorscale": [
             [
              0,
              "#0d0887"
             ],
             [
              0.1111111111111111,
              "#46039f"
             ],
             [
              0.2222222222222222,
              "#7201a8"
             ],
             [
              0.3333333333333333,
              "#9c179e"
             ],
             [
              0.4444444444444444,
              "#bd3786"
             ],
             [
              0.5555555555555556,
              "#d8576b"
             ],
             [
              0.6666666666666666,
              "#ed7953"
             ],
             [
              0.7777777777777778,
              "#fb9f3a"
             ],
             [
              0.8888888888888888,
              "#fdca26"
             ],
             [
              1,
              "#f0f921"
             ]
            ],
            "type": "heatmapgl"
           }
          ],
          "histogram": [
           {
            "marker": {
             "pattern": {
              "fillmode": "overlay",
              "size": 10,
              "solidity": 0.2
             }
            },
            "type": "histogram"
           }
          ],
          "histogram2d": [
           {
            "colorbar": {
             "outlinewidth": 0,
             "ticks": ""
            },
            "colorscale": [
             [
              0,
              "#0d0887"
             ],
             [
              0.1111111111111111,
              "#46039f"
             ],
             [
              0.2222222222222222,
              "#7201a8"
             ],
             [
              0.3333333333333333,
              "#9c179e"
             ],
             [
              0.4444444444444444,
              "#bd3786"
             ],
             [
              0.5555555555555556,
              "#d8576b"
             ],
             [
              0.6666666666666666,
              "#ed7953"
             ],
             [
              0.7777777777777778,
              "#fb9f3a"
             ],
             [
              0.8888888888888888,
              "#fdca26"
             ],
             [
              1,
              "#f0f921"
             ]
            ],
            "type": "histogram2d"
           }
          ],
          "histogram2dcontour": [
           {
            "colorbar": {
             "outlinewidth": 0,
             "ticks": ""
            },
            "colorscale": [
             [
              0,
              "#0d0887"
             ],
             [
              0.1111111111111111,
              "#46039f"
             ],
             [
              0.2222222222222222,
              "#7201a8"
             ],
             [
              0.3333333333333333,
              "#9c179e"
             ],
             [
              0.4444444444444444,
              "#bd3786"
             ],
             [
              0.5555555555555556,
              "#d8576b"
             ],
             [
              0.6666666666666666,
              "#ed7953"
             ],
             [
              0.7777777777777778,
              "#fb9f3a"
             ],
             [
              0.8888888888888888,
              "#fdca26"
             ],
             [
              1,
              "#f0f921"
             ]
            ],
            "type": "histogram2dcontour"
           }
          ],
          "mesh3d": [
           {
            "colorbar": {
             "outlinewidth": 0,
             "ticks": ""
            },
            "type": "mesh3d"
           }
          ],
          "parcoords": [
           {
            "line": {
             "colorbar": {
              "outlinewidth": 0,
              "ticks": ""
             }
            },
            "type": "parcoords"
           }
          ],
          "pie": [
           {
            "automargin": true,
            "type": "pie"
           }
          ],
          "scatter": [
           {
            "fillpattern": {
             "fillmode": "overlay",
             "size": 10,
             "solidity": 0.2
            },
            "type": "scatter"
           }
          ],
          "scatter3d": [
           {
            "line": {
             "colorbar": {
              "outlinewidth": 0,
              "ticks": ""
             }
            },
            "marker": {
             "colorbar": {
              "outlinewidth": 0,
              "ticks": ""
             }
            },
            "type": "scatter3d"
           }
          ],
          "scattercarpet": [
           {
            "marker": {
             "colorbar": {
              "outlinewidth": 0,
              "ticks": ""
             }
            },
            "type": "scattercarpet"
           }
          ],
          "scattergeo": [
           {
            "marker": {
             "colorbar": {
              "outlinewidth": 0,
              "ticks": ""
             }
            },
            "type": "scattergeo"
           }
          ],
          "scattergl": [
           {
            "marker": {
             "colorbar": {
              "outlinewidth": 0,
              "ticks": ""
             }
            },
            "type": "scattergl"
           }
          ],
          "scattermapbox": [
           {
            "marker": {
             "colorbar": {
              "outlinewidth": 0,
              "ticks": ""
             }
            },
            "type": "scattermapbox"
           }
          ],
          "scatterpolar": [
           {
            "marker": {
             "colorbar": {
              "outlinewidth": 0,
              "ticks": ""
             }
            },
            "type": "scatterpolar"
           }
          ],
          "scatterpolargl": [
           {
            "marker": {
             "colorbar": {
              "outlinewidth": 0,
              "ticks": ""
             }
            },
            "type": "scatterpolargl"
           }
          ],
          "scatterternary": [
           {
            "marker": {
             "colorbar": {
              "outlinewidth": 0,
              "ticks": ""
             }
            },
            "type": "scatterternary"
           }
          ],
          "surface": [
           {
            "colorbar": {
             "outlinewidth": 0,
             "ticks": ""
            },
            "colorscale": [
             [
              0,
              "#0d0887"
             ],
             [
              0.1111111111111111,
              "#46039f"
             ],
             [
              0.2222222222222222,
              "#7201a8"
             ],
             [
              0.3333333333333333,
              "#9c179e"
             ],
             [
              0.4444444444444444,
              "#bd3786"
             ],
             [
              0.5555555555555556,
              "#d8576b"
             ],
             [
              0.6666666666666666,
              "#ed7953"
             ],
             [
              0.7777777777777778,
              "#fb9f3a"
             ],
             [
              0.8888888888888888,
              "#fdca26"
             ],
             [
              1,
              "#f0f921"
             ]
            ],
            "type": "surface"
           }
          ],
          "table": [
           {
            "cells": {
             "fill": {
              "color": "#EBF0F8"
             },
             "line": {
              "color": "white"
             }
            },
            "header": {
             "fill": {
              "color": "#C8D4E3"
             },
             "line": {
              "color": "white"
             }
            },
            "type": "table"
           }
          ]
         },
         "layout": {
          "annotationdefaults": {
           "arrowcolor": "#2a3f5f",
           "arrowhead": 0,
           "arrowwidth": 1
          },
          "autotypenumbers": "strict",
          "coloraxis": {
           "colorbar": {
            "outlinewidth": 0,
            "ticks": ""
           }
          },
          "colorscale": {
           "diverging": [
            [
             0,
             "#8e0152"
            ],
            [
             0.1,
             "#c51b7d"
            ],
            [
             0.2,
             "#de77ae"
            ],
            [
             0.3,
             "#f1b6da"
            ],
            [
             0.4,
             "#fde0ef"
            ],
            [
             0.5,
             "#f7f7f7"
            ],
            [
             0.6,
             "#e6f5d0"
            ],
            [
             0.7,
             "#b8e186"
            ],
            [
             0.8,
             "#7fbc41"
            ],
            [
             0.9,
             "#4d9221"
            ],
            [
             1,
             "#276419"
            ]
           ],
           "sequential": [
            [
             0,
             "#0d0887"
            ],
            [
             0.1111111111111111,
             "#46039f"
            ],
            [
             0.2222222222222222,
             "#7201a8"
            ],
            [
             0.3333333333333333,
             "#9c179e"
            ],
            [
             0.4444444444444444,
             "#bd3786"
            ],
            [
             0.5555555555555556,
             "#d8576b"
            ],
            [
             0.6666666666666666,
             "#ed7953"
            ],
            [
             0.7777777777777778,
             "#fb9f3a"
            ],
            [
             0.8888888888888888,
             "#fdca26"
            ],
            [
             1,
             "#f0f921"
            ]
           ],
           "sequentialminus": [
            [
             0,
             "#0d0887"
            ],
            [
             0.1111111111111111,
             "#46039f"
            ],
            [
             0.2222222222222222,
             "#7201a8"
            ],
            [
             0.3333333333333333,
             "#9c179e"
            ],
            [
             0.4444444444444444,
             "#bd3786"
            ],
            [
             0.5555555555555556,
             "#d8576b"
            ],
            [
             0.6666666666666666,
             "#ed7953"
            ],
            [
             0.7777777777777778,
             "#fb9f3a"
            ],
            [
             0.8888888888888888,
             "#fdca26"
            ],
            [
             1,
             "#f0f921"
            ]
           ]
          },
          "colorway": [
           "#636efa",
           "#EF553B",
           "#00cc96",
           "#ab63fa",
           "#FFA15A",
           "#19d3f3",
           "#FF6692",
           "#B6E880",
           "#FF97FF",
           "#FECB52"
          ],
          "font": {
           "color": "#2a3f5f"
          },
          "geo": {
           "bgcolor": "white",
           "lakecolor": "white",
           "landcolor": "#E5ECF6",
           "showlakes": true,
           "showland": true,
           "subunitcolor": "white"
          },
          "hoverlabel": {
           "align": "left"
          },
          "hovermode": "closest",
          "mapbox": {
           "style": "light"
          },
          "paper_bgcolor": "white",
          "plot_bgcolor": "#E5ECF6",
          "polar": {
           "angularaxis": {
            "gridcolor": "white",
            "linecolor": "white",
            "ticks": ""
           },
           "bgcolor": "#E5ECF6",
           "radialaxis": {
            "gridcolor": "white",
            "linecolor": "white",
            "ticks": ""
           }
          },
          "scene": {
           "xaxis": {
            "backgroundcolor": "#E5ECF6",
            "gridcolor": "white",
            "gridwidth": 2,
            "linecolor": "white",
            "showbackground": true,
            "ticks": "",
            "zerolinecolor": "white"
           },
           "yaxis": {
            "backgroundcolor": "#E5ECF6",
            "gridcolor": "white",
            "gridwidth": 2,
            "linecolor": "white",
            "showbackground": true,
            "ticks": "",
            "zerolinecolor": "white"
           },
           "zaxis": {
            "backgroundcolor": "#E5ECF6",
            "gridcolor": "white",
            "gridwidth": 2,
            "linecolor": "white",
            "showbackground": true,
            "ticks": "",
            "zerolinecolor": "white"
           }
          },
          "shapedefaults": {
           "line": {
            "color": "#2a3f5f"
           }
          },
          "ternary": {
           "aaxis": {
            "gridcolor": "white",
            "linecolor": "white",
            "ticks": ""
           },
           "baxis": {
            "gridcolor": "white",
            "linecolor": "white",
            "ticks": ""
           },
           "bgcolor": "#E5ECF6",
           "caxis": {
            "gridcolor": "white",
            "linecolor": "white",
            "ticks": ""
           }
          },
          "title": {
           "x": 0.05
          },
          "xaxis": {
           "automargin": true,
           "gridcolor": "white",
           "linecolor": "white",
           "ticks": "",
           "title": {
            "standoff": 15
           },
           "zerolinecolor": "white",
           "zerolinewidth": 2
          },
          "yaxis": {
           "automargin": true,
           "gridcolor": "white",
           "linecolor": "white",
           "ticks": "",
           "title": {
            "standoff": 15
           },
           "zerolinecolor": "white",
           "zerolinewidth": 2
          }
         }
        },
        "title": {
         "text": "Scatter plot of unemployment rates in 2013"
        },
        "xaxis": {
         "gridwidth": 2,
         "ticklen": 5,
         "zeroline": false
        },
        "yaxis": {
         "gridwidth": 2,
         "ticklen": 5,
         "title": {
          "text": "Unemployment Rate (%)"
         }
        }
       }
      },
      "text/html": [
       "<div>                            <div id=\"c161e957-be1e-4537-ab56-aae028a1b942\" class=\"plotly-graph-div\" style=\"height:525px; width:100%;\"></div>            <script type=\"text/javascript\">                require([\"plotly\"], function(Plotly) {                    window.PLOTLYENV=window.PLOTLYENV || {};                                    if (document.getElementById(\"c161e957-be1e-4537-ab56-aae028a1b942\")) {                    Plotly.newPlot(                        \"c161e957-be1e-4537-ab56-aae028a1b942\",                        [{\"marker\":{\"color\":[21.1000003815,10.6000003815,28.7000007629,9.8999996185,19.7000007629,32.5,12.1999998093,9.1000003815,13.3999996185,10.8000001907,23.1000003815,1.7999999523,5.1999998093,8.8999996185,29.7000007629,10.6000003815,30.7999992371,57.4000015259,12.0,22.3999996185,5.0999999046,14.6999998093,26.2000007629,11.3000001907,10.3999996185,32.7999992371,12.0,13.8000001907,8.8000001907,16.1000003815,10.1000003815,6.0,6.3000001907,10.8000001907,16.8999996185,10.5,18.2999992371,19.8999996185,6.9000000954,36.9000015259,18.8999996185,7.8000001907,13.0,31.8999996185,20.3999996185,9.8000001907,41.7000007629,10.8000001907,57.0999984741,18.7000007629,6.5999999046,19.6000003815,19.6000003815,23.7000007629,35.7000007629,20.2999992371,35.7000007629,1.8999999762,1.5,10.6999998093,11.0,11.0,58.0,5.6999998093,23.3999996185,8.8999996185,6.9000000954,50.2999992371,17.0,27.0,21.7999992371,10.3999996185,26.7000007629,28.7999992371,32.0999984741,11.1000003815,10.6999998093,39.7000007629,35.7000007629,33.2999992371,6.8000001907,4.0999999046,17.2999992371,15.3000001907,0.6999999881,9.1999998093,20.5,3.2999999523,20.2000007629,4.5999999046,47.0,18.3999996185,30.5,21.8999996185,19.2000007629,23.1000003815,3.5,18.3999996185,13.5,5.5999999046,26.0,9.3999996185,51.7999992371,10.5,14.1000003815,9.3000001907,40.5,9.6000003815,40.7000007629,46.5999984741,21.8999996185,13.8999996185,10.6000003815,40.5999984741,7.1999998093,13.6000003815,7.6999998093,11.0,9.1000003815,4.0,15.8000001907,18.6000003815,8.3000001907,10.1000003815,8.6999998093,16.6000003815,5.5,27.2000007629,28.1000003815,10.6000003815,37.7999992371,10.5,1.2000000477,23.7999992371,14.1000003815,0.6999999881,28.7000007629,23.0,13.0,9.0,9.3999996185,4.9000000954,11.1999998093,10.6000003815,49.7000007629,15.5,33.5,22.7999992371,23.7999992371,42.0,32.4000015259,10.6999998093,10.6999998093,3.2000000477,15.6999998093,20.6000003815,13.3999996185,9.1000003815,31.2999992371,16.5,5.3000001907,7.4000000954,16.0,18.1000003815,15.8000001907,20.5,14.8000001907,6.3000001907,38.7000007629,30.2000007629,51.4000015259,12.1999998093,25.5,8.8999996185],\"colorscale\":[[0.0,\"rgb(12,51,131)\"],[0.25,\"rgb(10,136,186)\"],[0.5,\"rgb(242,211,56)\"],[0.75,\"rgb(242,143,56)\"],[1.0,\"rgb(217,30,30)\"]],\"line\":{\"width\":1},\"opacity\":0.7,\"showscale\":true,\"size\":[21.1000003815,10.6000003815,28.7000007629,9.8999996185,19.7000007629,32.5,12.1999998093,9.1000003815,13.3999996185,10.8000001907,23.1000003815,1.7999999523,5.1999998093,8.8999996185,29.7000007629,10.6000003815,30.7999992371,57.4000015259,12.0,22.3999996185,5.0999999046,14.6999998093,26.2000007629,11.3000001907,10.3999996185,32.7999992371,12.0,13.8000001907,8.8000001907,16.1000003815,10.1000003815,6.0,6.3000001907,10.8000001907,16.8999996185,10.5,18.2999992371,19.8999996185,6.9000000954,36.9000015259,18.8999996185,7.8000001907,13.0,31.8999996185,20.3999996185,9.8000001907,41.7000007629,10.8000001907,57.0999984741,18.7000007629,6.5999999046,19.6000003815,19.6000003815,23.7000007629,35.7000007629,20.2999992371,35.7000007629,1.8999999762,1.5,10.6999998093,11.0,11.0,58.0,5.6999998093,23.3999996185,8.8999996185,6.9000000954,50.2999992371,17.0,27.0,21.7999992371,10.3999996185,26.7000007629,28.7999992371,32.0999984741,11.1000003815,10.6999998093,39.7000007629,35.7000007629,33.2999992371,6.8000001907,4.0999999046,17.2999992371,15.3000001907,0.6999999881,9.1999998093,20.5,3.2999999523,20.2000007629,4.5999999046,47.0,18.3999996185,30.5,21.8999996185,19.2000007629,23.1000003815,3.5,18.3999996185,13.5,5.5999999046,26.0,9.3999996185,51.7999992371,10.5,14.1000003815,9.3000001907,40.5,9.6000003815,40.7000007629,46.5999984741,21.8999996185,13.8999996185,10.6000003815,40.5999984741,7.1999998093,13.6000003815,7.6999998093,11.0,9.1000003815,4.0,15.8000001907,18.6000003815,8.3000001907,10.1000003815,8.6999998093,16.6000003815,5.5,27.2000007629,28.1000003815,10.6000003815,37.7999992371,10.5,1.2000000477,23.7999992371,14.1000003815,0.6999999881,28.7000007629,23.0,13.0,9.0,9.3999996185,4.9000000954,11.1999998093,10.6000003815,49.7000007629,15.5,33.5,22.7999992371,23.7999992371,42.0,32.4000015259,10.6999998093,10.6999998093,3.2000000477,15.6999998093,20.6000003815,13.3999996185,9.1000003815,31.2999992371,16.5,5.3000001907,7.4000000954,16.0,18.1000003815,15.8000001907,20.5,14.8000001907,6.3000001907,38.7000007629,30.2000007629,51.4000015259,12.1999998093,25.5,8.8999996185]},\"mode\":\"markers\",\"name\":\"Unemployment (%)\",\"text\":[\"Afghanistan\",\"Angola\",\"Albania\",\"United Arab Emirates\",\"Argentina\",\"Armenia\",\"Australia\",\"Austria\",\"Azerbaijan\",\"Burundi\",\"Belgium\",\"Benin\",\"Burkina Faso\",\"Bangladesh\",\"Bulgaria\",\"Bahrain\",\"Bahamas, The\",\"Bosnia and Herzegovina\",\"Belarus\",\"Belize\",\"Bolivia\",\"Brazil\",\"Barbados\",\"Brunei Darussalam\",\"Bhutan\",\"Botswana\",\"Central African Republic\",\"Canada\",\"Switzerland\",\"Chile\",\"China\",\"Cote d'Ivoire\",\"Cameroon\",\"Congo, Rep.\",\"Colombia\",\"Comoros\",\"Cabo Verde\",\"Costa Rica\",\"Cuba\",\"Cyprus\",\"Czech Republic\",\"Germany\",\"Denmark\",\"Dominican Republic\",\"Algeria\",\"Ecuador\",\"Egypt, Arab Rep.\",\"Eritrea\",\"Spain\",\"Estonia\",\"Ethiopia\",\"Finland\",\"Fiji\",\"France\",\"Gabon\",\"United Kingdom\",\"Georgia\",\"Ghana\",\"Guinea\",\"Gambia, The\",\"Guinea-Bissau\",\"Equatorial Guinea\",\"Greece\",\"Guatemala\",\"Guyana\",\"Hong Kong SAR, China\",\"Honduras\",\"Croatia\",\"Haiti\",\"Hungary\",\"Indonesia\",\"India\",\"Ireland\",\"Iran, Islamic Rep.\",\"Iraq\",\"Iceland\",\"Israel\",\"Italy\",\"Jamaica\",\"Jordan\",\"Japan\",\"Kazakhstan\",\"Kenya\",\"Kyrgyz Republic\",\"Cambodia\",\"Korea, Rep.\",\"Kuwait\",\"Lao PDR\",\"Lebanon\",\"Liberia\",\"Libya\",\"Sri Lanka\",\"Lesotho\",\"Lithuania\",\"Luxembourg\",\"Latvia\",\"Macao SAR, China\",\"Morocco\",\"Moldova\",\"Madagascar\",\"Maldives\",\"Mexico\",\"Macedonia, FYR\",\"Mali\",\"Malta\",\"Myanmar\",\"Montenegro\",\"Mongolia\",\"Mozambique\",\"Mauritania\",\"Mauritius\",\"Malawi\",\"Malaysia\",\"Namibia\",\"Niger\",\"Nigeria\",\"Nicaragua\",\"Netherlands\",\"Norway\",\"Nepal\",\"New Zealand\",\"Oman\",\"Pakistan\",\"Panama\",\"Peru\",\"Philippines\",\"Papua New Guinea\",\"Poland\",\"Puerto Rico\",\"Korea, Dem. People\\u2019s Rep.\",\"Portugal\",\"Paraguay\",\"Qatar\",\"Romania\",\"Russian Federation\",\"Rwanda\",\"Saudi Arabia\",\"Sudan\",\"Senegal\",\"Singapore\",\"Solomon Islands\",\"Sierra Leone\",\"El Salvador\",\"Somalia\",\"Serbia\",\"Suriname\",\"Slovak Republic\",\"Slovenia\",\"Sweden\",\"Swaziland\",\"Syrian Arab Republic\",\"Chad\",\"Togo\",\"Thailand\",\"Tajikistan\",\"Turkmenistan\",\"Timor-Leste\",\"Trinidad and Tobago\",\"Tunisia\",\"Turkey\",\"Tanzania\",\"Uganda\",\"Ukraine\",\"Uruguay\",\"United States\",\"Uzbekistan\",\"Venezuela, RB\",\"Vietnam\",\"West Bank and Gaza\",\"Yemen, Rep.\",\"South Africa\",\"Congo, Dem. Rep.\",\"Zambia\",\"Zimbabwe\"],\"y\":[21.1000003815,10.6000003815,28.7000007629,9.8999996185,19.7000007629,32.5,12.1999998093,9.1000003815,13.3999996185,10.8000001907,23.1000003815,1.7999999523,5.1999998093,8.8999996185,29.7000007629,10.6000003815,30.7999992371,57.4000015259,12.0,22.3999996185,5.0999999046,14.6999998093,26.2000007629,11.3000001907,10.3999996185,32.7999992371,12.0,13.8000001907,8.8000001907,16.1000003815,10.1000003815,6.0,6.3000001907,10.8000001907,16.8999996185,10.5,18.2999992371,19.8999996185,6.9000000954,36.9000015259,18.8999996185,7.8000001907,13.0,31.8999996185,20.3999996185,9.8000001907,41.7000007629,10.8000001907,57.0999984741,18.7000007629,6.5999999046,19.6000003815,19.6000003815,23.7000007629,35.7000007629,20.2999992371,35.7000007629,1.8999999762,1.5,10.6999998093,11.0,11.0,58.0,5.6999998093,23.3999996185,8.8999996185,6.9000000954,50.2999992371,17.0,27.0,21.7999992371,10.3999996185,26.7000007629,28.7999992371,32.0999984741,11.1000003815,10.6999998093,39.7000007629,35.7000007629,33.2999992371,6.8000001907,4.0999999046,17.2999992371,15.3000001907,0.6999999881,9.1999998093,20.5,3.2999999523,20.2000007629,4.5999999046,47.0,18.3999996185,30.5,21.8999996185,19.2000007629,23.1000003815,3.5,18.3999996185,13.5,5.5999999046,26.0,9.3999996185,51.7999992371,10.5,14.1000003815,9.3000001907,40.5,9.6000003815,40.7000007629,46.5999984741,21.8999996185,13.8999996185,10.6000003815,40.5999984741,7.1999998093,13.6000003815,7.6999998093,11.0,9.1000003815,4.0,15.8000001907,18.6000003815,8.3000001907,10.1000003815,8.6999998093,16.6000003815,5.5,27.2000007629,28.1000003815,10.6000003815,37.7999992371,10.5,1.2000000477,23.7999992371,14.1000003815,0.6999999881,28.7000007629,23.0,13.0,9.0,9.3999996185,4.9000000954,11.1999998093,10.6000003815,49.7000007629,15.5,33.5,22.7999992371,23.7999992371,42.0,32.4000015259,10.6999998093,10.6999998093,3.2000000477,15.6999998093,20.6000003815,13.3999996185,9.1000003815,31.2999992371,16.5,5.3000001907,7.4000000954,16.0,18.1000003815,15.8000001907,20.5,14.8000001907,6.3000001907,38.7000007629,30.2000007629,51.4000015259,12.1999998093,25.5,8.8999996185],\"type\":\"scatter\"}],                        {\"hovermode\":\"closest\",\"showlegend\":false,\"template\":{\"data\":{\"barpolar\":[{\"marker\":{\"line\":{\"color\":\"#E5ECF6\",\"width\":0.5},\"pattern\":{\"fillmode\":\"overlay\",\"size\":10,\"solidity\":0.2}},\"type\":\"barpolar\"}],\"bar\":[{\"error_x\":{\"color\":\"#2a3f5f\"},\"error_y\":{\"color\":\"#2a3f5f\"},\"marker\":{\"line\":{\"color\":\"#E5ECF6\",\"width\":0.5},\"pattern\":{\"fillmode\":\"overlay\",\"size\":10,\"solidity\":0.2}},\"type\":\"bar\"}],\"carpet\":[{\"aaxis\":{\"endlinecolor\":\"#2a3f5f\",\"gridcolor\":\"white\",\"linecolor\":\"white\",\"minorgridcolor\":\"white\",\"startlinecolor\":\"#2a3f5f\"},\"baxis\":{\"endlinecolor\":\"#2a3f5f\",\"gridcolor\":\"white\",\"linecolor\":\"white\",\"minorgridcolor\":\"white\",\"startlinecolor\":\"#2a3f5f\"},\"type\":\"carpet\"}],\"choropleth\":[{\"colorbar\":{\"outlinewidth\":0,\"ticks\":\"\"},\"type\":\"choropleth\"}],\"contourcarpet\":[{\"colorbar\":{\"outlinewidth\":0,\"ticks\":\"\"},\"type\":\"contourcarpet\"}],\"contour\":[{\"colorbar\":{\"outlinewidth\":0,\"ticks\":\"\"},\"colorscale\":[[0.0,\"#0d0887\"],[0.1111111111111111,\"#46039f\"],[0.2222222222222222,\"#7201a8\"],[0.3333333333333333,\"#9c179e\"],[0.4444444444444444,\"#bd3786\"],[0.5555555555555556,\"#d8576b\"],[0.6666666666666666,\"#ed7953\"],[0.7777777777777778,\"#fb9f3a\"],[0.8888888888888888,\"#fdca26\"],[1.0,\"#f0f921\"]],\"type\":\"contour\"}],\"heatmapgl\":[{\"colorbar\":{\"outlinewidth\":0,\"ticks\":\"\"},\"colorscale\":[[0.0,\"#0d0887\"],[0.1111111111111111,\"#46039f\"],[0.2222222222222222,\"#7201a8\"],[0.3333333333333333,\"#9c179e\"],[0.4444444444444444,\"#bd3786\"],[0.5555555555555556,\"#d8576b\"],[0.6666666666666666,\"#ed7953\"],[0.7777777777777778,\"#fb9f3a\"],[0.8888888888888888,\"#fdca26\"],[1.0,\"#f0f921\"]],\"type\":\"heatmapgl\"}],\"heatmap\":[{\"colorbar\":{\"outlinewidth\":0,\"ticks\":\"\"},\"colorscale\":[[0.0,\"#0d0887\"],[0.1111111111111111,\"#46039f\"],[0.2222222222222222,\"#7201a8\"],[0.3333333333333333,\"#9c179e\"],[0.4444444444444444,\"#bd3786\"],[0.5555555555555556,\"#d8576b\"],[0.6666666666666666,\"#ed7953\"],[0.7777777777777778,\"#fb9f3a\"],[0.8888888888888888,\"#fdca26\"],[1.0,\"#f0f921\"]],\"type\":\"heatmap\"}],\"histogram2dcontour\":[{\"colorbar\":{\"outlinewidth\":0,\"ticks\":\"\"},\"colorscale\":[[0.0,\"#0d0887\"],[0.1111111111111111,\"#46039f\"],[0.2222222222222222,\"#7201a8\"],[0.3333333333333333,\"#9c179e\"],[0.4444444444444444,\"#bd3786\"],[0.5555555555555556,\"#d8576b\"],[0.6666666666666666,\"#ed7953\"],[0.7777777777777778,\"#fb9f3a\"],[0.8888888888888888,\"#fdca26\"],[1.0,\"#f0f921\"]],\"type\":\"histogram2dcontour\"}],\"histogram2d\":[{\"colorbar\":{\"outlinewidth\":0,\"ticks\":\"\"},\"colorscale\":[[0.0,\"#0d0887\"],[0.1111111111111111,\"#46039f\"],[0.2222222222222222,\"#7201a8\"],[0.3333333333333333,\"#9c179e\"],[0.4444444444444444,\"#bd3786\"],[0.5555555555555556,\"#d8576b\"],[0.6666666666666666,\"#ed7953\"],[0.7777777777777778,\"#fb9f3a\"],[0.8888888888888888,\"#fdca26\"],[1.0,\"#f0f921\"]],\"type\":\"histogram2d\"}],\"histogram\":[{\"marker\":{\"pattern\":{\"fillmode\":\"overlay\",\"size\":10,\"solidity\":0.2}},\"type\":\"histogram\"}],\"mesh3d\":[{\"colorbar\":{\"outlinewidth\":0,\"ticks\":\"\"},\"type\":\"mesh3d\"}],\"parcoords\":[{\"line\":{\"colorbar\":{\"outlinewidth\":0,\"ticks\":\"\"}},\"type\":\"parcoords\"}],\"pie\":[{\"automargin\":true,\"type\":\"pie\"}],\"scatter3d\":[{\"line\":{\"colorbar\":{\"outlinewidth\":0,\"ticks\":\"\"}},\"marker\":{\"colorbar\":{\"outlinewidth\":0,\"ticks\":\"\"}},\"type\":\"scatter3d\"}],\"scattercarpet\":[{\"marker\":{\"colorbar\":{\"outlinewidth\":0,\"ticks\":\"\"}},\"type\":\"scattercarpet\"}],\"scattergeo\":[{\"marker\":{\"colorbar\":{\"outlinewidth\":0,\"ticks\":\"\"}},\"type\":\"scattergeo\"}],\"scattergl\":[{\"marker\":{\"colorbar\":{\"outlinewidth\":0,\"ticks\":\"\"}},\"type\":\"scattergl\"}],\"scattermapbox\":[{\"marker\":{\"colorbar\":{\"outlinewidth\":0,\"ticks\":\"\"}},\"type\":\"scattermapbox\"}],\"scatterpolargl\":[{\"marker\":{\"colorbar\":{\"outlinewidth\":0,\"ticks\":\"\"}},\"type\":\"scatterpolargl\"}],\"scatterpolar\":[{\"marker\":{\"colorbar\":{\"outlinewidth\":0,\"ticks\":\"\"}},\"type\":\"scatterpolar\"}],\"scatter\":[{\"fillpattern\":{\"fillmode\":\"overlay\",\"size\":10,\"solidity\":0.2},\"type\":\"scatter\"}],\"scatterternary\":[{\"marker\":{\"colorbar\":{\"outlinewidth\":0,\"ticks\":\"\"}},\"type\":\"scatterternary\"}],\"surface\":[{\"colorbar\":{\"outlinewidth\":0,\"ticks\":\"\"},\"colorscale\":[[0.0,\"#0d0887\"],[0.1111111111111111,\"#46039f\"],[0.2222222222222222,\"#7201a8\"],[0.3333333333333333,\"#9c179e\"],[0.4444444444444444,\"#bd3786\"],[0.5555555555555556,\"#d8576b\"],[0.6666666666666666,\"#ed7953\"],[0.7777777777777778,\"#fb9f3a\"],[0.8888888888888888,\"#fdca26\"],[1.0,\"#f0f921\"]],\"type\":\"surface\"}],\"table\":[{\"cells\":{\"fill\":{\"color\":\"#EBF0F8\"},\"line\":{\"color\":\"white\"}},\"header\":{\"fill\":{\"color\":\"#C8D4E3\"},\"line\":{\"color\":\"white\"}},\"type\":\"table\"}]},\"layout\":{\"annotationdefaults\":{\"arrowcolor\":\"#2a3f5f\",\"arrowhead\":0,\"arrowwidth\":1},\"autotypenumbers\":\"strict\",\"coloraxis\":{\"colorbar\":{\"outlinewidth\":0,\"ticks\":\"\"}},\"colorscale\":{\"diverging\":[[0,\"#8e0152\"],[0.1,\"#c51b7d\"],[0.2,\"#de77ae\"],[0.3,\"#f1b6da\"],[0.4,\"#fde0ef\"],[0.5,\"#f7f7f7\"],[0.6,\"#e6f5d0\"],[0.7,\"#b8e186\"],[0.8,\"#7fbc41\"],[0.9,\"#4d9221\"],[1,\"#276419\"]],\"sequential\":[[0.0,\"#0d0887\"],[0.1111111111111111,\"#46039f\"],[0.2222222222222222,\"#7201a8\"],[0.3333333333333333,\"#9c179e\"],[0.4444444444444444,\"#bd3786\"],[0.5555555555555556,\"#d8576b\"],[0.6666666666666666,\"#ed7953\"],[0.7777777777777778,\"#fb9f3a\"],[0.8888888888888888,\"#fdca26\"],[1.0,\"#f0f921\"]],\"sequentialminus\":[[0.0,\"#0d0887\"],[0.1111111111111111,\"#46039f\"],[0.2222222222222222,\"#7201a8\"],[0.3333333333333333,\"#9c179e\"],[0.4444444444444444,\"#bd3786\"],[0.5555555555555556,\"#d8576b\"],[0.6666666666666666,\"#ed7953\"],[0.7777777777777778,\"#fb9f3a\"],[0.8888888888888888,\"#fdca26\"],[1.0,\"#f0f921\"]]},\"colorway\":[\"#636efa\",\"#EF553B\",\"#00cc96\",\"#ab63fa\",\"#FFA15A\",\"#19d3f3\",\"#FF6692\",\"#B6E880\",\"#FF97FF\",\"#FECB52\"],\"font\":{\"color\":\"#2a3f5f\"},\"geo\":{\"bgcolor\":\"white\",\"lakecolor\":\"white\",\"landcolor\":\"#E5ECF6\",\"showlakes\":true,\"showland\":true,\"subunitcolor\":\"white\"},\"hoverlabel\":{\"align\":\"left\"},\"hovermode\":\"closest\",\"mapbox\":{\"style\":\"light\"},\"paper_bgcolor\":\"white\",\"plot_bgcolor\":\"#E5ECF6\",\"polar\":{\"angularaxis\":{\"gridcolor\":\"white\",\"linecolor\":\"white\",\"ticks\":\"\"},\"bgcolor\":\"#E5ECF6\",\"radialaxis\":{\"gridcolor\":\"white\",\"linecolor\":\"white\",\"ticks\":\"\"}},\"scene\":{\"xaxis\":{\"backgroundcolor\":\"#E5ECF6\",\"gridcolor\":\"white\",\"gridwidth\":2,\"linecolor\":\"white\",\"showbackground\":true,\"ticks\":\"\",\"zerolinecolor\":\"white\"},\"yaxis\":{\"backgroundcolor\":\"#E5ECF6\",\"gridcolor\":\"white\",\"gridwidth\":2,\"linecolor\":\"white\",\"showbackground\":true,\"ticks\":\"\",\"zerolinecolor\":\"white\"},\"zaxis\":{\"backgroundcolor\":\"#E5ECF6\",\"gridcolor\":\"white\",\"gridwidth\":2,\"linecolor\":\"white\",\"showbackground\":true,\"ticks\":\"\",\"zerolinecolor\":\"white\"}},\"shapedefaults\":{\"line\":{\"color\":\"#2a3f5f\"}},\"ternary\":{\"aaxis\":{\"gridcolor\":\"white\",\"linecolor\":\"white\",\"ticks\":\"\"},\"baxis\":{\"gridcolor\":\"white\",\"linecolor\":\"white\",\"ticks\":\"\"},\"bgcolor\":\"#E5ECF6\",\"caxis\":{\"gridcolor\":\"white\",\"linecolor\":\"white\",\"ticks\":\"\"}},\"title\":{\"x\":0.05},\"xaxis\":{\"automargin\":true,\"gridcolor\":\"white\",\"linecolor\":\"white\",\"ticks\":\"\",\"title\":{\"standoff\":15},\"zerolinecolor\":\"white\",\"zerolinewidth\":2},\"yaxis\":{\"automargin\":true,\"gridcolor\":\"white\",\"linecolor\":\"white\",\"ticks\":\"\",\"title\":{\"standoff\":15},\"zerolinecolor\":\"white\",\"zerolinewidth\":2}}},\"title\":{\"text\":\"Scatter plot of unemployment rates in 2013\"},\"xaxis\":{\"gridwidth\":2,\"ticklen\":5,\"zeroline\":false},\"yaxis\":{\"gridwidth\":2,\"ticklen\":5,\"title\":{\"text\":\"Unemployment Rate (%)\"}}},                        {\"responsive\": true}                    ).then(function(){\n",
       "                            \n",
       "var gd = document.getElementById('c161e957-be1e-4537-ab56-aae028a1b942');\n",
       "var x = new MutationObserver(function (mutations, observer) {{\n",
       "        var display = window.getComputedStyle(gd).display;\n",
       "        if (!display || display === 'none') {{\n",
       "            console.log([gd, 'removed!']);\n",
       "            Plotly.purge(gd);\n",
       "            observer.disconnect();\n",
       "        }}\n",
       "}});\n",
       "\n",
       "// Listen for the removal of the full notebook cells\n",
       "var notebookContainer = gd.closest('#notebook-container');\n",
       "if (notebookContainer) {{\n",
       "    x.observe(notebookContainer, {childList: true});\n",
       "}}\n",
       "\n",
       "// Listen for the clearing of the current output cell\n",
       "var outputEl = gd.closest('.output');\n",
       "if (outputEl) {{\n",
       "    x.observe(outputEl, {childList: true});\n",
       "}}\n",
       "\n",
       "                        })                };                });            </script>        </div>"
      ]
     },
     "metadata": {},
     "output_type": "display_data"
    },
    {
     "data": {
      "application/vnd.plotly.v1+json": {
       "config": {
        "linkText": "Export to plot.ly",
        "plotlyServerURL": "https://plot.ly",
        "showLink": false
       },
       "data": [
        {
         "marker": {
          "color": [
           20.7999992371,
           10.5,
           29.2000007629,
           10,
           21.2999992371,
           35.0999984741,
           13.1000003815,
           9.1999998093,
           13.6000003815,
           10.6999998093,
           23.6000003815,
           1.7000000477,
           5,
           9.1000003815,
           25.8999996185,
           10.8999996185,
           30.1000003815,
           57.5,
           12,
           22,
           5.1999998093,
           15.1999998093,
           26.7999992371,
           11.1000003815,
           10,
           33.9000015259,
           11.8999996185,
           13.3999996185,
           8.6999998093,
           16.3999996185,
           10.5,
           5.8000001907,
           6.6999998093,
           10.6999998093,
           18.8999996185,
           10.6000003815,
           18.7999992371,
           19.2000007629,
           7.0999999046,
           35.7000007629,
           16.7000007629,
           7.5999999046,
           12.3999996185,
           31.3999996185,
           20,
           10.8000001907,
           42,
           10.8999996185,
           57.9000015259,
           17,
           7.0999999046,
           19.2000007629,
           18.6000003815,
           23.8999996185,
           35.5,
           16.7000007629,
           34.0999984741,
           3.2999999523,
           1.7000000477,
           10.6000003815,
           11.1000003815,
           12.6000003815,
           53.9000015259,
           5.4000000954,
           23.7999992371,
           8.5,
           6.9000000954,
           45.9000015259,
           17.1000003815,
           21,
           21.7999992371,
           10.3999996185,
           25.7999992371,
           29.3999996185,
           34.5999984741,
           10.8999996185,
           11,
           44.0999984741,
           30.5,
           28.7999992371,
           6.5,
           3.5,
           17.3999996185,
           14.6999998093,
           0.8999999762,
           10.3999996185,
           19.3999996185,
           3.4000000954,
           20.7000007629,
           4.5999999046,
           48.9000015259,
           19.1000003815,
           33,
           21.5,
           16,
           19.2999992371,
           2.9000000954,
           20.2000007629,
           8.5,
           5.1999998093,
           26.8999996185,
           9.8999996185,
           50.7999992371,
           10.5,
           13.6000003815,
           9.5,
           39.5,
           9.3000001907,
           40.7000007629,
           46.5999984741,
           21.2000007629,
           13.8000001907,
           6.6999998093,
           38.7000007629,
           7.0999999046,
           13.6000003815,
           7.5999999046,
           11.1000003815,
           8.3999996185,
           4,
           14.6000003815,
           18.7999992371,
           8.6000003815,
           11,
           9.1999998093,
           16.3999996185,
           5.4000000954,
           24,
           27.7999992371,
           10.6000003815,
           36.7999992371,
           9.3000001907,
           1.2999999523,
           25.1000003815,
           12.8999996185,
           0.6999999881,
           29.5,
           23.2999992371,
           13,
           9.6000003815,
           9.5,
           4.9000000954,
           11.6999998093,
           10.6000003815,
           49.5,
           17.8999996185,
           31.1000003815,
           20.7999992371,
           22.7999992371,
           42.5999984741,
           30.1000003815,
           10.5,
           10.6999998093,
           3.9000000954,
           15.5,
           20.2000007629,
           14,
           10.6000003815,
           31.7999992371,
           17.7000007629,
           5.5,
           6.8000001907,
           16.8999996185,
           19.1000003815,
           14,
           20.2999992371,
           17.1000003815,
           6.3000001907,
           42.7000007629,
           29.8999996185,
           52.5999984741,
           11.8999996185,
           25.1000003815,
           9.3999996185
          ],
          "colorscale": [
           [
            0,
            "rgb(12,51,131)"
           ],
           [
            0.25,
            "rgb(10,136,186)"
           ],
           [
            0.5,
            "rgb(242,211,56)"
           ],
           [
            0.75,
            "rgb(242,143,56)"
           ],
           [
            1,
            "rgb(217,30,30)"
           ]
          ],
          "line": {
           "width": 1
          },
          "opacity": 0.7,
          "showscale": true,
          "size": [
           20.7999992371,
           10.5,
           29.2000007629,
           10,
           21.2999992371,
           35.0999984741,
           13.1000003815,
           9.1999998093,
           13.6000003815,
           10.6999998093,
           23.6000003815,
           1.7000000477,
           5,
           9.1000003815,
           25.8999996185,
           10.8999996185,
           30.1000003815,
           57.5,
           12,
           22,
           5.1999998093,
           15.1999998093,
           26.7999992371,
           11.1000003815,
           10,
           33.9000015259,
           11.8999996185,
           13.3999996185,
           8.6999998093,
           16.3999996185,
           10.5,
           5.8000001907,
           6.6999998093,
           10.6999998093,
           18.8999996185,
           10.6000003815,
           18.7999992371,
           19.2000007629,
           7.0999999046,
           35.7000007629,
           16.7000007629,
           7.5999999046,
           12.3999996185,
           31.3999996185,
           20,
           10.8000001907,
           42,
           10.8999996185,
           57.9000015259,
           17,
           7.0999999046,
           19.2000007629,
           18.6000003815,
           23.8999996185,
           35.5,
           16.7000007629,
           34.0999984741,
           3.2999999523,
           1.7000000477,
           10.6000003815,
           11.1000003815,
           12.6000003815,
           53.9000015259,
           5.4000000954,
           23.7999992371,
           8.5,
           6.9000000954,
           45.9000015259,
           17.1000003815,
           21,
           21.7999992371,
           10.3999996185,
           25.7999992371,
           29.3999996185,
           34.5999984741,
           10.8999996185,
           11,
           44.0999984741,
           30.5,
           28.7999992371,
           6.5,
           3.5,
           17.3999996185,
           14.6999998093,
           0.8999999762,
           10.3999996185,
           19.3999996185,
           3.4000000954,
           20.7000007629,
           4.5999999046,
           48.9000015259,
           19.1000003815,
           33,
           21.5,
           16,
           19.2999992371,
           2.9000000954,
           20.2000007629,
           8.5,
           5.1999998093,
           26.8999996185,
           9.8999996185,
           50.7999992371,
           10.5,
           13.6000003815,
           9.5,
           39.5,
           9.3000001907,
           40.7000007629,
           46.5999984741,
           21.2000007629,
           13.8000001907,
           6.6999998093,
           38.7000007629,
           7.0999999046,
           13.6000003815,
           7.5999999046,
           11.1000003815,
           8.3999996185,
           4,
           14.6000003815,
           18.7999992371,
           8.6000003815,
           11,
           9.1999998093,
           16.3999996185,
           5.4000000954,
           24,
           27.7999992371,
           10.6000003815,
           36.7999992371,
           9.3000001907,
           1.2999999523,
           25.1000003815,
           12.8999996185,
           0.6999999881,
           29.5,
           23.2999992371,
           13,
           9.6000003815,
           9.5,
           4.9000000954,
           11.6999998093,
           10.6000003815,
           49.5,
           17.8999996185,
           31.1000003815,
           20.7999992371,
           22.7999992371,
           42.5999984741,
           30.1000003815,
           10.5,
           10.6999998093,
           3.9000000954,
           15.5,
           20.2000007629,
           14,
           10.6000003815,
           31.7999992371,
           17.7000007629,
           5.5,
           6.8000001907,
           16.8999996185,
           19.1000003815,
           14,
           20.2999992371,
           17.1000003815,
           6.3000001907,
           42.7000007629,
           29.8999996185,
           52.5999984741,
           11.8999996185,
           25.1000003815,
           9.3999996185
          ]
         },
         "mode": "markers",
         "name": "Unemployment (%)",
         "text": [
          "Afghanistan",
          "Angola",
          "Albania",
          "United Arab Emirates",
          "Argentina",
          "Armenia",
          "Australia",
          "Austria",
          "Azerbaijan",
          "Burundi",
          "Belgium",
          "Benin",
          "Burkina Faso",
          "Bangladesh",
          "Bulgaria",
          "Bahrain",
          "Bahamas, The",
          "Bosnia and Herzegovina",
          "Belarus",
          "Belize",
          "Bolivia",
          "Brazil",
          "Barbados",
          "Brunei Darussalam",
          "Bhutan",
          "Botswana",
          "Central African Republic",
          "Canada",
          "Switzerland",
          "Chile",
          "China",
          "Cote d'Ivoire",
          "Cameroon",
          "Congo, Rep.",
          "Colombia",
          "Comoros",
          "Cabo Verde",
          "Costa Rica",
          "Cuba",
          "Cyprus",
          "Czech Republic",
          "Germany",
          "Denmark",
          "Dominican Republic",
          "Algeria",
          "Ecuador",
          "Egypt, Arab Rep.",
          "Eritrea",
          "Spain",
          "Estonia",
          "Ethiopia",
          "Finland",
          "Fiji",
          "France",
          "Gabon",
          "United Kingdom",
          "Georgia",
          "Ghana",
          "Guinea",
          "Gambia, The",
          "Guinea-Bissau",
          "Equatorial Guinea",
          "Greece",
          "Guatemala",
          "Guyana",
          "Hong Kong SAR, China",
          "Honduras",
          "Croatia",
          "Haiti",
          "Hungary",
          "Indonesia",
          "India",
          "Ireland",
          "Iran, Islamic Rep.",
          "Iraq",
          "Iceland",
          "Israel",
          "Italy",
          "Jamaica",
          "Jordan",
          "Japan",
          "Kazakhstan",
          "Kenya",
          "Kyrgyz Republic",
          "Cambodia",
          "Korea, Rep.",
          "Kuwait",
          "Lao PDR",
          "Lebanon",
          "Liberia",
          "Libya",
          "Sri Lanka",
          "Lesotho",
          "Lithuania",
          "Luxembourg",
          "Latvia",
          "Macao SAR, China",
          "Morocco",
          "Moldova",
          "Madagascar",
          "Maldives",
          "Mexico",
          "Macedonia, FYR",
          "Mali",
          "Malta",
          "Myanmar",
          "Montenegro",
          "Mongolia",
          "Mozambique",
          "Mauritania",
          "Mauritius",
          "Malawi",
          "Malaysia",
          "Namibia",
          "Niger",
          "Nigeria",
          "Nicaragua",
          "Netherlands",
          "Norway",
          "Nepal",
          "New Zealand",
          "Oman",
          "Pakistan",
          "Panama",
          "Peru",
          "Philippines",
          "Papua New Guinea",
          "Poland",
          "Puerto Rico",
          "Korea, Dem. People’s Rep.",
          "Portugal",
          "Paraguay",
          "Qatar",
          "Romania",
          "Russian Federation",
          "Rwanda",
          "Saudi Arabia",
          "Sudan",
          "Senegal",
          "Singapore",
          "Solomon Islands",
          "Sierra Leone",
          "El Salvador",
          "Somalia",
          "Serbia",
          "Suriname",
          "Slovak Republic",
          "Slovenia",
          "Sweden",
          "Swaziland",
          "Syrian Arab Republic",
          "Chad",
          "Togo",
          "Thailand",
          "Tajikistan",
          "Turkmenistan",
          "Timor-Leste",
          "Trinidad and Tobago",
          "Tunisia",
          "Turkey",
          "Tanzania",
          "Uganda",
          "Ukraine",
          "Uruguay",
          "United States",
          "Uzbekistan",
          "Venezuela, RB",
          "Vietnam",
          "West Bank and Gaza",
          "Yemen, Rep.",
          "South Africa",
          "Congo, Dem. Rep.",
          "Zambia",
          "Zimbabwe"
         ],
         "type": "scatter",
         "y": [
          20.7999992371,
          10.5,
          29.2000007629,
          10,
          21.2999992371,
          35.0999984741,
          13.1000003815,
          9.1999998093,
          13.6000003815,
          10.6999998093,
          23.6000003815,
          1.7000000477,
          5,
          9.1000003815,
          25.8999996185,
          10.8999996185,
          30.1000003815,
          57.5,
          12,
          22,
          5.1999998093,
          15.1999998093,
          26.7999992371,
          11.1000003815,
          10,
          33.9000015259,
          11.8999996185,
          13.3999996185,
          8.6999998093,
          16.3999996185,
          10.5,
          5.8000001907,
          6.6999998093,
          10.6999998093,
          18.8999996185,
          10.6000003815,
          18.7999992371,
          19.2000007629,
          7.0999999046,
          35.7000007629,
          16.7000007629,
          7.5999999046,
          12.3999996185,
          31.3999996185,
          20,
          10.8000001907,
          42,
          10.8999996185,
          57.9000015259,
          17,
          7.0999999046,
          19.2000007629,
          18.6000003815,
          23.8999996185,
          35.5,
          16.7000007629,
          34.0999984741,
          3.2999999523,
          1.7000000477,
          10.6000003815,
          11.1000003815,
          12.6000003815,
          53.9000015259,
          5.4000000954,
          23.7999992371,
          8.5,
          6.9000000954,
          45.9000015259,
          17.1000003815,
          21,
          21.7999992371,
          10.3999996185,
          25.7999992371,
          29.3999996185,
          34.5999984741,
          10.8999996185,
          11,
          44.0999984741,
          30.5,
          28.7999992371,
          6.5,
          3.5,
          17.3999996185,
          14.6999998093,
          0.8999999762,
          10.3999996185,
          19.3999996185,
          3.4000000954,
          20.7000007629,
          4.5999999046,
          48.9000015259,
          19.1000003815,
          33,
          21.5,
          16,
          19.2999992371,
          2.9000000954,
          20.2000007629,
          8.5,
          5.1999998093,
          26.8999996185,
          9.8999996185,
          50.7999992371,
          10.5,
          13.6000003815,
          9.5,
          39.5,
          9.3000001907,
          40.7000007629,
          46.5999984741,
          21.2000007629,
          13.8000001907,
          6.6999998093,
          38.7000007629,
          7.0999999046,
          13.6000003815,
          7.5999999046,
          11.1000003815,
          8.3999996185,
          4,
          14.6000003815,
          18.7999992371,
          8.6000003815,
          11,
          9.1999998093,
          16.3999996185,
          5.4000000954,
          24,
          27.7999992371,
          10.6000003815,
          36.7999992371,
          9.3000001907,
          1.2999999523,
          25.1000003815,
          12.8999996185,
          0.6999999881,
          29.5,
          23.2999992371,
          13,
          9.6000003815,
          9.5,
          4.9000000954,
          11.6999998093,
          10.6000003815,
          49.5,
          17.8999996185,
          31.1000003815,
          20.7999992371,
          22.7999992371,
          42.5999984741,
          30.1000003815,
          10.5,
          10.6999998093,
          3.9000000954,
          15.5,
          20.2000007629,
          14,
          10.6000003815,
          31.7999992371,
          17.7000007629,
          5.5,
          6.8000001907,
          16.8999996185,
          19.1000003815,
          14,
          20.2999992371,
          17.1000003815,
          6.3000001907,
          42.7000007629,
          29.8999996185,
          52.5999984741,
          11.8999996185,
          25.1000003815,
          9.3999996185
         ]
        }
       ],
       "layout": {
        "hovermode": "closest",
        "showlegend": false,
        "template": {
         "data": {
          "bar": [
           {
            "error_x": {
             "color": "#2a3f5f"
            },
            "error_y": {
             "color": "#2a3f5f"
            },
            "marker": {
             "line": {
              "color": "#E5ECF6",
              "width": 0.5
             },
             "pattern": {
              "fillmode": "overlay",
              "size": 10,
              "solidity": 0.2
             }
            },
            "type": "bar"
           }
          ],
          "barpolar": [
           {
            "marker": {
             "line": {
              "color": "#E5ECF6",
              "width": 0.5
             },
             "pattern": {
              "fillmode": "overlay",
              "size": 10,
              "solidity": 0.2
             }
            },
            "type": "barpolar"
           }
          ],
          "carpet": [
           {
            "aaxis": {
             "endlinecolor": "#2a3f5f",
             "gridcolor": "white",
             "linecolor": "white",
             "minorgridcolor": "white",
             "startlinecolor": "#2a3f5f"
            },
            "baxis": {
             "endlinecolor": "#2a3f5f",
             "gridcolor": "white",
             "linecolor": "white",
             "minorgridcolor": "white",
             "startlinecolor": "#2a3f5f"
            },
            "type": "carpet"
           }
          ],
          "choropleth": [
           {
            "colorbar": {
             "outlinewidth": 0,
             "ticks": ""
            },
            "type": "choropleth"
           }
          ],
          "contour": [
           {
            "colorbar": {
             "outlinewidth": 0,
             "ticks": ""
            },
            "colorscale": [
             [
              0,
              "#0d0887"
             ],
             [
              0.1111111111111111,
              "#46039f"
             ],
             [
              0.2222222222222222,
              "#7201a8"
             ],
             [
              0.3333333333333333,
              "#9c179e"
             ],
             [
              0.4444444444444444,
              "#bd3786"
             ],
             [
              0.5555555555555556,
              "#d8576b"
             ],
             [
              0.6666666666666666,
              "#ed7953"
             ],
             [
              0.7777777777777778,
              "#fb9f3a"
             ],
             [
              0.8888888888888888,
              "#fdca26"
             ],
             [
              1,
              "#f0f921"
             ]
            ],
            "type": "contour"
           }
          ],
          "contourcarpet": [
           {
            "colorbar": {
             "outlinewidth": 0,
             "ticks": ""
            },
            "type": "contourcarpet"
           }
          ],
          "heatmap": [
           {
            "colorbar": {
             "outlinewidth": 0,
             "ticks": ""
            },
            "colorscale": [
             [
              0,
              "#0d0887"
             ],
             [
              0.1111111111111111,
              "#46039f"
             ],
             [
              0.2222222222222222,
              "#7201a8"
             ],
             [
              0.3333333333333333,
              "#9c179e"
             ],
             [
              0.4444444444444444,
              "#bd3786"
             ],
             [
              0.5555555555555556,
              "#d8576b"
             ],
             [
              0.6666666666666666,
              "#ed7953"
             ],
             [
              0.7777777777777778,
              "#fb9f3a"
             ],
             [
              0.8888888888888888,
              "#fdca26"
             ],
             [
              1,
              "#f0f921"
             ]
            ],
            "type": "heatmap"
           }
          ],
          "heatmapgl": [
           {
            "colorbar": {
             "outlinewidth": 0,
             "ticks": ""
            },
            "colorscale": [
             [
              0,
              "#0d0887"
             ],
             [
              0.1111111111111111,
              "#46039f"
             ],
             [
              0.2222222222222222,
              "#7201a8"
             ],
             [
              0.3333333333333333,
              "#9c179e"
             ],
             [
              0.4444444444444444,
              "#bd3786"
             ],
             [
              0.5555555555555556,
              "#d8576b"
             ],
             [
              0.6666666666666666,
              "#ed7953"
             ],
             [
              0.7777777777777778,
              "#fb9f3a"
             ],
             [
              0.8888888888888888,
              "#fdca26"
             ],
             [
              1,
              "#f0f921"
             ]
            ],
            "type": "heatmapgl"
           }
          ],
          "histogram": [
           {
            "marker": {
             "pattern": {
              "fillmode": "overlay",
              "size": 10,
              "solidity": 0.2
             }
            },
            "type": "histogram"
           }
          ],
          "histogram2d": [
           {
            "colorbar": {
             "outlinewidth": 0,
             "ticks": ""
            },
            "colorscale": [
             [
              0,
              "#0d0887"
             ],
             [
              0.1111111111111111,
              "#46039f"
             ],
             [
              0.2222222222222222,
              "#7201a8"
             ],
             [
              0.3333333333333333,
              "#9c179e"
             ],
             [
              0.4444444444444444,
              "#bd3786"
             ],
             [
              0.5555555555555556,
              "#d8576b"
             ],
             [
              0.6666666666666666,
              "#ed7953"
             ],
             [
              0.7777777777777778,
              "#fb9f3a"
             ],
             [
              0.8888888888888888,
              "#fdca26"
             ],
             [
              1,
              "#f0f921"
             ]
            ],
            "type": "histogram2d"
           }
          ],
          "histogram2dcontour": [
           {
            "colorbar": {
             "outlinewidth": 0,
             "ticks": ""
            },
            "colorscale": [
             [
              0,
              "#0d0887"
             ],
             [
              0.1111111111111111,
              "#46039f"
             ],
             [
              0.2222222222222222,
              "#7201a8"
             ],
             [
              0.3333333333333333,
              "#9c179e"
             ],
             [
              0.4444444444444444,
              "#bd3786"
             ],
             [
              0.5555555555555556,
              "#d8576b"
             ],
             [
              0.6666666666666666,
              "#ed7953"
             ],
             [
              0.7777777777777778,
              "#fb9f3a"
             ],
             [
              0.8888888888888888,
              "#fdca26"
             ],
             [
              1,
              "#f0f921"
             ]
            ],
            "type": "histogram2dcontour"
           }
          ],
          "mesh3d": [
           {
            "colorbar": {
             "outlinewidth": 0,
             "ticks": ""
            },
            "type": "mesh3d"
           }
          ],
          "parcoords": [
           {
            "line": {
             "colorbar": {
              "outlinewidth": 0,
              "ticks": ""
             }
            },
            "type": "parcoords"
           }
          ],
          "pie": [
           {
            "automargin": true,
            "type": "pie"
           }
          ],
          "scatter": [
           {
            "fillpattern": {
             "fillmode": "overlay",
             "size": 10,
             "solidity": 0.2
            },
            "type": "scatter"
           }
          ],
          "scatter3d": [
           {
            "line": {
             "colorbar": {
              "outlinewidth": 0,
              "ticks": ""
             }
            },
            "marker": {
             "colorbar": {
              "outlinewidth": 0,
              "ticks": ""
             }
            },
            "type": "scatter3d"
           }
          ],
          "scattercarpet": [
           {
            "marker": {
             "colorbar": {
              "outlinewidth": 0,
              "ticks": ""
             }
            },
            "type": "scattercarpet"
           }
          ],
          "scattergeo": [
           {
            "marker": {
             "colorbar": {
              "outlinewidth": 0,
              "ticks": ""
             }
            },
            "type": "scattergeo"
           }
          ],
          "scattergl": [
           {
            "marker": {
             "colorbar": {
              "outlinewidth": 0,
              "ticks": ""
             }
            },
            "type": "scattergl"
           }
          ],
          "scattermapbox": [
           {
            "marker": {
             "colorbar": {
              "outlinewidth": 0,
              "ticks": ""
             }
            },
            "type": "scattermapbox"
           }
          ],
          "scatterpolar": [
           {
            "marker": {
             "colorbar": {
              "outlinewidth": 0,
              "ticks": ""
             }
            },
            "type": "scatterpolar"
           }
          ],
          "scatterpolargl": [
           {
            "marker": {
             "colorbar": {
              "outlinewidth": 0,
              "ticks": ""
             }
            },
            "type": "scatterpolargl"
           }
          ],
          "scatterternary": [
           {
            "marker": {
             "colorbar": {
              "outlinewidth": 0,
              "ticks": ""
             }
            },
            "type": "scatterternary"
           }
          ],
          "surface": [
           {
            "colorbar": {
             "outlinewidth": 0,
             "ticks": ""
            },
            "colorscale": [
             [
              0,
              "#0d0887"
             ],
             [
              0.1111111111111111,
              "#46039f"
             ],
             [
              0.2222222222222222,
              "#7201a8"
             ],
             [
              0.3333333333333333,
              "#9c179e"
             ],
             [
              0.4444444444444444,
              "#bd3786"
             ],
             [
              0.5555555555555556,
              "#d8576b"
             ],
             [
              0.6666666666666666,
              "#ed7953"
             ],
             [
              0.7777777777777778,
              "#fb9f3a"
             ],
             [
              0.8888888888888888,
              "#fdca26"
             ],
             [
              1,
              "#f0f921"
             ]
            ],
            "type": "surface"
           }
          ],
          "table": [
           {
            "cells": {
             "fill": {
              "color": "#EBF0F8"
             },
             "line": {
              "color": "white"
             }
            },
            "header": {
             "fill": {
              "color": "#C8D4E3"
             },
             "line": {
              "color": "white"
             }
            },
            "type": "table"
           }
          ]
         },
         "layout": {
          "annotationdefaults": {
           "arrowcolor": "#2a3f5f",
           "arrowhead": 0,
           "arrowwidth": 1
          },
          "autotypenumbers": "strict",
          "coloraxis": {
           "colorbar": {
            "outlinewidth": 0,
            "ticks": ""
           }
          },
          "colorscale": {
           "diverging": [
            [
             0,
             "#8e0152"
            ],
            [
             0.1,
             "#c51b7d"
            ],
            [
             0.2,
             "#de77ae"
            ],
            [
             0.3,
             "#f1b6da"
            ],
            [
             0.4,
             "#fde0ef"
            ],
            [
             0.5,
             "#f7f7f7"
            ],
            [
             0.6,
             "#e6f5d0"
            ],
            [
             0.7,
             "#b8e186"
            ],
            [
             0.8,
             "#7fbc41"
            ],
            [
             0.9,
             "#4d9221"
            ],
            [
             1,
             "#276419"
            ]
           ],
           "sequential": [
            [
             0,
             "#0d0887"
            ],
            [
             0.1111111111111111,
             "#46039f"
            ],
            [
             0.2222222222222222,
             "#7201a8"
            ],
            [
             0.3333333333333333,
             "#9c179e"
            ],
            [
             0.4444444444444444,
             "#bd3786"
            ],
            [
             0.5555555555555556,
             "#d8576b"
            ],
            [
             0.6666666666666666,
             "#ed7953"
            ],
            [
             0.7777777777777778,
             "#fb9f3a"
            ],
            [
             0.8888888888888888,
             "#fdca26"
            ],
            [
             1,
             "#f0f921"
            ]
           ],
           "sequentialminus": [
            [
             0,
             "#0d0887"
            ],
            [
             0.1111111111111111,
             "#46039f"
            ],
            [
             0.2222222222222222,
             "#7201a8"
            ],
            [
             0.3333333333333333,
             "#9c179e"
            ],
            [
             0.4444444444444444,
             "#bd3786"
            ],
            [
             0.5555555555555556,
             "#d8576b"
            ],
            [
             0.6666666666666666,
             "#ed7953"
            ],
            [
             0.7777777777777778,
             "#fb9f3a"
            ],
            [
             0.8888888888888888,
             "#fdca26"
            ],
            [
             1,
             "#f0f921"
            ]
           ]
          },
          "colorway": [
           "#636efa",
           "#EF553B",
           "#00cc96",
           "#ab63fa",
           "#FFA15A",
           "#19d3f3",
           "#FF6692",
           "#B6E880",
           "#FF97FF",
           "#FECB52"
          ],
          "font": {
           "color": "#2a3f5f"
          },
          "geo": {
           "bgcolor": "white",
           "lakecolor": "white",
           "landcolor": "#E5ECF6",
           "showlakes": true,
           "showland": true,
           "subunitcolor": "white"
          },
          "hoverlabel": {
           "align": "left"
          },
          "hovermode": "closest",
          "mapbox": {
           "style": "light"
          },
          "paper_bgcolor": "white",
          "plot_bgcolor": "#E5ECF6",
          "polar": {
           "angularaxis": {
            "gridcolor": "white",
            "linecolor": "white",
            "ticks": ""
           },
           "bgcolor": "#E5ECF6",
           "radialaxis": {
            "gridcolor": "white",
            "linecolor": "white",
            "ticks": ""
           }
          },
          "scene": {
           "xaxis": {
            "backgroundcolor": "#E5ECF6",
            "gridcolor": "white",
            "gridwidth": 2,
            "linecolor": "white",
            "showbackground": true,
            "ticks": "",
            "zerolinecolor": "white"
           },
           "yaxis": {
            "backgroundcolor": "#E5ECF6",
            "gridcolor": "white",
            "gridwidth": 2,
            "linecolor": "white",
            "showbackground": true,
            "ticks": "",
            "zerolinecolor": "white"
           },
           "zaxis": {
            "backgroundcolor": "#E5ECF6",
            "gridcolor": "white",
            "gridwidth": 2,
            "linecolor": "white",
            "showbackground": true,
            "ticks": "",
            "zerolinecolor": "white"
           }
          },
          "shapedefaults": {
           "line": {
            "color": "#2a3f5f"
           }
          },
          "ternary": {
           "aaxis": {
            "gridcolor": "white",
            "linecolor": "white",
            "ticks": ""
           },
           "baxis": {
            "gridcolor": "white",
            "linecolor": "white",
            "ticks": ""
           },
           "bgcolor": "#E5ECF6",
           "caxis": {
            "gridcolor": "white",
            "linecolor": "white",
            "ticks": ""
           }
          },
          "title": {
           "x": 0.05
          },
          "xaxis": {
           "automargin": true,
           "gridcolor": "white",
           "linecolor": "white",
           "ticks": "",
           "title": {
            "standoff": 15
           },
           "zerolinecolor": "white",
           "zerolinewidth": 2
          },
          "yaxis": {
           "automargin": true,
           "gridcolor": "white",
           "linecolor": "white",
           "ticks": "",
           "title": {
            "standoff": 15
           },
           "zerolinecolor": "white",
           "zerolinewidth": 2
          }
         }
        },
        "title": {
         "text": "Scatter plot of unemployment rates in 2014"
        },
        "xaxis": {
         "gridwidth": 2,
         "ticklen": 5,
         "zeroline": false
        },
        "yaxis": {
         "gridwidth": 2,
         "ticklen": 5,
         "title": {
          "text": "Unemployment Rate (%)"
         }
        }
       }
      },
      "text/html": [
       "<div>                            <div id=\"3b724127-a96b-4a76-b15b-c762df119187\" class=\"plotly-graph-div\" style=\"height:525px; width:100%;\"></div>            <script type=\"text/javascript\">                require([\"plotly\"], function(Plotly) {                    window.PLOTLYENV=window.PLOTLYENV || {};                                    if (document.getElementById(\"3b724127-a96b-4a76-b15b-c762df119187\")) {                    Plotly.newPlot(                        \"3b724127-a96b-4a76-b15b-c762df119187\",                        [{\"marker\":{\"color\":[20.7999992371,10.5,29.2000007629,10.0,21.2999992371,35.0999984741,13.1000003815,9.1999998093,13.6000003815,10.6999998093,23.6000003815,1.7000000477,5.0,9.1000003815,25.8999996185,10.8999996185,30.1000003815,57.5,12.0,22.0,5.1999998093,15.1999998093,26.7999992371,11.1000003815,10.0,33.9000015259,11.8999996185,13.3999996185,8.6999998093,16.3999996185,10.5,5.8000001907,6.6999998093,10.6999998093,18.8999996185,10.6000003815,18.7999992371,19.2000007629,7.0999999046,35.7000007629,16.7000007629,7.5999999046,12.3999996185,31.3999996185,20.0,10.8000001907,42.0,10.8999996185,57.9000015259,17.0,7.0999999046,19.2000007629,18.6000003815,23.8999996185,35.5,16.7000007629,34.0999984741,3.2999999523,1.7000000477,10.6000003815,11.1000003815,12.6000003815,53.9000015259,5.4000000954,23.7999992371,8.5,6.9000000954,45.9000015259,17.1000003815,21.0,21.7999992371,10.3999996185,25.7999992371,29.3999996185,34.5999984741,10.8999996185,11.0,44.0999984741,30.5,28.7999992371,6.5,3.5,17.3999996185,14.6999998093,0.8999999762,10.3999996185,19.3999996185,3.4000000954,20.7000007629,4.5999999046,48.9000015259,19.1000003815,33.0,21.5,16.0,19.2999992371,2.9000000954,20.2000007629,8.5,5.1999998093,26.8999996185,9.8999996185,50.7999992371,10.5,13.6000003815,9.5,39.5,9.3000001907,40.7000007629,46.5999984741,21.2000007629,13.8000001907,6.6999998093,38.7000007629,7.0999999046,13.6000003815,7.5999999046,11.1000003815,8.3999996185,4.0,14.6000003815,18.7999992371,8.6000003815,11.0,9.1999998093,16.3999996185,5.4000000954,24.0,27.7999992371,10.6000003815,36.7999992371,9.3000001907,1.2999999523,25.1000003815,12.8999996185,0.6999999881,29.5,23.2999992371,13.0,9.6000003815,9.5,4.9000000954,11.6999998093,10.6000003815,49.5,17.8999996185,31.1000003815,20.7999992371,22.7999992371,42.5999984741,30.1000003815,10.5,10.6999998093,3.9000000954,15.5,20.2000007629,14.0,10.6000003815,31.7999992371,17.7000007629,5.5,6.8000001907,16.8999996185,19.1000003815,14.0,20.2999992371,17.1000003815,6.3000001907,42.7000007629,29.8999996185,52.5999984741,11.8999996185,25.1000003815,9.3999996185],\"colorscale\":[[0.0,\"rgb(12,51,131)\"],[0.25,\"rgb(10,136,186)\"],[0.5,\"rgb(242,211,56)\"],[0.75,\"rgb(242,143,56)\"],[1.0,\"rgb(217,30,30)\"]],\"line\":{\"width\":1},\"opacity\":0.7,\"showscale\":true,\"size\":[20.7999992371,10.5,29.2000007629,10.0,21.2999992371,35.0999984741,13.1000003815,9.1999998093,13.6000003815,10.6999998093,23.6000003815,1.7000000477,5.0,9.1000003815,25.8999996185,10.8999996185,30.1000003815,57.5,12.0,22.0,5.1999998093,15.1999998093,26.7999992371,11.1000003815,10.0,33.9000015259,11.8999996185,13.3999996185,8.6999998093,16.3999996185,10.5,5.8000001907,6.6999998093,10.6999998093,18.8999996185,10.6000003815,18.7999992371,19.2000007629,7.0999999046,35.7000007629,16.7000007629,7.5999999046,12.3999996185,31.3999996185,20.0,10.8000001907,42.0,10.8999996185,57.9000015259,17.0,7.0999999046,19.2000007629,18.6000003815,23.8999996185,35.5,16.7000007629,34.0999984741,3.2999999523,1.7000000477,10.6000003815,11.1000003815,12.6000003815,53.9000015259,5.4000000954,23.7999992371,8.5,6.9000000954,45.9000015259,17.1000003815,21.0,21.7999992371,10.3999996185,25.7999992371,29.3999996185,34.5999984741,10.8999996185,11.0,44.0999984741,30.5,28.7999992371,6.5,3.5,17.3999996185,14.6999998093,0.8999999762,10.3999996185,19.3999996185,3.4000000954,20.7000007629,4.5999999046,48.9000015259,19.1000003815,33.0,21.5,16.0,19.2999992371,2.9000000954,20.2000007629,8.5,5.1999998093,26.8999996185,9.8999996185,50.7999992371,10.5,13.6000003815,9.5,39.5,9.3000001907,40.7000007629,46.5999984741,21.2000007629,13.8000001907,6.6999998093,38.7000007629,7.0999999046,13.6000003815,7.5999999046,11.1000003815,8.3999996185,4.0,14.6000003815,18.7999992371,8.6000003815,11.0,9.1999998093,16.3999996185,5.4000000954,24.0,27.7999992371,10.6000003815,36.7999992371,9.3000001907,1.2999999523,25.1000003815,12.8999996185,0.6999999881,29.5,23.2999992371,13.0,9.6000003815,9.5,4.9000000954,11.6999998093,10.6000003815,49.5,17.8999996185,31.1000003815,20.7999992371,22.7999992371,42.5999984741,30.1000003815,10.5,10.6999998093,3.9000000954,15.5,20.2000007629,14.0,10.6000003815,31.7999992371,17.7000007629,5.5,6.8000001907,16.8999996185,19.1000003815,14.0,20.2999992371,17.1000003815,6.3000001907,42.7000007629,29.8999996185,52.5999984741,11.8999996185,25.1000003815,9.3999996185]},\"mode\":\"markers\",\"name\":\"Unemployment (%)\",\"text\":[\"Afghanistan\",\"Angola\",\"Albania\",\"United Arab Emirates\",\"Argentina\",\"Armenia\",\"Australia\",\"Austria\",\"Azerbaijan\",\"Burundi\",\"Belgium\",\"Benin\",\"Burkina Faso\",\"Bangladesh\",\"Bulgaria\",\"Bahrain\",\"Bahamas, The\",\"Bosnia and Herzegovina\",\"Belarus\",\"Belize\",\"Bolivia\",\"Brazil\",\"Barbados\",\"Brunei Darussalam\",\"Bhutan\",\"Botswana\",\"Central African Republic\",\"Canada\",\"Switzerland\",\"Chile\",\"China\",\"Cote d'Ivoire\",\"Cameroon\",\"Congo, Rep.\",\"Colombia\",\"Comoros\",\"Cabo Verde\",\"Costa Rica\",\"Cuba\",\"Cyprus\",\"Czech Republic\",\"Germany\",\"Denmark\",\"Dominican Republic\",\"Algeria\",\"Ecuador\",\"Egypt, Arab Rep.\",\"Eritrea\",\"Spain\",\"Estonia\",\"Ethiopia\",\"Finland\",\"Fiji\",\"France\",\"Gabon\",\"United Kingdom\",\"Georgia\",\"Ghana\",\"Guinea\",\"Gambia, The\",\"Guinea-Bissau\",\"Equatorial Guinea\",\"Greece\",\"Guatemala\",\"Guyana\",\"Hong Kong SAR, China\",\"Honduras\",\"Croatia\",\"Haiti\",\"Hungary\",\"Indonesia\",\"India\",\"Ireland\",\"Iran, Islamic Rep.\",\"Iraq\",\"Iceland\",\"Israel\",\"Italy\",\"Jamaica\",\"Jordan\",\"Japan\",\"Kazakhstan\",\"Kenya\",\"Kyrgyz Republic\",\"Cambodia\",\"Korea, Rep.\",\"Kuwait\",\"Lao PDR\",\"Lebanon\",\"Liberia\",\"Libya\",\"Sri Lanka\",\"Lesotho\",\"Lithuania\",\"Luxembourg\",\"Latvia\",\"Macao SAR, China\",\"Morocco\",\"Moldova\",\"Madagascar\",\"Maldives\",\"Mexico\",\"Macedonia, FYR\",\"Mali\",\"Malta\",\"Myanmar\",\"Montenegro\",\"Mongolia\",\"Mozambique\",\"Mauritania\",\"Mauritius\",\"Malawi\",\"Malaysia\",\"Namibia\",\"Niger\",\"Nigeria\",\"Nicaragua\",\"Netherlands\",\"Norway\",\"Nepal\",\"New Zealand\",\"Oman\",\"Pakistan\",\"Panama\",\"Peru\",\"Philippines\",\"Papua New Guinea\",\"Poland\",\"Puerto Rico\",\"Korea, Dem. People\\u2019s Rep.\",\"Portugal\",\"Paraguay\",\"Qatar\",\"Romania\",\"Russian Federation\",\"Rwanda\",\"Saudi Arabia\",\"Sudan\",\"Senegal\",\"Singapore\",\"Solomon Islands\",\"Sierra Leone\",\"El Salvador\",\"Somalia\",\"Serbia\",\"Suriname\",\"Slovak Republic\",\"Slovenia\",\"Sweden\",\"Swaziland\",\"Syrian Arab Republic\",\"Chad\",\"Togo\",\"Thailand\",\"Tajikistan\",\"Turkmenistan\",\"Timor-Leste\",\"Trinidad and Tobago\",\"Tunisia\",\"Turkey\",\"Tanzania\",\"Uganda\",\"Ukraine\",\"Uruguay\",\"United States\",\"Uzbekistan\",\"Venezuela, RB\",\"Vietnam\",\"West Bank and Gaza\",\"Yemen, Rep.\",\"South Africa\",\"Congo, Dem. Rep.\",\"Zambia\",\"Zimbabwe\"],\"y\":[20.7999992371,10.5,29.2000007629,10.0,21.2999992371,35.0999984741,13.1000003815,9.1999998093,13.6000003815,10.6999998093,23.6000003815,1.7000000477,5.0,9.1000003815,25.8999996185,10.8999996185,30.1000003815,57.5,12.0,22.0,5.1999998093,15.1999998093,26.7999992371,11.1000003815,10.0,33.9000015259,11.8999996185,13.3999996185,8.6999998093,16.3999996185,10.5,5.8000001907,6.6999998093,10.6999998093,18.8999996185,10.6000003815,18.7999992371,19.2000007629,7.0999999046,35.7000007629,16.7000007629,7.5999999046,12.3999996185,31.3999996185,20.0,10.8000001907,42.0,10.8999996185,57.9000015259,17.0,7.0999999046,19.2000007629,18.6000003815,23.8999996185,35.5,16.7000007629,34.0999984741,3.2999999523,1.7000000477,10.6000003815,11.1000003815,12.6000003815,53.9000015259,5.4000000954,23.7999992371,8.5,6.9000000954,45.9000015259,17.1000003815,21.0,21.7999992371,10.3999996185,25.7999992371,29.3999996185,34.5999984741,10.8999996185,11.0,44.0999984741,30.5,28.7999992371,6.5,3.5,17.3999996185,14.6999998093,0.8999999762,10.3999996185,19.3999996185,3.4000000954,20.7000007629,4.5999999046,48.9000015259,19.1000003815,33.0,21.5,16.0,19.2999992371,2.9000000954,20.2000007629,8.5,5.1999998093,26.8999996185,9.8999996185,50.7999992371,10.5,13.6000003815,9.5,39.5,9.3000001907,40.7000007629,46.5999984741,21.2000007629,13.8000001907,6.6999998093,38.7000007629,7.0999999046,13.6000003815,7.5999999046,11.1000003815,8.3999996185,4.0,14.6000003815,18.7999992371,8.6000003815,11.0,9.1999998093,16.3999996185,5.4000000954,24.0,27.7999992371,10.6000003815,36.7999992371,9.3000001907,1.2999999523,25.1000003815,12.8999996185,0.6999999881,29.5,23.2999992371,13.0,9.6000003815,9.5,4.9000000954,11.6999998093,10.6000003815,49.5,17.8999996185,31.1000003815,20.7999992371,22.7999992371,42.5999984741,30.1000003815,10.5,10.6999998093,3.9000000954,15.5,20.2000007629,14.0,10.6000003815,31.7999992371,17.7000007629,5.5,6.8000001907,16.8999996185,19.1000003815,14.0,20.2999992371,17.1000003815,6.3000001907,42.7000007629,29.8999996185,52.5999984741,11.8999996185,25.1000003815,9.3999996185],\"type\":\"scatter\"}],                        {\"hovermode\":\"closest\",\"showlegend\":false,\"template\":{\"data\":{\"barpolar\":[{\"marker\":{\"line\":{\"color\":\"#E5ECF6\",\"width\":0.5},\"pattern\":{\"fillmode\":\"overlay\",\"size\":10,\"solidity\":0.2}},\"type\":\"barpolar\"}],\"bar\":[{\"error_x\":{\"color\":\"#2a3f5f\"},\"error_y\":{\"color\":\"#2a3f5f\"},\"marker\":{\"line\":{\"color\":\"#E5ECF6\",\"width\":0.5},\"pattern\":{\"fillmode\":\"overlay\",\"size\":10,\"solidity\":0.2}},\"type\":\"bar\"}],\"carpet\":[{\"aaxis\":{\"endlinecolor\":\"#2a3f5f\",\"gridcolor\":\"white\",\"linecolor\":\"white\",\"minorgridcolor\":\"white\",\"startlinecolor\":\"#2a3f5f\"},\"baxis\":{\"endlinecolor\":\"#2a3f5f\",\"gridcolor\":\"white\",\"linecolor\":\"white\",\"minorgridcolor\":\"white\",\"startlinecolor\":\"#2a3f5f\"},\"type\":\"carpet\"}],\"choropleth\":[{\"colorbar\":{\"outlinewidth\":0,\"ticks\":\"\"},\"type\":\"choropleth\"}],\"contourcarpet\":[{\"colorbar\":{\"outlinewidth\":0,\"ticks\":\"\"},\"type\":\"contourcarpet\"}],\"contour\":[{\"colorbar\":{\"outlinewidth\":0,\"ticks\":\"\"},\"colorscale\":[[0.0,\"#0d0887\"],[0.1111111111111111,\"#46039f\"],[0.2222222222222222,\"#7201a8\"],[0.3333333333333333,\"#9c179e\"],[0.4444444444444444,\"#bd3786\"],[0.5555555555555556,\"#d8576b\"],[0.6666666666666666,\"#ed7953\"],[0.7777777777777778,\"#fb9f3a\"],[0.8888888888888888,\"#fdca26\"],[1.0,\"#f0f921\"]],\"type\":\"contour\"}],\"heatmapgl\":[{\"colorbar\":{\"outlinewidth\":0,\"ticks\":\"\"},\"colorscale\":[[0.0,\"#0d0887\"],[0.1111111111111111,\"#46039f\"],[0.2222222222222222,\"#7201a8\"],[0.3333333333333333,\"#9c179e\"],[0.4444444444444444,\"#bd3786\"],[0.5555555555555556,\"#d8576b\"],[0.6666666666666666,\"#ed7953\"],[0.7777777777777778,\"#fb9f3a\"],[0.8888888888888888,\"#fdca26\"],[1.0,\"#f0f921\"]],\"type\":\"heatmapgl\"}],\"heatmap\":[{\"colorbar\":{\"outlinewidth\":0,\"ticks\":\"\"},\"colorscale\":[[0.0,\"#0d0887\"],[0.1111111111111111,\"#46039f\"],[0.2222222222222222,\"#7201a8\"],[0.3333333333333333,\"#9c179e\"],[0.4444444444444444,\"#bd3786\"],[0.5555555555555556,\"#d8576b\"],[0.6666666666666666,\"#ed7953\"],[0.7777777777777778,\"#fb9f3a\"],[0.8888888888888888,\"#fdca26\"],[1.0,\"#f0f921\"]],\"type\":\"heatmap\"}],\"histogram2dcontour\":[{\"colorbar\":{\"outlinewidth\":0,\"ticks\":\"\"},\"colorscale\":[[0.0,\"#0d0887\"],[0.1111111111111111,\"#46039f\"],[0.2222222222222222,\"#7201a8\"],[0.3333333333333333,\"#9c179e\"],[0.4444444444444444,\"#bd3786\"],[0.5555555555555556,\"#d8576b\"],[0.6666666666666666,\"#ed7953\"],[0.7777777777777778,\"#fb9f3a\"],[0.8888888888888888,\"#fdca26\"],[1.0,\"#f0f921\"]],\"type\":\"histogram2dcontour\"}],\"histogram2d\":[{\"colorbar\":{\"outlinewidth\":0,\"ticks\":\"\"},\"colorscale\":[[0.0,\"#0d0887\"],[0.1111111111111111,\"#46039f\"],[0.2222222222222222,\"#7201a8\"],[0.3333333333333333,\"#9c179e\"],[0.4444444444444444,\"#bd3786\"],[0.5555555555555556,\"#d8576b\"],[0.6666666666666666,\"#ed7953\"],[0.7777777777777778,\"#fb9f3a\"],[0.8888888888888888,\"#fdca26\"],[1.0,\"#f0f921\"]],\"type\":\"histogram2d\"}],\"histogram\":[{\"marker\":{\"pattern\":{\"fillmode\":\"overlay\",\"size\":10,\"solidity\":0.2}},\"type\":\"histogram\"}],\"mesh3d\":[{\"colorbar\":{\"outlinewidth\":0,\"ticks\":\"\"},\"type\":\"mesh3d\"}],\"parcoords\":[{\"line\":{\"colorbar\":{\"outlinewidth\":0,\"ticks\":\"\"}},\"type\":\"parcoords\"}],\"pie\":[{\"automargin\":true,\"type\":\"pie\"}],\"scatter3d\":[{\"line\":{\"colorbar\":{\"outlinewidth\":0,\"ticks\":\"\"}},\"marker\":{\"colorbar\":{\"outlinewidth\":0,\"ticks\":\"\"}},\"type\":\"scatter3d\"}],\"scattercarpet\":[{\"marker\":{\"colorbar\":{\"outlinewidth\":0,\"ticks\":\"\"}},\"type\":\"scattercarpet\"}],\"scattergeo\":[{\"marker\":{\"colorbar\":{\"outlinewidth\":0,\"ticks\":\"\"}},\"type\":\"scattergeo\"}],\"scattergl\":[{\"marker\":{\"colorbar\":{\"outlinewidth\":0,\"ticks\":\"\"}},\"type\":\"scattergl\"}],\"scattermapbox\":[{\"marker\":{\"colorbar\":{\"outlinewidth\":0,\"ticks\":\"\"}},\"type\":\"scattermapbox\"}],\"scatterpolargl\":[{\"marker\":{\"colorbar\":{\"outlinewidth\":0,\"ticks\":\"\"}},\"type\":\"scatterpolargl\"}],\"scatterpolar\":[{\"marker\":{\"colorbar\":{\"outlinewidth\":0,\"ticks\":\"\"}},\"type\":\"scatterpolar\"}],\"scatter\":[{\"fillpattern\":{\"fillmode\":\"overlay\",\"size\":10,\"solidity\":0.2},\"type\":\"scatter\"}],\"scatterternary\":[{\"marker\":{\"colorbar\":{\"outlinewidth\":0,\"ticks\":\"\"}},\"type\":\"scatterternary\"}],\"surface\":[{\"colorbar\":{\"outlinewidth\":0,\"ticks\":\"\"},\"colorscale\":[[0.0,\"#0d0887\"],[0.1111111111111111,\"#46039f\"],[0.2222222222222222,\"#7201a8\"],[0.3333333333333333,\"#9c179e\"],[0.4444444444444444,\"#bd3786\"],[0.5555555555555556,\"#d8576b\"],[0.6666666666666666,\"#ed7953\"],[0.7777777777777778,\"#fb9f3a\"],[0.8888888888888888,\"#fdca26\"],[1.0,\"#f0f921\"]],\"type\":\"surface\"}],\"table\":[{\"cells\":{\"fill\":{\"color\":\"#EBF0F8\"},\"line\":{\"color\":\"white\"}},\"header\":{\"fill\":{\"color\":\"#C8D4E3\"},\"line\":{\"color\":\"white\"}},\"type\":\"table\"}]},\"layout\":{\"annotationdefaults\":{\"arrowcolor\":\"#2a3f5f\",\"arrowhead\":0,\"arrowwidth\":1},\"autotypenumbers\":\"strict\",\"coloraxis\":{\"colorbar\":{\"outlinewidth\":0,\"ticks\":\"\"}},\"colorscale\":{\"diverging\":[[0,\"#8e0152\"],[0.1,\"#c51b7d\"],[0.2,\"#de77ae\"],[0.3,\"#f1b6da\"],[0.4,\"#fde0ef\"],[0.5,\"#f7f7f7\"],[0.6,\"#e6f5d0\"],[0.7,\"#b8e186\"],[0.8,\"#7fbc41\"],[0.9,\"#4d9221\"],[1,\"#276419\"]],\"sequential\":[[0.0,\"#0d0887\"],[0.1111111111111111,\"#46039f\"],[0.2222222222222222,\"#7201a8\"],[0.3333333333333333,\"#9c179e\"],[0.4444444444444444,\"#bd3786\"],[0.5555555555555556,\"#d8576b\"],[0.6666666666666666,\"#ed7953\"],[0.7777777777777778,\"#fb9f3a\"],[0.8888888888888888,\"#fdca26\"],[1.0,\"#f0f921\"]],\"sequentialminus\":[[0.0,\"#0d0887\"],[0.1111111111111111,\"#46039f\"],[0.2222222222222222,\"#7201a8\"],[0.3333333333333333,\"#9c179e\"],[0.4444444444444444,\"#bd3786\"],[0.5555555555555556,\"#d8576b\"],[0.6666666666666666,\"#ed7953\"],[0.7777777777777778,\"#fb9f3a\"],[0.8888888888888888,\"#fdca26\"],[1.0,\"#f0f921\"]]},\"colorway\":[\"#636efa\",\"#EF553B\",\"#00cc96\",\"#ab63fa\",\"#FFA15A\",\"#19d3f3\",\"#FF6692\",\"#B6E880\",\"#FF97FF\",\"#FECB52\"],\"font\":{\"color\":\"#2a3f5f\"},\"geo\":{\"bgcolor\":\"white\",\"lakecolor\":\"white\",\"landcolor\":\"#E5ECF6\",\"showlakes\":true,\"showland\":true,\"subunitcolor\":\"white\"},\"hoverlabel\":{\"align\":\"left\"},\"hovermode\":\"closest\",\"mapbox\":{\"style\":\"light\"},\"paper_bgcolor\":\"white\",\"plot_bgcolor\":\"#E5ECF6\",\"polar\":{\"angularaxis\":{\"gridcolor\":\"white\",\"linecolor\":\"white\",\"ticks\":\"\"},\"bgcolor\":\"#E5ECF6\",\"radialaxis\":{\"gridcolor\":\"white\",\"linecolor\":\"white\",\"ticks\":\"\"}},\"scene\":{\"xaxis\":{\"backgroundcolor\":\"#E5ECF6\",\"gridcolor\":\"white\",\"gridwidth\":2,\"linecolor\":\"white\",\"showbackground\":true,\"ticks\":\"\",\"zerolinecolor\":\"white\"},\"yaxis\":{\"backgroundcolor\":\"#E5ECF6\",\"gridcolor\":\"white\",\"gridwidth\":2,\"linecolor\":\"white\",\"showbackground\":true,\"ticks\":\"\",\"zerolinecolor\":\"white\"},\"zaxis\":{\"backgroundcolor\":\"#E5ECF6\",\"gridcolor\":\"white\",\"gridwidth\":2,\"linecolor\":\"white\",\"showbackground\":true,\"ticks\":\"\",\"zerolinecolor\":\"white\"}},\"shapedefaults\":{\"line\":{\"color\":\"#2a3f5f\"}},\"ternary\":{\"aaxis\":{\"gridcolor\":\"white\",\"linecolor\":\"white\",\"ticks\":\"\"},\"baxis\":{\"gridcolor\":\"white\",\"linecolor\":\"white\",\"ticks\":\"\"},\"bgcolor\":\"#E5ECF6\",\"caxis\":{\"gridcolor\":\"white\",\"linecolor\":\"white\",\"ticks\":\"\"}},\"title\":{\"x\":0.05},\"xaxis\":{\"automargin\":true,\"gridcolor\":\"white\",\"linecolor\":\"white\",\"ticks\":\"\",\"title\":{\"standoff\":15},\"zerolinecolor\":\"white\",\"zerolinewidth\":2},\"yaxis\":{\"automargin\":true,\"gridcolor\":\"white\",\"linecolor\":\"white\",\"ticks\":\"\",\"title\":{\"standoff\":15},\"zerolinecolor\":\"white\",\"zerolinewidth\":2}}},\"title\":{\"text\":\"Scatter plot of unemployment rates in 2014\"},\"xaxis\":{\"gridwidth\":2,\"ticklen\":5,\"zeroline\":false},\"yaxis\":{\"gridwidth\":2,\"ticklen\":5,\"title\":{\"text\":\"Unemployment Rate (%)\"}}},                        {\"responsive\": true}                    ).then(function(){\n",
       "                            \n",
       "var gd = document.getElementById('3b724127-a96b-4a76-b15b-c762df119187');\n",
       "var x = new MutationObserver(function (mutations, observer) {{\n",
       "        var display = window.getComputedStyle(gd).display;\n",
       "        if (!display || display === 'none') {{\n",
       "            console.log([gd, 'removed!']);\n",
       "            Plotly.purge(gd);\n",
       "            observer.disconnect();\n",
       "        }}\n",
       "}});\n",
       "\n",
       "// Listen for the removal of the full notebook cells\n",
       "var notebookContainer = gd.closest('#notebook-container');\n",
       "if (notebookContainer) {{\n",
       "    x.observe(notebookContainer, {childList: true});\n",
       "}}\n",
       "\n",
       "// Listen for the clearing of the current output cell\n",
       "var outputEl = gd.closest('.output');\n",
       "if (outputEl) {{\n",
       "    x.observe(outputEl, {childList: true});\n",
       "}}\n",
       "\n",
       "                        })                };                });            </script>        </div>"
      ]
     },
     "metadata": {},
     "output_type": "display_data"
    }
   ],
   "source": [
    "for year in ['2010', '2011', '2012', '2013', '2014']:\n",
    "    l = []\n",
    "    trace0 = go.Scatter(\n",
    "            y= data_country[year],\n",
    "            mode='markers',\n",
    "            name='Unemployment (%)',\n",
    "            marker= dict(size= data_country[year].values, line= dict(width=1), color= data_country[year].values,\n",
    "                         opacity= 0.7, colorscale='Portland', showscale=True),\n",
    "            text=data_country['Country Name'].values) \n",
    "    l.append(trace0);\n",
    "\n",
    "    layout = go.Layout(\n",
    "        title= f'Scatter plot of unemployment rates in {year}',\n",
    "        hovermode= 'closest',\n",
    "        xaxis= dict(ticklen= 5, zeroline= False, gridwidth= 2),\n",
    "        yaxis=dict(title= 'Unemployment Rate (%)', ticklen= 5, gridwidth= 2),\n",
    "        showlegend= False,\n",
    "    )\n",
    "    fig = go.Figure(data=l, layout=layout)\n",
    "    py.iplot(fig)"
   ]
  },
  {
   "cell_type": "markdown",
   "id": "previous-spectrum",
   "metadata": {},
   "source": [
    "Several nations, such as South Africa and Bosnia and Herzegovina, which were already experiencing high unemployment rates in 2010 are still among the countries with the highest jobless rates in 2014. The situation in several European nations, on the other hand, has worsened with time."
   ]
  },
  {
   "cell_type": "markdown",
   "id": "basic-layout",
   "metadata": {},
   "source": [
    "#### Countries wise Best & Worst Performers"
   ]
  },
  {
   "cell_type": "code",
   "execution_count": 17,
   "id": "freelance-marketing",
   "metadata": {},
   "outputs": [],
   "source": [
    "data_country['2014-2010 change'] = data_country['2014'] - data_country['2010']"
   ]
  },
  {
   "cell_type": "code",
   "execution_count": 18,
   "id": "noticed-identification",
   "metadata": {},
   "outputs": [],
   "source": [
    "def top_successful_1(df, n=10, column='2014-2010 change'):\n",
    "    return df.sort_values(by=column, ascending=True).head(n)\n",
    "\n",
    "\n",
    "def top_failure_1(df, n=10, column='2014-2010 change'):\n",
    "    return df.sort_values(by=column, ascending=False).head(n)\n",
    "\n",
    "\n",
    "top15 = top_successful_1(data_country, n=15)\n",
    "bottom15 = top_failure_1(data_country, n=15)"
   ]
  },
  {
   "cell_type": "code",
   "execution_count": 19,
   "id": "accurate-setup",
   "metadata": {},
   "outputs": [
    {
     "data": {
      "image/png": "[encoded data removed]",
      "text/plain": [
       "<Figure size 1800x1440 with 2 Axes>"
      ]
     },
     "metadata": {},
     "output_type": "display_data"
    }
   ],
   "source": [
    "sns.set(font_scale=1.4)\n",
    "fig, axes = plt.subplots(1, 2, figsize=(25, 20))\n",
    "colorspal = sns.color_palette('husl', len(top15['2014']))\n",
    "sns.barplot(top15['2014-2010 change'],\n",
    "            top15['Country Name'],\n",
    "            palette=colorspal,\n",
    "            ax=axes[0])\n",
    "sns.barplot(bottom15['2014-2010 change'],\n",
    "            bottom15['Country Name'],\n",
    "            palette=colorspal,\n",
    "            ax=axes[1])\n",
    "axes[0].set(\n",
    "    xlabel='%age change in Youth Unemployment Rates',\n",
    "    title='Top 15 Performers in Controlling Unemployment between 2010-14')\n",
    "axes[1].set(\n",
    "    xlabel='%age change in Youth Unemployment Rates',\n",
    "    title='Worst 15 Performers in Controlling Unemployment between 2010-14')\n",
    "plt.show()"
   ]
  },
  {
   "cell_type": "markdown",
   "id": "republican-absorption",
   "metadata": {},
   "source": [
    "A bar graph on the left displays the top 15 nations in terms of how well they dealt with unemployment between 2010 and 2014. Most of these nations are located in Europe, with the exception of Estonia, which had a negative growth rate of -16.29 percent despite having an unemployment rate of 17 percent, which is still greater than most other countries in the region. Estonia, Latvia, Lithuania, Moldova, and Ghana round out the top five."
   ]
  },
  {
   "cell_type": "markdown",
   "id": "extreme-albert",
   "metadata": {},
   "source": [
    "#### unemployment growth around globe in 5 years"
   ]
  },
  {
   "cell_type": "code",
   "execution_count": 20,
   "id": "random-builder",
   "metadata": {},
   "outputs": [
    {
     "data": {
      "application/vnd.plotly.v1+json": {
       "config": {
        "linkText": "Export to plot.ly",
        "plotlyServerURL": "https://plot.ly",
        "showLink": false
       },
       "data": [
        {
         "autocolorscale": false,
         "colorbar": {
          "autotick": false,
          "title": "Unemployment (%)"
         },
         "colorscale": "RdBu",
         "locations": [
          "AFG",
          "AGO",
          "ALB",
          "ARE",
          "ARG",
          "ARM",
          "AUS",
          "AUT",
          "AZE",
          "BDI",
          "BEL",
          "BEN",
          "BFA",
          "BGD",
          "BGR",
          "BHR",
          "BHS",
          "BIH",
          "BLR",
          "BLZ",
          "BOL",
          "BRA",
          "BRB",
          "BRN",
          "BTN",
          "BWA",
          "CAF",
          "CAN",
          "CHE",
          "CHL",
          "CHN",
          "CIV",
          "CMR",
          "COG",
          "COL",
          "COM",
          "CPV",
          "CRI",
          "CUB",
          "CYP",
          "CZE",
          "DEU",
          "DNK",
          "DOM",
          "DZA",
          "ECU",
          "EGY",
          "ERI",
          "ESP",
          "EST",
          "ETH",
          "FIN",
          "FJI",
          "FRA",
          "GAB",
          "GBR",
          "GEO",
          "GHA",
          "GIN",
          "GMB",
          "GNB",
          "GNQ",
          "GRC",
          "GTM",
          "GUY",
          "HKG",
          "HND",
          "HRV",
          "HTI",
          "HUN",
          "IDN",
          "IND",
          "IRL",
          "IRN",
          "IRQ",
          "ISL",
          "ISR",
          "ITA",
          "JAM",
          "JOR",
          "JPN",
          "KAZ",
          "KEN",
          "KGZ",
          "KHM",
          "KOR",
          "KWT",
          "LAO",
          "LBN",
          "LBR",
          "LBY",
          "LKA",
          "LSO",
          "LTU",
          "LUX",
          "LVA",
          "MAC",
          "MAR",
          "MDA",
          "MDG",
          "MDV",
          "MEX",
          "MKD",
          "MLI",
          "MLT",
          "MMR",
          "MNE",
          "MNG",
          "MOZ",
          "MRT",
          "MUS",
          "MWI",
          "MYS",
          "NAM",
          "NER",
          "NGA",
          "NIC",
          "NLD",
          "NOR",
          "NPL",
          "NZL",
          "OMN",
          "PAK",
          "PAN",
          "PER",
          "PHL",
          "PNG",
          "POL",
          "PRI",
          "PRK",
          "PRT",
          "PRY",
          "QAT",
          "ROU",
          "RUS",
          "RWA",
          "SAU",
          "SDN",
          "SEN",
          "SGP",
          "SLB",
          "SLE",
          "SLV",
          "SOM",
          "SRB",
          "SUR",
          "SVK",
          "SVN",
          "SWE",
          "SWZ",
          "SYR",
          "TCD",
          "TGO",
          "THA",
          "TJK",
          "TKM",
          "TLS",
          "TTO",
          "TUN",
          "TUR",
          "TZA",
          "UGA",
          "UKR",
          "URY",
          "USA",
          "UZB",
          "VEN",
          "VNM",
          "PSE",
          "YEM",
          "ZAF",
          "COD",
          "ZMB",
          "ZWE"
         ],
         "marker": {
          "line": {
           "color": "rgb(180,180,180)",
           "width": 0.5
          }
         },
         "reversescale": false,
         "text": [
          "Afghanistan",
          "Angola",
          "Albania",
          "United Arab Emirates",
          "Argentina",
          "Armenia",
          "Australia",
          "Austria",
          "Azerbaijan",
          "Burundi",
          "Belgium",
          "Benin",
          "Burkina Faso",
          "Bangladesh",
          "Bulgaria",
          "Bahrain",
          "Bahamas, The",
          "Bosnia and Herzegovina",
          "Belarus",
          "Belize",
          "Bolivia",
          "Brazil",
          "Barbados",
          "Brunei Darussalam",
          "Bhutan",
          "Botswana",
          "Central African Republic",
          "Canada",
          "Switzerland",
          "Chile",
          "China",
          "Cote d'Ivoire",
          "Cameroon",
          "Congo, Rep.",
          "Colombia",
          "Comoros",
          "Cabo Verde",
          "Costa Rica",
          "Cuba",
          "Cyprus",
          "Czech Republic",
          "Germany",
          "Denmark",
          "Dominican Republic",
          "Algeria",
          "Ecuador",
          "Egypt, Arab Rep.",
          "Eritrea",
          "Spain",
          "Estonia",
          "Ethiopia",
          "Finland",
          "Fiji",
          "France",
          "Gabon",
          "United Kingdom",
          "Georgia",
          "Ghana",
          "Guinea",
          "Gambia, The",
          "Guinea-Bissau",
          "Equatorial Guinea",
          "Greece",
          "Guatemala",
          "Guyana",
          "Hong Kong SAR, China",
          "Honduras",
          "Croatia",
          "Haiti",
          "Hungary",
          "Indonesia",
          "India",
          "Ireland",
          "Iran, Islamic Rep.",
          "Iraq",
          "Iceland",
          "Israel",
          "Italy",
          "Jamaica",
          "Jordan",
          "Japan",
          "Kazakhstan",
          "Kenya",
          "Kyrgyz Republic",
          "Cambodia",
          "Korea, Rep.",
          "Kuwait",
          "Lao PDR",
          "Lebanon",
          "Liberia",
          "Libya",
          "Sri Lanka",
          "Lesotho",
          "Lithuania",
          "Luxembourg",
          "Latvia",
          "Macao SAR, China",
          "Morocco",
          "Moldova",
          "Madagascar",
          "Maldives",
          "Mexico",
          "Macedonia, FYR",
          "Mali",
          "Malta",
          "Myanmar",
          "Montenegro",
          "Mongolia",
          "Mozambique",
          "Mauritania",
          "Mauritius",
          "Malawi",
          "Malaysia",
          "Namibia",
          "Niger",
          "Nigeria",
          "Nicaragua",
          "Netherlands",
          "Norway",
          "Nepal",
          "New Zealand",
          "Oman",
          "Pakistan",
          "Panama",
          "Peru",
          "Philippines",
          "Papua New Guinea",
          "Poland",
          "Puerto Rico",
          "Korea, Dem. People’s Rep.",
          "Portugal",
          "Paraguay",
          "Qatar",
          "Romania",
          "Russian Federation",
          "Rwanda",
          "Saudi Arabia",
          "Sudan",
          "Senegal",
          "Singapore",
          "Solomon Islands",
          "Sierra Leone",
          "El Salvador",
          "Somalia",
          "Serbia",
          "Suriname",
          "Slovak Republic",
          "Slovenia",
          "Sweden",
          "Swaziland",
          "Syrian Arab Republic",
          "Chad",
          "Togo",
          "Thailand",
          "Tajikistan",
          "Turkmenistan",
          "Timor-Leste",
          "Trinidad and Tobago",
          "Tunisia",
          "Turkey",
          "Tanzania",
          "Uganda",
          "Ukraine",
          "Uruguay",
          "United States",
          "Uzbekistan",
          "Venezuela, RB",
          "Vietnam",
          "West Bank and Gaza",
          "Yemen, Rep.",
          "South Africa",
          "Congo, Dem. Rep.",
          "Zambia",
          "Zimbabwe"
         ],
         "type": "choropleth",
         "z": [
          0.19999885560000052,
          -0.3000001907000005,
          3.4000015258000005,
          0.1999998092999995,
          1.7999992370999998,
          -3.2000007630000056,
          1.7000007629999985,
          0.399999618599999,
          -1,
          -0.100000381400001,
          1.1000003814999992,
          -0.2999999523000001,
          -0.1999998093000004,
          0.9000005721999997,
          3,
          0.6999998092000013,
          -5.899999618500001,
          0.2999992371000033,
          -1.1999998092999995,
          1.1000003814999992,
          -0.8000001906999996,
          -2.0000009536000007,
          1.5,
          0.20000076299999847,
          1.6000003814999992,
          0.9000015259000023,
          1.0999994278000003,
          -1.4000005721999997,
          0.9999999999999991,
          -2.2000007629999985,
          1.5,
          -0.3999996186000008,
          0.29999971390000013,
          0.09999942780000026,
          -5.399999618599999,
          0,
          0.5999984741999995,
          2.2000007629000002,
          1,
          19.700000762899997,
          -1.7999992370999998,
          -2.0999999046999998,
          -1.7000007629999985,
          6.100000381400001,
          -2.2000007629000002,
          -0.5,
          15.7000007629,
          0.09999942780000026,
          15.400001525900002,
          -16.299999237100003,
          -0.3000001908000005,
          -1.1999988556000005,
          -1.5,
          1.2999992370000015,
          1,
          -2.899999618599999,
          -2.7000007630000056,
          -8.0999996662,
          -0.19999992850000003,
          -0.09999942780000026,
          0.40000057219999974,
          1.8000001907999987,
          21.5,
          -0.29999971390000013,
          0.5,
          -3.6000003814999992,
          -2.200000286099999,
          12.400001525900002,
          -2.1999988556000005,
          -5.600000381499999,
          -3.2000007629000002,
          0.19999980920000127,
          -2.2000007629000002,
          1,
          2.2999992369999944,
          -5.2000007629999985,
          -2.6000003814999992,
          16.299999236999998,
          0.5,
          -1.3000011443999995,
          -2.6000003814999992,
          -2.5,
          0.29999923700000153,
          -1.9000005721999997,
          0,
          0.6999998092000013,
          8.799999237000002,
          0.20000004769999968,
          -0.19999885560000052,
          -0.40000009540000026,
          5.100002288799999,
          0.3000011443999995,
          -2.5999984740999977,
          -13.700000762899997,
          1.5,
          -15.600002288800003,
          -2.4000000953,
          2.5,
          -9.2000007629,
          -1,
          1.5,
          0.5,
          -2.9000015257999934,
          0.1999998092999995,
          0.40000057219999974,
          0.10000038149999924,
          -6.5,
          -4.800000190799999,
          0,
          -0.10000228879999895,
          -1.899999618599999,
          0,
          -4.3000001907,
          -5.399997711200001,
          -0.09999990470000064,
          -0.19999980920000127,
          -4.700000286100001,
          2.3000001907999987,
          -0.8000001907999987,
          0,
          -2.3999996185000008,
          -0.5,
          0.40000057219999974,
          -3.8999996185000008,
          0.1999998092999995,
          -0.399999618599999,
          0,
          0.6000003814999992,
          -2.8000011443999995,
          0.40000057219999974,
          14.500000000000004,
          -2.5999994278000003,
          -0.2000000476999999,
          2.8000011443999995,
          -3.899999618599999,
          0,
          -0.29999923709999976,
          0.5,
          0,
          -0.29999923700000153,
          0.39999961850000076,
          -0.1999998091999995,
          -1.3000001907000005,
          0.10000038149999924,
          4,
          -2.8000011443999995,
          -2.6000003813999975,
          6.1999988556000005,
          -2.4000015258000005,
          0.5999984740999977,
          10.8000011444,
          0.10000038149999924,
          -0.100000381400001,
          -0.09999990460000019,
          -1.7999992370999998,
          -0.399999618599999,
          0.8999996185000008,
          -3.3999996185000008,
          2.399999618599999,
          -3.5,
          -0.09999990459999974,
          -0.5999999047000006,
          -0.5,
          -1.6999988556000005,
          -4.7000007629,
          -0.3000011443999995,
          -0.39999961850000076,
          0.20000028609999987,
          5,
          -0.399999618599999,
          1.7999992369999944,
          -0.40000057219999974,
          -1.2999992370000015,
          -0.20000076299999847
         ]
        }
       ],
       "layout": {
        "geo": {
         "oceancolor": "rgb(222,243,246)",
         "projection": {
          "type": "Mercator"
         },
         "showcoastlines": true,
         "showframe": true,
         "showocean": true
        },
        "title": "unemployment growth around globe in 5 years"
       }
      },
      "text/html": [
       "<div>                            <div id=\"82898a3b-ce88-4af7-9026-1b312efb2f37\" class=\"plotly-graph-div\" style=\"height:525px; width:100%;\"></div>            <script type=\"text/javascript\">                require([\"plotly\"], function(Plotly) {                    window.PLOTLYENV=window.PLOTLYENV || {};                                    if (document.getElementById(\"82898a3b-ce88-4af7-9026-1b312efb2f37\")) {                    Plotly.newPlot(                        \"82898a3b-ce88-4af7-9026-1b312efb2f37\",                        [{\"type\":\"choropleth\",\"locations\":[\"AFG\",\"AGO\",\"ALB\",\"ARE\",\"ARG\",\"ARM\",\"AUS\",\"AUT\",\"AZE\",\"BDI\",\"BEL\",\"BEN\",\"BFA\",\"BGD\",\"BGR\",\"BHR\",\"BHS\",\"BIH\",\"BLR\",\"BLZ\",\"BOL\",\"BRA\",\"BRB\",\"BRN\",\"BTN\",\"BWA\",\"CAF\",\"CAN\",\"CHE\",\"CHL\",\"CHN\",\"CIV\",\"CMR\",\"COG\",\"COL\",\"COM\",\"CPV\",\"CRI\",\"CUB\",\"CYP\",\"CZE\",\"DEU\",\"DNK\",\"DOM\",\"DZA\",\"ECU\",\"EGY\",\"ERI\",\"ESP\",\"EST\",\"ETH\",\"FIN\",\"FJI\",\"FRA\",\"GAB\",\"GBR\",\"GEO\",\"GHA\",\"GIN\",\"GMB\",\"GNB\",\"GNQ\",\"GRC\",\"GTM\",\"GUY\",\"HKG\",\"HND\",\"HRV\",\"HTI\",\"HUN\",\"IDN\",\"IND\",\"IRL\",\"IRN\",\"IRQ\",\"ISL\",\"ISR\",\"ITA\",\"JAM\",\"JOR\",\"JPN\",\"KAZ\",\"KEN\",\"KGZ\",\"KHM\",\"KOR\",\"KWT\",\"LAO\",\"LBN\",\"LBR\",\"LBY\",\"LKA\",\"LSO\",\"LTU\",\"LUX\",\"LVA\",\"MAC\",\"MAR\",\"MDA\",\"MDG\",\"MDV\",\"MEX\",\"MKD\",\"MLI\",\"MLT\",\"MMR\",\"MNE\",\"MNG\",\"MOZ\",\"MRT\",\"MUS\",\"MWI\",\"MYS\",\"NAM\",\"NER\",\"NGA\",\"NIC\",\"NLD\",\"NOR\",\"NPL\",\"NZL\",\"OMN\",\"PAK\",\"PAN\",\"PER\",\"PHL\",\"PNG\",\"POL\",\"PRI\",\"PRK\",\"PRT\",\"PRY\",\"QAT\",\"ROU\",\"RUS\",\"RWA\",\"SAU\",\"SDN\",\"SEN\",\"SGP\",\"SLB\",\"SLE\",\"SLV\",\"SOM\",\"SRB\",\"SUR\",\"SVK\",\"SVN\",\"SWE\",\"SWZ\",\"SYR\",\"TCD\",\"TGO\",\"THA\",\"TJK\",\"TKM\",\"TLS\",\"TTO\",\"TUN\",\"TUR\",\"TZA\",\"UGA\",\"UKR\",\"URY\",\"USA\",\"UZB\",\"VEN\",\"VNM\",\"PSE\",\"YEM\",\"ZAF\",\"COD\",\"ZMB\",\"ZWE\"],\"z\":[0.19999885560000052,-0.3000001907000005,3.4000015258000005,0.1999998092999995,1.7999992370999998,-3.2000007630000056,1.7000007629999985,0.399999618599999,-1.0,-0.100000381400001,1.1000003814999992,-0.2999999523000001,-0.1999998093000004,0.9000005721999997,3.0,0.6999998092000013,-5.899999618500001,0.2999992371000033,-1.1999998092999995,1.1000003814999992,-0.8000001906999996,-2.0000009536000007,1.5,0.20000076299999847,1.6000003814999992,0.9000015259000023,1.0999994278000003,-1.4000005721999997,0.9999999999999991,-2.2000007629999985,1.5,-0.3999996186000008,0.29999971390000013,0.09999942780000026,-5.399999618599999,0.0,0.5999984741999995,2.2000007629000002,1.0,19.700000762899997,-1.7999992370999998,-2.0999999046999998,-1.7000007629999985,6.100000381400001,-2.2000007629000002,-0.5,15.7000007629,0.09999942780000026,15.400001525900002,-16.299999237100003,-0.3000001908000005,-1.1999988556000005,-1.5,1.2999992370000015,1.0,-2.899999618599999,-2.7000007630000056,-8.0999996662,-0.19999992850000003,-0.09999942780000026,0.40000057219999974,1.8000001907999987,21.5,-0.29999971390000013,0.5,-3.6000003814999992,-2.200000286099999,12.400001525900002,-2.1999988556000005,-5.600000381499999,-3.2000007629000002,0.19999980920000127,-2.2000007629000002,1.0,2.2999992369999944,-5.2000007629999985,-2.6000003814999992,16.299999236999998,0.5,-1.3000011443999995,-2.6000003814999992,-2.5,0.29999923700000153,-1.9000005721999997,0.0,0.6999998092000013,8.799999237000002,0.20000004769999968,-0.19999885560000052,-0.40000009540000026,5.100002288799999,0.3000011443999995,-2.5999984740999977,-13.700000762899997,1.5,-15.600002288800003,-2.4000000953,2.5,-9.2000007629,-1.0,1.5,0.5,-2.9000015257999934,0.1999998092999995,0.40000057219999974,0.10000038149999924,-6.5,-4.800000190799999,0.0,-0.10000228879999895,-1.899999618599999,0.0,-4.3000001907,-5.399997711200001,-0.09999990470000064,-0.19999980920000127,-4.700000286100001,2.3000001907999987,-0.8000001907999987,0.0,-2.3999996185000008,-0.5,0.40000057219999974,-3.8999996185000008,0.1999998092999995,-0.399999618599999,0.0,0.6000003814999992,-2.8000011443999995,0.40000057219999974,14.500000000000004,-2.5999994278000003,-0.2000000476999999,2.8000011443999995,-3.899999618599999,0.0,-0.29999923709999976,0.5,0.0,-0.29999923700000153,0.39999961850000076,-0.1999998091999995,-1.3000001907000005,0.10000038149999924,4.0,-2.8000011443999995,-2.6000003813999975,6.1999988556000005,-2.4000015258000005,0.5999984740999977,10.8000011444,0.10000038149999924,-0.100000381400001,-0.09999990460000019,-1.7999992370999998,-0.399999618599999,0.8999996185000008,-3.3999996185000008,2.399999618599999,-3.5,-0.09999990459999974,-0.5999999047000006,-0.5,-1.6999988556000005,-4.7000007629,-0.3000011443999995,-0.39999961850000076,0.20000028609999987,5.0,-0.399999618599999,1.7999992369999944,-0.40000057219999974,-1.2999992370000015,-0.20000076299999847],\"text\":[\"Afghanistan\",\"Angola\",\"Albania\",\"United Arab Emirates\",\"Argentina\",\"Armenia\",\"Australia\",\"Austria\",\"Azerbaijan\",\"Burundi\",\"Belgium\",\"Benin\",\"Burkina Faso\",\"Bangladesh\",\"Bulgaria\",\"Bahrain\",\"Bahamas, The\",\"Bosnia and Herzegovina\",\"Belarus\",\"Belize\",\"Bolivia\",\"Brazil\",\"Barbados\",\"Brunei Darussalam\",\"Bhutan\",\"Botswana\",\"Central African Republic\",\"Canada\",\"Switzerland\",\"Chile\",\"China\",\"Cote d'Ivoire\",\"Cameroon\",\"Congo, Rep.\",\"Colombia\",\"Comoros\",\"Cabo Verde\",\"Costa Rica\",\"Cuba\",\"Cyprus\",\"Czech Republic\",\"Germany\",\"Denmark\",\"Dominican Republic\",\"Algeria\",\"Ecuador\",\"Egypt, Arab Rep.\",\"Eritrea\",\"Spain\",\"Estonia\",\"Ethiopia\",\"Finland\",\"Fiji\",\"France\",\"Gabon\",\"United Kingdom\",\"Georgia\",\"Ghana\",\"Guinea\",\"Gambia, The\",\"Guinea-Bissau\",\"Equatorial Guinea\",\"Greece\",\"Guatemala\",\"Guyana\",\"Hong Kong SAR, China\",\"Honduras\",\"Croatia\",\"Haiti\",\"Hungary\",\"Indonesia\",\"India\",\"Ireland\",\"Iran, Islamic Rep.\",\"Iraq\",\"Iceland\",\"Israel\",\"Italy\",\"Jamaica\",\"Jordan\",\"Japan\",\"Kazakhstan\",\"Kenya\",\"Kyrgyz Republic\",\"Cambodia\",\"Korea, Rep.\",\"Kuwait\",\"Lao PDR\",\"Lebanon\",\"Liberia\",\"Libya\",\"Sri Lanka\",\"Lesotho\",\"Lithuania\",\"Luxembourg\",\"Latvia\",\"Macao SAR, China\",\"Morocco\",\"Moldova\",\"Madagascar\",\"Maldives\",\"Mexico\",\"Macedonia, FYR\",\"Mali\",\"Malta\",\"Myanmar\",\"Montenegro\",\"Mongolia\",\"Mozambique\",\"Mauritania\",\"Mauritius\",\"Malawi\",\"Malaysia\",\"Namibia\",\"Niger\",\"Nigeria\",\"Nicaragua\",\"Netherlands\",\"Norway\",\"Nepal\",\"New Zealand\",\"Oman\",\"Pakistan\",\"Panama\",\"Peru\",\"Philippines\",\"Papua New Guinea\",\"Poland\",\"Puerto Rico\",\"Korea, Dem. People\\u2019s Rep.\",\"Portugal\",\"Paraguay\",\"Qatar\",\"Romania\",\"Russian Federation\",\"Rwanda\",\"Saudi Arabia\",\"Sudan\",\"Senegal\",\"Singapore\",\"Solomon Islands\",\"Sierra Leone\",\"El Salvador\",\"Somalia\",\"Serbia\",\"Suriname\",\"Slovak Republic\",\"Slovenia\",\"Sweden\",\"Swaziland\",\"Syrian Arab Republic\",\"Chad\",\"Togo\",\"Thailand\",\"Tajikistan\",\"Turkmenistan\",\"Timor-Leste\",\"Trinidad and Tobago\",\"Tunisia\",\"Turkey\",\"Tanzania\",\"Uganda\",\"Ukraine\",\"Uruguay\",\"United States\",\"Uzbekistan\",\"Venezuela, RB\",\"Vietnam\",\"West Bank and Gaza\",\"Yemen, Rep.\",\"South Africa\",\"Congo, Dem. Rep.\",\"Zambia\",\"Zimbabwe\"],\"colorscale\":\"RdBu\",\"autocolorscale\":false,\"reversescale\":false,\"marker\":{\"line\":{\"color\":\"rgb(180,180,180)\",\"width\":0.5}},\"colorbar\":{\"autotick\":false,\"title\":\"Unemployment (%)\"}}],                        {\"title\":\"unemployment growth around globe in 5 years\",\"geo\":{\"showframe\":true,\"showcoastlines\":true,\"showocean\":true,\"oceancolor\":\"rgb(222,243,246)\",\"projection\":{\"type\":\"Mercator\"}}},                        {\"responsive\": true}                    ).then(function(){\n",
       "                            \n",
       "var gd = document.getElementById('82898a3b-ce88-4af7-9026-1b312efb2f37');\n",
       "var x = new MutationObserver(function (mutations, observer) {{\n",
       "        var display = window.getComputedStyle(gd).display;\n",
       "        if (!display || display === 'none') {{\n",
       "            console.log([gd, 'removed!']);\n",
       "            Plotly.purge(gd);\n",
       "            observer.disconnect();\n",
       "        }}\n",
       "}});\n",
       "\n",
       "// Listen for the removal of the full notebook cells\n",
       "var notebookContainer = gd.closest('#notebook-container');\n",
       "if (notebookContainer) {{\n",
       "    x.observe(notebookContainer, {childList: true});\n",
       "}}\n",
       "\n",
       "// Listen for the clearing of the current output cell\n",
       "var outputEl = gd.closest('.output');\n",
       "if (outputEl) {{\n",
       "    x.observe(outputEl, {childList: true});\n",
       "}}\n",
       "\n",
       "                        })                };                });            </script>        </div>"
      ]
     },
     "metadata": {},
     "output_type": "display_data"
    }
   ],
   "source": [
    "data = [\n",
    "    dict(\n",
    "        type='choropleth',\n",
    "        locations=data_country['Country Code'],\n",
    "        z=data_country['2014-2010 change'],\n",
    "        text=data_country['Country Name'],\n",
    "        colorscale='RdBu',\n",
    "        autocolorscale=False,\n",
    "        reversescale=False,\n",
    "        marker=dict(line=dict(color='rgb(180,180,180)', width=0.5)),\n",
    "        colorbar=dict(autotick=False, title='Unemployment (%)'),\n",
    "    )\n",
    "]\n",
    "\n",
    "layout = dict(\n",
    "    title='unemployment growth around globe in 5 years',\n",
    "    geo=dict(\n",
    "        showframe=True,\n",
    "        showcoastlines=True,\n",
    "        showocean=True,\n",
    "        oceancolor='rgb(222,243,246)',\n",
    "        \n",
    "        projection=dict(type='Mercator')))\n",
    "\n",
    "fig = dict(data=data, layout=layout)\n",
    "py.iplot(fig, validate=False, filename='world2010')"
   ]
  },
  {
   "cell_type": "markdown",
   "id": "allied-president",
   "metadata": {},
   "source": [
    "Most nations studied had either a minor positive increase or a net drop in unemployment rates over the five-year period from 2010 to 2014. The remainder of the globe seems to be doing quite well, other from few North African and Southern European countries that have suffered a significant rise in unemployment. Just 0.19 percent, 1.5 percent, and 1.7 percent growth in India, China, and Australia over the last five years shows that the South Asian and Oceania area is performing well."
   ]
  },
  {
   "cell_type": "markdown",
   "id": "pharmaceutical-witness",
   "metadata": {},
   "source": [
    "#### Non Country Data Analysis"
   ]
  },
  {
   "cell_type": "code",
   "execution_count": 21,
   "id": "ecological-apple",
   "metadata": {},
   "outputs": [],
   "source": [
    "superNationalCountry = [\n",
    "    'Arab World', 'Caribbean small states', 'East Asia & Pacific',\n",
    "    'European Union', 'Latin America & Caribbean',\n",
    "    'Middle East & North Africa', 'North America', 'OECD members',\n",
    "    'Other small states', 'South Asia', 'Sub-Saharan Africa', 'World'\n",
    "]"
   ]
  },
  {
   "cell_type": "code",
   "execution_count": 22,
   "id": "circular-gospel",
   "metadata": {},
   "outputs": [],
   "source": [
    "data_superNational = data_non_country[data_non_country['Country Name'].isin(\n",
    "    superNationalCountry)]"
   ]
  },
  {
   "cell_type": "code",
   "execution_count": 23,
   "id": "occupational-salmon",
   "metadata": {},
   "outputs": [],
   "source": [
    "data_superNational = data_superNational[[\n",
    "    'Country Name', '2010', '2011', '2012', '2013', '2014'\n",
    "]]"
   ]
  },
  {
   "cell_type": "code",
   "execution_count": 24,
   "id": "spread-positive",
   "metadata": {},
   "outputs": [
    {
     "data": {
      "text/html": [
       "<div>\n",
       "<style scoped>\n",
       "    .dataframe tbody tr th:only-of-type {\n",
       "        vertical-align: middle;\n",
       "    }\n",
       "\n",
       "    .dataframe tbody tr th {\n",
       "        vertical-align: top;\n",
       "    }\n",
       "\n",
       "    .dataframe thead th {\n",
       "        text-align: right;\n",
       "    }\n",
       "</style>\n",
       "<table border=\"1\" class=\"dataframe\">\n",
       "  <thead>\n",
       "    <tr style=\"text-align: right;\">\n",
       "      <th></th>\n",
       "      <th>Country Name</th>\n",
       "      <th>2010</th>\n",
       "      <th>2011</th>\n",
       "      <th>2012</th>\n",
       "      <th>2013</th>\n",
       "      <th>2014</th>\n",
       "    </tr>\n",
       "  </thead>\n",
       "  <tbody>\n",
       "    <tr>\n",
       "      <th>3</th>\n",
       "      <td>Arab World</td>\n",
       "      <td>25.022214</td>\n",
       "      <td>28.117516</td>\n",
       "      <td>29.113212</td>\n",
       "      <td>29.335306</td>\n",
       "      <td>29.704569</td>\n",
       "    </tr>\n",
       "    <tr>\n",
       "      <th>40</th>\n",
       "      <td>Caribbean small states</td>\n",
       "      <td>25.004050</td>\n",
       "      <td>23.858827</td>\n",
       "      <td>25.977574</td>\n",
       "      <td>26.477460</td>\n",
       "      <td>24.596775</td>\n",
       "    </tr>\n",
       "    <tr>\n",
       "      <th>50</th>\n",
       "      <td>East Asia &amp; Pacific</td>\n",
       "      <td>10.925130</td>\n",
       "      <td>10.586137</td>\n",
       "      <td>10.754695</td>\n",
       "      <td>11.296945</td>\n",
       "      <td>11.570405</td>\n",
       "    </tr>\n",
       "    <tr>\n",
       "      <th>60</th>\n",
       "      <td>European Union</td>\n",
       "      <td>22.158531</td>\n",
       "      <td>22.793596</td>\n",
       "      <td>25.032586</td>\n",
       "      <td>25.717269</td>\n",
       "      <td>25.116139</td>\n",
       "    </tr>\n",
       "    <tr>\n",
       "      <th>110</th>\n",
       "      <td>Latin America &amp; Caribbean</td>\n",
       "      <td>15.133833</td>\n",
       "      <td>14.433149</td>\n",
       "      <td>13.695386</td>\n",
       "      <td>13.392317</td>\n",
       "      <td>14.030340</td>\n",
       "    </tr>\n",
       "  </tbody>\n",
       "</table>\n",
       "</div>"
      ],
      "text/plain": [
       "                  Country Name       2010       2011       2012       2013  \\\n",
       "3                   Arab World  25.022214  28.117516  29.113212  29.335306   \n",
       "40      Caribbean small states  25.004050  23.858827  25.977574  26.477460   \n",
       "50         East Asia & Pacific  10.925130  10.586137  10.754695  11.296945   \n",
       "60              European Union  22.158531  22.793596  25.032586  25.717269   \n",
       "110  Latin America & Caribbean  15.133833  14.433149  13.695386  13.392317   \n",
       "\n",
       "          2014  \n",
       "3    29.704569  \n",
       "40   24.596775  \n",
       "50   11.570405  \n",
       "60   25.116139  \n",
       "110  14.030340  "
      ]
     },
     "execution_count": 24,
     "metadata": {},
     "output_type": "execute_result"
    }
   ],
   "source": [
    "data_superNational.head()"
   ]
  },
  {
   "cell_type": "code",
   "execution_count": 25,
   "id": "north-eugene",
   "metadata": {},
   "outputs": [],
   "source": [
    "data_superNational = data_superNational.set_index('Country Name')\n",
    "data_superNational = (data_superNational.T).copy()"
   ]
  },
  {
   "cell_type": "code",
   "execution_count": 26,
   "id": "strong-serum",
   "metadata": {},
   "outputs": [
    {
     "data": {
      "text/html": [
       "<div>\n",
       "<style scoped>\n",
       "    .dataframe tbody tr th:only-of-type {\n",
       "        vertical-align: middle;\n",
       "    }\n",
       "\n",
       "    .dataframe tbody tr th {\n",
       "        vertical-align: top;\n",
       "    }\n",
       "\n",
       "    .dataframe thead th {\n",
       "        text-align: right;\n",
       "    }\n",
       "</style>\n",
       "<table border=\"1\" class=\"dataframe\">\n",
       "  <thead>\n",
       "    <tr style=\"text-align: right;\">\n",
       "      <th>Country Name</th>\n",
       "      <th>Arab World</th>\n",
       "      <th>Caribbean small states</th>\n",
       "      <th>East Asia &amp; Pacific</th>\n",
       "      <th>European Union</th>\n",
       "      <th>Latin America &amp; Caribbean</th>\n",
       "      <th>Middle East &amp; North Africa</th>\n",
       "      <th>North America</th>\n",
       "      <th>OECD members</th>\n",
       "      <th>Other small states</th>\n",
       "      <th>South Asia</th>\n",
       "      <th>Sub-Saharan Africa</th>\n",
       "      <th>World</th>\n",
       "    </tr>\n",
       "  </thead>\n",
       "  <tbody>\n",
       "    <tr>\n",
       "      <th>2010</th>\n",
       "      <td>25.022214</td>\n",
       "      <td>25.004050</td>\n",
       "      <td>10.925130</td>\n",
       "      <td>22.158531</td>\n",
       "      <td>15.133833</td>\n",
       "      <td>25.923886</td>\n",
       "      <td>18.327923</td>\n",
       "      <td>17.246635</td>\n",
       "      <td>24.259008</td>\n",
       "      <td>9.943293</td>\n",
       "      <td>14.652529</td>\n",
       "      <td>13.784957</td>\n",
       "    </tr>\n",
       "    <tr>\n",
       "      <th>2011</th>\n",
       "      <td>28.117516</td>\n",
       "      <td>23.858827</td>\n",
       "      <td>10.586137</td>\n",
       "      <td>22.793596</td>\n",
       "      <td>14.433149</td>\n",
       "      <td>28.712132</td>\n",
       "      <td>17.086946</td>\n",
       "      <td>16.764668</td>\n",
       "      <td>23.537174</td>\n",
       "      <td>9.995087</td>\n",
       "      <td>14.523908</td>\n",
       "      <td>13.714673</td>\n",
       "    </tr>\n",
       "    <tr>\n",
       "      <th>2012</th>\n",
       "      <td>29.113212</td>\n",
       "      <td>25.977574</td>\n",
       "      <td>10.754695</td>\n",
       "      <td>25.032586</td>\n",
       "      <td>13.695386</td>\n",
       "      <td>29.650675</td>\n",
       "      <td>16.291651</td>\n",
       "      <td>17.085444</td>\n",
       "      <td>22.874889</td>\n",
       "      <td>10.270674</td>\n",
       "      <td>14.503699</td>\n",
       "      <td>13.874293</td>\n",
       "    </tr>\n",
       "    <tr>\n",
       "      <th>2013</th>\n",
       "      <td>29.335306</td>\n",
       "      <td>26.477460</td>\n",
       "      <td>11.296945</td>\n",
       "      <td>25.717269</td>\n",
       "      <td>13.392317</td>\n",
       "      <td>29.933500</td>\n",
       "      <td>15.610488</td>\n",
       "      <td>16.923819</td>\n",
       "      <td>23.211869</td>\n",
       "      <td>10.189717</td>\n",
       "      <td>14.050604</td>\n",
       "      <td>13.903832</td>\n",
       "    </tr>\n",
       "    <tr>\n",
       "      <th>2014</th>\n",
       "      <td>29.704569</td>\n",
       "      <td>24.596775</td>\n",
       "      <td>11.570405</td>\n",
       "      <td>25.116139</td>\n",
       "      <td>14.030340</td>\n",
       "      <td>30.403553</td>\n",
       "      <td>13.943100</td>\n",
       "      <td>16.408321</td>\n",
       "      <td>23.321337</td>\n",
       "      <td>10.251149</td>\n",
       "      <td>14.124300</td>\n",
       "      <td>13.987184</td>\n",
       "    </tr>\n",
       "  </tbody>\n",
       "</table>\n",
       "</div>"
      ],
      "text/plain": [
       "Country Name  Arab World  Caribbean small states  East Asia & Pacific  \\\n",
       "2010           25.022214               25.004050            10.925130   \n",
       "2011           28.117516               23.858827            10.586137   \n",
       "2012           29.113212               25.977574            10.754695   \n",
       "2013           29.335306               26.477460            11.296945   \n",
       "2014           29.704569               24.596775            11.570405   \n",
       "\n",
       "Country Name  European Union  Latin America & Caribbean  \\\n",
       "2010               22.158531                  15.133833   \n",
       "2011               22.793596                  14.433149   \n",
       "2012               25.032586                  13.695386   \n",
       "2013               25.717269                  13.392317   \n",
       "2014               25.116139                  14.030340   \n",
       "\n",
       "Country Name  Middle East & North Africa  North America  OECD members  \\\n",
       "2010                           25.923886      18.327923     17.246635   \n",
       "2011                           28.712132      17.086946     16.764668   \n",
       "2012                           29.650675      16.291651     17.085444   \n",
       "2013                           29.933500      15.610488     16.923819   \n",
       "2014                           30.403553      13.943100     16.408321   \n",
       "\n",
       "Country Name  Other small states  South Asia  Sub-Saharan Africa      World  \n",
       "2010                   24.259008    9.943293           14.652529  13.784957  \n",
       "2011                   23.537174    9.995087           14.523908  13.714673  \n",
       "2012                   22.874889   10.270674           14.503699  13.874293  \n",
       "2013                   23.211869   10.189717           14.050604  13.903832  \n",
       "2014                   23.321337   10.251149           14.124300  13.987184  "
      ]
     },
     "execution_count": 26,
     "metadata": {},
     "output_type": "execute_result"
    }
   ],
   "source": [
    "data_superNational.head()"
   ]
  },
  {
   "cell_type": "code",
   "execution_count": 27,
   "id": "herbal-egypt",
   "metadata": {},
   "outputs": [
    {
     "data": {
      "application/vnd.plotly.v1+json": {
       "config": {
        "linkText": "Export to plot.ly",
        "plotlyServerURL": "https://plot.ly",
        "showLink": false
       },
       "data": [
        {
         "line": {
          "dash": "dashdot",
          "width": 3
         },
         "mode": "lines+markers",
         "name": "Arab World",
         "type": "scatter",
         "x": [
          "2010",
          "2011",
          "2012",
          "2013",
          "2014"
         ],
         "y": [
          25.0222141591,
          28.1175156719,
          29.1132120157,
          29.3353060436,
          29.7045691168
         ]
        },
        {
         "line": {
          "dash": "dashdot",
          "width": 3
         },
         "mode": "lines+markers",
         "name": "Caribbean small states",
         "type": "scatter",
         "x": [
          "2010",
          "2011",
          "2012",
          "2013",
          "2014"
         ],
         "y": [
          25.004049807,
          23.8588269577,
          25.9775735547,
          26.4774603156,
          24.5967753715
         ]
        },
        {
         "line": {
          "dash": "dashdot",
          "width": 3
         },
         "mode": "lines+markers",
         "name": "East Asia & Pacific",
         "type": "scatter",
         "x": [
          "2010",
          "2011",
          "2012",
          "2013",
          "2014"
         ],
         "y": [
          10.9251296105,
          10.5861371093,
          10.7546950254,
          11.2969454042,
          11.570404903
         ]
        },
        {
         "line": {
          "dash": "dashdot",
          "width": 3
         },
         "mode": "lines+markers",
         "name": "European Union",
         "type": "scatter",
         "x": [
          "2010",
          "2011",
          "2012",
          "2013",
          "2014"
         ],
         "y": [
          22.1585314328,
          22.7935958464,
          25.0325857728,
          25.7172686389,
          25.1161391909
         ]
        },
        {
         "line": {
          "dash": "dashdot",
          "width": 3
         },
         "mode": "lines+markers",
         "name": "Latin America & Caribbean",
         "type": "scatter",
         "x": [
          "2010",
          "2011",
          "2012",
          "2013",
          "2014"
         ],
         "y": [
          15.1338325658,
          14.4331485565,
          13.6953862209,
          13.3923166452,
          14.0303396218
         ]
        },
        {
         "line": {
          "dash": "dashdot",
          "width": 3
         },
         "mode": "lines+markers",
         "name": "Middle East & North Africa",
         "type": "scatter",
         "x": [
          "2010",
          "2011",
          "2012",
          "2013",
          "2014"
         ],
         "y": [
          25.9238864869,
          28.7121316339,
          29.6506746376,
          29.933500029,
          30.40355258
         ]
        },
        {
         "line": {
          "dash": "dashdot",
          "width": 3
         },
         "mode": "lines+markers",
         "name": "North America",
         "type": "scatter",
         "x": [
          "2010",
          "2011",
          "2012",
          "2013",
          "2014"
         ],
         "y": [
          18.3279230855,
          17.0869456394,
          16.2916509649,
          15.610488135,
          13.9430995948
         ]
        },
        {
         "line": {
          "dash": "dashdot",
          "width": 3
         },
         "mode": "lines+markers",
         "name": "OECD members",
         "type": "scatter",
         "x": [
          "2010",
          "2011",
          "2012",
          "2013",
          "2014"
         ],
         "y": [
          17.2466347948,
          16.7646677229,
          17.0854436491,
          16.9238188398,
          16.4083208222
         ]
        },
        {
         "line": {
          "dash": "dashdot",
          "width": 3
         },
         "mode": "lines+markers",
         "name": "Other small states",
         "type": "scatter",
         "x": [
          "2010",
          "2011",
          "2012",
          "2013",
          "2014"
         ],
         "y": [
          24.2590077378,
          23.5371739131,
          22.874889468,
          23.2118690162,
          23.3213374422
         ]
        },
        {
         "line": {
          "dash": "dashdot",
          "width": 3
         },
         "mode": "lines+markers",
         "name": "South Asia",
         "type": "scatter",
         "x": [
          "2010",
          "2011",
          "2012",
          "2013",
          "2014"
         ],
         "y": [
          9.9432927422,
          9.9950869587,
          10.2706743646,
          10.1897166407,
          10.2511491142
         ]
        },
        {
         "line": {
          "dash": "dashdot",
          "width": 3
         },
         "mode": "lines+markers",
         "name": "Sub-Saharan Africa",
         "type": "scatter",
         "x": [
          "2010",
          "2011",
          "2012",
          "2013",
          "2014"
         ],
         "y": [
          14.6525288965,
          14.5239079316,
          14.5036988421,
          14.0506041895,
          14.1242997443
         ]
        },
        {
         "line": {
          "dash": "dashdot",
          "width": 3
         },
         "mode": "lines+markers",
         "name": "World",
         "type": "scatter",
         "x": [
          "2010",
          "2011",
          "2012",
          "2013",
          "2014"
         ],
         "y": [
          13.784956938,
          13.7146725708,
          13.8742928945,
          13.9038319113,
          13.9871842021
         ]
        }
       ],
       "layout": {
        "template": {
         "data": {
          "bar": [
           {
            "error_x": {
             "color": "#2a3f5f"
            },
            "error_y": {
             "color": "#2a3f5f"
            },
            "marker": {
             "line": {
              "color": "#E5ECF6",
              "width": 0.5
             },
             "pattern": {
              "fillmode": "overlay",
              "size": 10,
              "solidity": 0.2
             }
            },
            "type": "bar"
           }
          ],
          "barpolar": [
           {
            "marker": {
             "line": {
              "color": "#E5ECF6",
              "width": 0.5
             },
             "pattern": {
              "fillmode": "overlay",
              "size": 10,
              "solidity": 0.2
             }
            },
            "type": "barpolar"
           }
          ],
          "carpet": [
           {
            "aaxis": {
             "endlinecolor": "#2a3f5f",
             "gridcolor": "white",
             "linecolor": "white",
             "minorgridcolor": "white",
             "startlinecolor": "#2a3f5f"
            },
            "baxis": {
             "endlinecolor": "#2a3f5f",
             "gridcolor": "white",
             "linecolor": "white",
             "minorgridcolor": "white",
             "startlinecolor": "#2a3f5f"
            },
            "type": "carpet"
           }
          ],
          "choropleth": [
           {
            "colorbar": {
             "outlinewidth": 0,
             "ticks": ""
            },
            "type": "choropleth"
           }
          ],
          "contour": [
           {
            "colorbar": {
             "outlinewidth": 0,
             "ticks": ""
            },
            "colorscale": [
             [
              0,
              "#0d0887"
             ],
             [
              0.1111111111111111,
              "#46039f"
             ],
             [
              0.2222222222222222,
              "#7201a8"
             ],
             [
              0.3333333333333333,
              "#9c179e"
             ],
             [
              0.4444444444444444,
              "#bd3786"
             ],
             [
              0.5555555555555556,
              "#d8576b"
             ],
             [
              0.6666666666666666,
              "#ed7953"
             ],
             [
              0.7777777777777778,
              "#fb9f3a"
             ],
             [
              0.8888888888888888,
              "#fdca26"
             ],
             [
              1,
              "#f0f921"
             ]
            ],
            "type": "contour"
           }
          ],
          "contourcarpet": [
           {
            "colorbar": {
             "outlinewidth": 0,
             "ticks": ""
            },
            "type": "contourcarpet"
           }
          ],
          "heatmap": [
           {
            "colorbar": {
             "outlinewidth": 0,
             "ticks": ""
            },
            "colorscale": [
             [
              0,
              "#0d0887"
             ],
             [
              0.1111111111111111,
              "#46039f"
             ],
             [
              0.2222222222222222,
              "#7201a8"
             ],
             [
              0.3333333333333333,
              "#9c179e"
             ],
             [
              0.4444444444444444,
              "#bd3786"
             ],
             [
              0.5555555555555556,
              "#d8576b"
             ],
             [
              0.6666666666666666,
              "#ed7953"
             ],
             [
              0.7777777777777778,
              "#fb9f3a"
             ],
             [
              0.8888888888888888,
              "#fdca26"
             ],
             [
              1,
              "#f0f921"
             ]
            ],
            "type": "heatmap"
           }
          ],
          "heatmapgl": [
           {
            "colorbar": {
             "outlinewidth": 0,
             "ticks": ""
            },
            "colorscale": [
             [
              0,
              "#0d0887"
             ],
             [
              0.1111111111111111,
              "#46039f"
             ],
             [
              0.2222222222222222,
              "#7201a8"
             ],
             [
              0.3333333333333333,
              "#9c179e"
             ],
             [
              0.4444444444444444,
              "#bd3786"
             ],
             [
              0.5555555555555556,
              "#d8576b"
             ],
             [
              0.6666666666666666,
              "#ed7953"
             ],
             [
              0.7777777777777778,
              "#fb9f3a"
             ],
             [
              0.8888888888888888,
              "#fdca26"
             ],
             [
              1,
              "#f0f921"
             ]
            ],
            "type": "heatmapgl"
           }
          ],
          "histogram": [
           {
            "marker": {
             "pattern": {
              "fillmode": "overlay",
              "size": 10,
              "solidity": 0.2
             }
            },
            "type": "histogram"
           }
          ],
          "histogram2d": [
           {
            "colorbar": {
             "outlinewidth": 0,
             "ticks": ""
            },
            "colorscale": [
             [
              0,
              "#0d0887"
             ],
             [
              0.1111111111111111,
              "#46039f"
             ],
             [
              0.2222222222222222,
              "#7201a8"
             ],
             [
              0.3333333333333333,
              "#9c179e"
             ],
             [
              0.4444444444444444,
              "#bd3786"
             ],
             [
              0.5555555555555556,
              "#d8576b"
             ],
             [
              0.6666666666666666,
              "#ed7953"
             ],
             [
              0.7777777777777778,
              "#fb9f3a"
             ],
             [
              0.8888888888888888,
              "#fdca26"
             ],
             [
              1,
              "#f0f921"
             ]
            ],
            "type": "histogram2d"
           }
          ],
          "histogram2dcontour": [
           {
            "colorbar": {
             "outlinewidth": 0,
             "ticks": ""
            },
            "colorscale": [
             [
              0,
              "#0d0887"
             ],
             [
              0.1111111111111111,
              "#46039f"
             ],
             [
              0.2222222222222222,
              "#7201a8"
             ],
             [
              0.3333333333333333,
              "#9c179e"
             ],
             [
              0.4444444444444444,
              "#bd3786"
             ],
             [
              0.5555555555555556,
              "#d8576b"
             ],
             [
              0.6666666666666666,
              "#ed7953"
             ],
             [
              0.7777777777777778,
              "#fb9f3a"
             ],
             [
              0.8888888888888888,
              "#fdca26"
             ],
             [
              1,
              "#f0f921"
             ]
            ],
            "type": "histogram2dcontour"
           }
          ],
          "mesh3d": [
           {
            "colorbar": {
             "outlinewidth": 0,
             "ticks": ""
            },
            "type": "mesh3d"
           }
          ],
          "parcoords": [
           {
            "line": {
             "colorbar": {
              "outlinewidth": 0,
              "ticks": ""
             }
            },
            "type": "parcoords"
           }
          ],
          "pie": [
           {
            "automargin": true,
            "type": "pie"
           }
          ],
          "scatter": [
           {
            "fillpattern": {
             "fillmode": "overlay",
             "size": 10,
             "solidity": 0.2
            },
            "type": "scatter"
           }
          ],
          "scatter3d": [
           {
            "line": {
             "colorbar": {
              "outlinewidth": 0,
              "ticks": ""
             }
            },
            "marker": {
             "colorbar": {
              "outlinewidth": 0,
              "ticks": ""
             }
            },
            "type": "scatter3d"
           }
          ],
          "scattercarpet": [
           {
            "marker": {
             "colorbar": {
              "outlinewidth": 0,
              "ticks": ""
             }
            },
            "type": "scattercarpet"
           }
          ],
          "scattergeo": [
           {
            "marker": {
             "colorbar": {
              "outlinewidth": 0,
              "ticks": ""
             }
            },
            "type": "scattergeo"
           }
          ],
          "scattergl": [
           {
            "marker": {
             "colorbar": {
              "outlinewidth": 0,
              "ticks": ""
             }
            },
            "type": "scattergl"
           }
          ],
          "scattermapbox": [
           {
            "marker": {
             "colorbar": {
              "outlinewidth": 0,
              "ticks": ""
             }
            },
            "type": "scattermapbox"
           }
          ],
          "scatterpolar": [
           {
            "marker": {
             "colorbar": {
              "outlinewidth": 0,
              "ticks": ""
             }
            },
            "type": "scatterpolar"
           }
          ],
          "scatterpolargl": [
           {
            "marker": {
             "colorbar": {
              "outlinewidth": 0,
              "ticks": ""
             }
            },
            "type": "scatterpolargl"
           }
          ],
          "scatterternary": [
           {
            "marker": {
             "colorbar": {
              "outlinewidth": 0,
              "ticks": ""
             }
            },
            "type": "scatterternary"
           }
          ],
          "surface": [
           {
            "colorbar": {
             "outlinewidth": 0,
             "ticks": ""
            },
            "colorscale": [
             [
              0,
              "#0d0887"
             ],
             [
              0.1111111111111111,
              "#46039f"
             ],
             [
              0.2222222222222222,
              "#7201a8"
             ],
             [
              0.3333333333333333,
              "#9c179e"
             ],
             [
              0.4444444444444444,
              "#bd3786"
             ],
             [
              0.5555555555555556,
              "#d8576b"
             ],
             [
              0.6666666666666666,
              "#ed7953"
             ],
             [
              0.7777777777777778,
              "#fb9f3a"
             ],
             [
              0.8888888888888888,
              "#fdca26"
             ],
             [
              1,
              "#f0f921"
             ]
            ],
            "type": "surface"
           }
          ],
          "table": [
           {
            "cells": {
             "fill": {
              "color": "#EBF0F8"
             },
             "line": {
              "color": "white"
             }
            },
            "header": {
             "fill": {
              "color": "#C8D4E3"
             },
             "line": {
              "color": "white"
             }
            },
            "type": "table"
           }
          ]
         },
         "layout": {
          "annotationdefaults": {
           "arrowcolor": "#2a3f5f",
           "arrowhead": 0,
           "arrowwidth": 1
          },
          "autotypenumbers": "strict",
          "coloraxis": {
           "colorbar": {
            "outlinewidth": 0,
            "ticks": ""
           }
          },
          "colorscale": {
           "diverging": [
            [
             0,
             "#8e0152"
            ],
            [
             0.1,
             "#c51b7d"
            ],
            [
             0.2,
             "#de77ae"
            ],
            [
             0.3,
             "#f1b6da"
            ],
            [
             0.4,
             "#fde0ef"
            ],
            [
             0.5,
             "#f7f7f7"
            ],
            [
             0.6,
             "#e6f5d0"
            ],
            [
             0.7,
             "#b8e186"
            ],
            [
             0.8,
             "#7fbc41"
            ],
            [
             0.9,
             "#4d9221"
            ],
            [
             1,
             "#276419"
            ]
           ],
           "sequential": [
            [
             0,
             "#0d0887"
            ],
            [
             0.1111111111111111,
             "#46039f"
            ],
            [
             0.2222222222222222,
             "#7201a8"
            ],
            [
             0.3333333333333333,
             "#9c179e"
            ],
            [
             0.4444444444444444,
             "#bd3786"
            ],
            [
             0.5555555555555556,
             "#d8576b"
            ],
            [
             0.6666666666666666,
             "#ed7953"
            ],
            [
             0.7777777777777778,
             "#fb9f3a"
            ],
            [
             0.8888888888888888,
             "#fdca26"
            ],
            [
             1,
             "#f0f921"
            ]
           ],
           "sequentialminus": [
            [
             0,
             "#0d0887"
            ],
            [
             0.1111111111111111,
             "#46039f"
            ],
            [
             0.2222222222222222,
             "#7201a8"
            ],
            [
             0.3333333333333333,
             "#9c179e"
            ],
            [
             0.4444444444444444,
             "#bd3786"
            ],
            [
             0.5555555555555556,
             "#d8576b"
            ],
            [
             0.6666666666666666,
             "#ed7953"
            ],
            [
             0.7777777777777778,
             "#fb9f3a"
            ],
            [
             0.8888888888888888,
             "#fdca26"
            ],
            [
             1,
             "#f0f921"
            ]
           ]
          },
          "colorway": [
           "#636efa",
           "#EF553B",
           "#00cc96",
           "#ab63fa",
           "#FFA15A",
           "#19d3f3",
           "#FF6692",
           "#B6E880",
           "#FF97FF",
           "#FECB52"
          ],
          "font": {
           "color": "#2a3f5f"
          },
          "geo": {
           "bgcolor": "white",
           "lakecolor": "white",
           "landcolor": "#E5ECF6",
           "showlakes": true,
           "showland": true,
           "subunitcolor": "white"
          },
          "hoverlabel": {
           "align": "left"
          },
          "hovermode": "closest",
          "mapbox": {
           "style": "light"
          },
          "paper_bgcolor": "white",
          "plot_bgcolor": "#E5ECF6",
          "polar": {
           "angularaxis": {
            "gridcolor": "white",
            "linecolor": "white",
            "ticks": ""
           },
           "bgcolor": "#E5ECF6",
           "radialaxis": {
            "gridcolor": "white",
            "linecolor": "white",
            "ticks": ""
           }
          },
          "scene": {
           "xaxis": {
            "backgroundcolor": "#E5ECF6",
            "gridcolor": "white",
            "gridwidth": 2,
            "linecolor": "white",
            "showbackground": true,
            "ticks": "",
            "zerolinecolor": "white"
           },
           "yaxis": {
            "backgroundcolor": "#E5ECF6",
            "gridcolor": "white",
            "gridwidth": 2,
            "linecolor": "white",
            "showbackground": true,
            "ticks": "",
            "zerolinecolor": "white"
           },
           "zaxis": {
            "backgroundcolor": "#E5ECF6",
            "gridcolor": "white",
            "gridwidth": 2,
            "linecolor": "white",
            "showbackground": true,
            "ticks": "",
            "zerolinecolor": "white"
           }
          },
          "shapedefaults": {
           "line": {
            "color": "#2a3f5f"
           }
          },
          "ternary": {
           "aaxis": {
            "gridcolor": "white",
            "linecolor": "white",
            "ticks": ""
           },
           "baxis": {
            "gridcolor": "white",
            "linecolor": "white",
            "ticks": ""
           },
           "bgcolor": "#E5ECF6",
           "caxis": {
            "gridcolor": "white",
            "linecolor": "white",
            "ticks": ""
           }
          },
          "title": {
           "x": 0.05
          },
          "xaxis": {
           "automargin": true,
           "gridcolor": "white",
           "linecolor": "white",
           "ticks": "",
           "title": {
            "standoff": 15
           },
           "zerolinecolor": "white",
           "zerolinewidth": 2
          },
          "yaxis": {
           "automargin": true,
           "gridcolor": "white",
           "linecolor": "white",
           "ticks": "",
           "title": {
            "standoff": 15
           },
           "zerolinecolor": "white",
           "zerolinewidth": 2
          }
         }
        },
        "title": {
         "text": "Unemployment Over the Years in different Regions of the World"
        },
        "xaxis": {
         "linecolor": "rgb(0,0,0)",
         "linewidth": 2,
         "showgrid": false,
         "showline": true,
         "showticklabels": true,
         "tickfont": {
          "color": "rgb(82, 82, 82)",
          "family": "Arial",
          "size": 12
         },
         "ticklen": 5,
         "tickmode": "array",
         "ticks": "outside",
         "tickvals": [
          "2009",
          "2010",
          "2011",
          "2012",
          "2013",
          "2014",
          "2015"
         ],
         "tickwidth": 2,
         "title": {
          "text": "Years"
         }
        },
        "yaxis": {
         "linecolor": "rgb(0,0,0)",
         "linewidth": 2,
         "nticks": 8,
         "showgrid": false,
         "showline": true,
         "showticklabels": true,
         "tickfont": {
          "color": "rgb(82, 82, 82)",
          "family": "Arial",
          "size": 12
         },
         "ticklen": 5,
         "tickmode": "auto",
         "ticks": "outside",
         "tickwidth": 2,
         "title": {
          "text": "Unemployment Rate (%)"
         },
         "zeroline": true
        }
       }
      },
      "text/html": [
       "<div>                            <div id=\"3ee0343f-5534-4bc5-9945-9e85d7fb81a9\" class=\"plotly-graph-div\" style=\"height:525px; width:100%;\"></div>            <script type=\"text/javascript\">                require([\"plotly\"], function(Plotly) {                    window.PLOTLYENV=window.PLOTLYENV || {};                                    if (document.getElementById(\"3ee0343f-5534-4bc5-9945-9e85d7fb81a9\")) {                    Plotly.newPlot(                        \"3ee0343f-5534-4bc5-9945-9e85d7fb81a9\",                        [{\"line\":{\"dash\":\"dashdot\",\"width\":3},\"mode\":\"lines+markers\",\"name\":\"Arab World\",\"x\":[\"2010\",\"2011\",\"2012\",\"2013\",\"2014\"],\"y\":[25.0222141591,28.1175156719,29.1132120157,29.3353060436,29.7045691168],\"type\":\"scatter\"},{\"line\":{\"dash\":\"dashdot\",\"width\":3},\"mode\":\"lines+markers\",\"name\":\"Caribbean small states\",\"x\":[\"2010\",\"2011\",\"2012\",\"2013\",\"2014\"],\"y\":[25.004049807,23.8588269577,25.9775735547,26.4774603156,24.5967753715],\"type\":\"scatter\"},{\"line\":{\"dash\":\"dashdot\",\"width\":3},\"mode\":\"lines+markers\",\"name\":\"East Asia & Pacific\",\"x\":[\"2010\",\"2011\",\"2012\",\"2013\",\"2014\"],\"y\":[10.9251296105,10.5861371093,10.7546950254,11.2969454042,11.570404903],\"type\":\"scatter\"},{\"line\":{\"dash\":\"dashdot\",\"width\":3},\"mode\":\"lines+markers\",\"name\":\"European Union\",\"x\":[\"2010\",\"2011\",\"2012\",\"2013\",\"2014\"],\"y\":[22.1585314328,22.7935958464,25.0325857728,25.7172686389,25.1161391909],\"type\":\"scatter\"},{\"line\":{\"dash\":\"dashdot\",\"width\":3},\"mode\":\"lines+markers\",\"name\":\"Latin America & Caribbean\",\"x\":[\"2010\",\"2011\",\"2012\",\"2013\",\"2014\"],\"y\":[15.1338325658,14.4331485565,13.6953862209,13.3923166452,14.0303396218],\"type\":\"scatter\"},{\"line\":{\"dash\":\"dashdot\",\"width\":3},\"mode\":\"lines+markers\",\"name\":\"Middle East & North Africa\",\"x\":[\"2010\",\"2011\",\"2012\",\"2013\",\"2014\"],\"y\":[25.9238864869,28.7121316339,29.6506746376,29.933500029,30.40355258],\"type\":\"scatter\"},{\"line\":{\"dash\":\"dashdot\",\"width\":3},\"mode\":\"lines+markers\",\"name\":\"North America\",\"x\":[\"2010\",\"2011\",\"2012\",\"2013\",\"2014\"],\"y\":[18.3279230855,17.0869456394,16.2916509649,15.610488135,13.9430995948],\"type\":\"scatter\"},{\"line\":{\"dash\":\"dashdot\",\"width\":3},\"mode\":\"lines+markers\",\"name\":\"OECD members\",\"x\":[\"2010\",\"2011\",\"2012\",\"2013\",\"2014\"],\"y\":[17.2466347948,16.7646677229,17.0854436491,16.9238188398,16.4083208222],\"type\":\"scatter\"},{\"line\":{\"dash\":\"dashdot\",\"width\":3},\"mode\":\"lines+markers\",\"name\":\"Other small states\",\"x\":[\"2010\",\"2011\",\"2012\",\"2013\",\"2014\"],\"y\":[24.2590077378,23.5371739131,22.874889468,23.2118690162,23.3213374422],\"type\":\"scatter\"},{\"line\":{\"dash\":\"dashdot\",\"width\":3},\"mode\":\"lines+markers\",\"name\":\"South Asia\",\"x\":[\"2010\",\"2011\",\"2012\",\"2013\",\"2014\"],\"y\":[9.9432927422,9.9950869587,10.2706743646,10.1897166407,10.2511491142],\"type\":\"scatter\"},{\"line\":{\"dash\":\"dashdot\",\"width\":3},\"mode\":\"lines+markers\",\"name\":\"Sub-Saharan Africa\",\"x\":[\"2010\",\"2011\",\"2012\",\"2013\",\"2014\"],\"y\":[14.6525288965,14.5239079316,14.5036988421,14.0506041895,14.1242997443],\"type\":\"scatter\"},{\"line\":{\"dash\":\"dashdot\",\"width\":3},\"mode\":\"lines+markers\",\"name\":\"World\",\"x\":[\"2010\",\"2011\",\"2012\",\"2013\",\"2014\"],\"y\":[13.784956938,13.7146725708,13.8742928945,13.9038319113,13.9871842021],\"type\":\"scatter\"}],                        {\"template\":{\"data\":{\"barpolar\":[{\"marker\":{\"line\":{\"color\":\"#E5ECF6\",\"width\":0.5},\"pattern\":{\"fillmode\":\"overlay\",\"size\":10,\"solidity\":0.2}},\"type\":\"barpolar\"}],\"bar\":[{\"error_x\":{\"color\":\"#2a3f5f\"},\"error_y\":{\"color\":\"#2a3f5f\"},\"marker\":{\"line\":{\"color\":\"#E5ECF6\",\"width\":0.5},\"pattern\":{\"fillmode\":\"overlay\",\"size\":10,\"solidity\":0.2}},\"type\":\"bar\"}],\"carpet\":[{\"aaxis\":{\"endlinecolor\":\"#2a3f5f\",\"gridcolor\":\"white\",\"linecolor\":\"white\",\"minorgridcolor\":\"white\",\"startlinecolor\":\"#2a3f5f\"},\"baxis\":{\"endlinecolor\":\"#2a3f5f\",\"gridcolor\":\"white\",\"linecolor\":\"white\",\"minorgridcolor\":\"white\",\"startlinecolor\":\"#2a3f5f\"},\"type\":\"carpet\"}],\"choropleth\":[{\"colorbar\":{\"outlinewidth\":0,\"ticks\":\"\"},\"type\":\"choropleth\"}],\"contourcarpet\":[{\"colorbar\":{\"outlinewidth\":0,\"ticks\":\"\"},\"type\":\"contourcarpet\"}],\"contour\":[{\"colorbar\":{\"outlinewidth\":0,\"ticks\":\"\"},\"colorscale\":[[0.0,\"#0d0887\"],[0.1111111111111111,\"#46039f\"],[0.2222222222222222,\"#7201a8\"],[0.3333333333333333,\"#9c179e\"],[0.4444444444444444,\"#bd3786\"],[0.5555555555555556,\"#d8576b\"],[0.6666666666666666,\"#ed7953\"],[0.7777777777777778,\"#fb9f3a\"],[0.8888888888888888,\"#fdca26\"],[1.0,\"#f0f921\"]],\"type\":\"contour\"}],\"heatmapgl\":[{\"colorbar\":{\"outlinewidth\":0,\"ticks\":\"\"},\"colorscale\":[[0.0,\"#0d0887\"],[0.1111111111111111,\"#46039f\"],[0.2222222222222222,\"#7201a8\"],[0.3333333333333333,\"#9c179e\"],[0.4444444444444444,\"#bd3786\"],[0.5555555555555556,\"#d8576b\"],[0.6666666666666666,\"#ed7953\"],[0.7777777777777778,\"#fb9f3a\"],[0.8888888888888888,\"#fdca26\"],[1.0,\"#f0f921\"]],\"type\":\"heatmapgl\"}],\"heatmap\":[{\"colorbar\":{\"outlinewidth\":0,\"ticks\":\"\"},\"colorscale\":[[0.0,\"#0d0887\"],[0.1111111111111111,\"#46039f\"],[0.2222222222222222,\"#7201a8\"],[0.3333333333333333,\"#9c179e\"],[0.4444444444444444,\"#bd3786\"],[0.5555555555555556,\"#d8576b\"],[0.6666666666666666,\"#ed7953\"],[0.7777777777777778,\"#fb9f3a\"],[0.8888888888888888,\"#fdca26\"],[1.0,\"#f0f921\"]],\"type\":\"heatmap\"}],\"histogram2dcontour\":[{\"colorbar\":{\"outlinewidth\":0,\"ticks\":\"\"},\"colorscale\":[[0.0,\"#0d0887\"],[0.1111111111111111,\"#46039f\"],[0.2222222222222222,\"#7201a8\"],[0.3333333333333333,\"#9c179e\"],[0.4444444444444444,\"#bd3786\"],[0.5555555555555556,\"#d8576b\"],[0.6666666666666666,\"#ed7953\"],[0.7777777777777778,\"#fb9f3a\"],[0.8888888888888888,\"#fdca26\"],[1.0,\"#f0f921\"]],\"type\":\"histogram2dcontour\"}],\"histogram2d\":[{\"colorbar\":{\"outlinewidth\":0,\"ticks\":\"\"},\"colorscale\":[[0.0,\"#0d0887\"],[0.1111111111111111,\"#46039f\"],[0.2222222222222222,\"#7201a8\"],[0.3333333333333333,\"#9c179e\"],[0.4444444444444444,\"#bd3786\"],[0.5555555555555556,\"#d8576b\"],[0.6666666666666666,\"#ed7953\"],[0.7777777777777778,\"#fb9f3a\"],[0.8888888888888888,\"#fdca26\"],[1.0,\"#f0f921\"]],\"type\":\"histogram2d\"}],\"histogram\":[{\"marker\":{\"pattern\":{\"fillmode\":\"overlay\",\"size\":10,\"solidity\":0.2}},\"type\":\"histogram\"}],\"mesh3d\":[{\"colorbar\":{\"outlinewidth\":0,\"ticks\":\"\"},\"type\":\"mesh3d\"}],\"parcoords\":[{\"line\":{\"colorbar\":{\"outlinewidth\":0,\"ticks\":\"\"}},\"type\":\"parcoords\"}],\"pie\":[{\"automargin\":true,\"type\":\"pie\"}],\"scatter3d\":[{\"line\":{\"colorbar\":{\"outlinewidth\":0,\"ticks\":\"\"}},\"marker\":{\"colorbar\":{\"outlinewidth\":0,\"ticks\":\"\"}},\"type\":\"scatter3d\"}],\"scattercarpet\":[{\"marker\":{\"colorbar\":{\"outlinewidth\":0,\"ticks\":\"\"}},\"type\":\"scattercarpet\"}],\"scattergeo\":[{\"marker\":{\"colorbar\":{\"outlinewidth\":0,\"ticks\":\"\"}},\"type\":\"scattergeo\"}],\"scattergl\":[{\"marker\":{\"colorbar\":{\"outlinewidth\":0,\"ticks\":\"\"}},\"type\":\"scattergl\"}],\"scattermapbox\":[{\"marker\":{\"colorbar\":{\"outlinewidth\":0,\"ticks\":\"\"}},\"type\":\"scattermapbox\"}],\"scatterpolargl\":[{\"marker\":{\"colorbar\":{\"outlinewidth\":0,\"ticks\":\"\"}},\"type\":\"scatterpolargl\"}],\"scatterpolar\":[{\"marker\":{\"colorbar\":{\"outlinewidth\":0,\"ticks\":\"\"}},\"type\":\"scatterpolar\"}],\"scatter\":[{\"fillpattern\":{\"fillmode\":\"overlay\",\"size\":10,\"solidity\":0.2},\"type\":\"scatter\"}],\"scatterternary\":[{\"marker\":{\"colorbar\":{\"outlinewidth\":0,\"ticks\":\"\"}},\"type\":\"scatterternary\"}],\"surface\":[{\"colorbar\":{\"outlinewidth\":0,\"ticks\":\"\"},\"colorscale\":[[0.0,\"#0d0887\"],[0.1111111111111111,\"#46039f\"],[0.2222222222222222,\"#7201a8\"],[0.3333333333333333,\"#9c179e\"],[0.4444444444444444,\"#bd3786\"],[0.5555555555555556,\"#d8576b\"],[0.6666666666666666,\"#ed7953\"],[0.7777777777777778,\"#fb9f3a\"],[0.8888888888888888,\"#fdca26\"],[1.0,\"#f0f921\"]],\"type\":\"surface\"}],\"table\":[{\"cells\":{\"fill\":{\"color\":\"#EBF0F8\"},\"line\":{\"color\":\"white\"}},\"header\":{\"fill\":{\"color\":\"#C8D4E3\"},\"line\":{\"color\":\"white\"}},\"type\":\"table\"}]},\"layout\":{\"annotationdefaults\":{\"arrowcolor\":\"#2a3f5f\",\"arrowhead\":0,\"arrowwidth\":1},\"autotypenumbers\":\"strict\",\"coloraxis\":{\"colorbar\":{\"outlinewidth\":0,\"ticks\":\"\"}},\"colorscale\":{\"diverging\":[[0,\"#8e0152\"],[0.1,\"#c51b7d\"],[0.2,\"#de77ae\"],[0.3,\"#f1b6da\"],[0.4,\"#fde0ef\"],[0.5,\"#f7f7f7\"],[0.6,\"#e6f5d0\"],[0.7,\"#b8e186\"],[0.8,\"#7fbc41\"],[0.9,\"#4d9221\"],[1,\"#276419\"]],\"sequential\":[[0.0,\"#0d0887\"],[0.1111111111111111,\"#46039f\"],[0.2222222222222222,\"#7201a8\"],[0.3333333333333333,\"#9c179e\"],[0.4444444444444444,\"#bd3786\"],[0.5555555555555556,\"#d8576b\"],[0.6666666666666666,\"#ed7953\"],[0.7777777777777778,\"#fb9f3a\"],[0.8888888888888888,\"#fdca26\"],[1.0,\"#f0f921\"]],\"sequentialminus\":[[0.0,\"#0d0887\"],[0.1111111111111111,\"#46039f\"],[0.2222222222222222,\"#7201a8\"],[0.3333333333333333,\"#9c179e\"],[0.4444444444444444,\"#bd3786\"],[0.5555555555555556,\"#d8576b\"],[0.6666666666666666,\"#ed7953\"],[0.7777777777777778,\"#fb9f3a\"],[0.8888888888888888,\"#fdca26\"],[1.0,\"#f0f921\"]]},\"colorway\":[\"#636efa\",\"#EF553B\",\"#00cc96\",\"#ab63fa\",\"#FFA15A\",\"#19d3f3\",\"#FF6692\",\"#B6E880\",\"#FF97FF\",\"#FECB52\"],\"font\":{\"color\":\"#2a3f5f\"},\"geo\":{\"bgcolor\":\"white\",\"lakecolor\":\"white\",\"landcolor\":\"#E5ECF6\",\"showlakes\":true,\"showland\":true,\"subunitcolor\":\"white\"},\"hoverlabel\":{\"align\":\"left\"},\"hovermode\":\"closest\",\"mapbox\":{\"style\":\"light\"},\"paper_bgcolor\":\"white\",\"plot_bgcolor\":\"#E5ECF6\",\"polar\":{\"angularaxis\":{\"gridcolor\":\"white\",\"linecolor\":\"white\",\"ticks\":\"\"},\"bgcolor\":\"#E5ECF6\",\"radialaxis\":{\"gridcolor\":\"white\",\"linecolor\":\"white\",\"ticks\":\"\"}},\"scene\":{\"xaxis\":{\"backgroundcolor\":\"#E5ECF6\",\"gridcolor\":\"white\",\"gridwidth\":2,\"linecolor\":\"white\",\"showbackground\":true,\"ticks\":\"\",\"zerolinecolor\":\"white\"},\"yaxis\":{\"backgroundcolor\":\"#E5ECF6\",\"gridcolor\":\"white\",\"gridwidth\":2,\"linecolor\":\"white\",\"showbackground\":true,\"ticks\":\"\",\"zerolinecolor\":\"white\"},\"zaxis\":{\"backgroundcolor\":\"#E5ECF6\",\"gridcolor\":\"white\",\"gridwidth\":2,\"linecolor\":\"white\",\"showbackground\":true,\"ticks\":\"\",\"zerolinecolor\":\"white\"}},\"shapedefaults\":{\"line\":{\"color\":\"#2a3f5f\"}},\"ternary\":{\"aaxis\":{\"gridcolor\":\"white\",\"linecolor\":\"white\",\"ticks\":\"\"},\"baxis\":{\"gridcolor\":\"white\",\"linecolor\":\"white\",\"ticks\":\"\"},\"bgcolor\":\"#E5ECF6\",\"caxis\":{\"gridcolor\":\"white\",\"linecolor\":\"white\",\"ticks\":\"\"}},\"title\":{\"x\":0.05},\"xaxis\":{\"automargin\":true,\"gridcolor\":\"white\",\"linecolor\":\"white\",\"ticks\":\"\",\"title\":{\"standoff\":15},\"zerolinecolor\":\"white\",\"zerolinewidth\":2},\"yaxis\":{\"automargin\":true,\"gridcolor\":\"white\",\"linecolor\":\"white\",\"ticks\":\"\",\"title\":{\"standoff\":15},\"zerolinecolor\":\"white\",\"zerolinewidth\":2}}},\"title\":{\"text\":\"Unemployment Over the Years in different Regions of the World\"},\"xaxis\":{\"linecolor\":\"rgb(0,0,0)\",\"linewidth\":2,\"showgrid\":false,\"showline\":true,\"showticklabels\":true,\"tickfont\":{\"color\":\"rgb(82, 82, 82)\",\"family\":\"Arial\",\"size\":12},\"ticklen\":5,\"tickmode\":\"array\",\"ticks\":\"outside\",\"tickvals\":[\"2009\",\"2010\",\"2011\",\"2012\",\"2013\",\"2014\",\"2015\"],\"tickwidth\":2,\"title\":{\"text\":\"Years\"}},\"yaxis\":{\"linecolor\":\"rgb(0,0,0)\",\"linewidth\":2,\"nticks\":8,\"showgrid\":false,\"showline\":true,\"showticklabels\":true,\"tickfont\":{\"color\":\"rgb(82, 82, 82)\",\"family\":\"Arial\",\"size\":12},\"ticklen\":5,\"tickmode\":\"auto\",\"ticks\":\"outside\",\"tickwidth\":2,\"title\":{\"text\":\"Unemployment Rate (%)\"},\"zeroline\":true}},                        {\"responsive\": true}                    ).then(function(){\n",
       "                            \n",
       "var gd = document.getElementById('3ee0343f-5534-4bc5-9945-9e85d7fb81a9');\n",
       "var x = new MutationObserver(function (mutations, observer) {{\n",
       "        var display = window.getComputedStyle(gd).display;\n",
       "        if (!display || display === 'none') {{\n",
       "            console.log([gd, 'removed!']);\n",
       "            Plotly.purge(gd);\n",
       "            observer.disconnect();\n",
       "        }}\n",
       "}});\n",
       "\n",
       "// Listen for the removal of the full notebook cells\n",
       "var notebookContainer = gd.closest('#notebook-container');\n",
       "if (notebookContainer) {{\n",
       "    x.observe(notebookContainer, {childList: true});\n",
       "}}\n",
       "\n",
       "// Listen for the clearing of the current output cell\n",
       "var outputEl = gd.closest('.output');\n",
       "if (outputEl) {{\n",
       "    x.observe(outputEl, {childList: true});\n",
       "}}\n",
       "\n",
       "                        })                };                });            </script>        </div>"
      ]
     },
     "metadata": {},
     "output_type": "display_data"
    }
   ],
   "source": [
    "traces = []\n",
    "\n",
    "for i in range(len(superNationalCountry)):\n",
    "    traces.append(go.Scatter(x=data_superNational.index,\n",
    "                             y=data_superNational.iloc[:, i], name=superNationalCountry[i], mode='lines+markers', line=dict(width=3, dash='dashdot')))\n",
    "\n",
    "layout = go.Layout(\n",
    "    title='Unemployment Over the Years in different Regions of the World',\n",
    "    yaxis=dict(title='Unemployment Rate (%)', zeroline=True, showline=True, showgrid=False, showticklabels=True, linecolor='rgb(0,0,0)',\n",
    "               linewidth=2, tickmode='auto', tickwidth=2, ticklen=5, nticks=8, tickfont=dict(family='Arial', size=12, color='rgb(82, 82, 82)'),\n",
    "               ticks='outside'),\n",
    "    xaxis=dict(title='Years', showline=True, showgrid=False, showticklabels=True, linecolor='rgb(0,0,0)',\n",
    "               linewidth=2, tickwidth=2, ticklen=5, tickfont=dict(family='Arial', size=12, color='rgb(82, 82, 82)'),\n",
    "               ticks='outside', tickmode='array', tickvals=['2009', '2010', '2011', '2012', '2013', '2014', '2015']))\n",
    "\n",
    "fig = go.Figure(data=traces, layout=layout)\n",
    "py.iplot(fig)"
   ]
  },
  {
   "cell_type": "markdown",
   "id": "unauthorized-century",
   "metadata": {},
   "source": [
    "As can be seen from the graphs above, Asian countries (East Asia & Pacific, South Asia & Latin America) have lower unemployment rates than the global average. This serves as a basis for comparison. Economic crisis that has been particularly painful for countries in the European Union and the Middle East appears to be strengthening the argument that emerging countries are propelling the global economy ahead rather than their wealthier counterparts."
   ]
  },
  {
   "cell_type": "code",
   "execution_count": 28,
   "id": "incorrect-composition",
   "metadata": {},
   "outputs": [],
   "source": [
    "incomeGroup = [\n",
    "    'High income', 'Heavily indebted poor countries (HIPC)',\n",
    "    'Least developed countries: UN classification', 'Low income',\n",
    "    'Lower middle income', 'Low & middle income', 'Middle income',\n",
    "    'Upper middle income', 'World'\n",
    "]"
   ]
  },
  {
   "cell_type": "code",
   "execution_count": 29,
   "id": "entertaining-vault",
   "metadata": {},
   "outputs": [],
   "source": [
    "dataIncome = data_non_country[data_non_country['Country Name'].isin(\n",
    "    incomeGroup)]"
   ]
  },
  {
   "cell_type": "code",
   "execution_count": 30,
   "id": "jewish-investigator",
   "metadata": {},
   "outputs": [],
   "source": [
    "dataIncome = dataIncome[['Country Name', '2010', '2011', '2012', '2013', '2014']]\n",
    "dataIncome = dataIncome.set_index('Country Name')\n",
    "dataIncome = (dataIncome.T).copy()"
   ]
  },
  {
   "cell_type": "code",
   "execution_count": 31,
   "id": "adaptive-crawford",
   "metadata": {
    "scrolled": true
   },
   "outputs": [
    {
     "data": {
      "text/html": [
       "<div>\n",
       "<style scoped>\n",
       "    .dataframe tbody tr th:only-of-type {\n",
       "        vertical-align: middle;\n",
       "    }\n",
       "\n",
       "    .dataframe tbody tr th {\n",
       "        vertical-align: top;\n",
       "    }\n",
       "\n",
       "    .dataframe thead th {\n",
       "        text-align: right;\n",
       "    }\n",
       "</style>\n",
       "<table border=\"1\" class=\"dataframe\">\n",
       "  <thead>\n",
       "    <tr style=\"text-align: right;\">\n",
       "      <th>Country Name</th>\n",
       "      <th>High income</th>\n",
       "      <th>Heavily indebted poor countries (HIPC)</th>\n",
       "      <th>Least developed countries: UN classification</th>\n",
       "      <th>Low income</th>\n",
       "      <th>Lower middle income</th>\n",
       "      <th>Low &amp; middle income</th>\n",
       "      <th>Middle income</th>\n",
       "      <th>Upper middle income</th>\n",
       "      <th>World</th>\n",
       "    </tr>\n",
       "  </thead>\n",
       "  <tbody>\n",
       "    <tr>\n",
       "      <th>2010</th>\n",
       "      <td>18.517204</td>\n",
       "      <td>11.676580</td>\n",
       "      <td>11.406600</td>\n",
       "      <td>10.385377</td>\n",
       "      <td>13.061031</td>\n",
       "      <td>13.144880</td>\n",
       "      <td>13.453677</td>\n",
       "      <td>13.918079</td>\n",
       "      <td>13.784957</td>\n",
       "    </tr>\n",
       "    <tr>\n",
       "      <th>2011</th>\n",
       "      <td>18.184176</td>\n",
       "      <td>11.631835</td>\n",
       "      <td>11.452909</td>\n",
       "      <td>10.421061</td>\n",
       "      <td>13.128082</td>\n",
       "      <td>13.110829</td>\n",
       "      <td>13.422218</td>\n",
       "      <td>13.779605</td>\n",
       "      <td>13.714673</td>\n",
       "    </tr>\n",
       "    <tr>\n",
       "      <th>2012</th>\n",
       "      <td>18.653569</td>\n",
       "      <td>11.488855</td>\n",
       "      <td>11.431832</td>\n",
       "      <td>10.405270</td>\n",
       "      <td>13.231023</td>\n",
       "      <td>13.228547</td>\n",
       "      <td>13.568301</td>\n",
       "      <td>13.992812</td>\n",
       "      <td>13.874293</td>\n",
       "    </tr>\n",
       "    <tr>\n",
       "      <th>2013</th>\n",
       "      <td>18.589113</td>\n",
       "      <td>11.057185</td>\n",
       "      <td>11.407369</td>\n",
       "      <td>10.216408</td>\n",
       "      <td>13.320711</td>\n",
       "      <td>13.269025</td>\n",
       "      <td>13.651924</td>\n",
       "      <td>14.086227</td>\n",
       "      <td>13.903832</td>\n",
       "    </tr>\n",
       "    <tr>\n",
       "      <th>2014</th>\n",
       "      <td>17.831892</td>\n",
       "      <td>11.124920</td>\n",
       "      <td>11.458322</td>\n",
       "      <td>10.229319</td>\n",
       "      <td>13.384825</td>\n",
       "      <td>13.467008</td>\n",
       "      <td>13.890205</td>\n",
       "      <td>14.581009</td>\n",
       "      <td>13.987184</td>\n",
       "    </tr>\n",
       "  </tbody>\n",
       "</table>\n",
       "</div>"
      ],
      "text/plain": [
       "Country Name  High income  Heavily indebted poor countries (HIPC)  \\\n",
       "2010            18.517204                               11.676580   \n",
       "2011            18.184176                               11.631835   \n",
       "2012            18.653569                               11.488855   \n",
       "2013            18.589113                               11.057185   \n",
       "2014            17.831892                               11.124920   \n",
       "\n",
       "Country Name  Least developed countries: UN classification  Low income  \\\n",
       "2010                                             11.406600   10.385377   \n",
       "2011                                             11.452909   10.421061   \n",
       "2012                                             11.431832   10.405270   \n",
       "2013                                             11.407369   10.216408   \n",
       "2014                                             11.458322   10.229319   \n",
       "\n",
       "Country Name  Lower middle income  Low & middle income  Middle income  \\\n",
       "2010                    13.061031            13.144880      13.453677   \n",
       "2011                    13.128082            13.110829      13.422218   \n",
       "2012                    13.231023            13.228547      13.568301   \n",
       "2013                    13.320711            13.269025      13.651924   \n",
       "2014                    13.384825            13.467008      13.890205   \n",
       "\n",
       "Country Name  Upper middle income      World  \n",
       "2010                    13.918079  13.784957  \n",
       "2011                    13.779605  13.714673  \n",
       "2012                    13.992812  13.874293  \n",
       "2013                    14.086227  13.903832  \n",
       "2014                    14.581009  13.987184  "
      ]
     },
     "execution_count": 31,
     "metadata": {},
     "output_type": "execute_result"
    }
   ],
   "source": [
    "dataIncome.head()"
   ]
  },
  {
   "cell_type": "code",
   "execution_count": 32,
   "id": "promotional-tender",
   "metadata": {},
   "outputs": [
    {
     "data": {
      "application/vnd.plotly.v1+json": {
       "config": {
        "linkText": "Export to plot.ly",
        "plotlyServerURL": "https://plot.ly",
        "showLink": false
       },
       "data": [
        {
         "line": {
          "dash": "dashdot",
          "width": 3
         },
         "mode": "lines+markers",
         "name": "High income",
         "type": "scatter",
         "x": [
          "2010",
          "2011",
          "2012",
          "2013",
          "2014"
         ],
         "y": [
          18.5172039316,
          18.1841764111,
          18.6535688815,
          18.5891129546,
          17.831891963
         ]
        },
        {
         "line": {
          "dash": "dashdot",
          "width": 3
         },
         "mode": "lines+markers",
         "name": "Heavily indebted poor countries (HIPC)",
         "type": "scatter",
         "x": [
          "2010",
          "2011",
          "2012",
          "2013",
          "2014"
         ],
         "y": [
          11.6765798757,
          11.6318349935,
          11.488854951,
          11.0571851449,
          11.1249198842
         ]
        },
        {
         "line": {
          "dash": "dashdot",
          "width": 3
         },
         "mode": "lines+markers",
         "name": "Least developed countries: UN classification",
         "type": "scatter",
         "x": [
          "2010",
          "2011",
          "2012",
          "2013",
          "2014"
         ],
         "y": [
          11.4065996768,
          11.4529094727,
          11.4318319651,
          11.4073686823,
          11.4583220967
         ]
        },
        {
         "line": {
          "dash": "dashdot",
          "width": 3
         },
         "mode": "lines+markers",
         "name": "Low income",
         "type": "scatter",
         "x": [
          "2010",
          "2011",
          "2012",
          "2013",
          "2014"
         ],
         "y": [
          10.3853771252,
          10.4210607509,
          10.4052704834,
          10.2164079288,
          10.229319291
         ]
        },
        {
         "line": {
          "dash": "dashdot",
          "width": 3
         },
         "mode": "lines+markers",
         "name": "Lower middle income",
         "type": "scatter",
         "x": [
          "2010",
          "2011",
          "2012",
          "2013",
          "2014"
         ],
         "y": [
          13.061031019,
          13.1280818499,
          13.2310228301,
          13.3207114114,
          13.3848246193
         ]
        },
        {
         "line": {
          "dash": "dashdot",
          "width": 3
         },
         "mode": "lines+markers",
         "name": "Low & middle income",
         "type": "scatter",
         "x": [
          "2010",
          "2011",
          "2012",
          "2013",
          "2014"
         ],
         "y": [
          13.1448796395,
          13.1108294382,
          13.2285470047,
          13.2690248166,
          13.4670080071
         ]
        },
        {
         "line": {
          "dash": "dashdot",
          "width": 3
         },
         "mode": "lines+markers",
         "name": "Middle income",
         "type": "scatter",
         "x": [
          "2010",
          "2011",
          "2012",
          "2013",
          "2014"
         ],
         "y": [
          13.4536770278,
          13.42221763,
          13.5683010521,
          13.6519237268,
          13.8902045465
         ]
        },
        {
         "line": {
          "dash": "dashdot",
          "width": 3
         },
         "mode": "lines+markers",
         "name": "Upper middle income",
         "type": "scatter",
         "x": [
          "2010",
          "2011",
          "2012",
          "2013",
          "2014"
         ],
         "y": [
          13.9180794683,
          13.7796054369,
          13.9928119905,
          14.0862274063,
          14.5810092338
         ]
        },
        {
         "line": {
          "dash": "dashdot",
          "width": 3
         },
         "mode": "lines+markers",
         "name": "World",
         "type": "scatter",
         "x": [
          "2010",
          "2011",
          "2012",
          "2013",
          "2014"
         ],
         "y": [
          13.784956938,
          13.7146725708,
          13.8742928945,
          13.9038319113,
          13.9871842021
         ]
        }
       ],
       "layout": {
        "template": {
         "data": {
          "bar": [
           {
            "error_x": {
             "color": "#2a3f5f"
            },
            "error_y": {
             "color": "#2a3f5f"
            },
            "marker": {
             "line": {
              "color": "#E5ECF6",
              "width": 0.5
             },
             "pattern": {
              "fillmode": "overlay",
              "size": 10,
              "solidity": 0.2
             }
            },
            "type": "bar"
           }
          ],
          "barpolar": [
           {
            "marker": {
             "line": {
              "color": "#E5ECF6",
              "width": 0.5
             },
             "pattern": {
              "fillmode": "overlay",
              "size": 10,
              "solidity": 0.2
             }
            },
            "type": "barpolar"
           }
          ],
          "carpet": [
           {
            "aaxis": {
             "endlinecolor": "#2a3f5f",
             "gridcolor": "white",
             "linecolor": "white",
             "minorgridcolor": "white",
             "startlinecolor": "#2a3f5f"
            },
            "baxis": {
             "endlinecolor": "#2a3f5f",
             "gridcolor": "white",
             "linecolor": "white",
             "minorgridcolor": "white",
             "startlinecolor": "#2a3f5f"
            },
            "type": "carpet"
           }
          ],
          "choropleth": [
           {
            "colorbar": {
             "outlinewidth": 0,
             "ticks": ""
            },
            "type": "choropleth"
           }
          ],
          "contour": [
           {
            "colorbar": {
             "outlinewidth": 0,
             "ticks": ""
            },
            "colorscale": [
             [
              0,
              "#0d0887"
             ],
             [
              0.1111111111111111,
              "#46039f"
             ],
             [
              0.2222222222222222,
              "#7201a8"
             ],
             [
              0.3333333333333333,
              "#9c179e"
             ],
             [
              0.4444444444444444,
              "#bd3786"
             ],
             [
              0.5555555555555556,
              "#d8576b"
             ],
             [
              0.6666666666666666,
              "#ed7953"
             ],
             [
              0.7777777777777778,
              "#fb9f3a"
             ],
             [
              0.8888888888888888,
              "#fdca26"
             ],
             [
              1,
              "#f0f921"
             ]
            ],
            "type": "contour"
           }
          ],
          "contourcarpet": [
           {
            "colorbar": {
             "outlinewidth": 0,
             "ticks": ""
            },
            "type": "contourcarpet"
           }
          ],
          "heatmap": [
           {
            "colorbar": {
             "outlinewidth": 0,
             "ticks": ""
            },
            "colorscale": [
             [
              0,
              "#0d0887"
             ],
             [
              0.1111111111111111,
              "#46039f"
             ],
             [
              0.2222222222222222,
              "#7201a8"
             ],
             [
              0.3333333333333333,
              "#9c179e"
             ],
             [
              0.4444444444444444,
              "#bd3786"
             ],
             [
              0.5555555555555556,
              "#d8576b"
             ],
             [
              0.6666666666666666,
              "#ed7953"
             ],
             [
              0.7777777777777778,
              "#fb9f3a"
             ],
             [
              0.8888888888888888,
              "#fdca26"
             ],
             [
              1,
              "#f0f921"
             ]
            ],
            "type": "heatmap"
           }
          ],
          "heatmapgl": [
           {
            "colorbar": {
             "outlinewidth": 0,
             "ticks": ""
            },
            "colorscale": [
             [
              0,
              "#0d0887"
             ],
             [
              0.1111111111111111,
              "#46039f"
             ],
             [
              0.2222222222222222,
              "#7201a8"
             ],
             [
              0.3333333333333333,
              "#9c179e"
             ],
             [
              0.4444444444444444,
              "#bd3786"
             ],
             [
              0.5555555555555556,
              "#d8576b"
             ],
             [
              0.6666666666666666,
              "#ed7953"
             ],
             [
              0.7777777777777778,
              "#fb9f3a"
             ],
             [
              0.8888888888888888,
              "#fdca26"
             ],
             [
              1,
              "#f0f921"
             ]
            ],
            "type": "heatmapgl"
           }
          ],
          "histogram": [
           {
            "marker": {
             "pattern": {
              "fillmode": "overlay",
              "size": 10,
              "solidity": 0.2
             }
            },
            "type": "histogram"
           }
          ],
          "histogram2d": [
           {
            "colorbar": {
             "outlinewidth": 0,
             "ticks": ""
            },
            "colorscale": [
             [
              0,
              "#0d0887"
             ],
             [
              0.1111111111111111,
              "#46039f"
             ],
             [
              0.2222222222222222,
              "#7201a8"
             ],
             [
              0.3333333333333333,
              "#9c179e"
             ],
             [
              0.4444444444444444,
              "#bd3786"
             ],
             [
              0.5555555555555556,
              "#d8576b"
             ],
             [
              0.6666666666666666,
              "#ed7953"
             ],
             [
              0.7777777777777778,
              "#fb9f3a"
             ],
             [
              0.8888888888888888,
              "#fdca26"
             ],
             [
              1,
              "#f0f921"
             ]
            ],
            "type": "histogram2d"
           }
          ],
          "histogram2dcontour": [
           {
            "colorbar": {
             "outlinewidth": 0,
             "ticks": ""
            },
            "colorscale": [
             [
              0,
              "#0d0887"
             ],
             [
              0.1111111111111111,
              "#46039f"
             ],
             [
              0.2222222222222222,
              "#7201a8"
             ],
             [
              0.3333333333333333,
              "#9c179e"
             ],
             [
              0.4444444444444444,
              "#bd3786"
             ],
             [
              0.5555555555555556,
              "#d8576b"
             ],
             [
              0.6666666666666666,
              "#ed7953"
             ],
             [
              0.7777777777777778,
              "#fb9f3a"
             ],
             [
              0.8888888888888888,
              "#fdca26"
             ],
             [
              1,
              "#f0f921"
             ]
            ],
            "type": "histogram2dcontour"
           }
          ],
          "mesh3d": [
           {
            "colorbar": {
             "outlinewidth": 0,
             "ticks": ""
            },
            "type": "mesh3d"
           }
          ],
          "parcoords": [
           {
            "line": {
             "colorbar": {
              "outlinewidth": 0,
              "ticks": ""
             }
            },
            "type": "parcoords"
           }
          ],
          "pie": [
           {
            "automargin": true,
            "type": "pie"
           }
          ],
          "scatter": [
           {
            "fillpattern": {
             "fillmode": "overlay",
             "size": 10,
             "solidity": 0.2
            },
            "type": "scatter"
           }
          ],
          "scatter3d": [
           {
            "line": {
             "colorbar": {
              "outlinewidth": 0,
              "ticks": ""
             }
            },
            "marker": {
             "colorbar": {
              "outlinewidth": 0,
              "ticks": ""
             }
            },
            "type": "scatter3d"
           }
          ],
          "scattercarpet": [
           {
            "marker": {
             "colorbar": {
              "outlinewidth": 0,
              "ticks": ""
             }
            },
            "type": "scattercarpet"
           }
          ],
          "scattergeo": [
           {
            "marker": {
             "colorbar": {
              "outlinewidth": 0,
              "ticks": ""
             }
            },
            "type": "scattergeo"
           }
          ],
          "scattergl": [
           {
            "marker": {
             "colorbar": {
              "outlinewidth": 0,
              "ticks": ""
             }
            },
            "type": "scattergl"
           }
          ],
          "scattermapbox": [
           {
            "marker": {
             "colorbar": {
              "outlinewidth": 0,
              "ticks": ""
             }
            },
            "type": "scattermapbox"
           }
          ],
          "scatterpolar": [
           {
            "marker": {
             "colorbar": {
              "outlinewidth": 0,
              "ticks": ""
             }
            },
            "type": "scatterpolar"
           }
          ],
          "scatterpolargl": [
           {
            "marker": {
             "colorbar": {
              "outlinewidth": 0,
              "ticks": ""
             }
            },
            "type": "scatterpolargl"
           }
          ],
          "scatterternary": [
           {
            "marker": {
             "colorbar": {
              "outlinewidth": 0,
              "ticks": ""
             }
            },
            "type": "scatterternary"
           }
          ],
          "surface": [
           {
            "colorbar": {
             "outlinewidth": 0,
             "ticks": ""
            },
            "colorscale": [
             [
              0,
              "#0d0887"
             ],
             [
              0.1111111111111111,
              "#46039f"
             ],
             [
              0.2222222222222222,
              "#7201a8"
             ],
             [
              0.3333333333333333,
              "#9c179e"
             ],
             [
              0.4444444444444444,
              "#bd3786"
             ],
             [
              0.5555555555555556,
              "#d8576b"
             ],
             [
              0.6666666666666666,
              "#ed7953"
             ],
             [
              0.7777777777777778,
              "#fb9f3a"
             ],
             [
              0.8888888888888888,
              "#fdca26"
             ],
             [
              1,
              "#f0f921"
             ]
            ],
            "type": "surface"
           }
          ],
          "table": [
           {
            "cells": {
             "fill": {
              "color": "#EBF0F8"
             },
             "line": {
              "color": "white"
             }
            },
            "header": {
             "fill": {
              "color": "#C8D4E3"
             },
             "line": {
              "color": "white"
             }
            },
            "type": "table"
           }
          ]
         },
         "layout": {
          "annotationdefaults": {
           "arrowcolor": "#2a3f5f",
           "arrowhead": 0,
           "arrowwidth": 1
          },
          "autotypenumbers": "strict",
          "coloraxis": {
           "colorbar": {
            "outlinewidth": 0,
            "ticks": ""
           }
          },
          "colorscale": {
           "diverging": [
            [
             0,
             "#8e0152"
            ],
            [
             0.1,
             "#c51b7d"
            ],
            [
             0.2,
             "#de77ae"
            ],
            [
             0.3,
             "#f1b6da"
            ],
            [
             0.4,
             "#fde0ef"
            ],
            [
             0.5,
             "#f7f7f7"
            ],
            [
             0.6,
             "#e6f5d0"
            ],
            [
             0.7,
             "#b8e186"
            ],
            [
             0.8,
             "#7fbc41"
            ],
            [
             0.9,
             "#4d9221"
            ],
            [
             1,
             "#276419"
            ]
           ],
           "sequential": [
            [
             0,
             "#0d0887"
            ],
            [
             0.1111111111111111,
             "#46039f"
            ],
            [
             0.2222222222222222,
             "#7201a8"
            ],
            [
             0.3333333333333333,
             "#9c179e"
            ],
            [
             0.4444444444444444,
             "#bd3786"
            ],
            [
             0.5555555555555556,
             "#d8576b"
            ],
            [
             0.6666666666666666,
             "#ed7953"
            ],
            [
             0.7777777777777778,
             "#fb9f3a"
            ],
            [
             0.8888888888888888,
             "#fdca26"
            ],
            [
             1,
             "#f0f921"
            ]
           ],
           "sequentialminus": [
            [
             0,
             "#0d0887"
            ],
            [
             0.1111111111111111,
             "#46039f"
            ],
            [
             0.2222222222222222,
             "#7201a8"
            ],
            [
             0.3333333333333333,
             "#9c179e"
            ],
            [
             0.4444444444444444,
             "#bd3786"
            ],
            [
             0.5555555555555556,
             "#d8576b"
            ],
            [
             0.6666666666666666,
             "#ed7953"
            ],
            [
             0.7777777777777778,
             "#fb9f3a"
            ],
            [
             0.8888888888888888,
             "#fdca26"
            ],
            [
             1,
             "#f0f921"
            ]
           ]
          },
          "colorway": [
           "#636efa",
           "#EF553B",
           "#00cc96",
           "#ab63fa",
           "#FFA15A",
           "#19d3f3",
           "#FF6692",
           "#B6E880",
           "#FF97FF",
           "#FECB52"
          ],
          "font": {
           "color": "#2a3f5f"
          },
          "geo": {
           "bgcolor": "white",
           "lakecolor": "white",
           "landcolor": "#E5ECF6",
           "showlakes": true,
           "showland": true,
           "subunitcolor": "white"
          },
          "hoverlabel": {
           "align": "left"
          },
          "hovermode": "closest",
          "mapbox": {
           "style": "light"
          },
          "paper_bgcolor": "white",
          "plot_bgcolor": "#E5ECF6",
          "polar": {
           "angularaxis": {
            "gridcolor": "white",
            "linecolor": "white",
            "ticks": ""
           },
           "bgcolor": "#E5ECF6",
           "radialaxis": {
            "gridcolor": "white",
            "linecolor": "white",
            "ticks": ""
           }
          },
          "scene": {
           "xaxis": {
            "backgroundcolor": "#E5ECF6",
            "gridcolor": "white",
            "gridwidth": 2,
            "linecolor": "white",
            "showbackground": true,
            "ticks": "",
            "zerolinecolor": "white"
           },
           "yaxis": {
            "backgroundcolor": "#E5ECF6",
            "gridcolor": "white",
            "gridwidth": 2,
            "linecolor": "white",
            "showbackground": true,
            "ticks": "",
            "zerolinecolor": "white"
           },
           "zaxis": {
            "backgroundcolor": "#E5ECF6",
            "gridcolor": "white",
            "gridwidth": 2,
            "linecolor": "white",
            "showbackground": true,
            "ticks": "",
            "zerolinecolor": "white"
           }
          },
          "shapedefaults": {
           "line": {
            "color": "#2a3f5f"
           }
          },
          "ternary": {
           "aaxis": {
            "gridcolor": "white",
            "linecolor": "white",
            "ticks": ""
           },
           "baxis": {
            "gridcolor": "white",
            "linecolor": "white",
            "ticks": ""
           },
           "bgcolor": "#E5ECF6",
           "caxis": {
            "gridcolor": "white",
            "linecolor": "white",
            "ticks": ""
           }
          },
          "title": {
           "x": 0.05
          },
          "xaxis": {
           "automargin": true,
           "gridcolor": "white",
           "linecolor": "white",
           "ticks": "",
           "title": {
            "standoff": 15
           },
           "zerolinecolor": "white",
           "zerolinewidth": 2
          },
          "yaxis": {
           "automargin": true,
           "gridcolor": "white",
           "linecolor": "white",
           "ticks": "",
           "title": {
            "standoff": 15
           },
           "zerolinecolor": "white",
           "zerolinewidth": 2
          }
         }
        },
        "title": {
         "text": "Unemployment Over the Years among Various Income Groups"
        },
        "xaxis": {
         "linecolor": "rgb(0,0,0)",
         "linewidth": 2,
         "showgrid": false,
         "showline": true,
         "showticklabels": true,
         "tickfont": {
          "color": "rgb(82, 82, 82)",
          "family": "Arial",
          "size": 12
         },
         "ticklen": 5,
         "tickmode": "array",
         "ticks": "outside",
         "tickvals": [
          "2009",
          "2010",
          "2011",
          "2012",
          "2013",
          "2014",
          "2015"
         ],
         "tickwidth": 2,
         "title": {
          "text": "Years"
         }
        },
        "yaxis": {
         "linecolor": "rgb(0,0,0)",
         "linewidth": 2,
         "nticks": 8,
         "showgrid": false,
         "showline": true,
         "showticklabels": true,
         "tickfont": {
          "color": "rgb(82, 82, 82)",
          "family": "Arial",
          "size": 12
         },
         "ticklen": 5,
         "tickmode": "auto",
         "ticks": "outside",
         "tickwidth": 2,
         "title": {
          "text": "Unemployment Rate (%)"
         },
         "zeroline": true
        }
       }
      },
      "text/html": [
       "<div>                            <div id=\"2ac591a9-2129-413a-a1c9-7389629aae65\" class=\"plotly-graph-div\" style=\"height:525px; width:100%;\"></div>            <script type=\"text/javascript\">                require([\"plotly\"], function(Plotly) {                    window.PLOTLYENV=window.PLOTLYENV || {};                                    if (document.getElementById(\"2ac591a9-2129-413a-a1c9-7389629aae65\")) {                    Plotly.newPlot(                        \"2ac591a9-2129-413a-a1c9-7389629aae65\",                        [{\"line\":{\"dash\":\"dashdot\",\"width\":3},\"mode\":\"lines+markers\",\"name\":\"High income\",\"x\":[\"2010\",\"2011\",\"2012\",\"2013\",\"2014\"],\"y\":[18.5172039316,18.1841764111,18.6535688815,18.5891129546,17.831891963],\"type\":\"scatter\"},{\"line\":{\"dash\":\"dashdot\",\"width\":3},\"mode\":\"lines+markers\",\"name\":\"Heavily indebted poor countries (HIPC)\",\"x\":[\"2010\",\"2011\",\"2012\",\"2013\",\"2014\"],\"y\":[11.6765798757,11.6318349935,11.488854951,11.0571851449,11.1249198842],\"type\":\"scatter\"},{\"line\":{\"dash\":\"dashdot\",\"width\":3},\"mode\":\"lines+markers\",\"name\":\"Least developed countries: UN classification\",\"x\":[\"2010\",\"2011\",\"2012\",\"2013\",\"2014\"],\"y\":[11.4065996768,11.4529094727,11.4318319651,11.4073686823,11.4583220967],\"type\":\"scatter\"},{\"line\":{\"dash\":\"dashdot\",\"width\":3},\"mode\":\"lines+markers\",\"name\":\"Low income\",\"x\":[\"2010\",\"2011\",\"2012\",\"2013\",\"2014\"],\"y\":[10.3853771252,10.4210607509,10.4052704834,10.2164079288,10.229319291],\"type\":\"scatter\"},{\"line\":{\"dash\":\"dashdot\",\"width\":3},\"mode\":\"lines+markers\",\"name\":\"Lower middle income\",\"x\":[\"2010\",\"2011\",\"2012\",\"2013\",\"2014\"],\"y\":[13.061031019,13.1280818499,13.2310228301,13.3207114114,13.3848246193],\"type\":\"scatter\"},{\"line\":{\"dash\":\"dashdot\",\"width\":3},\"mode\":\"lines+markers\",\"name\":\"Low & middle income\",\"x\":[\"2010\",\"2011\",\"2012\",\"2013\",\"2014\"],\"y\":[13.1448796395,13.1108294382,13.2285470047,13.2690248166,13.4670080071],\"type\":\"scatter\"},{\"line\":{\"dash\":\"dashdot\",\"width\":3},\"mode\":\"lines+markers\",\"name\":\"Middle income\",\"x\":[\"2010\",\"2011\",\"2012\",\"2013\",\"2014\"],\"y\":[13.4536770278,13.42221763,13.5683010521,13.6519237268,13.8902045465],\"type\":\"scatter\"},{\"line\":{\"dash\":\"dashdot\",\"width\":3},\"mode\":\"lines+markers\",\"name\":\"Upper middle income\",\"x\":[\"2010\",\"2011\",\"2012\",\"2013\",\"2014\"],\"y\":[13.9180794683,13.7796054369,13.9928119905,14.0862274063,14.5810092338],\"type\":\"scatter\"},{\"line\":{\"dash\":\"dashdot\",\"width\":3},\"mode\":\"lines+markers\",\"name\":\"World\",\"x\":[\"2010\",\"2011\",\"2012\",\"2013\",\"2014\"],\"y\":[13.784956938,13.7146725708,13.8742928945,13.9038319113,13.9871842021],\"type\":\"scatter\"}],                        {\"template\":{\"data\":{\"barpolar\":[{\"marker\":{\"line\":{\"color\":\"#E5ECF6\",\"width\":0.5},\"pattern\":{\"fillmode\":\"overlay\",\"size\":10,\"solidity\":0.2}},\"type\":\"barpolar\"}],\"bar\":[{\"error_x\":{\"color\":\"#2a3f5f\"},\"error_y\":{\"color\":\"#2a3f5f\"},\"marker\":{\"line\":{\"color\":\"#E5ECF6\",\"width\":0.5},\"pattern\":{\"fillmode\":\"overlay\",\"size\":10,\"solidity\":0.2}},\"type\":\"bar\"}],\"carpet\":[{\"aaxis\":{\"endlinecolor\":\"#2a3f5f\",\"gridcolor\":\"white\",\"linecolor\":\"white\",\"minorgridcolor\":\"white\",\"startlinecolor\":\"#2a3f5f\"},\"baxis\":{\"endlinecolor\":\"#2a3f5f\",\"gridcolor\":\"white\",\"linecolor\":\"white\",\"minorgridcolor\":\"white\",\"startlinecolor\":\"#2a3f5f\"},\"type\":\"carpet\"}],\"choropleth\":[{\"colorbar\":{\"outlinewidth\":0,\"ticks\":\"\"},\"type\":\"choropleth\"}],\"contourcarpet\":[{\"colorbar\":{\"outlinewidth\":0,\"ticks\":\"\"},\"type\":\"contourcarpet\"}],\"contour\":[{\"colorbar\":{\"outlinewidth\":0,\"ticks\":\"\"},\"colorscale\":[[0.0,\"#0d0887\"],[0.1111111111111111,\"#46039f\"],[0.2222222222222222,\"#7201a8\"],[0.3333333333333333,\"#9c179e\"],[0.4444444444444444,\"#bd3786\"],[0.5555555555555556,\"#d8576b\"],[0.6666666666666666,\"#ed7953\"],[0.7777777777777778,\"#fb9f3a\"],[0.8888888888888888,\"#fdca26\"],[1.0,\"#f0f921\"]],\"type\":\"contour\"}],\"heatmapgl\":[{\"colorbar\":{\"outlinewidth\":0,\"ticks\":\"\"},\"colorscale\":[[0.0,\"#0d0887\"],[0.1111111111111111,\"#46039f\"],[0.2222222222222222,\"#7201a8\"],[0.3333333333333333,\"#9c179e\"],[0.4444444444444444,\"#bd3786\"],[0.5555555555555556,\"#d8576b\"],[0.6666666666666666,\"#ed7953\"],[0.7777777777777778,\"#fb9f3a\"],[0.8888888888888888,\"#fdca26\"],[1.0,\"#f0f921\"]],\"type\":\"heatmapgl\"}],\"heatmap\":[{\"colorbar\":{\"outlinewidth\":0,\"ticks\":\"\"},\"colorscale\":[[0.0,\"#0d0887\"],[0.1111111111111111,\"#46039f\"],[0.2222222222222222,\"#7201a8\"],[0.3333333333333333,\"#9c179e\"],[0.4444444444444444,\"#bd3786\"],[0.5555555555555556,\"#d8576b\"],[0.6666666666666666,\"#ed7953\"],[0.7777777777777778,\"#fb9f3a\"],[0.8888888888888888,\"#fdca26\"],[1.0,\"#f0f921\"]],\"type\":\"heatmap\"}],\"histogram2dcontour\":[{\"colorbar\":{\"outlinewidth\":0,\"ticks\":\"\"},\"colorscale\":[[0.0,\"#0d0887\"],[0.1111111111111111,\"#46039f\"],[0.2222222222222222,\"#7201a8\"],[0.3333333333333333,\"#9c179e\"],[0.4444444444444444,\"#bd3786\"],[0.5555555555555556,\"#d8576b\"],[0.6666666666666666,\"#ed7953\"],[0.7777777777777778,\"#fb9f3a\"],[0.8888888888888888,\"#fdca26\"],[1.0,\"#f0f921\"]],\"type\":\"histogram2dcontour\"}],\"histogram2d\":[{\"colorbar\":{\"outlinewidth\":0,\"ticks\":\"\"},\"colorscale\":[[0.0,\"#0d0887\"],[0.1111111111111111,\"#46039f\"],[0.2222222222222222,\"#7201a8\"],[0.3333333333333333,\"#9c179e\"],[0.4444444444444444,\"#bd3786\"],[0.5555555555555556,\"#d8576b\"],[0.6666666666666666,\"#ed7953\"],[0.7777777777777778,\"#fb9f3a\"],[0.8888888888888888,\"#fdca26\"],[1.0,\"#f0f921\"]],\"type\":\"histogram2d\"}],\"histogram\":[{\"marker\":{\"pattern\":{\"fillmode\":\"overlay\",\"size\":10,\"solidity\":0.2}},\"type\":\"histogram\"}],\"mesh3d\":[{\"colorbar\":{\"outlinewidth\":0,\"ticks\":\"\"},\"type\":\"mesh3d\"}],\"parcoords\":[{\"line\":{\"colorbar\":{\"outlinewidth\":0,\"ticks\":\"\"}},\"type\":\"parcoords\"}],\"pie\":[{\"automargin\":true,\"type\":\"pie\"}],\"scatter3d\":[{\"line\":{\"colorbar\":{\"outlinewidth\":0,\"ticks\":\"\"}},\"marker\":{\"colorbar\":{\"outlinewidth\":0,\"ticks\":\"\"}},\"type\":\"scatter3d\"}],\"scattercarpet\":[{\"marker\":{\"colorbar\":{\"outlinewidth\":0,\"ticks\":\"\"}},\"type\":\"scattercarpet\"}],\"scattergeo\":[{\"marker\":{\"colorbar\":{\"outlinewidth\":0,\"ticks\":\"\"}},\"type\":\"scattergeo\"}],\"scattergl\":[{\"marker\":{\"colorbar\":{\"outlinewidth\":0,\"ticks\":\"\"}},\"type\":\"scattergl\"}],\"scattermapbox\":[{\"marker\":{\"colorbar\":{\"outlinewidth\":0,\"ticks\":\"\"}},\"type\":\"scattermapbox\"}],\"scatterpolargl\":[{\"marker\":{\"colorbar\":{\"outlinewidth\":0,\"ticks\":\"\"}},\"type\":\"scatterpolargl\"}],\"scatterpolar\":[{\"marker\":{\"colorbar\":{\"outlinewidth\":0,\"ticks\":\"\"}},\"type\":\"scatterpolar\"}],\"scatter\":[{\"fillpattern\":{\"fillmode\":\"overlay\",\"size\":10,\"solidity\":0.2},\"type\":\"scatter\"}],\"scatterternary\":[{\"marker\":{\"colorbar\":{\"outlinewidth\":0,\"ticks\":\"\"}},\"type\":\"scatterternary\"}],\"surface\":[{\"colorbar\":{\"outlinewidth\":0,\"ticks\":\"\"},\"colorscale\":[[0.0,\"#0d0887\"],[0.1111111111111111,\"#46039f\"],[0.2222222222222222,\"#7201a8\"],[0.3333333333333333,\"#9c179e\"],[0.4444444444444444,\"#bd3786\"],[0.5555555555555556,\"#d8576b\"],[0.6666666666666666,\"#ed7953\"],[0.7777777777777778,\"#fb9f3a\"],[0.8888888888888888,\"#fdca26\"],[1.0,\"#f0f921\"]],\"type\":\"surface\"}],\"table\":[{\"cells\":{\"fill\":{\"color\":\"#EBF0F8\"},\"line\":{\"color\":\"white\"}},\"header\":{\"fill\":{\"color\":\"#C8D4E3\"},\"line\":{\"color\":\"white\"}},\"type\":\"table\"}]},\"layout\":{\"annotationdefaults\":{\"arrowcolor\":\"#2a3f5f\",\"arrowhead\":0,\"arrowwidth\":1},\"autotypenumbers\":\"strict\",\"coloraxis\":{\"colorbar\":{\"outlinewidth\":0,\"ticks\":\"\"}},\"colorscale\":{\"diverging\":[[0,\"#8e0152\"],[0.1,\"#c51b7d\"],[0.2,\"#de77ae\"],[0.3,\"#f1b6da\"],[0.4,\"#fde0ef\"],[0.5,\"#f7f7f7\"],[0.6,\"#e6f5d0\"],[0.7,\"#b8e186\"],[0.8,\"#7fbc41\"],[0.9,\"#4d9221\"],[1,\"#276419\"]],\"sequential\":[[0.0,\"#0d0887\"],[0.1111111111111111,\"#46039f\"],[0.2222222222222222,\"#7201a8\"],[0.3333333333333333,\"#9c179e\"],[0.4444444444444444,\"#bd3786\"],[0.5555555555555556,\"#d8576b\"],[0.6666666666666666,\"#ed7953\"],[0.7777777777777778,\"#fb9f3a\"],[0.8888888888888888,\"#fdca26\"],[1.0,\"#f0f921\"]],\"sequentialminus\":[[0.0,\"#0d0887\"],[0.1111111111111111,\"#46039f\"],[0.2222222222222222,\"#7201a8\"],[0.3333333333333333,\"#9c179e\"],[0.4444444444444444,\"#bd3786\"],[0.5555555555555556,\"#d8576b\"],[0.6666666666666666,\"#ed7953\"],[0.7777777777777778,\"#fb9f3a\"],[0.8888888888888888,\"#fdca26\"],[1.0,\"#f0f921\"]]},\"colorway\":[\"#636efa\",\"#EF553B\",\"#00cc96\",\"#ab63fa\",\"#FFA15A\",\"#19d3f3\",\"#FF6692\",\"#B6E880\",\"#FF97FF\",\"#FECB52\"],\"font\":{\"color\":\"#2a3f5f\"},\"geo\":{\"bgcolor\":\"white\",\"lakecolor\":\"white\",\"landcolor\":\"#E5ECF6\",\"showlakes\":true,\"showland\":true,\"subunitcolor\":\"white\"},\"hoverlabel\":{\"align\":\"left\"},\"hovermode\":\"closest\",\"mapbox\":{\"style\":\"light\"},\"paper_bgcolor\":\"white\",\"plot_bgcolor\":\"#E5ECF6\",\"polar\":{\"angularaxis\":{\"gridcolor\":\"white\",\"linecolor\":\"white\",\"ticks\":\"\"},\"bgcolor\":\"#E5ECF6\",\"radialaxis\":{\"gridcolor\":\"white\",\"linecolor\":\"white\",\"ticks\":\"\"}},\"scene\":{\"xaxis\":{\"backgroundcolor\":\"#E5ECF6\",\"gridcolor\":\"white\",\"gridwidth\":2,\"linecolor\":\"white\",\"showbackground\":true,\"ticks\":\"\",\"zerolinecolor\":\"white\"},\"yaxis\":{\"backgroundcolor\":\"#E5ECF6\",\"gridcolor\":\"white\",\"gridwidth\":2,\"linecolor\":\"white\",\"showbackground\":true,\"ticks\":\"\",\"zerolinecolor\":\"white\"},\"zaxis\":{\"backgroundcolor\":\"#E5ECF6\",\"gridcolor\":\"white\",\"gridwidth\":2,\"linecolor\":\"white\",\"showbackground\":true,\"ticks\":\"\",\"zerolinecolor\":\"white\"}},\"shapedefaults\":{\"line\":{\"color\":\"#2a3f5f\"}},\"ternary\":{\"aaxis\":{\"gridcolor\":\"white\",\"linecolor\":\"white\",\"ticks\":\"\"},\"baxis\":{\"gridcolor\":\"white\",\"linecolor\":\"white\",\"ticks\":\"\"},\"bgcolor\":\"#E5ECF6\",\"caxis\":{\"gridcolor\":\"white\",\"linecolor\":\"white\",\"ticks\":\"\"}},\"title\":{\"x\":0.05},\"xaxis\":{\"automargin\":true,\"gridcolor\":\"white\",\"linecolor\":\"white\",\"ticks\":\"\",\"title\":{\"standoff\":15},\"zerolinecolor\":\"white\",\"zerolinewidth\":2},\"yaxis\":{\"automargin\":true,\"gridcolor\":\"white\",\"linecolor\":\"white\",\"ticks\":\"\",\"title\":{\"standoff\":15},\"zerolinecolor\":\"white\",\"zerolinewidth\":2}}},\"title\":{\"text\":\"Unemployment Over the Years among Various Income Groups\"},\"xaxis\":{\"linecolor\":\"rgb(0,0,0)\",\"linewidth\":2,\"showgrid\":false,\"showline\":true,\"showticklabels\":true,\"tickfont\":{\"color\":\"rgb(82, 82, 82)\",\"family\":\"Arial\",\"size\":12},\"ticklen\":5,\"tickmode\":\"array\",\"ticks\":\"outside\",\"tickvals\":[\"2009\",\"2010\",\"2011\",\"2012\",\"2013\",\"2014\",\"2015\"],\"tickwidth\":2,\"title\":{\"text\":\"Years\"}},\"yaxis\":{\"linecolor\":\"rgb(0,0,0)\",\"linewidth\":2,\"nticks\":8,\"showgrid\":false,\"showline\":true,\"showticklabels\":true,\"tickfont\":{\"color\":\"rgb(82, 82, 82)\",\"family\":\"Arial\",\"size\":12},\"ticklen\":5,\"tickmode\":\"auto\",\"ticks\":\"outside\",\"tickwidth\":2,\"title\":{\"text\":\"Unemployment Rate (%)\"},\"zeroline\":true}},                        {\"responsive\": true}                    ).then(function(){\n",
       "                            \n",
       "var gd = document.getElementById('2ac591a9-2129-413a-a1c9-7389629aae65');\n",
       "var x = new MutationObserver(function (mutations, observer) {{\n",
       "        var display = window.getComputedStyle(gd).display;\n",
       "        if (!display || display === 'none') {{\n",
       "            console.log([gd, 'removed!']);\n",
       "            Plotly.purge(gd);\n",
       "            observer.disconnect();\n",
       "        }}\n",
       "}});\n",
       "\n",
       "// Listen for the removal of the full notebook cells\n",
       "var notebookContainer = gd.closest('#notebook-container');\n",
       "if (notebookContainer) {{\n",
       "    x.observe(notebookContainer, {childList: true});\n",
       "}}\n",
       "\n",
       "// Listen for the clearing of the current output cell\n",
       "var outputEl = gd.closest('.output');\n",
       "if (outputEl) {{\n",
       "    x.observe(outputEl, {childList: true});\n",
       "}}\n",
       "\n",
       "                        })                };                });            </script>        </div>"
      ]
     },
     "metadata": {},
     "output_type": "display_data"
    }
   ],
   "source": [
    "traces = []\n",
    "\n",
    "for i in range(len(incomeGroup)):\n",
    "    traces.append(go.Scatter(x=dataIncome.index,\n",
    "                             y=dataIncome.iloc[:, i], name=incomeGroup[i], mode='lines+markers', line=dict(width=3, dash='dashdot')))\n",
    "\n",
    "layout = go.Layout(\n",
    "    title='Unemployment Over the Years among Various Income Groups',\n",
    "    yaxis=dict(title='Unemployment Rate (%)', zeroline=True, showline=True, showgrid=False, showticklabels=True, linecolor='rgb(0,0,0)',\n",
    "               linewidth=2, tickmode='auto', tickwidth=2, ticklen=5, nticks=8, tickfont=dict(family='Arial', size=12, color='rgb(82, 82, 82)'),\n",
    "               ticks='outside'),\n",
    "    xaxis=dict(title='Years', showline=True, showgrid=False, showticklabels=True, linecolor='rgb(0,0,0)',\n",
    "               linewidth=2, tickwidth=2, ticklen=5, tickfont=dict(family='Arial', size=12, color='rgb(82, 82, 82)'),\n",
    "               ticks='outside', tickmode='array', tickvals=['2009', '2010', '2011', '2012', '2013', '2014', '2015']))\n",
    "\n",
    "fig = go.Figure(data=traces, layout=layout)\n",
    "py.iplot(fig)"
   ]
  },
  {
   "cell_type": "markdown",
   "id": "lonely-jonathan",
   "metadata": {},
   "source": [
    "Based on the nation's income levels, the world's unemployment rates are compared to those in each country. While less developed and emerging nations are able to provide more job chances and limit unemployment rates from growing, high-income countries suffer from greater unemployment rates. This is evident from the scatter plot."
   ]
  },
  {
   "cell_type": "markdown",
   "id": "promotional-wallace",
   "metadata": {},
   "source": [
    "### Chapter 3 Users"
   ]
  },
  {
   "cell_type": "markdown",
   "id": "focused-habitat",
   "metadata": {},
   "source": [
    "Who: the main character is the targeted user or audience?\n",
    "\n",
    "    Targeted user is the main character. The analysis showing clear understanding and insights into the unemployment across the world."
   ]
  },
  {
   "cell_type": "markdown",
   "id": "conservative-suspect",
   "metadata": {},
   "source": [
    "What can the application do? What does the visualization show?\n",
    "\n",
    "    an exploratory analysis of the data by producing numerous simple statistical plots such as box plots, scatter plots etc. of the data from specific nations and taking a quick glimpse at how the various countries compare against one another."
   ]
  },
  {
   "cell_type": "markdown",
   "id": "ancient-quality",
   "metadata": {},
   "source": [
    "When can the user use the application/visualization?\n",
    "\n",
    "    User can use this visualization whenever user wants to understand the problem of unemployment and how to solve the problem. This visualization will help to get more insights into the data."
   ]
  },
  {
   "cell_type": "markdown",
   "id": "prescription-executive",
   "metadata": {},
   "source": [
    "Where will the visualization and applications be deployed, for example, mobile phones, the web\n",
    "etc.?\n",
    "        \n",
    "    The application can be deployed as web application so that the dynamic graphs will give good insights on the data. It will give the access to try different types of analysis."
   ]
  },
  {
   "cell_type": "markdown",
   "id": "least-highlight",
   "metadata": {},
   "source": [
    "Why is the visualization or application useful to the user?\n",
    "\n",
    "    Data visualization helps to tell stories by curating data into a form easier to understand, highlighting the trends and outliers. A good visualization tells a story, removing the noise from data and highlighting the useful information."
   ]
  },
  {
   "cell_type": "code",
   "execution_count": null,
   "id": "blind-energy",
   "metadata": {},
   "outputs": [],
   "source": []
  }
 ],
 "metadata": {
  "kernelspec": {
   "display_name": "Python 3 (ipykernel)",
   "language": "python",
   "name": "python3"
  },
  "language_info": {
   "codemirror_mode": {
    "name": "ipython",
    "version": 3
   },
   "file_extension": ".py",
   "mimetype": "text/x-python",
   "name": "python",
   "nbconvert_exporter": "python",
   "pygments_lexer": "ipython3",
   "version": "3.9.7"
  },
  "nbTranslate": {
   "displayLangs": [
    "*"
   ],
   "hotkey": "alt-t",
   "langInMainMenu": true,
   "sourceLang": "en",
   "targetLang": "fr",
   "useGoogleTranslate": true
  },
  "toc": {
   "base_numbering": 1,
   "nav_menu": {},
   "number_sections": true,
   "sideBar": true,
   "skip_h1_title": false,
   "title_cell": "Table of Contents",
   "title_sidebar": "Contents",
   "toc_cell": false,
   "toc_position": {},
   "toc_section_display": true,
   "toc_window_display": false
  },
  "varInspector": {
   "cols": {
    "lenName": 16,
    "lenType": 16,
    "lenVar": 40
   },
   "kernels_config": {
    "python": {
     "delete_cmd_postfix": "",
     "delete_cmd_prefix": "del ",
     "library": "var_list.py",
     "varRefreshCmd": "print(var_dic_list())"
    },
    "r": {
     "delete_cmd_postfix": ") ",
     "delete_cmd_prefix": "rm(",
     "library": "var_list.r",
     "varRefreshCmd": "cat(var_dic_list()) "
    }
   },
   "types_to_exclude": [
    "module",
    "function",
    "builtin_function_or_method",
    "instance",
    "_Feature"
   ],
   "window_display": false
  }
 },
 "nbformat": 4,
 "nbformat_minor": 5
}
